{
 "cells": [
  {
   "cell_type": "code",
   "execution_count": 1,
   "id": "ac71e117",
   "metadata": {
    "_cell_guid": "b1076dfc-b9ad-4769-8c92-a6c4dae69d19",
    "_uuid": "8f2839f25d086af736a60e9eeb907d3b93b6e0e5",
    "execution": {
     "iopub.execute_input": "2023-01-08T10:25:39.708450Z",
     "iopub.status.busy": "2023-01-08T10:25:39.707672Z",
     "iopub.status.idle": "2023-01-08T10:25:39.723985Z",
     "shell.execute_reply": "2023-01-08T10:25:39.722714Z"
    },
    "papermill": {
     "duration": 0.033253,
     "end_time": "2023-01-08T10:25:39.727155",
     "exception": false,
     "start_time": "2023-01-08T10:25:39.693902",
     "status": "completed"
    },
    "tags": []
   },
   "outputs": [],
   "source": [
    "# This Python 3 environment comes with many helpful analytics libraries installed\n",
    "# It is defined by the kaggle/python Docker image: https://github.com/kaggle/docker-python\n",
    "# For example, here's several helpful packages to load\n",
    "\n",
    "import numpy as np # linear algebra\n",
    "import pandas as pd # data processing, CSV file I/O (e.g. pd.read_csv)\n",
    "\n",
    "# Input data files are available in the read-only \"../input/\" directory\n",
    "# For example, running this (by clicking run or pressing Shift+Enter) will list all files under the input directory\n",
    "\n",
    "import os\n",
    "for dirname, _, filenames in os.walk('/kaggle/input'):\n",
    "    for filename in filenames:\n",
    "        print(os.path.join(dirname, filename))\n",
    "\n",
    "# You can write up to 20GB to the current directory (/kaggle/working/) that gets preserved as output when you create a version using \"Save & Run All\" \n",
    "# You can also write temporary files to /kaggle/temp/, but they won't be saved outside of the current session"
   ]
  },
  {
   "cell_type": "markdown",
   "id": "35b009e5",
   "metadata": {
    "papermill": {
     "duration": 0.009441,
     "end_time": "2023-01-08T10:25:39.747065",
     "exception": false,
     "start_time": "2023-01-08T10:25:39.737624",
     "status": "completed"
    },
    "tags": []
   },
   "source": [
    "In this very first step, we will read the dataset. To read this dataset, we need to use the sklearn library, so let’s import the library. \n",
    "\n"
   ]
  },
  {
   "cell_type": "code",
   "execution_count": 2,
   "id": "015b33eb",
   "metadata": {
    "execution": {
     "iopub.execute_input": "2023-01-08T10:25:39.771546Z",
     "iopub.status.busy": "2023-01-08T10:25:39.770994Z",
     "iopub.status.idle": "2023-01-08T10:25:41.142413Z",
     "shell.execute_reply": "2023-01-08T10:25:41.140920Z"
    },
    "papermill": {
     "duration": 1.387734,
     "end_time": "2023-01-08T10:25:41.145677",
     "exception": false,
     "start_time": "2023-01-08T10:25:39.757943",
     "status": "completed"
    },
    "tags": []
   },
   "outputs": [],
   "source": [
    "# Reading the dataset\n",
    "from sklearn import datasets"
   ]
  },
  {
   "cell_type": "markdown",
   "id": "ab1b0416",
   "metadata": {
    "papermill": {
     "duration": 0.009107,
     "end_time": "2023-01-08T10:25:41.164677",
     "exception": false,
     "start_time": "2023-01-08T10:25:41.155570",
     "status": "completed"
    },
    "tags": []
   },
   "source": [
    "After importing the sklearn.dataset library, let’s load the Boston dataset available in the sklearn library. \n",
    "\n"
   ]
  },
  {
   "cell_type": "code",
   "execution_count": 3,
   "id": "299bc23b",
   "metadata": {
    "execution": {
     "iopub.execute_input": "2023-01-08T10:25:41.188921Z",
     "iopub.status.busy": "2023-01-08T10:25:41.187426Z",
     "iopub.status.idle": "2023-01-08T10:25:41.206055Z",
     "shell.execute_reply": "2023-01-08T10:25:41.204601Z"
    },
    "papermill": {
     "duration": 0.03365,
     "end_time": "2023-01-08T10:25:41.209991",
     "exception": false,
     "start_time": "2023-01-08T10:25:41.176341",
     "status": "completed"
    },
    "tags": []
   },
   "outputs": [
    {
     "name": "stderr",
     "output_type": "stream",
     "text": [
      "/opt/conda/lib/python3.7/site-packages/sklearn/utils/deprecation.py:87: FutureWarning: Function load_boston is deprecated; `load_boston` is deprecated in 1.0 and will be removed in 1.2.\n",
      "\n",
      "    The Boston housing prices dataset has an ethical problem. You can refer to\n",
      "    the documentation of this function for further details.\n",
      "\n",
      "    The scikit-learn maintainers therefore strongly discourage the use of this\n",
      "    dataset unless the purpose of the code is to study and educate about\n",
      "    ethical issues in data science and machine learning.\n",
      "\n",
      "    In this special case, you can fetch the dataset from the original\n",
      "    source::\n",
      "\n",
      "        import pandas as pd\n",
      "        import numpy as np\n",
      "\n",
      "\n",
      "        data_url = \"http://lib.stat.cmu.edu/datasets/boston\"\n",
      "        raw_df = pd.read_csv(data_url, sep=\"\\s+\", skiprows=22, header=None)\n",
      "        data = np.hstack([raw_df.values[::2, :], raw_df.values[1::2, :2]])\n",
      "        target = raw_df.values[1::2, 2]\n",
      "\n",
      "    Alternative datasets include the California housing dataset (i.e.\n",
      "    :func:`~sklearn.datasets.fetch_california_housing`) and the Ames housing\n",
      "    dataset. You can load the datasets as follows::\n",
      "\n",
      "        from sklearn.datasets import fetch_california_housing\n",
      "        housing = fetch_california_housing()\n",
      "\n",
      "    for the California housing dataset and::\n",
      "\n",
      "        from sklearn.datasets import fetch_openml\n",
      "        housing = fetch_openml(name=\"house_prices\", as_frame=True)\n",
      "\n",
      "    for the Ames housing dataset.\n",
      "    \n",
      "  warnings.warn(msg, category=FutureWarning)\n"
     ]
    }
   ],
   "source": [
    "data = datasets.load_boston()\n"
   ]
  },
  {
   "cell_type": "code",
   "execution_count": 4,
   "id": "e72c1d46",
   "metadata": {
    "execution": {
     "iopub.execute_input": "2023-01-08T10:25:41.232294Z",
     "iopub.status.busy": "2023-01-08T10:25:41.231471Z",
     "iopub.status.idle": "2023-01-08T10:25:41.250870Z",
     "shell.execute_reply": "2023-01-08T10:25:41.249663Z"
    },
    "papermill": {
     "duration": 0.033964,
     "end_time": "2023-01-08T10:25:41.253847",
     "exception": false,
     "start_time": "2023-01-08T10:25:41.219883",
     "status": "completed"
    },
    "tags": []
   },
   "outputs": [],
   "source": [
    "df = pd.DataFrame(data.data)\n",
    "\n",
    "#Providing Feature names\n",
    "df.columns = data.feature_names\n",
    "\n",
    "#Providing Target\n",
    "df_target = np.asarray(data.target)\n",
    "df[\"MEDV\"] = pd.Series(df_target)\n"
   ]
  },
  {
   "cell_type": "code",
   "execution_count": 5,
   "id": "ec03cde3",
   "metadata": {
    "execution": {
     "iopub.execute_input": "2023-01-08T10:25:41.276233Z",
     "iopub.status.busy": "2023-01-08T10:25:41.275423Z",
     "iopub.status.idle": "2023-01-08T10:25:41.308422Z",
     "shell.execute_reply": "2023-01-08T10:25:41.306909Z"
    },
    "papermill": {
     "duration": 0.047648,
     "end_time": "2023-01-08T10:25:41.311359",
     "exception": false,
     "start_time": "2023-01-08T10:25:41.263711",
     "status": "completed"
    },
    "tags": []
   },
   "outputs": [
    {
     "data": {
      "text/html": [
       "<div>\n",
       "<style scoped>\n",
       "    .dataframe tbody tr th:only-of-type {\n",
       "        vertical-align: middle;\n",
       "    }\n",
       "\n",
       "    .dataframe tbody tr th {\n",
       "        vertical-align: top;\n",
       "    }\n",
       "\n",
       "    .dataframe thead th {\n",
       "        text-align: right;\n",
       "    }\n",
       "</style>\n",
       "<table border=\"1\" class=\"dataframe\">\n",
       "  <thead>\n",
       "    <tr style=\"text-align: right;\">\n",
       "      <th></th>\n",
       "      <th>CRIM</th>\n",
       "      <th>ZN</th>\n",
       "      <th>INDUS</th>\n",
       "      <th>CHAS</th>\n",
       "      <th>NOX</th>\n",
       "      <th>RM</th>\n",
       "      <th>AGE</th>\n",
       "      <th>DIS</th>\n",
       "      <th>RAD</th>\n",
       "      <th>TAX</th>\n",
       "      <th>PTRATIO</th>\n",
       "      <th>B</th>\n",
       "      <th>LSTAT</th>\n",
       "      <th>MEDV</th>\n",
       "    </tr>\n",
       "  </thead>\n",
       "  <tbody>\n",
       "    <tr>\n",
       "      <th>0</th>\n",
       "      <td>0.00632</td>\n",
       "      <td>18.0</td>\n",
       "      <td>2.31</td>\n",
       "      <td>0.0</td>\n",
       "      <td>0.538</td>\n",
       "      <td>6.575</td>\n",
       "      <td>65.2</td>\n",
       "      <td>4.0900</td>\n",
       "      <td>1.0</td>\n",
       "      <td>296.0</td>\n",
       "      <td>15.3</td>\n",
       "      <td>396.90</td>\n",
       "      <td>4.98</td>\n",
       "      <td>24.0</td>\n",
       "    </tr>\n",
       "    <tr>\n",
       "      <th>1</th>\n",
       "      <td>0.02731</td>\n",
       "      <td>0.0</td>\n",
       "      <td>7.07</td>\n",
       "      <td>0.0</td>\n",
       "      <td>0.469</td>\n",
       "      <td>6.421</td>\n",
       "      <td>78.9</td>\n",
       "      <td>4.9671</td>\n",
       "      <td>2.0</td>\n",
       "      <td>242.0</td>\n",
       "      <td>17.8</td>\n",
       "      <td>396.90</td>\n",
       "      <td>9.14</td>\n",
       "      <td>21.6</td>\n",
       "    </tr>\n",
       "    <tr>\n",
       "      <th>2</th>\n",
       "      <td>0.02729</td>\n",
       "      <td>0.0</td>\n",
       "      <td>7.07</td>\n",
       "      <td>0.0</td>\n",
       "      <td>0.469</td>\n",
       "      <td>7.185</td>\n",
       "      <td>61.1</td>\n",
       "      <td>4.9671</td>\n",
       "      <td>2.0</td>\n",
       "      <td>242.0</td>\n",
       "      <td>17.8</td>\n",
       "      <td>392.83</td>\n",
       "      <td>4.03</td>\n",
       "      <td>34.7</td>\n",
       "    </tr>\n",
       "    <tr>\n",
       "      <th>3</th>\n",
       "      <td>0.03237</td>\n",
       "      <td>0.0</td>\n",
       "      <td>2.18</td>\n",
       "      <td>0.0</td>\n",
       "      <td>0.458</td>\n",
       "      <td>6.998</td>\n",
       "      <td>45.8</td>\n",
       "      <td>6.0622</td>\n",
       "      <td>3.0</td>\n",
       "      <td>222.0</td>\n",
       "      <td>18.7</td>\n",
       "      <td>394.63</td>\n",
       "      <td>2.94</td>\n",
       "      <td>33.4</td>\n",
       "    </tr>\n",
       "    <tr>\n",
       "      <th>4</th>\n",
       "      <td>0.06905</td>\n",
       "      <td>0.0</td>\n",
       "      <td>2.18</td>\n",
       "      <td>0.0</td>\n",
       "      <td>0.458</td>\n",
       "      <td>7.147</td>\n",
       "      <td>54.2</td>\n",
       "      <td>6.0622</td>\n",
       "      <td>3.0</td>\n",
       "      <td>222.0</td>\n",
       "      <td>18.7</td>\n",
       "      <td>396.90</td>\n",
       "      <td>5.33</td>\n",
       "      <td>36.2</td>\n",
       "    </tr>\n",
       "  </tbody>\n",
       "</table>\n",
       "</div>"
      ],
      "text/plain": [
       "      CRIM    ZN  INDUS  CHAS    NOX     RM   AGE     DIS  RAD    TAX  \\\n",
       "0  0.00632  18.0   2.31   0.0  0.538  6.575  65.2  4.0900  1.0  296.0   \n",
       "1  0.02731   0.0   7.07   0.0  0.469  6.421  78.9  4.9671  2.0  242.0   \n",
       "2  0.02729   0.0   7.07   0.0  0.469  7.185  61.1  4.9671  2.0  242.0   \n",
       "3  0.03237   0.0   2.18   0.0  0.458  6.998  45.8  6.0622  3.0  222.0   \n",
       "4  0.06905   0.0   2.18   0.0  0.458  7.147  54.2  6.0622  3.0  222.0   \n",
       "\n",
       "   PTRATIO       B  LSTAT  MEDV  \n",
       "0     15.3  396.90   4.98  24.0  \n",
       "1     17.8  396.90   9.14  21.6  \n",
       "2     17.8  392.83   4.03  34.7  \n",
       "3     18.7  394.63   2.94  33.4  \n",
       "4     18.7  396.90   5.33  36.2  "
      ]
     },
     "execution_count": 5,
     "metadata": {},
     "output_type": "execute_result"
    }
   ],
   "source": [
    "df.head()"
   ]
  },
  {
   "cell_type": "code",
   "execution_count": 6,
   "id": "278ac616",
   "metadata": {
    "execution": {
     "iopub.execute_input": "2023-01-08T10:25:41.335512Z",
     "iopub.status.busy": "2023-01-08T10:25:41.334076Z",
     "iopub.status.idle": "2023-01-08T10:25:41.344791Z",
     "shell.execute_reply": "2023-01-08T10:25:41.342811Z"
    },
    "papermill": {
     "duration": 0.026551,
     "end_time": "2023-01-08T10:25:41.348110",
     "exception": false,
     "start_time": "2023-01-08T10:25:41.321559",
     "status": "completed"
    },
    "tags": []
   },
   "outputs": [
    {
     "data": {
      "text/plain": [
       "(506, 14)"
      ]
     },
     "execution_count": 6,
     "metadata": {},
     "output_type": "execute_result"
    }
   ],
   "source": [
    "df.shape"
   ]
  },
  {
   "cell_type": "markdown",
   "id": "0eb566ef",
   "metadata": {
    "papermill": {
     "duration": 0.010853,
     "end_time": "2023-01-08T10:25:41.370101",
     "exception": false,
     "start_time": "2023-01-08T10:25:41.359248",
     "status": "completed"
    },
    "tags": []
   },
   "source": [
    "As we can see in the output, the dataset has 506 records and 14 features.\n",
    "\n",
    "After reading and understanding the dataset, let’s define the input and output features in the data. The column consisting of the median value of owner-occupied homes (MEDV) will be defined as the output feature, whereas the rest of the Boston house prices features will be defined as the input features. \n",
    "\n",
    "We will define the input features as X and the output feature as y."
   ]
  },
  {
   "cell_type": "code",
   "execution_count": 7,
   "id": "ac28a86e",
   "metadata": {
    "execution": {
     "iopub.execute_input": "2023-01-08T10:25:41.400449Z",
     "iopub.status.busy": "2023-01-08T10:25:41.399415Z",
     "iopub.status.idle": "2023-01-08T10:25:41.427212Z",
     "shell.execute_reply": "2023-01-08T10:25:41.425881Z"
    },
    "papermill": {
     "duration": 0.04591,
     "end_time": "2023-01-08T10:25:41.431584",
     "exception": false,
     "start_time": "2023-01-08T10:25:41.385674",
     "status": "completed"
    },
    "tags": []
   },
   "outputs": [
    {
     "data": {
      "text/html": [
       "<div>\n",
       "<style scoped>\n",
       "    .dataframe tbody tr th:only-of-type {\n",
       "        vertical-align: middle;\n",
       "    }\n",
       "\n",
       "    .dataframe tbody tr th {\n",
       "        vertical-align: top;\n",
       "    }\n",
       "\n",
       "    .dataframe thead th {\n",
       "        text-align: right;\n",
       "    }\n",
       "</style>\n",
       "<table border=\"1\" class=\"dataframe\">\n",
       "  <thead>\n",
       "    <tr style=\"text-align: right;\">\n",
       "      <th></th>\n",
       "      <th>CRIM</th>\n",
       "      <th>ZN</th>\n",
       "      <th>INDUS</th>\n",
       "      <th>CHAS</th>\n",
       "      <th>NOX</th>\n",
       "      <th>RM</th>\n",
       "      <th>AGE</th>\n",
       "      <th>DIS</th>\n",
       "      <th>RAD</th>\n",
       "      <th>TAX</th>\n",
       "      <th>PTRATIO</th>\n",
       "      <th>B</th>\n",
       "      <th>LSTAT</th>\n",
       "    </tr>\n",
       "  </thead>\n",
       "  <tbody>\n",
       "    <tr>\n",
       "      <th>0</th>\n",
       "      <td>0.00632</td>\n",
       "      <td>18.0</td>\n",
       "      <td>2.31</td>\n",
       "      <td>0.0</td>\n",
       "      <td>0.538</td>\n",
       "      <td>6.575</td>\n",
       "      <td>65.2</td>\n",
       "      <td>4.0900</td>\n",
       "      <td>1.0</td>\n",
       "      <td>296.0</td>\n",
       "      <td>15.3</td>\n",
       "      <td>396.90</td>\n",
       "      <td>4.98</td>\n",
       "    </tr>\n",
       "    <tr>\n",
       "      <th>1</th>\n",
       "      <td>0.02731</td>\n",
       "      <td>0.0</td>\n",
       "      <td>7.07</td>\n",
       "      <td>0.0</td>\n",
       "      <td>0.469</td>\n",
       "      <td>6.421</td>\n",
       "      <td>78.9</td>\n",
       "      <td>4.9671</td>\n",
       "      <td>2.0</td>\n",
       "      <td>242.0</td>\n",
       "      <td>17.8</td>\n",
       "      <td>396.90</td>\n",
       "      <td>9.14</td>\n",
       "    </tr>\n",
       "    <tr>\n",
       "      <th>2</th>\n",
       "      <td>0.02729</td>\n",
       "      <td>0.0</td>\n",
       "      <td>7.07</td>\n",
       "      <td>0.0</td>\n",
       "      <td>0.469</td>\n",
       "      <td>7.185</td>\n",
       "      <td>61.1</td>\n",
       "      <td>4.9671</td>\n",
       "      <td>2.0</td>\n",
       "      <td>242.0</td>\n",
       "      <td>17.8</td>\n",
       "      <td>392.83</td>\n",
       "      <td>4.03</td>\n",
       "    </tr>\n",
       "    <tr>\n",
       "      <th>3</th>\n",
       "      <td>0.03237</td>\n",
       "      <td>0.0</td>\n",
       "      <td>2.18</td>\n",
       "      <td>0.0</td>\n",
       "      <td>0.458</td>\n",
       "      <td>6.998</td>\n",
       "      <td>45.8</td>\n",
       "      <td>6.0622</td>\n",
       "      <td>3.0</td>\n",
       "      <td>222.0</td>\n",
       "      <td>18.7</td>\n",
       "      <td>394.63</td>\n",
       "      <td>2.94</td>\n",
       "    </tr>\n",
       "    <tr>\n",
       "      <th>4</th>\n",
       "      <td>0.06905</td>\n",
       "      <td>0.0</td>\n",
       "      <td>2.18</td>\n",
       "      <td>0.0</td>\n",
       "      <td>0.458</td>\n",
       "      <td>7.147</td>\n",
       "      <td>54.2</td>\n",
       "      <td>6.0622</td>\n",
       "      <td>3.0</td>\n",
       "      <td>222.0</td>\n",
       "      <td>18.7</td>\n",
       "      <td>396.90</td>\n",
       "      <td>5.33</td>\n",
       "    </tr>\n",
       "  </tbody>\n",
       "</table>\n",
       "</div>"
      ],
      "text/plain": [
       "      CRIM    ZN  INDUS  CHAS    NOX     RM   AGE     DIS  RAD    TAX  \\\n",
       "0  0.00632  18.0   2.31   0.0  0.538  6.575  65.2  4.0900  1.0  296.0   \n",
       "1  0.02731   0.0   7.07   0.0  0.469  6.421  78.9  4.9671  2.0  242.0   \n",
       "2  0.02729   0.0   7.07   0.0  0.469  7.185  61.1  4.9671  2.0  242.0   \n",
       "3  0.03237   0.0   2.18   0.0  0.458  6.998  45.8  6.0622  3.0  222.0   \n",
       "4  0.06905   0.0   2.18   0.0  0.458  7.147  54.2  6.0622  3.0  222.0   \n",
       "\n",
       "   PTRATIO       B  LSTAT  \n",
       "0     15.3  396.90   4.98  \n",
       "1     17.8  396.90   9.14  \n",
       "2     17.8  392.83   4.03  \n",
       "3     18.7  394.63   2.94  \n",
       "4     18.7  396.90   5.33  "
      ]
     },
     "execution_count": 7,
     "metadata": {},
     "output_type": "execute_result"
    }
   ],
   "source": [
    "X = df.copy()\n",
    "y=X.pop('MEDV')\n",
    "X.head()"
   ]
  },
  {
   "cell_type": "code",
   "execution_count": 8,
   "id": "2345388d",
   "metadata": {
    "execution": {
     "iopub.execute_input": "2023-01-08T10:25:41.461682Z",
     "iopub.status.busy": "2023-01-08T10:25:41.460744Z",
     "iopub.status.idle": "2023-01-08T10:25:41.471350Z",
     "shell.execute_reply": "2023-01-08T10:25:41.470035Z"
    },
    "papermill": {
     "duration": 0.029496,
     "end_time": "2023-01-08T10:25:41.474057",
     "exception": false,
     "start_time": "2023-01-08T10:25:41.444561",
     "status": "completed"
    },
    "tags": []
   },
   "outputs": [
    {
     "data": {
      "text/plain": [
       "0    24.0\n",
       "1    21.6\n",
       "2    34.7\n",
       "3    33.4\n",
       "4    36.2\n",
       "Name: MEDV, dtype: float64"
      ]
     },
     "execution_count": 8,
     "metadata": {},
     "output_type": "execute_result"
    }
   ],
   "source": [
    "y.head()"
   ]
  },
  {
   "cell_type": "markdown",
   "id": "09cd99e6",
   "metadata": {
    "papermill": {
     "duration": 0.011426,
     "end_time": "2023-01-08T10:25:41.499022",
     "exception": false,
     "start_time": "2023-01-08T10:25:41.487596",
     "status": "completed"
    },
    "tags": []
   },
   "source": [
    "lets check size:"
   ]
  },
  {
   "cell_type": "code",
   "execution_count": 9,
   "id": "7ee641fd",
   "metadata": {
    "execution": {
     "iopub.execute_input": "2023-01-08T10:25:41.522222Z",
     "iopub.status.busy": "2023-01-08T10:25:41.521718Z",
     "iopub.status.idle": "2023-01-08T10:25:41.528345Z",
     "shell.execute_reply": "2023-01-08T10:25:41.526989Z"
    },
    "papermill": {
     "duration": 0.022519,
     "end_time": "2023-01-08T10:25:41.532128",
     "exception": false,
     "start_time": "2023-01-08T10:25:41.509609",
     "status": "completed"
    },
    "tags": []
   },
   "outputs": [
    {
     "name": "stdout",
     "output_type": "stream",
     "text": [
      "Shape of the input features: (506, 13)\n",
      "Shape of the output features: (506,)\n"
     ]
    }
   ],
   "source": [
    "# Checking the shape of input and output features\n",
    "print('Shape of the input features:', X.shape)\n",
    "print('Shape of the output features:', y.shape)"
   ]
  },
  {
   "cell_type": "markdown",
   "id": "626f1236",
   "metadata": {
    "papermill": {
     "duration": 0.010249,
     "end_time": "2023-01-08T10:25:41.553199",
     "exception": false,
     "start_time": "2023-01-08T10:25:41.542950",
     "status": "completed"
    },
    "tags": []
   },
   "source": [
    "We can see in the output that 13 features of the dataset have been defined as inputs. As we have defined the input and output features, next need to perform feature selection using various methods like filter method, wrapper method and embedded method. "
   ]
  },
  {
   "cell_type": "markdown",
   "id": "947a4d01",
   "metadata": {
    "papermill": {
     "duration": 0.010208,
     "end_time": "2023-01-08T10:25:41.574791",
     "exception": false,
     "start_time": "2023-01-08T10:25:41.564583",
     "status": "completed"
    },
    "tags": []
   },
   "source": [
    "**Step 2: Feature selection using the Filter method**\n",
    "\n",
    "**2.1: Chi-Square Test**\n",
    "\n",
    "First, we will use the Chi-Square method to perform feature selection. The Chi-square test is used for categorical features in the dataset. Now, let’s import the required dependencies to perform the chi-square test. "
   ]
  },
  {
   "cell_type": "code",
   "execution_count": 10,
   "id": "091e18ee",
   "metadata": {
    "execution": {
     "iopub.execute_input": "2023-01-08T10:25:41.599876Z",
     "iopub.status.busy": "2023-01-08T10:25:41.598004Z",
     "iopub.status.idle": "2023-01-08T10:25:41.825646Z",
     "shell.execute_reply": "2023-01-08T10:25:41.823965Z"
    },
    "papermill": {
     "duration": 0.243173,
     "end_time": "2023-01-08T10:25:41.829019",
     "exception": false,
     "start_time": "2023-01-08T10:25:41.585846",
     "status": "completed"
    },
    "tags": []
   },
   "outputs": [],
   "source": [
    "from sklearn.feature_selection import SelectKBest\n",
    "from sklearn.feature_selection import chi2"
   ]
  },
  {
   "cell_type": "markdown",
   "id": "31171742",
   "metadata": {
    "papermill": {
     "duration": 0.010337,
     "end_time": "2023-01-08T10:25:41.850471",
     "exception": false,
     "start_time": "2023-01-08T10:25:41.840134",
     "status": "completed"
    },
    "tags": []
   },
   "source": [
    "After importing the required dependencies, let’s convert the data into categorical by changing the type of the data into an integer. \n",
    "\n"
   ]
  },
  {
   "cell_type": "code",
   "execution_count": 11,
   "id": "666b0fb6",
   "metadata": {
    "execution": {
     "iopub.execute_input": "2023-01-08T10:25:41.875642Z",
     "iopub.status.busy": "2023-01-08T10:25:41.874832Z",
     "iopub.status.idle": "2023-01-08T10:25:41.881790Z",
     "shell.execute_reply": "2023-01-08T10:25:41.880510Z"
    },
    "papermill": {
     "duration": 0.023453,
     "end_time": "2023-01-08T10:25:41.884796",
     "exception": false,
     "start_time": "2023-01-08T10:25:41.861343",
     "status": "completed"
    },
    "tags": []
   },
   "outputs": [],
   "source": [
    "#Converting data to integer\n",
    "X1 = X.astype(int)\n",
    "Y1 = y.astype(int)"
   ]
  },
  {
   "cell_type": "markdown",
   "id": "babbde33",
   "metadata": {
    "papermill": {
     "duration": 0.010367,
     "end_time": "2023-01-08T10:25:41.906098",
     "exception": false,
     "start_time": "2023-01-08T10:25:41.895731",
     "status": "completed"
    },
    "tags": []
   },
   "source": [
    "By using the SelectKBest model, let’s select the features according to the k highest chi-squared statistic scores.    \n",
    "\n"
   ]
  },
  {
   "cell_type": "code",
   "execution_count": 12,
   "id": "088df15b",
   "metadata": {
    "execution": {
     "iopub.execute_input": "2023-01-08T10:25:41.930259Z",
     "iopub.status.busy": "2023-01-08T10:25:41.929478Z",
     "iopub.status.idle": "2023-01-08T10:25:41.949971Z",
     "shell.execute_reply": "2023-01-08T10:25:41.948383Z"
    },
    "papermill": {
     "duration": 0.036483,
     "end_time": "2023-01-08T10:25:41.953358",
     "exception": false,
     "start_time": "2023-01-08T10:25:41.916875",
     "status": "completed"
    },
    "tags": []
   },
   "outputs": [
    {
     "name": "stdout",
     "output_type": "stream",
     "text": [
      "No. of Features: (506, 5)\n"
     ]
    }
   ],
   "source": [
    "#Features with the highest chi-squared statistics\n",
    "model = SelectKBest(chi2, k=5)\n",
    "X_new = model.fit_transform(X1,Y1)\n",
    "print(\"No. of Features:\", X_new.shape) "
   ]
  },
  {
   "cell_type": "markdown",
   "id": "6dc68de3",
   "metadata": {
    "papermill": {
     "duration": 0.010257,
     "end_time": "2023-01-08T10:25:41.975199",
     "exception": false,
     "start_time": "2023-01-08T10:25:41.964942",
     "status": "completed"
    },
    "tags": []
   },
   "source": [
    "As we can see in the output, the dimension of the features is certainly reduced from 13 to 5 based on the five highest chi-squared statistic scores. \n",
    "\n",
    "**2.2: Variance Threshold**\n",
    "\n",
    "Now, let’s use the variance threshold method to perform feature selection. This approach of feature selection removes all features whose variance does not meet some threshold. Generally, it removes all the zero-variance features, which means all the features that have the same value in all samples. Now, let’s import the required dependencies to perform the variance threshold test. "
   ]
  },
  {
   "cell_type": "code",
   "execution_count": 13,
   "id": "8cd3e382",
   "metadata": {
    "execution": {
     "iopub.execute_input": "2023-01-08T10:25:41.999221Z",
     "iopub.status.busy": "2023-01-08T10:25:41.998250Z",
     "iopub.status.idle": "2023-01-08T10:25:42.003846Z",
     "shell.execute_reply": "2023-01-08T10:25:42.002536Z"
    },
    "papermill": {
     "duration": 0.020828,
     "end_time": "2023-01-08T10:25:42.006668",
     "exception": false,
     "start_time": "2023-01-08T10:25:41.985840",
     "status": "completed"
    },
    "tags": []
   },
   "outputs": [],
   "source": [
    "from sklearn.feature_selection import VarianceThreshold"
   ]
  },
  {
   "cell_type": "markdown",
   "id": "e5da42f5",
   "metadata": {
    "papermill": {
     "duration": 0.010113,
     "end_time": "2023-01-08T10:25:42.027669",
     "exception": false,
     "start_time": "2023-01-08T10:25:42.017556",
     "status": "completed"
    },
    "tags": []
   },
   "source": [
    "After importing the required dependencies, let’s perform feature selection using the variance threshold technique by providing a threshold value. All the features in the dataset with a training-set variance lower than the provided threshold will be removed from the original dataset"
   ]
  },
  {
   "cell_type": "code",
   "execution_count": 14,
   "id": "bd6c8c81",
   "metadata": {
    "execution": {
     "iopub.execute_input": "2023-01-08T10:25:42.051402Z",
     "iopub.status.busy": "2023-01-08T10:25:42.050867Z",
     "iopub.status.idle": "2023-01-08T10:25:42.064040Z",
     "shell.execute_reply": "2023-01-08T10:25:42.062572Z"
    },
    "papermill": {
     "duration": 0.02828,
     "end_time": "2023-01-08T10:25:42.066606",
     "exception": false,
     "start_time": "2023-01-08T10:25:42.038326",
     "status": "completed"
    },
    "tags": []
   },
   "outputs": [
    {
     "name": "stdout",
     "output_type": "stream",
     "text": [
      "No. of Features: (506, 11)\n"
     ]
    }
   ],
   "source": [
    "#Removing features based on the threshold\n",
    "model = VarianceThreshold(threshold=(0.8 * (1 - 0.8)))\n",
    "\n",
    "X_new = model.fit_transform(X)\n",
    "\n",
    "#Checking the shape of input features after feature selection\n",
    "print(\"No. of Features:\", X_new.shape)"
   ]
  },
  {
   "cell_type": "markdown",
   "id": "ed0d9556",
   "metadata": {
    "papermill": {
     "duration": 0.009812,
     "end_time": "2023-01-08T10:25:42.087709",
     "exception": false,
     "start_time": "2023-01-08T10:25:42.077897",
     "status": "completed"
    },
    "tags": []
   },
   "source": [
    "So in this part, we are removing all the features with a probability of more than 80% containing zero. As we can see in the output, the dimension of the features is certainly reduced from 13 to 11 features. All the features less than the given threshold have been removed from the given dataset. \n",
    "\n",
    "3: Feature selection using the Embedded method\n",
    "\n",
    " 3.1: Lasso Regularization \n",
    "\n",
    "Now, in this particular Embedded method, we will use the Lasso Regularization technique to perform feature selection. Now, let’s import the required dependencies to perform the feature selection using Lasso Regularization. "
   ]
  },
  {
   "cell_type": "code",
   "execution_count": 15,
   "id": "1bf6bea1",
   "metadata": {
    "execution": {
     "iopub.execute_input": "2023-01-08T10:25:42.110335Z",
     "iopub.status.busy": "2023-01-08T10:25:42.109576Z",
     "iopub.status.idle": "2023-01-08T10:25:42.114755Z",
     "shell.execute_reply": "2023-01-08T10:25:42.113904Z"
    },
    "papermill": {
     "duration": 0.019119,
     "end_time": "2023-01-08T10:25:42.116966",
     "exception": false,
     "start_time": "2023-01-08T10:25:42.097847",
     "status": "completed"
    },
    "tags": []
   },
   "outputs": [],
   "source": [
    "#Defining a Lasso model\n",
    "from sklearn.linear_model import Lasso"
   ]
  },
  {
   "cell_type": "markdown",
   "id": "11d592a5",
   "metadata": {
    "papermill": {
     "duration": 0.01,
     "end_time": "2023-01-08T10:25:42.136976",
     "exception": false,
     "start_time": "2023-01-08T10:25:42.126976",
     "status": "completed"
    },
    "tags": []
   },
   "source": [
    "Once the required dependencies are been imported, let’s now use the L1 model to perform feature selection, i.e. let’s train the Lasso model using input and output features"
   ]
  },
  {
   "cell_type": "code",
   "execution_count": 16,
   "id": "264a8fd2",
   "metadata": {
    "execution": {
     "iopub.execute_input": "2023-01-08T10:25:42.159661Z",
     "iopub.status.busy": "2023-01-08T10:25:42.158958Z",
     "iopub.status.idle": "2023-01-08T10:25:42.169114Z",
     "shell.execute_reply": "2023-01-08T10:25:42.168112Z"
    },
    "papermill": {
     "duration": 0.024685,
     "end_time": "2023-01-08T10:25:42.171677",
     "exception": false,
     "start_time": "2023-01-08T10:25:42.146992",
     "status": "completed"
    },
    "tags": []
   },
   "outputs": [],
   "source": [
    "# Model building\n",
    "lasso = Lasso()\n",
    "lasso = lasso.fit(X, y)"
   ]
  },
  {
   "cell_type": "markdown",
   "id": "54ff46aa",
   "metadata": {
    "papermill": {
     "duration": 0.009561,
     "end_time": "2023-01-08T10:25:42.191382",
     "exception": false,
     "start_time": "2023-01-08T10:25:42.181821",
     "status": "completed"
    },
    "tags": []
   },
   "source": [
    "After training the model with L1 prior regularizer (aka Lasso), we will visualise the parameter vectors to understand the importance of the features. \n",
    "\n"
   ]
  },
  {
   "cell_type": "code",
   "execution_count": 17,
   "id": "2cae14f9",
   "metadata": {
    "execution": {
     "iopub.execute_input": "2023-01-08T10:25:42.212759Z",
     "iopub.status.busy": "2023-01-08T10:25:42.212365Z",
     "iopub.status.idle": "2023-01-08T10:25:42.228622Z",
     "shell.execute_reply": "2023-01-08T10:25:42.227308Z"
    },
    "papermill": {
     "duration": 0.029632,
     "end_time": "2023-01-08T10:25:42.230993",
     "exception": false,
     "start_time": "2023-01-08T10:25:42.201361",
     "status": "completed"
    },
    "tags": []
   },
   "outputs": [
    {
     "data": {
      "text/html": [
       "<div>\n",
       "<style scoped>\n",
       "    .dataframe tbody tr th:only-of-type {\n",
       "        vertical-align: middle;\n",
       "    }\n",
       "\n",
       "    .dataframe tbody tr th {\n",
       "        vertical-align: top;\n",
       "    }\n",
       "\n",
       "    .dataframe thead th {\n",
       "        text-align: right;\n",
       "    }\n",
       "</style>\n",
       "<table border=\"1\" class=\"dataframe\">\n",
       "  <thead>\n",
       "    <tr style=\"text-align: right;\">\n",
       "      <th></th>\n",
       "      <th>Columns</th>\n",
       "      <th>Coefficient Estimate</th>\n",
       "    </tr>\n",
       "  </thead>\n",
       "  <tbody>\n",
       "    <tr>\n",
       "      <th>0</th>\n",
       "      <td>CRIM</td>\n",
       "      <td>-0.063437</td>\n",
       "    </tr>\n",
       "    <tr>\n",
       "      <th>1</th>\n",
       "      <td>ZN</td>\n",
       "      <td>0.049165</td>\n",
       "    </tr>\n",
       "    <tr>\n",
       "      <th>2</th>\n",
       "      <td>INDUS</td>\n",
       "      <td>-0.000000</td>\n",
       "    </tr>\n",
       "    <tr>\n",
       "      <th>3</th>\n",
       "      <td>CHAS</td>\n",
       "      <td>0.000000</td>\n",
       "    </tr>\n",
       "    <tr>\n",
       "      <th>4</th>\n",
       "      <td>NOX</td>\n",
       "      <td>-0.000000</td>\n",
       "    </tr>\n",
       "    <tr>\n",
       "      <th>5</th>\n",
       "      <td>RM</td>\n",
       "      <td>0.949811</td>\n",
       "    </tr>\n",
       "    <tr>\n",
       "      <th>6</th>\n",
       "      <td>AGE</td>\n",
       "      <td>0.020910</td>\n",
       "    </tr>\n",
       "    <tr>\n",
       "      <th>7</th>\n",
       "      <td>DIS</td>\n",
       "      <td>-0.668790</td>\n",
       "    </tr>\n",
       "    <tr>\n",
       "      <th>8</th>\n",
       "      <td>RAD</td>\n",
       "      <td>0.264206</td>\n",
       "    </tr>\n",
       "    <tr>\n",
       "      <th>9</th>\n",
       "      <td>TAX</td>\n",
       "      <td>-0.015212</td>\n",
       "    </tr>\n",
       "    <tr>\n",
       "      <th>10</th>\n",
       "      <td>PTRATIO</td>\n",
       "      <td>-0.722966</td>\n",
       "    </tr>\n",
       "    <tr>\n",
       "      <th>11</th>\n",
       "      <td>B</td>\n",
       "      <td>0.008247</td>\n",
       "    </tr>\n",
       "    <tr>\n",
       "      <th>12</th>\n",
       "      <td>LSTAT</td>\n",
       "      <td>-0.761115</td>\n",
       "    </tr>\n",
       "  </tbody>\n",
       "</table>\n",
       "</div>"
      ],
      "text/plain": [
       "    Columns  Coefficient Estimate\n",
       "0      CRIM             -0.063437\n",
       "1        ZN              0.049165\n",
       "2     INDUS             -0.000000\n",
       "3      CHAS              0.000000\n",
       "4       NOX             -0.000000\n",
       "5        RM              0.949811\n",
       "6       AGE              0.020910\n",
       "7       DIS             -0.668790\n",
       "8       RAD              0.264206\n",
       "9       TAX             -0.015212\n",
       "10  PTRATIO             -0.722966\n",
       "11        B              0.008247\n",
       "12    LSTAT             -0.761115"
      ]
     },
     "execution_count": 17,
     "metadata": {},
     "output_type": "execute_result"
    }
   ],
   "source": [
    "#Creating a DataFrame\n",
    "lasso_coeff = pd.DataFrame()\n",
    "lasso_coeff[\"Columns\"] = X.columns\n",
    "lasso_coeff['Coefficient Estimate'] = pd.Series(lasso.coef_)\n",
    "lasso_coeff"
   ]
  },
  {
   "cell_type": "markdown",
   "id": "ee86b6b5",
   "metadata": {
    "papermill": {
     "duration": 0.009987,
     "end_time": "2023-01-08T10:25:42.251459",
     "exception": false,
     "start_time": "2023-01-08T10:25:42.241472",
     "status": "completed"
    },
    "tags": []
   },
   "source": [
    "As we can see from the output, three features from the constructed DataFrame have a coefficient value of zero (i.e. CHAS, NOX and INDUS) which means these features are the least important features. Now let’s plot a barplot to understand the importance of each feature in the given dataset using the Lasso regularization method. "
   ]
  },
  {
   "cell_type": "code",
   "execution_count": 18,
   "id": "58e91234",
   "metadata": {
    "execution": {
     "iopub.execute_input": "2023-01-08T10:25:42.273725Z",
     "iopub.status.busy": "2023-01-08T10:25:42.273328Z",
     "iopub.status.idle": "2023-01-08T10:25:42.741118Z",
     "shell.execute_reply": "2023-01-08T10:25:42.739823Z"
    },
    "papermill": {
     "duration": 0.481935,
     "end_time": "2023-01-08T10:25:42.743754",
     "exception": false,
     "start_time": "2023-01-08T10:25:42.261819",
     "status": "completed"
    },
    "tags": []
   },
   "outputs": [
    {
     "data": {
      "text/plain": [
       "<AxesSubplot:xlabel='Coefficient Estimate', ylabel='Columns'>"
      ]
     },
     "execution_count": 18,
     "metadata": {},
     "output_type": "execute_result"
    },
    {
     "data": {
      "image/png": "[encoded data removed]",
      "text/plain": [
       "<Figure size 576x432 with 1 Axes>"
      ]
     },
     "metadata": {
      "needs_background": "light"
     },
     "output_type": "display_data"
    }
   ],
   "source": [
    "#Visualizing a Barplot\n",
    "import seaborn as sns\n",
    "import matplotlib.pyplot as plt\n",
    "\n",
    "plt.figure(figsize=(8,6))\n",
    "sns.barplot(x='Coefficient Estimate' , y='Columns', data=lasso_coeff)"
   ]
  },
  {
   "cell_type": "markdown",
   "id": "d9629338",
   "metadata": {
    "papermill": {
     "duration": 0.011059,
     "end_time": "2023-01-08T10:25:42.765845",
     "exception": false,
     "start_time": "2023-01-08T10:25:42.754786",
     "status": "completed"
    },
    "tags": []
   },
   "source": [
    "As per the barplot, the least important features have a coefficient around zero. So can reduce the features by removing the least important features from the dataset. So now, let’s select the relevant features based on the weight importance using the SelectFromModel transformer. "
   ]
  },
  {
   "cell_type": "code",
   "execution_count": 19,
   "id": "4ff78bf9",
   "metadata": {
    "execution": {
     "iopub.execute_input": "2023-01-08T10:25:42.789878Z",
     "iopub.status.busy": "2023-01-08T10:25:42.788722Z",
     "iopub.status.idle": "2023-01-08T10:25:42.802789Z",
     "shell.execute_reply": "2023-01-08T10:25:42.801311Z"
    },
    "papermill": {
     "duration": 0.028522,
     "end_time": "2023-01-08T10:25:42.805218",
     "exception": false,
     "start_time": "2023-01-08T10:25:42.776696",
     "status": "completed"
    },
    "tags": []
   },
   "outputs": [
    {
     "name": "stderr",
     "output_type": "stream",
     "text": [
      "/opt/conda/lib/python3.7/site-packages/sklearn/base.py:444: UserWarning: X has feature names, but SelectFromModel was fitted without feature names\n",
      "  f\"X has feature names, but {self.__class__.__name__} was fitted without\"\n"
     ]
    },
    {
     "data": {
      "text/plain": [
       "(506, 10)"
      ]
     },
     "execution_count": 19,
     "metadata": {},
     "output_type": "execute_result"
    }
   ],
   "source": [
    "#Defining SelectFromModel\n",
    "from sklearn.feature_selection import SelectFromModel\n",
    "\n",
    "model = SelectFromModel(lasso, prefit = True)\n",
    "new_features = model.transform(X)\n",
    "#Printing the shape after removing features\n",
    "new_features.shape"
   ]
  },
  {
   "cell_type": "markdown",
   "id": "324ffece",
   "metadata": {
    "papermill": {
     "duration": 0.01067,
     "end_time": "2023-01-08T10:25:42.826844",
     "exception": false,
     "start_time": "2023-01-08T10:25:42.816174",
     "status": "completed"
    },
    "tags": []
   },
   "source": [
    "As we can see in the output, all the three least important features(CHAS, NOX and INDUS) have been removed from the dataset. So that the dimension of the features is reduced from 13 to 10 features. \n",
    "\n",
    "3.2: Based on Feature Importance\n",
    "\n",
    "The second technique we will implement in the embedded method is feature selection based on feature importance. Now, let’s import the required dependencies to perform the feature selection based on feature importance. "
   ]
  },
  {
   "cell_type": "code",
   "execution_count": 20,
   "id": "5244fb17",
   "metadata": {
    "execution": {
     "iopub.execute_input": "2023-01-08T10:25:42.850307Z",
     "iopub.status.busy": "2023-01-08T10:25:42.849879Z",
     "iopub.status.idle": "2023-01-08T10:25:43.350659Z",
     "shell.execute_reply": "2023-01-08T10:25:43.349330Z"
    },
    "papermill": {
     "duration": 0.515963,
     "end_time": "2023-01-08T10:25:43.353854",
     "exception": false,
     "start_time": "2023-01-08T10:25:42.837891",
     "status": "completed"
    },
    "tags": []
   },
   "outputs": [],
   "source": [
    "#Defining a Random Forest Regression model\n",
    "from sklearn.ensemble import RandomForestRegressor\n",
    "#Model building\n",
    "RFR = RandomForestRegressor()\n",
    "RFR = RFR.fit(X,y)"
   ]
  },
  {
   "cell_type": "markdown",
   "id": "01acaa48",
   "metadata": {
    "papermill": {
     "duration": 0.011899,
     "end_time": "2023-01-08T10:25:43.377490",
     "exception": false,
     "start_time": "2023-01-08T10:25:43.365591",
     "status": "completed"
    },
    "tags": []
   },
   "source": [
    "After training the model with Random Forest Regressor, we will visualise the importance of each feature. \n",
    "\n"
   ]
  },
  {
   "cell_type": "code",
   "execution_count": 21,
   "id": "69c51da5",
   "metadata": {
    "execution": {
     "iopub.execute_input": "2023-01-08T10:25:43.404678Z",
     "iopub.status.busy": "2023-01-08T10:25:43.403210Z",
     "iopub.status.idle": "2023-01-08T10:25:43.435129Z",
     "shell.execute_reply": "2023-01-08T10:25:43.433721Z"
    },
    "papermill": {
     "duration": 0.048336,
     "end_time": "2023-01-08T10:25:43.437871",
     "exception": false,
     "start_time": "2023-01-08T10:25:43.389535",
     "status": "completed"
    },
    "tags": []
   },
   "outputs": [
    {
     "data": {
      "text/html": [
       "<div>\n",
       "<style scoped>\n",
       "    .dataframe tbody tr th:only-of-type {\n",
       "        vertical-align: middle;\n",
       "    }\n",
       "\n",
       "    .dataframe tbody tr th {\n",
       "        vertical-align: top;\n",
       "    }\n",
       "\n",
       "    .dataframe thead th {\n",
       "        text-align: right;\n",
       "    }\n",
       "</style>\n",
       "<table border=\"1\" class=\"dataframe\">\n",
       "  <thead>\n",
       "    <tr style=\"text-align: right;\">\n",
       "      <th></th>\n",
       "      <th>Columns</th>\n",
       "      <th>Feature_Importance</th>\n",
       "    </tr>\n",
       "  </thead>\n",
       "  <tbody>\n",
       "    <tr>\n",
       "      <th>0</th>\n",
       "      <td>CRIM</td>\n",
       "      <td>0.038413</td>\n",
       "    </tr>\n",
       "    <tr>\n",
       "      <th>1</th>\n",
       "      <td>ZN</td>\n",
       "      <td>0.000786</td>\n",
       "    </tr>\n",
       "    <tr>\n",
       "      <th>2</th>\n",
       "      <td>INDUS</td>\n",
       "      <td>0.005031</td>\n",
       "    </tr>\n",
       "    <tr>\n",
       "      <th>3</th>\n",
       "      <td>CHAS</td>\n",
       "      <td>0.000803</td>\n",
       "    </tr>\n",
       "    <tr>\n",
       "      <th>4</th>\n",
       "      <td>NOX</td>\n",
       "      <td>0.023261</td>\n",
       "    </tr>\n",
       "    <tr>\n",
       "      <th>5</th>\n",
       "      <td>RM</td>\n",
       "      <td>0.448342</td>\n",
       "    </tr>\n",
       "    <tr>\n",
       "      <th>6</th>\n",
       "      <td>AGE</td>\n",
       "      <td>0.011187</td>\n",
       "    </tr>\n",
       "    <tr>\n",
       "      <th>7</th>\n",
       "      <td>DIS</td>\n",
       "      <td>0.066262</td>\n",
       "    </tr>\n",
       "    <tr>\n",
       "      <th>8</th>\n",
       "      <td>RAD</td>\n",
       "      <td>0.004081</td>\n",
       "    </tr>\n",
       "    <tr>\n",
       "      <th>9</th>\n",
       "      <td>TAX</td>\n",
       "      <td>0.014224</td>\n",
       "    </tr>\n",
       "    <tr>\n",
       "      <th>10</th>\n",
       "      <td>PTRATIO</td>\n",
       "      <td>0.016961</td>\n",
       "    </tr>\n",
       "    <tr>\n",
       "      <th>11</th>\n",
       "      <td>B</td>\n",
       "      <td>0.010751</td>\n",
       "    </tr>\n",
       "    <tr>\n",
       "      <th>12</th>\n",
       "      <td>LSTAT</td>\n",
       "      <td>0.359898</td>\n",
       "    </tr>\n",
       "  </tbody>\n",
       "</table>\n",
       "</div>"
      ],
      "text/plain": [
       "    Columns  Feature_Importance\n",
       "0      CRIM            0.038413\n",
       "1        ZN            0.000786\n",
       "2     INDUS            0.005031\n",
       "3      CHAS            0.000803\n",
       "4       NOX            0.023261\n",
       "5        RM            0.448342\n",
       "6       AGE            0.011187\n",
       "7       DIS            0.066262\n",
       "8       RAD            0.004081\n",
       "9       TAX            0.014224\n",
       "10  PTRATIO            0.016961\n",
       "11        B            0.010751\n",
       "12    LSTAT            0.359898"
      ]
     },
     "execution_count": 21,
     "metadata": {},
     "output_type": "execute_result"
    }
   ],
   "source": [
    "#Creating a DataFrame\n",
    "new_X = pd.DataFrame()\n",
    "new_X[\"Columns\"] = X.columns\n",
    "new_X['Feature_Importance'] = pd.Series(RFR.feature_importances_)\n",
    "new_X"
   ]
  },
  {
   "cell_type": "markdown",
   "id": "89a2a856",
   "metadata": {
    "papermill": {
     "duration": 0.011439,
     "end_time": "2023-01-08T10:25:43.461359",
     "exception": false,
     "start_time": "2023-01-08T10:25:43.449920",
     "status": "completed"
    },
    "tags": []
   },
   "source": [
    "Now let’s plot a barplot to understand the importance of each feature in the given dataset using this method. "
   ]
  },
  {
   "cell_type": "code",
   "execution_count": 22,
   "id": "c105030b",
   "metadata": {
    "execution": {
     "iopub.execute_input": "2023-01-08T10:25:43.487812Z",
     "iopub.status.busy": "2023-01-08T10:25:43.487316Z",
     "iopub.status.idle": "2023-01-08T10:25:43.732410Z",
     "shell.execute_reply": "2023-01-08T10:25:43.730814Z"
    },
    "papermill": {
     "duration": 0.261554,
     "end_time": "2023-01-08T10:25:43.735378",
     "exception": false,
     "start_time": "2023-01-08T10:25:43.473824",
     "status": "completed"
    },
    "tags": []
   },
   "outputs": [
    {
     "data": {
      "text/plain": [
       "<AxesSubplot:xlabel='Feature_Importance', ylabel='Columns'>"
      ]
     },
     "execution_count": 22,
     "metadata": {},
     "output_type": "execute_result"
    },
    {
     "data": {
      "image/png": "[encoded data removed]",
      "text/plain": [
       "<Figure size 576x432 with 1 Axes>"
      ]
     },
     "metadata": {
      "needs_background": "light"
     },
     "output_type": "display_data"
    }
   ],
   "source": [
    "#Visualizing a Barplot\n",
    "import seaborn as sns\n",
    "import matplotlib.pyplot as plt\n",
    "\n",
    "plt.figure(figsize=(8,6))\n",
    "sns.barplot(x='Feature_Importance' , y='Columns', data= new_X)"
   ]
  },
  {
   "cell_type": "markdown",
   "id": "606d2787",
   "metadata": {
    "papermill": {
     "duration": 0.011875,
     "end_time": "2023-01-08T10:25:43.760002",
     "exception": false,
     "start_time": "2023-01-08T10:25:43.748127",
     "status": "completed"
    },
    "tags": []
   },
   "source": [
    "As per the barplot, the least important features have feature importance close to zero. So we can reduce the features by removing the least important features from the dataset. So now, let’s select the relevant features based on the feature importance using the SelectFromModel transformer. "
   ]
  },
  {
   "cell_type": "code",
   "execution_count": 23,
   "id": "ed747435",
   "metadata": {
    "execution": {
     "iopub.execute_input": "2023-01-08T10:25:43.786813Z",
     "iopub.status.busy": "2023-01-08T10:25:43.786326Z",
     "iopub.status.idle": "2023-01-08T10:25:43.823973Z",
     "shell.execute_reply": "2023-01-08T10:25:43.822161Z"
    },
    "papermill": {
     "duration": 0.055083,
     "end_time": "2023-01-08T10:25:43.827506",
     "exception": false,
     "start_time": "2023-01-08T10:25:43.772423",
     "status": "completed"
    },
    "tags": []
   },
   "outputs": [
    {
     "name": "stderr",
     "output_type": "stream",
     "text": [
      "/opt/conda/lib/python3.7/site-packages/sklearn/base.py:444: UserWarning: X has feature names, but SelectFromModel was fitted without feature names\n",
      "  f\"X has feature names, but {self.__class__.__name__} was fitted without\"\n"
     ]
    },
    {
     "data": {
      "text/plain": [
       "(506, 2)"
      ]
     },
     "execution_count": 23,
     "metadata": {},
     "output_type": "execute_result"
    }
   ],
   "source": [
    "#Defining SelectFromModel\n",
    "from sklearn.feature_selection import SelectFromModel\n",
    "\n",
    "model = SelectFromModel(RFR, prefit = True)\n",
    "new_features = model.transform(X)\n",
    "#Printing the shape after removing features\n",
    "new_features.shape"
   ]
  },
  {
   "cell_type": "markdown",
   "id": "9e0a7963",
   "metadata": {
    "papermill": {
     "duration": 0.012073,
     "end_time": "2023-01-08T10:25:43.852378",
     "exception": false,
     "start_time": "2023-01-08T10:25:43.840305",
     "status": "completed"
    },
    "tags": []
   },
   "source": [
    "As we can see in the output, the dimension of the features is reduced from 13 to 2 features which indicates that all the features having less importance are removed from the dataset using this method. \n",
    "\n",
    "So, this is how we can use feature selection techniques to detect the most relevant features and the least relevant features from the given dataset."
   ]
  },
  {
   "cell_type": "code",
   "execution_count": null,
   "id": "c3bdfb87",
   "metadata": {
    "papermill": {
     "duration": 0.01256,
     "end_time": "2023-01-08T10:25:43.877525",
     "exception": false,
     "start_time": "2023-01-08T10:25:43.864965",
     "status": "completed"
    },
    "tags": []
   },
   "outputs": [],
   "source": []
  }
 ],
 "metadata": {
  "kernelspec": {
   "display_name": "Python 3",
   "language": "python",
   "name": "python3"
  },
  "language_info": {
   "codemirror_mode": {
    "name": "ipython",
    "version": 3
   },
   "file_extension": ".py",
   "mimetype": "text/x-python",
   "name": "python",
   "nbconvert_exporter": "python",
   "pygments_lexer": "ipython3",
   "version": "3.7.12"
  },
  "papermill": {
   "default_parameters": {},
   "duration": 14.553322,
   "end_time": "2023-01-08T10:25:44.814970",
   "environment_variables": {},
   "exception": null,
   "input_path": "__notebook__.ipynb",
   "output_path": "__notebook__.ipynb",
   "parameters": {},
   "start_time": "2023-01-08T10:25:30.261648",
   "version": "2.3.4"
  }
 },
 "nbformat": 4,
 "nbformat_minor": 5
}
