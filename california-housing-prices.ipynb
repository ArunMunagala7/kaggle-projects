{
 "cells": [
  {
   "cell_type": "code",
   "execution_count": 1,
   "id": "942d26a1",
   "metadata": {
    "_cell_guid": "b1076dfc-b9ad-4769-8c92-a6c4dae69d19",
    "_uuid": "8f2839f25d086af736a60e9eeb907d3b93b6e0e5",
    "execution": {
     "iopub.execute_input": "2022-11-26T20:46:57.991550Z",
     "iopub.status.busy": "2022-11-26T20:46:57.987264Z",
     "iopub.status.idle": "2022-11-26T20:46:58.008958Z",
     "shell.execute_reply": "2022-11-26T20:46:58.008057Z"
    },
    "papermill": {
     "duration": 0.034765,
     "end_time": "2022-11-26T20:46:58.010921",
     "exception": false,
     "start_time": "2022-11-26T20:46:57.976156",
     "status": "completed"
    },
    "tags": []
   },
   "outputs": [
    {
     "name": "stdout",
     "output_type": "stream",
     "text": [
      "/kaggle/input/california-housing-prices/housing.csv\n"
     ]
    }
   ],
   "source": [
    "# This Python 3 environment comes with many helpful analytics libraries installed\n",
    "# It is defined by the kaggle/python Docker image: https://github.com/kaggle/docker-python\n",
    "# For example, here's several helpful packages to load\n",
    "\n",
    "import numpy as np # linear algebra\n",
    "import pandas as pd # data processing, CSV file I/O (e.g. pd.read_csv)\n",
    "\n",
    "# Input data files are available in the read-only \"../input/\" directory\n",
    "# For example, running this (by clicking run or pressing Shift+Enter) will list all files under the input directory\n",
    "\n",
    "import os\n",
    "for dirname, _, filenames in os.walk('/kaggle/input'):\n",
    "    for filename in filenames:\n",
    "        print(os.path.join(dirname, filename))\n",
    "\n",
    "# You can write up to 20GB to the current directory (/kaggle/working/) that gets preserved as output when you create a version using \"Save & Run All\" \n",
    "# You can also write temporary files to /kaggle/temp/, but they won't be saved outside of the current session"
   ]
  },
  {
   "cell_type": "code",
   "execution_count": 2,
   "id": "6eed490f",
   "metadata": {
    "execution": {
     "iopub.execute_input": "2022-11-26T20:46:58.027236Z",
     "iopub.status.busy": "2022-11-26T20:46:58.026834Z",
     "iopub.status.idle": "2022-11-26T20:46:58.077487Z",
     "shell.execute_reply": "2022-11-26T20:46:58.076647Z"
    },
    "papermill": {
     "duration": 0.062045,
     "end_time": "2022-11-26T20:46:58.079955",
     "exception": false,
     "start_time": "2022-11-26T20:46:58.017910",
     "status": "completed"
    },
    "tags": []
   },
   "outputs": [],
   "source": [
    "data_path=\"/kaggle/input/california-housing-prices/housing.csv\"\n",
    "data=pd.read_csv(data_path)"
   ]
  },
  {
   "cell_type": "code",
   "execution_count": 3,
   "id": "1306a064",
   "metadata": {
    "execution": {
     "iopub.execute_input": "2022-11-26T20:46:58.098028Z",
     "iopub.status.busy": "2022-11-26T20:46:58.097692Z",
     "iopub.status.idle": "2022-11-26T20:46:58.125027Z",
     "shell.execute_reply": "2022-11-26T20:46:58.124178Z"
    },
    "papermill": {
     "duration": 0.038205,
     "end_time": "2022-11-26T20:46:58.126810",
     "exception": false,
     "start_time": "2022-11-26T20:46:58.088605",
     "status": "completed"
    },
    "tags": []
   },
   "outputs": [
    {
     "data": {
      "text/html": [
       "<div>\n",
       "<style scoped>\n",
       "    .dataframe tbody tr th:only-of-type {\n",
       "        vertical-align: middle;\n",
       "    }\n",
       "\n",
       "    .dataframe tbody tr th {\n",
       "        vertical-align: top;\n",
       "    }\n",
       "\n",
       "    .dataframe thead th {\n",
       "        text-align: right;\n",
       "    }\n",
       "</style>\n",
       "<table border=\"1\" class=\"dataframe\">\n",
       "  <thead>\n",
       "    <tr style=\"text-align: right;\">\n",
       "      <th></th>\n",
       "      <th>longitude</th>\n",
       "      <th>latitude</th>\n",
       "      <th>housing_median_age</th>\n",
       "      <th>total_rooms</th>\n",
       "      <th>total_bedrooms</th>\n",
       "      <th>population</th>\n",
       "      <th>households</th>\n",
       "      <th>median_income</th>\n",
       "      <th>median_house_value</th>\n",
       "      <th>ocean_proximity</th>\n",
       "    </tr>\n",
       "  </thead>\n",
       "  <tbody>\n",
       "    <tr>\n",
       "      <th>0</th>\n",
       "      <td>-122.23</td>\n",
       "      <td>37.88</td>\n",
       "      <td>41.0</td>\n",
       "      <td>880.0</td>\n",
       "      <td>129.0</td>\n",
       "      <td>322.0</td>\n",
       "      <td>126.0</td>\n",
       "      <td>8.3252</td>\n",
       "      <td>452600.0</td>\n",
       "      <td>NEAR BAY</td>\n",
       "    </tr>\n",
       "    <tr>\n",
       "      <th>1</th>\n",
       "      <td>-122.22</td>\n",
       "      <td>37.86</td>\n",
       "      <td>21.0</td>\n",
       "      <td>7099.0</td>\n",
       "      <td>1106.0</td>\n",
       "      <td>2401.0</td>\n",
       "      <td>1138.0</td>\n",
       "      <td>8.3014</td>\n",
       "      <td>358500.0</td>\n",
       "      <td>NEAR BAY</td>\n",
       "    </tr>\n",
       "    <tr>\n",
       "      <th>2</th>\n",
       "      <td>-122.24</td>\n",
       "      <td>37.85</td>\n",
       "      <td>52.0</td>\n",
       "      <td>1467.0</td>\n",
       "      <td>190.0</td>\n",
       "      <td>496.0</td>\n",
       "      <td>177.0</td>\n",
       "      <td>7.2574</td>\n",
       "      <td>352100.0</td>\n",
       "      <td>NEAR BAY</td>\n",
       "    </tr>\n",
       "    <tr>\n",
       "      <th>3</th>\n",
       "      <td>-122.25</td>\n",
       "      <td>37.85</td>\n",
       "      <td>52.0</td>\n",
       "      <td>1274.0</td>\n",
       "      <td>235.0</td>\n",
       "      <td>558.0</td>\n",
       "      <td>219.0</td>\n",
       "      <td>5.6431</td>\n",
       "      <td>341300.0</td>\n",
       "      <td>NEAR BAY</td>\n",
       "    </tr>\n",
       "    <tr>\n",
       "      <th>4</th>\n",
       "      <td>-122.25</td>\n",
       "      <td>37.85</td>\n",
       "      <td>52.0</td>\n",
       "      <td>1627.0</td>\n",
       "      <td>280.0</td>\n",
       "      <td>565.0</td>\n",
       "      <td>259.0</td>\n",
       "      <td>3.8462</td>\n",
       "      <td>342200.0</td>\n",
       "      <td>NEAR BAY</td>\n",
       "    </tr>\n",
       "  </tbody>\n",
       "</table>\n",
       "</div>"
      ],
      "text/plain": [
       "   longitude  latitude  housing_median_age  total_rooms  total_bedrooms  \\\n",
       "0    -122.23     37.88                41.0        880.0           129.0   \n",
       "1    -122.22     37.86                21.0       7099.0          1106.0   \n",
       "2    -122.24     37.85                52.0       1467.0           190.0   \n",
       "3    -122.25     37.85                52.0       1274.0           235.0   \n",
       "4    -122.25     37.85                52.0       1627.0           280.0   \n",
       "\n",
       "   population  households  median_income  median_house_value ocean_proximity  \n",
       "0       322.0       126.0         8.3252            452600.0        NEAR BAY  \n",
       "1      2401.0      1138.0         8.3014            358500.0        NEAR BAY  \n",
       "2       496.0       177.0         7.2574            352100.0        NEAR BAY  \n",
       "3       558.0       219.0         5.6431            341300.0        NEAR BAY  \n",
       "4       565.0       259.0         3.8462            342200.0        NEAR BAY  "
      ]
     },
     "execution_count": 3,
     "metadata": {},
     "output_type": "execute_result"
    }
   ],
   "source": [
    "data.head()"
   ]
  },
  {
   "cell_type": "code",
   "execution_count": 4,
   "id": "b3230ee4",
   "metadata": {
    "execution": {
     "iopub.execute_input": "2022-11-26T20:46:58.141753Z",
     "iopub.status.busy": "2022-11-26T20:46:58.141261Z",
     "iopub.status.idle": "2022-11-26T20:46:58.170930Z",
     "shell.execute_reply": "2022-11-26T20:46:58.170156Z"
    },
    "papermill": {
     "duration": 0.039217,
     "end_time": "2022-11-26T20:46:58.172964",
     "exception": false,
     "start_time": "2022-11-26T20:46:58.133747",
     "status": "completed"
    },
    "tags": []
   },
   "outputs": [
    {
     "data": {
      "text/html": [
       "<div>\n",
       "<style scoped>\n",
       "    .dataframe tbody tr th:only-of-type {\n",
       "        vertical-align: middle;\n",
       "    }\n",
       "\n",
       "    .dataframe tbody tr th {\n",
       "        vertical-align: top;\n",
       "    }\n",
       "\n",
       "    .dataframe thead th {\n",
       "        text-align: right;\n",
       "    }\n",
       "</style>\n",
       "<table border=\"1\" class=\"dataframe\">\n",
       "  <thead>\n",
       "    <tr style=\"text-align: right;\">\n",
       "      <th></th>\n",
       "      <th>longitude</th>\n",
       "      <th>latitude</th>\n",
       "      <th>housing_median_age</th>\n",
       "      <th>total_rooms</th>\n",
       "      <th>total_bedrooms</th>\n",
       "      <th>population</th>\n",
       "      <th>households</th>\n",
       "      <th>median_income</th>\n",
       "      <th>median_house_value</th>\n",
       "    </tr>\n",
       "  </thead>\n",
       "  <tbody>\n",
       "    <tr>\n",
       "      <th>0</th>\n",
       "      <td>-122.23</td>\n",
       "      <td>37.88</td>\n",
       "      <td>41.0</td>\n",
       "      <td>880.0</td>\n",
       "      <td>129.0</td>\n",
       "      <td>322.0</td>\n",
       "      <td>126.0</td>\n",
       "      <td>8.3252</td>\n",
       "      <td>452600.0</td>\n",
       "    </tr>\n",
       "    <tr>\n",
       "      <th>1</th>\n",
       "      <td>-122.22</td>\n",
       "      <td>37.86</td>\n",
       "      <td>21.0</td>\n",
       "      <td>7099.0</td>\n",
       "      <td>1106.0</td>\n",
       "      <td>2401.0</td>\n",
       "      <td>1138.0</td>\n",
       "      <td>8.3014</td>\n",
       "      <td>358500.0</td>\n",
       "    </tr>\n",
       "    <tr>\n",
       "      <th>2</th>\n",
       "      <td>-122.24</td>\n",
       "      <td>37.85</td>\n",
       "      <td>52.0</td>\n",
       "      <td>1467.0</td>\n",
       "      <td>190.0</td>\n",
       "      <td>496.0</td>\n",
       "      <td>177.0</td>\n",
       "      <td>7.2574</td>\n",
       "      <td>352100.0</td>\n",
       "    </tr>\n",
       "    <tr>\n",
       "      <th>3</th>\n",
       "      <td>-122.25</td>\n",
       "      <td>37.85</td>\n",
       "      <td>52.0</td>\n",
       "      <td>1274.0</td>\n",
       "      <td>235.0</td>\n",
       "      <td>558.0</td>\n",
       "      <td>219.0</td>\n",
       "      <td>5.6431</td>\n",
       "      <td>341300.0</td>\n",
       "    </tr>\n",
       "    <tr>\n",
       "      <th>4</th>\n",
       "      <td>-122.25</td>\n",
       "      <td>37.85</td>\n",
       "      <td>52.0</td>\n",
       "      <td>1627.0</td>\n",
       "      <td>280.0</td>\n",
       "      <td>565.0</td>\n",
       "      <td>259.0</td>\n",
       "      <td>3.8462</td>\n",
       "      <td>342200.0</td>\n",
       "    </tr>\n",
       "    <tr>\n",
       "      <th>...</th>\n",
       "      <td>...</td>\n",
       "      <td>...</td>\n",
       "      <td>...</td>\n",
       "      <td>...</td>\n",
       "      <td>...</td>\n",
       "      <td>...</td>\n",
       "      <td>...</td>\n",
       "      <td>...</td>\n",
       "      <td>...</td>\n",
       "    </tr>\n",
       "    <tr>\n",
       "      <th>20635</th>\n",
       "      <td>-121.09</td>\n",
       "      <td>39.48</td>\n",
       "      <td>25.0</td>\n",
       "      <td>1665.0</td>\n",
       "      <td>374.0</td>\n",
       "      <td>845.0</td>\n",
       "      <td>330.0</td>\n",
       "      <td>1.5603</td>\n",
       "      <td>78100.0</td>\n",
       "    </tr>\n",
       "    <tr>\n",
       "      <th>20636</th>\n",
       "      <td>-121.21</td>\n",
       "      <td>39.49</td>\n",
       "      <td>18.0</td>\n",
       "      <td>697.0</td>\n",
       "      <td>150.0</td>\n",
       "      <td>356.0</td>\n",
       "      <td>114.0</td>\n",
       "      <td>2.5568</td>\n",
       "      <td>77100.0</td>\n",
       "    </tr>\n",
       "    <tr>\n",
       "      <th>20637</th>\n",
       "      <td>-121.22</td>\n",
       "      <td>39.43</td>\n",
       "      <td>17.0</td>\n",
       "      <td>2254.0</td>\n",
       "      <td>485.0</td>\n",
       "      <td>1007.0</td>\n",
       "      <td>433.0</td>\n",
       "      <td>1.7000</td>\n",
       "      <td>92300.0</td>\n",
       "    </tr>\n",
       "    <tr>\n",
       "      <th>20638</th>\n",
       "      <td>-121.32</td>\n",
       "      <td>39.43</td>\n",
       "      <td>18.0</td>\n",
       "      <td>1860.0</td>\n",
       "      <td>409.0</td>\n",
       "      <td>741.0</td>\n",
       "      <td>349.0</td>\n",
       "      <td>1.8672</td>\n",
       "      <td>84700.0</td>\n",
       "    </tr>\n",
       "    <tr>\n",
       "      <th>20639</th>\n",
       "      <td>-121.24</td>\n",
       "      <td>39.37</td>\n",
       "      <td>16.0</td>\n",
       "      <td>2785.0</td>\n",
       "      <td>616.0</td>\n",
       "      <td>1387.0</td>\n",
       "      <td>530.0</td>\n",
       "      <td>2.3886</td>\n",
       "      <td>89400.0</td>\n",
       "    </tr>\n",
       "  </tbody>\n",
       "</table>\n",
       "<p>20640 rows × 9 columns</p>\n",
       "</div>"
      ],
      "text/plain": [
       "       longitude  latitude  housing_median_age  total_rooms  total_bedrooms  \\\n",
       "0        -122.23     37.88                41.0        880.0           129.0   \n",
       "1        -122.22     37.86                21.0       7099.0          1106.0   \n",
       "2        -122.24     37.85                52.0       1467.0           190.0   \n",
       "3        -122.25     37.85                52.0       1274.0           235.0   \n",
       "4        -122.25     37.85                52.0       1627.0           280.0   \n",
       "...          ...       ...                 ...          ...             ...   \n",
       "20635    -121.09     39.48                25.0       1665.0           374.0   \n",
       "20636    -121.21     39.49                18.0        697.0           150.0   \n",
       "20637    -121.22     39.43                17.0       2254.0           485.0   \n",
       "20638    -121.32     39.43                18.0       1860.0           409.0   \n",
       "20639    -121.24     39.37                16.0       2785.0           616.0   \n",
       "\n",
       "       population  households  median_income  median_house_value  \n",
       "0           322.0       126.0         8.3252            452600.0  \n",
       "1          2401.0      1138.0         8.3014            358500.0  \n",
       "2           496.0       177.0         7.2574            352100.0  \n",
       "3           558.0       219.0         5.6431            341300.0  \n",
       "4           565.0       259.0         3.8462            342200.0  \n",
       "...           ...         ...            ...                 ...  \n",
       "20635       845.0       330.0         1.5603             78100.0  \n",
       "20636       356.0       114.0         2.5568             77100.0  \n",
       "20637      1007.0       433.0         1.7000             92300.0  \n",
       "20638       741.0       349.0         1.8672             84700.0  \n",
       "20639      1387.0       530.0         2.3886             89400.0  \n",
       "\n",
       "[20640 rows x 9 columns]"
      ]
     },
     "execution_count": 4,
     "metadata": {},
     "output_type": "execute_result"
    }
   ],
   "source": [
    "data.drop(['ocean_proximity'],axis=1)"
   ]
  },
  {
   "cell_type": "code",
   "execution_count": 5,
   "id": "184ff782",
   "metadata": {
    "execution": {
     "iopub.execute_input": "2022-11-26T20:46:58.188574Z",
     "iopub.status.busy": "2022-11-26T20:46:58.188243Z",
     "iopub.status.idle": "2022-11-26T20:46:58.209138Z",
     "shell.execute_reply": "2022-11-26T20:46:58.208300Z"
    },
    "papermill": {
     "duration": 0.031056,
     "end_time": "2022-11-26T20:46:58.211142",
     "exception": false,
     "start_time": "2022-11-26T20:46:58.180086",
     "status": "completed"
    },
    "tags": []
   },
   "outputs": [
    {
     "data": {
      "text/html": [
       "<div>\n",
       "<style scoped>\n",
       "    .dataframe tbody tr th:only-of-type {\n",
       "        vertical-align: middle;\n",
       "    }\n",
       "\n",
       "    .dataframe tbody tr th {\n",
       "        vertical-align: top;\n",
       "    }\n",
       "\n",
       "    .dataframe thead th {\n",
       "        text-align: right;\n",
       "    }\n",
       "</style>\n",
       "<table border=\"1\" class=\"dataframe\">\n",
       "  <thead>\n",
       "    <tr style=\"text-align: right;\">\n",
       "      <th></th>\n",
       "      <th>longitude</th>\n",
       "      <th>latitude</th>\n",
       "      <th>housing_median_age</th>\n",
       "      <th>total_rooms</th>\n",
       "      <th>total_bedrooms</th>\n",
       "      <th>population</th>\n",
       "      <th>households</th>\n",
       "      <th>median_income</th>\n",
       "      <th>median_house_value</th>\n",
       "      <th>ocean_proximity</th>\n",
       "    </tr>\n",
       "  </thead>\n",
       "  <tbody>\n",
       "    <tr>\n",
       "      <th>0</th>\n",
       "      <td>-122.23</td>\n",
       "      <td>37.88</td>\n",
       "      <td>41.0</td>\n",
       "      <td>880.0</td>\n",
       "      <td>129.0</td>\n",
       "      <td>322.0</td>\n",
       "      <td>126.0</td>\n",
       "      <td>8.3252</td>\n",
       "      <td>452600.0</td>\n",
       "      <td>NEAR BAY</td>\n",
       "    </tr>\n",
       "    <tr>\n",
       "      <th>1</th>\n",
       "      <td>-122.22</td>\n",
       "      <td>37.86</td>\n",
       "      <td>21.0</td>\n",
       "      <td>7099.0</td>\n",
       "      <td>1106.0</td>\n",
       "      <td>2401.0</td>\n",
       "      <td>1138.0</td>\n",
       "      <td>8.3014</td>\n",
       "      <td>358500.0</td>\n",
       "      <td>NEAR BAY</td>\n",
       "    </tr>\n",
       "    <tr>\n",
       "      <th>2</th>\n",
       "      <td>-122.24</td>\n",
       "      <td>37.85</td>\n",
       "      <td>52.0</td>\n",
       "      <td>1467.0</td>\n",
       "      <td>190.0</td>\n",
       "      <td>496.0</td>\n",
       "      <td>177.0</td>\n",
       "      <td>7.2574</td>\n",
       "      <td>352100.0</td>\n",
       "      <td>NEAR BAY</td>\n",
       "    </tr>\n",
       "    <tr>\n",
       "      <th>3</th>\n",
       "      <td>-122.25</td>\n",
       "      <td>37.85</td>\n",
       "      <td>52.0</td>\n",
       "      <td>1274.0</td>\n",
       "      <td>235.0</td>\n",
       "      <td>558.0</td>\n",
       "      <td>219.0</td>\n",
       "      <td>5.6431</td>\n",
       "      <td>341300.0</td>\n",
       "      <td>NEAR BAY</td>\n",
       "    </tr>\n",
       "    <tr>\n",
       "      <th>4</th>\n",
       "      <td>-122.25</td>\n",
       "      <td>37.85</td>\n",
       "      <td>52.0</td>\n",
       "      <td>1627.0</td>\n",
       "      <td>280.0</td>\n",
       "      <td>565.0</td>\n",
       "      <td>259.0</td>\n",
       "      <td>3.8462</td>\n",
       "      <td>342200.0</td>\n",
       "      <td>NEAR BAY</td>\n",
       "    </tr>\n",
       "  </tbody>\n",
       "</table>\n",
       "</div>"
      ],
      "text/plain": [
       "   longitude  latitude  housing_median_age  total_rooms  total_bedrooms  \\\n",
       "0    -122.23     37.88                41.0        880.0           129.0   \n",
       "1    -122.22     37.86                21.0       7099.0          1106.0   \n",
       "2    -122.24     37.85                52.0       1467.0           190.0   \n",
       "3    -122.25     37.85                52.0       1274.0           235.0   \n",
       "4    -122.25     37.85                52.0       1627.0           280.0   \n",
       "\n",
       "   population  households  median_income  median_house_value ocean_proximity  \n",
       "0       322.0       126.0         8.3252            452600.0        NEAR BAY  \n",
       "1      2401.0      1138.0         8.3014            358500.0        NEAR BAY  \n",
       "2       496.0       177.0         7.2574            352100.0        NEAR BAY  \n",
       "3       558.0       219.0         5.6431            341300.0        NEAR BAY  \n",
       "4       565.0       259.0         3.8462            342200.0        NEAR BAY  "
      ]
     },
     "execution_count": 5,
     "metadata": {},
     "output_type": "execute_result"
    }
   ],
   "source": [
    "data.head()"
   ]
  },
  {
   "cell_type": "code",
   "execution_count": 6,
   "id": "4501fc75",
   "metadata": {
    "execution": {
     "iopub.execute_input": "2022-11-26T20:46:58.229643Z",
     "iopub.status.busy": "2022-11-26T20:46:58.229098Z",
     "iopub.status.idle": "2022-11-26T20:46:58.234997Z",
     "shell.execute_reply": "2022-11-26T20:46:58.234235Z"
    },
    "papermill": {
     "duration": 0.01687,
     "end_time": "2022-11-26T20:46:58.237190",
     "exception": false,
     "start_time": "2022-11-26T20:46:58.220320",
     "status": "completed"
    },
    "tags": []
   },
   "outputs": [],
   "source": [
    "X=data\n",
    "y=data['median_house_value']"
   ]
  },
  {
   "cell_type": "code",
   "execution_count": 7,
   "id": "d22e76ad",
   "metadata": {
    "execution": {
     "iopub.execute_input": "2022-11-26T20:46:58.253525Z",
     "iopub.status.busy": "2022-11-26T20:46:58.252952Z",
     "iopub.status.idle": "2022-11-26T20:46:58.258604Z",
     "shell.execute_reply": "2022-11-26T20:46:58.257972Z"
    },
    "papermill": {
     "duration": 0.015599,
     "end_time": "2022-11-26T20:46:58.260290",
     "exception": false,
     "start_time": "2022-11-26T20:46:58.244691",
     "status": "completed"
    },
    "tags": []
   },
   "outputs": [],
   "source": [
    "X=data.drop(['median_house_value','ocean_proximity'],axis=1)"
   ]
  },
  {
   "cell_type": "code",
   "execution_count": 8,
   "id": "274cadd3",
   "metadata": {
    "execution": {
     "iopub.execute_input": "2022-11-26T20:46:58.276419Z",
     "iopub.status.busy": "2022-11-26T20:46:58.275817Z",
     "iopub.status.idle": "2022-11-26T20:46:58.289533Z",
     "shell.execute_reply": "2022-11-26T20:46:58.288776Z"
    },
    "papermill": {
     "duration": 0.023704,
     "end_time": "2022-11-26T20:46:58.291277",
     "exception": false,
     "start_time": "2022-11-26T20:46:58.267573",
     "status": "completed"
    },
    "tags": []
   },
   "outputs": [
    {
     "data": {
      "text/html": [
       "<div>\n",
       "<style scoped>\n",
       "    .dataframe tbody tr th:only-of-type {\n",
       "        vertical-align: middle;\n",
       "    }\n",
       "\n",
       "    .dataframe tbody tr th {\n",
       "        vertical-align: top;\n",
       "    }\n",
       "\n",
       "    .dataframe thead th {\n",
       "        text-align: right;\n",
       "    }\n",
       "</style>\n",
       "<table border=\"1\" class=\"dataframe\">\n",
       "  <thead>\n",
       "    <tr style=\"text-align: right;\">\n",
       "      <th></th>\n",
       "      <th>longitude</th>\n",
       "      <th>latitude</th>\n",
       "      <th>housing_median_age</th>\n",
       "      <th>total_rooms</th>\n",
       "      <th>total_bedrooms</th>\n",
       "      <th>population</th>\n",
       "      <th>households</th>\n",
       "      <th>median_income</th>\n",
       "    </tr>\n",
       "  </thead>\n",
       "  <tbody>\n",
       "    <tr>\n",
       "      <th>0</th>\n",
       "      <td>-122.23</td>\n",
       "      <td>37.88</td>\n",
       "      <td>41.0</td>\n",
       "      <td>880.0</td>\n",
       "      <td>129.0</td>\n",
       "      <td>322.0</td>\n",
       "      <td>126.0</td>\n",
       "      <td>8.3252</td>\n",
       "    </tr>\n",
       "    <tr>\n",
       "      <th>1</th>\n",
       "      <td>-122.22</td>\n",
       "      <td>37.86</td>\n",
       "      <td>21.0</td>\n",
       "      <td>7099.0</td>\n",
       "      <td>1106.0</td>\n",
       "      <td>2401.0</td>\n",
       "      <td>1138.0</td>\n",
       "      <td>8.3014</td>\n",
       "    </tr>\n",
       "    <tr>\n",
       "      <th>2</th>\n",
       "      <td>-122.24</td>\n",
       "      <td>37.85</td>\n",
       "      <td>52.0</td>\n",
       "      <td>1467.0</td>\n",
       "      <td>190.0</td>\n",
       "      <td>496.0</td>\n",
       "      <td>177.0</td>\n",
       "      <td>7.2574</td>\n",
       "    </tr>\n",
       "    <tr>\n",
       "      <th>3</th>\n",
       "      <td>-122.25</td>\n",
       "      <td>37.85</td>\n",
       "      <td>52.0</td>\n",
       "      <td>1274.0</td>\n",
       "      <td>235.0</td>\n",
       "      <td>558.0</td>\n",
       "      <td>219.0</td>\n",
       "      <td>5.6431</td>\n",
       "    </tr>\n",
       "    <tr>\n",
       "      <th>4</th>\n",
       "      <td>-122.25</td>\n",
       "      <td>37.85</td>\n",
       "      <td>52.0</td>\n",
       "      <td>1627.0</td>\n",
       "      <td>280.0</td>\n",
       "      <td>565.0</td>\n",
       "      <td>259.0</td>\n",
       "      <td>3.8462</td>\n",
       "    </tr>\n",
       "  </tbody>\n",
       "</table>\n",
       "</div>"
      ],
      "text/plain": [
       "   longitude  latitude  housing_median_age  total_rooms  total_bedrooms  \\\n",
       "0    -122.23     37.88                41.0        880.0           129.0   \n",
       "1    -122.22     37.86                21.0       7099.0          1106.0   \n",
       "2    -122.24     37.85                52.0       1467.0           190.0   \n",
       "3    -122.25     37.85                52.0       1274.0           235.0   \n",
       "4    -122.25     37.85                52.0       1627.0           280.0   \n",
       "\n",
       "   population  households  median_income  \n",
       "0       322.0       126.0         8.3252  \n",
       "1      2401.0      1138.0         8.3014  \n",
       "2       496.0       177.0         7.2574  \n",
       "3       558.0       219.0         5.6431  \n",
       "4       565.0       259.0         3.8462  "
      ]
     },
     "execution_count": 8,
     "metadata": {},
     "output_type": "execute_result"
    }
   ],
   "source": [
    "X.head()"
   ]
  },
  {
   "cell_type": "code",
   "execution_count": 9,
   "id": "531f35fc",
   "metadata": {
    "execution": {
     "iopub.execute_input": "2022-11-26T20:46:58.309118Z",
     "iopub.status.busy": "2022-11-26T20:46:58.308586Z",
     "iopub.status.idle": "2022-11-26T20:46:59.181919Z",
     "shell.execute_reply": "2022-11-26T20:46:59.180949Z"
    },
    "papermill": {
     "duration": 0.885019,
     "end_time": "2022-11-26T20:46:59.184157",
     "exception": false,
     "start_time": "2022-11-26T20:46:58.299138",
     "status": "completed"
    },
    "tags": []
   },
   "outputs": [],
   "source": [
    "from sklearn.model_selection import train_test_split"
   ]
  },
  {
   "cell_type": "code",
   "execution_count": 10,
   "id": "2e1b711a",
   "metadata": {
    "execution": {
     "iopub.execute_input": "2022-11-26T20:46:59.200594Z",
     "iopub.status.busy": "2022-11-26T20:46:59.199796Z",
     "iopub.status.idle": "2022-11-26T20:46:59.375052Z",
     "shell.execute_reply": "2022-11-26T20:46:59.374100Z"
    },
    "papermill": {
     "duration": 0.186048,
     "end_time": "2022-11-26T20:46:59.377757",
     "exception": false,
     "start_time": "2022-11-26T20:46:59.191709",
     "status": "completed"
    },
    "tags": []
   },
   "outputs": [],
   "source": [
    "from sklearn.ensemble import RandomForestRegressor\n",
    "from sklearn.metrics import mean_absolute_error"
   ]
  },
  {
   "cell_type": "markdown",
   "id": "c3286e59",
   "metadata": {
    "papermill": {
     "duration": 0.007088,
     "end_time": "2022-11-26T20:46:59.392499",
     "exception": false,
     "start_time": "2022-11-26T20:46:59.385411",
     "status": "completed"
    },
    "tags": []
   },
   "source": [
    "**check for missing values**"
   ]
  },
  {
   "cell_type": "code",
   "execution_count": 11,
   "id": "e6d5ebaa",
   "metadata": {
    "execution": {
     "iopub.execute_input": "2022-11-26T20:46:59.408477Z",
     "iopub.status.busy": "2022-11-26T20:46:59.408097Z",
     "iopub.status.idle": "2022-11-26T20:46:59.416202Z",
     "shell.execute_reply": "2022-11-26T20:46:59.415321Z"
    },
    "papermill": {
     "duration": 0.018324,
     "end_time": "2022-11-26T20:46:59.418049",
     "exception": false,
     "start_time": "2022-11-26T20:46:59.399725",
     "status": "completed"
    },
    "tags": []
   },
   "outputs": [
    {
     "data": {
      "text/plain": [
       "longitude               0\n",
       "latitude                0\n",
       "housing_median_age      0\n",
       "total_rooms             0\n",
       "total_bedrooms        207\n",
       "population              0\n",
       "households              0\n",
       "median_income           0\n",
       "dtype: int64"
      ]
     },
     "execution_count": 11,
     "metadata": {},
     "output_type": "execute_result"
    }
   ],
   "source": [
    "X.isnull().sum()"
   ]
  },
  {
   "cell_type": "code",
   "execution_count": null,
   "id": "cd200b54",
   "metadata": {
    "execution": {
     "iopub.execute_input": "2022-11-26T20:30:29.556538Z",
     "iopub.status.busy": "2022-11-26T20:30:29.556104Z",
     "iopub.status.idle": "2022-11-26T20:30:29.569425Z",
     "shell.execute_reply": "2022-11-26T20:30:29.568165Z",
     "shell.execute_reply.started": "2022-11-26T20:30:29.556498Z"
    },
    "papermill": {
     "duration": 0.007142,
     "end_time": "2022-11-26T20:46:59.432884",
     "exception": false,
     "start_time": "2022-11-26T20:46:59.425742",
     "status": "completed"
    },
    "tags": []
   },
   "outputs": [],
   "source": []
  },
  {
   "cell_type": "code",
   "execution_count": 12,
   "id": "910c9181",
   "metadata": {
    "execution": {
     "iopub.execute_input": "2022-11-26T20:46:59.449091Z",
     "iopub.status.busy": "2022-11-26T20:46:59.448739Z",
     "iopub.status.idle": "2022-11-26T20:46:59.453952Z",
     "shell.execute_reply": "2022-11-26T20:46:59.452960Z"
    },
    "papermill": {
     "duration": 0.016279,
     "end_time": "2022-11-26T20:46:59.456557",
     "exception": false,
     "start_time": "2022-11-26T20:46:59.440278",
     "status": "completed"
    },
    "tags": []
   },
   "outputs": [
    {
     "name": "stdout",
     "output_type": "stream",
     "text": [
      "1.002906976744186\n"
     ]
    }
   ],
   "source": [
    "print((207/X.shape[0])*100)"
   ]
  },
  {
   "cell_type": "markdown",
   "id": "43d6e697",
   "metadata": {
    "papermill": {
     "duration": 0.007613,
     "end_time": "2022-11-26T20:46:59.472250",
     "exception": false,
     "start_time": "2022-11-26T20:46:59.464637",
     "status": "completed"
    },
    "tags": []
   },
   "source": [
    "**using bfill to fill missing values**"
   ]
  },
  {
   "cell_type": "code",
   "execution_count": 13,
   "id": "982287d9",
   "metadata": {
    "execution": {
     "iopub.execute_input": "2022-11-26T20:46:59.489607Z",
     "iopub.status.busy": "2022-11-26T20:46:59.488981Z",
     "iopub.status.idle": "2022-11-26T20:46:59.498184Z",
     "shell.execute_reply": "2022-11-26T20:46:59.497541Z"
    },
    "papermill": {
     "duration": 0.019834,
     "end_time": "2022-11-26T20:46:59.499857",
     "exception": false,
     "start_time": "2022-11-26T20:46:59.480023",
     "status": "completed"
    },
    "tags": []
   },
   "outputs": [],
   "source": [
    "X=X.fillna(method='bfill',axis=0).fillna(0)"
   ]
  },
  {
   "cell_type": "markdown",
   "id": "8831fff3",
   "metadata": {
    "papermill": {
     "duration": 0.007344,
     "end_time": "2022-11-26T20:46:59.515161",
     "exception": false,
     "start_time": "2022-11-26T20:46:59.507817",
     "status": "completed"
    },
    "tags": []
   },
   "source": [
    "no more missing values"
   ]
  },
  {
   "cell_type": "code",
   "execution_count": 14,
   "id": "a28b761d",
   "metadata": {
    "execution": {
     "iopub.execute_input": "2022-11-26T20:46:59.532143Z",
     "iopub.status.busy": "2022-11-26T20:46:59.531030Z",
     "iopub.status.idle": "2022-11-26T20:46:59.539650Z",
     "shell.execute_reply": "2022-11-26T20:46:59.538747Z"
    },
    "papermill": {
     "duration": 0.018691,
     "end_time": "2022-11-26T20:46:59.541298",
     "exception": false,
     "start_time": "2022-11-26T20:46:59.522607",
     "status": "completed"
    },
    "tags": []
   },
   "outputs": [
    {
     "data": {
      "text/plain": [
       "longitude             0\n",
       "latitude              0\n",
       "housing_median_age    0\n",
       "total_rooms           0\n",
       "total_bedrooms        0\n",
       "population            0\n",
       "households            0\n",
       "median_income         0\n",
       "dtype: int64"
      ]
     },
     "execution_count": 14,
     "metadata": {},
     "output_type": "execute_result"
    }
   ],
   "source": [
    "X.isnull().sum()"
   ]
  },
  {
   "cell_type": "code",
   "execution_count": 15,
   "id": "956d0448",
   "metadata": {
    "execution": {
     "iopub.execute_input": "2022-11-26T20:46:59.557975Z",
     "iopub.status.busy": "2022-11-26T20:46:59.557472Z",
     "iopub.status.idle": "2022-11-26T20:46:59.564839Z",
     "shell.execute_reply": "2022-11-26T20:46:59.564225Z"
    },
    "papermill": {
     "duration": 0.018079,
     "end_time": "2022-11-26T20:46:59.567013",
     "exception": false,
     "start_time": "2022-11-26T20:46:59.548934",
     "status": "completed"
    },
    "tags": []
   },
   "outputs": [],
   "source": [
    "x_train,x_test,y_train,y_test=train_test_split(X,y,train_size=0.8,test_size=0.2,random_state=1)"
   ]
  },
  {
   "cell_type": "markdown",
   "id": "7ac872e7",
   "metadata": {
    "papermill": {
     "duration": 0.0074,
     "end_time": "2022-11-26T20:46:59.582688",
     "exception": false,
     "start_time": "2022-11-26T20:46:59.575288",
     "status": "completed"
    },
    "tags": []
   },
   "source": [
    "*reviewing all the train and test sets*"
   ]
  },
  {
   "cell_type": "code",
   "execution_count": 16,
   "id": "e6b4070a",
   "metadata": {
    "execution": {
     "iopub.execute_input": "2022-11-26T20:46:59.599888Z",
     "iopub.status.busy": "2022-11-26T20:46:59.599280Z",
     "iopub.status.idle": "2022-11-26T20:46:59.606266Z",
     "shell.execute_reply": "2022-11-26T20:46:59.605409Z"
    },
    "papermill": {
     "duration": 0.018764,
     "end_time": "2022-11-26T20:46:59.608952",
     "exception": false,
     "start_time": "2022-11-26T20:46:59.590188",
     "status": "completed"
    },
    "tags": []
   },
   "outputs": [
    {
     "data": {
      "text/plain": [
       "15961    255600.0\n",
       "1771     114600.0\n",
       "16414    137500.0\n",
       "5056     118800.0\n",
       "8589     422700.0\n",
       "Name: median_house_value, dtype: float64"
      ]
     },
     "execution_count": 16,
     "metadata": {},
     "output_type": "execute_result"
    }
   ],
   "source": [
    "y_train.head()"
   ]
  },
  {
   "cell_type": "code",
   "execution_count": 17,
   "id": "a4921e7a",
   "metadata": {
    "execution": {
     "iopub.execute_input": "2022-11-26T20:46:59.626828Z",
     "iopub.status.busy": "2022-11-26T20:46:59.626459Z",
     "iopub.status.idle": "2022-11-26T20:46:59.640362Z",
     "shell.execute_reply": "2022-11-26T20:46:59.639520Z"
    },
    "papermill": {
     "duration": 0.02481,
     "end_time": "2022-11-26T20:46:59.641968",
     "exception": false,
     "start_time": "2022-11-26T20:46:59.617158",
     "status": "completed"
    },
    "tags": []
   },
   "outputs": [
    {
     "data": {
      "text/html": [
       "<div>\n",
       "<style scoped>\n",
       "    .dataframe tbody tr th:only-of-type {\n",
       "        vertical-align: middle;\n",
       "    }\n",
       "\n",
       "    .dataframe tbody tr th {\n",
       "        vertical-align: top;\n",
       "    }\n",
       "\n",
       "    .dataframe thead th {\n",
       "        text-align: right;\n",
       "    }\n",
       "</style>\n",
       "<table border=\"1\" class=\"dataframe\">\n",
       "  <thead>\n",
       "    <tr style=\"text-align: right;\">\n",
       "      <th></th>\n",
       "      <th>longitude</th>\n",
       "      <th>latitude</th>\n",
       "      <th>housing_median_age</th>\n",
       "      <th>total_rooms</th>\n",
       "      <th>total_bedrooms</th>\n",
       "      <th>population</th>\n",
       "      <th>households</th>\n",
       "      <th>median_income</th>\n",
       "    </tr>\n",
       "  </thead>\n",
       "  <tbody>\n",
       "    <tr>\n",
       "      <th>15961</th>\n",
       "      <td>-122.43</td>\n",
       "      <td>37.71</td>\n",
       "      <td>52.0</td>\n",
       "      <td>1410.0</td>\n",
       "      <td>286.0</td>\n",
       "      <td>879.0</td>\n",
       "      <td>282.0</td>\n",
       "      <td>3.1908</td>\n",
       "    </tr>\n",
       "    <tr>\n",
       "      <th>1771</th>\n",
       "      <td>-122.35</td>\n",
       "      <td>37.95</td>\n",
       "      <td>42.0</td>\n",
       "      <td>1485.0</td>\n",
       "      <td>290.0</td>\n",
       "      <td>971.0</td>\n",
       "      <td>303.0</td>\n",
       "      <td>3.6094</td>\n",
       "    </tr>\n",
       "    <tr>\n",
       "      <th>16414</th>\n",
       "      <td>-121.24</td>\n",
       "      <td>37.90</td>\n",
       "      <td>16.0</td>\n",
       "      <td>50.0</td>\n",
       "      <td>10.0</td>\n",
       "      <td>20.0</td>\n",
       "      <td>6.0</td>\n",
       "      <td>2.6250</td>\n",
       "    </tr>\n",
       "    <tr>\n",
       "      <th>5056</th>\n",
       "      <td>-118.35</td>\n",
       "      <td>34.02</td>\n",
       "      <td>34.0</td>\n",
       "      <td>5218.0</td>\n",
       "      <td>1576.0</td>\n",
       "      <td>3538.0</td>\n",
       "      <td>1371.0</td>\n",
       "      <td>1.5143</td>\n",
       "    </tr>\n",
       "    <tr>\n",
       "      <th>8589</th>\n",
       "      <td>-118.39</td>\n",
       "      <td>33.89</td>\n",
       "      <td>38.0</td>\n",
       "      <td>1851.0</td>\n",
       "      <td>332.0</td>\n",
       "      <td>750.0</td>\n",
       "      <td>314.0</td>\n",
       "      <td>7.3356</td>\n",
       "    </tr>\n",
       "  </tbody>\n",
       "</table>\n",
       "</div>"
      ],
      "text/plain": [
       "       longitude  latitude  housing_median_age  total_rooms  total_bedrooms  \\\n",
       "15961    -122.43     37.71                52.0       1410.0           286.0   \n",
       "1771     -122.35     37.95                42.0       1485.0           290.0   \n",
       "16414    -121.24     37.90                16.0         50.0            10.0   \n",
       "5056     -118.35     34.02                34.0       5218.0          1576.0   \n",
       "8589     -118.39     33.89                38.0       1851.0           332.0   \n",
       "\n",
       "       population  households  median_income  \n",
       "15961       879.0       282.0         3.1908  \n",
       "1771        971.0       303.0         3.6094  \n",
       "16414        20.0         6.0         2.6250  \n",
       "5056       3538.0      1371.0         1.5143  \n",
       "8589        750.0       314.0         7.3356  "
      ]
     },
     "execution_count": 17,
     "metadata": {},
     "output_type": "execute_result"
    }
   ],
   "source": [
    "x_train.head()"
   ]
  },
  {
   "cell_type": "code",
   "execution_count": 18,
   "id": "5a5d5157",
   "metadata": {
    "execution": {
     "iopub.execute_input": "2022-11-26T20:46:59.659082Z",
     "iopub.status.busy": "2022-11-26T20:46:59.658763Z",
     "iopub.status.idle": "2022-11-26T20:46:59.673482Z",
     "shell.execute_reply": "2022-11-26T20:46:59.672428Z"
    },
    "papermill": {
     "duration": 0.025199,
     "end_time": "2022-11-26T20:46:59.675116",
     "exception": false,
     "start_time": "2022-11-26T20:46:59.649917",
     "status": "completed"
    },
    "tags": []
   },
   "outputs": [
    {
     "data": {
      "text/html": [
       "<div>\n",
       "<style scoped>\n",
       "    .dataframe tbody tr th:only-of-type {\n",
       "        vertical-align: middle;\n",
       "    }\n",
       "\n",
       "    .dataframe tbody tr th {\n",
       "        vertical-align: top;\n",
       "    }\n",
       "\n",
       "    .dataframe thead th {\n",
       "        text-align: right;\n",
       "    }\n",
       "</style>\n",
       "<table border=\"1\" class=\"dataframe\">\n",
       "  <thead>\n",
       "    <tr style=\"text-align: right;\">\n",
       "      <th></th>\n",
       "      <th>longitude</th>\n",
       "      <th>latitude</th>\n",
       "      <th>housing_median_age</th>\n",
       "      <th>total_rooms</th>\n",
       "      <th>total_bedrooms</th>\n",
       "      <th>population</th>\n",
       "      <th>households</th>\n",
       "      <th>median_income</th>\n",
       "    </tr>\n",
       "  </thead>\n",
       "  <tbody>\n",
       "    <tr>\n",
       "      <th>4712</th>\n",
       "      <td>-118.36</td>\n",
       "      <td>34.06</td>\n",
       "      <td>39.0</td>\n",
       "      <td>2810.0</td>\n",
       "      <td>670.0</td>\n",
       "      <td>1109.0</td>\n",
       "      <td>624.0</td>\n",
       "      <td>3.2500</td>\n",
       "    </tr>\n",
       "    <tr>\n",
       "      <th>2151</th>\n",
       "      <td>-119.78</td>\n",
       "      <td>36.78</td>\n",
       "      <td>37.0</td>\n",
       "      <td>2185.0</td>\n",
       "      <td>455.0</td>\n",
       "      <td>1143.0</td>\n",
       "      <td>438.0</td>\n",
       "      <td>1.9784</td>\n",
       "    </tr>\n",
       "    <tr>\n",
       "      <th>15927</th>\n",
       "      <td>-122.42</td>\n",
       "      <td>37.73</td>\n",
       "      <td>46.0</td>\n",
       "      <td>1819.0</td>\n",
       "      <td>411.0</td>\n",
       "      <td>1534.0</td>\n",
       "      <td>406.0</td>\n",
       "      <td>4.0132</td>\n",
       "    </tr>\n",
       "    <tr>\n",
       "      <th>82</th>\n",
       "      <td>-122.28</td>\n",
       "      <td>37.81</td>\n",
       "      <td>52.0</td>\n",
       "      <td>340.0</td>\n",
       "      <td>97.0</td>\n",
       "      <td>200.0</td>\n",
       "      <td>87.0</td>\n",
       "      <td>1.5208</td>\n",
       "    </tr>\n",
       "    <tr>\n",
       "      <th>8161</th>\n",
       "      <td>-118.13</td>\n",
       "      <td>33.82</td>\n",
       "      <td>37.0</td>\n",
       "      <td>1530.0</td>\n",
       "      <td>290.0</td>\n",
       "      <td>711.0</td>\n",
       "      <td>283.0</td>\n",
       "      <td>5.1795</td>\n",
       "    </tr>\n",
       "  </tbody>\n",
       "</table>\n",
       "</div>"
      ],
      "text/plain": [
       "       longitude  latitude  housing_median_age  total_rooms  total_bedrooms  \\\n",
       "4712     -118.36     34.06                39.0       2810.0           670.0   \n",
       "2151     -119.78     36.78                37.0       2185.0           455.0   \n",
       "15927    -122.42     37.73                46.0       1819.0           411.0   \n",
       "82       -122.28     37.81                52.0        340.0            97.0   \n",
       "8161     -118.13     33.82                37.0       1530.0           290.0   \n",
       "\n",
       "       population  households  median_income  \n",
       "4712       1109.0       624.0         3.2500  \n",
       "2151       1143.0       438.0         1.9784  \n",
       "15927      1534.0       406.0         4.0132  \n",
       "82          200.0        87.0         1.5208  \n",
       "8161        711.0       283.0         5.1795  "
      ]
     },
     "execution_count": 18,
     "metadata": {},
     "output_type": "execute_result"
    }
   ],
   "source": [
    "x_test.head()"
   ]
  },
  {
   "cell_type": "code",
   "execution_count": 19,
   "id": "f8706017",
   "metadata": {
    "execution": {
     "iopub.execute_input": "2022-11-26T20:46:59.692731Z",
     "iopub.status.busy": "2022-11-26T20:46:59.692349Z",
     "iopub.status.idle": "2022-11-26T20:46:59.699609Z",
     "shell.execute_reply": "2022-11-26T20:46:59.698224Z"
    },
    "papermill": {
     "duration": 0.018428,
     "end_time": "2022-11-26T20:46:59.701600",
     "exception": false,
     "start_time": "2022-11-26T20:46:59.683172",
     "status": "completed"
    },
    "tags": []
   },
   "outputs": [
    {
     "data": {
      "text/plain": [
       "4712     355000.0\n",
       "2151      70700.0\n",
       "15927    229400.0\n",
       "82       112500.0\n",
       "8161     225400.0\n",
       "Name: median_house_value, dtype: float64"
      ]
     },
     "execution_count": 19,
     "metadata": {},
     "output_type": "execute_result"
    }
   ],
   "source": [
    "y_test.head()"
   ]
  },
  {
   "cell_type": "code",
   "execution_count": 20,
   "id": "ab0d48ac",
   "metadata": {
    "execution": {
     "iopub.execute_input": "2022-11-26T20:46:59.719778Z",
     "iopub.status.busy": "2022-11-26T20:46:59.719414Z",
     "iopub.status.idle": "2022-11-26T20:47:09.093909Z",
     "shell.execute_reply": "2022-11-26T20:47:09.092920Z"
    },
    "papermill": {
     "duration": 9.386479,
     "end_time": "2022-11-26T20:47:09.096372",
     "exception": false,
     "start_time": "2022-11-26T20:46:59.709893",
     "status": "completed"
    },
    "tags": []
   },
   "outputs": [
    {
     "data": {
      "text/plain": [
       "RandomForestRegressor()"
      ]
     },
     "execution_count": 20,
     "metadata": {},
     "output_type": "execute_result"
    }
   ],
   "source": [
    "model=RandomForestRegressor()\n",
    "model.fit(x_train,y_train)"
   ]
  },
  {
   "cell_type": "code",
   "execution_count": 21,
   "id": "e0667ff3",
   "metadata": {
    "execution": {
     "iopub.execute_input": "2022-11-26T20:47:09.115832Z",
     "iopub.status.busy": "2022-11-26T20:47:09.115468Z",
     "iopub.status.idle": "2022-11-26T20:47:09.249971Z",
     "shell.execute_reply": "2022-11-26T20:47:09.248986Z"
    },
    "papermill": {
     "duration": 0.147297,
     "end_time": "2022-11-26T20:47:09.252424",
     "exception": false,
     "start_time": "2022-11-26T20:47:09.105127",
     "status": "completed"
    },
    "tags": []
   },
   "outputs": [],
   "source": [
    "predict=model.predict(x_test)"
   ]
  },
  {
   "cell_type": "markdown",
   "id": "a806486f",
   "metadata": {
    "papermill": {
     "duration": 0.008095,
     "end_time": "2022-11-26T20:47:09.269205",
     "exception": false,
     "start_time": "2022-11-26T20:47:09.261110",
     "status": "completed"
    },
    "tags": []
   },
   "source": [
    "**reviewing efficiency of the regressor model**"
   ]
  },
  {
   "cell_type": "code",
   "execution_count": 22,
   "id": "81e9eca9",
   "metadata": {
    "execution": {
     "iopub.execute_input": "2022-11-26T20:47:09.287203Z",
     "iopub.status.busy": "2022-11-26T20:47:09.286867Z",
     "iopub.status.idle": "2022-11-26T20:47:09.292712Z",
     "shell.execute_reply": "2022-11-26T20:47:09.291394Z"
    },
    "papermill": {
     "duration": 0.01709,
     "end_time": "2022-11-26T20:47:09.294618",
     "exception": false,
     "start_time": "2022-11-26T20:47:09.277528",
     "status": "completed"
    },
    "tags": []
   },
   "outputs": [
    {
     "name": "stdout",
     "output_type": "stream",
     "text": [
      "31713.411308139534\n"
     ]
    }
   ],
   "source": [
    "print(mean_absolute_error(y_test,predict))"
   ]
  },
  {
   "cell_type": "code",
   "execution_count": 23,
   "id": "812d3c85",
   "metadata": {
    "execution": {
     "iopub.execute_input": "2022-11-26T20:47:09.312799Z",
     "iopub.status.busy": "2022-11-26T20:47:09.312450Z",
     "iopub.status.idle": "2022-11-26T20:47:09.317824Z",
     "shell.execute_reply": "2022-11-26T20:47:09.316805Z"
    },
    "papermill": {
     "duration": 0.016661,
     "end_time": "2022-11-26T20:47:09.319715",
     "exception": false,
     "start_time": "2022-11-26T20:47:09.303054",
     "status": "completed"
    },
    "tags": []
   },
   "outputs": [],
   "source": [
    "output=pd.DataFrame({'Original values':y_test,'predicted values':predict})"
   ]
  },
  {
   "cell_type": "markdown",
   "id": "33820791",
   "metadata": {
    "papermill": {
     "duration": 0.008037,
     "end_time": "2022-11-26T20:47:09.336467",
     "exception": false,
     "start_time": "2022-11-26T20:47:09.328430",
     "status": "completed"
    },
    "tags": []
   },
   "source": [
    "printing the original vs results"
   ]
  },
  {
   "cell_type": "code",
   "execution_count": 24,
   "id": "c7297f1b",
   "metadata": {
    "execution": {
     "iopub.execute_input": "2022-11-26T20:47:09.355452Z",
     "iopub.status.busy": "2022-11-26T20:47:09.354208Z",
     "iopub.status.idle": "2022-11-26T20:47:09.364320Z",
     "shell.execute_reply": "2022-11-26T20:47:09.363536Z"
    },
    "papermill": {
     "duration": 0.021326,
     "end_time": "2022-11-26T20:47:09.366044",
     "exception": false,
     "start_time": "2022-11-26T20:47:09.344718",
     "status": "completed"
    },
    "tags": []
   },
   "outputs": [
    {
     "data": {
      "text/html": [
       "<div>\n",
       "<style scoped>\n",
       "    .dataframe tbody tr th:only-of-type {\n",
       "        vertical-align: middle;\n",
       "    }\n",
       "\n",
       "    .dataframe tbody tr th {\n",
       "        vertical-align: top;\n",
       "    }\n",
       "\n",
       "    .dataframe thead th {\n",
       "        text-align: right;\n",
       "    }\n",
       "</style>\n",
       "<table border=\"1\" class=\"dataframe\">\n",
       "  <thead>\n",
       "    <tr style=\"text-align: right;\">\n",
       "      <th></th>\n",
       "      <th>Original values</th>\n",
       "      <th>predicted values</th>\n",
       "    </tr>\n",
       "  </thead>\n",
       "  <tbody>\n",
       "    <tr>\n",
       "      <th>4712</th>\n",
       "      <td>355000.0</td>\n",
       "      <td>340105.11</td>\n",
       "    </tr>\n",
       "    <tr>\n",
       "      <th>2151</th>\n",
       "      <td>70700.0</td>\n",
       "      <td>64949.00</td>\n",
       "    </tr>\n",
       "    <tr>\n",
       "      <th>15927</th>\n",
       "      <td>229400.0</td>\n",
       "      <td>245496.01</td>\n",
       "    </tr>\n",
       "    <tr>\n",
       "      <th>82</th>\n",
       "      <td>112500.0</td>\n",
       "      <td>125845.03</td>\n",
       "    </tr>\n",
       "    <tr>\n",
       "      <th>8161</th>\n",
       "      <td>225400.0</td>\n",
       "      <td>252664.02</td>\n",
       "    </tr>\n",
       "  </tbody>\n",
       "</table>\n",
       "</div>"
      ],
      "text/plain": [
       "       Original values  predicted values\n",
       "4712          355000.0         340105.11\n",
       "2151           70700.0          64949.00\n",
       "15927         229400.0         245496.01\n",
       "82            112500.0         125845.03\n",
       "8161          225400.0         252664.02"
      ]
     },
     "execution_count": 24,
     "metadata": {},
     "output_type": "execute_result"
    }
   ],
   "source": [
    "output.head()"
   ]
  },
  {
   "cell_type": "code",
   "execution_count": 25,
   "id": "aeb96c73",
   "metadata": {
    "execution": {
     "iopub.execute_input": "2022-11-26T20:47:09.384768Z",
     "iopub.status.busy": "2022-11-26T20:47:09.384206Z",
     "iopub.status.idle": "2022-11-26T20:47:09.401121Z",
     "shell.execute_reply": "2022-11-26T20:47:09.400246Z"
    },
    "papermill": {
     "duration": 0.028177,
     "end_time": "2022-11-26T20:47:09.402908",
     "exception": false,
     "start_time": "2022-11-26T20:47:09.374731",
     "status": "completed"
    },
    "tags": []
   },
   "outputs": [
    {
     "data": {
      "text/html": [
       "<div>\n",
       "<style scoped>\n",
       "    .dataframe tbody tr th:only-of-type {\n",
       "        vertical-align: middle;\n",
       "    }\n",
       "\n",
       "    .dataframe tbody tr th {\n",
       "        vertical-align: top;\n",
       "    }\n",
       "\n",
       "    .dataframe thead th {\n",
       "        text-align: right;\n",
       "    }\n",
       "</style>\n",
       "<table border=\"1\" class=\"dataframe\">\n",
       "  <thead>\n",
       "    <tr style=\"text-align: right;\">\n",
       "      <th></th>\n",
       "      <th>Original values</th>\n",
       "      <th>predicted values</th>\n",
       "    </tr>\n",
       "  </thead>\n",
       "  <tbody>\n",
       "    <tr>\n",
       "      <th>2151</th>\n",
       "      <td>70700.0</td>\n",
       "      <td>64949.00</td>\n",
       "    </tr>\n",
       "    <tr>\n",
       "      <th>15927</th>\n",
       "      <td>229400.0</td>\n",
       "      <td>245496.01</td>\n",
       "    </tr>\n",
       "    <tr>\n",
       "      <th>82</th>\n",
       "      <td>112500.0</td>\n",
       "      <td>125845.03</td>\n",
       "    </tr>\n",
       "    <tr>\n",
       "      <th>8161</th>\n",
       "      <td>225400.0</td>\n",
       "      <td>252664.02</td>\n",
       "    </tr>\n",
       "    <tr>\n",
       "      <th>6636</th>\n",
       "      <td>263000.0</td>\n",
       "      <td>336709.16</td>\n",
       "    </tr>\n",
       "    <tr>\n",
       "      <th>17333</th>\n",
       "      <td>226800.0</td>\n",
       "      <td>234717.00</td>\n",
       "    </tr>\n",
       "    <tr>\n",
       "      <th>19081</th>\n",
       "      <td>166200.0</td>\n",
       "      <td>179901.00</td>\n",
       "    </tr>\n",
       "    <tr>\n",
       "      <th>13298</th>\n",
       "      <td>118000.0</td>\n",
       "      <td>142015.00</td>\n",
       "    </tr>\n",
       "    <tr>\n",
       "      <th>7157</th>\n",
       "      <td>156300.0</td>\n",
       "      <td>149015.00</td>\n",
       "    </tr>\n",
       "    <tr>\n",
       "      <th>15734</th>\n",
       "      <td>293800.0</td>\n",
       "      <td>345319.08</td>\n",
       "    </tr>\n",
       "    <tr>\n",
       "      <th>12388</th>\n",
       "      <td>97500.0</td>\n",
       "      <td>140905.00</td>\n",
       "    </tr>\n",
       "    <tr>\n",
       "      <th>13589</th>\n",
       "      <td>63500.0</td>\n",
       "      <td>71960.00</td>\n",
       "    </tr>\n",
       "    <tr>\n",
       "      <th>3403</th>\n",
       "      <td>314900.0</td>\n",
       "      <td>312074.07</td>\n",
       "    </tr>\n",
       "    <tr>\n",
       "      <th>11888</th>\n",
       "      <td>92400.0</td>\n",
       "      <td>112263.00</td>\n",
       "    </tr>\n",
       "    <tr>\n",
       "      <th>7385</th>\n",
       "      <td>117200.0</td>\n",
       "      <td>113324.00</td>\n",
       "    </tr>\n",
       "    <tr>\n",
       "      <th>18378</th>\n",
       "      <td>485000.0</td>\n",
       "      <td>381846.06</td>\n",
       "    </tr>\n",
       "    <tr>\n",
       "      <th>6104</th>\n",
       "      <td>141900.0</td>\n",
       "      <td>152997.00</td>\n",
       "    </tr>\n",
       "    <tr>\n",
       "      <th>6881</th>\n",
       "      <td>188500.0</td>\n",
       "      <td>185295.00</td>\n",
       "    </tr>\n",
       "    <tr>\n",
       "      <th>16035</th>\n",
       "      <td>228600.0</td>\n",
       "      <td>256209.00</td>\n",
       "    </tr>\n",
       "    <tr>\n",
       "      <th>18836</th>\n",
       "      <td>71200.0</td>\n",
       "      <td>61592.00</td>\n",
       "    </tr>\n",
       "    <tr>\n",
       "      <th>9694</th>\n",
       "      <td>108500.0</td>\n",
       "      <td>114582.00</td>\n",
       "    </tr>\n",
       "    <tr>\n",
       "      <th>16297</th>\n",
       "      <td>56400.0</td>\n",
       "      <td>74618.00</td>\n",
       "    </tr>\n",
       "    <tr>\n",
       "      <th>15020</th>\n",
       "      <td>174400.0</td>\n",
       "      <td>179573.00</td>\n",
       "    </tr>\n",
       "    <tr>\n",
       "      <th>14928</th>\n",
       "      <td>245200.0</td>\n",
       "      <td>272764.01</td>\n",
       "    </tr>\n",
       "    <tr>\n",
       "      <th>9474</th>\n",
       "      <td>92600.0</td>\n",
       "      <td>104460.00</td>\n",
       "    </tr>\n",
       "    <tr>\n",
       "      <th>19710</th>\n",
       "      <td>102400.0</td>\n",
       "      <td>111334.00</td>\n",
       "    </tr>\n",
       "    <tr>\n",
       "      <th>391</th>\n",
       "      <td>256100.0</td>\n",
       "      <td>230092.01</td>\n",
       "    </tr>\n",
       "    <tr>\n",
       "      <th>516</th>\n",
       "      <td>471600.0</td>\n",
       "      <td>440908.38</td>\n",
       "    </tr>\n",
       "    <tr>\n",
       "      <th>12380</th>\n",
       "      <td>122500.0</td>\n",
       "      <td>186715.03</td>\n",
       "    </tr>\n",
       "    <tr>\n",
       "      <th>2372</th>\n",
       "      <td>63900.0</td>\n",
       "      <td>69430.00</td>\n",
       "    </tr>\n",
       "    <tr>\n",
       "      <th>18760</th>\n",
       "      <td>128300.0</td>\n",
       "      <td>114756.00</td>\n",
       "    </tr>\n",
       "    <tr>\n",
       "      <th>17356</th>\n",
       "      <td>195700.0</td>\n",
       "      <td>182783.00</td>\n",
       "    </tr>\n",
       "    <tr>\n",
       "      <th>19944</th>\n",
       "      <td>64800.0</td>\n",
       "      <td>76572.00</td>\n",
       "    </tr>\n",
       "    <tr>\n",
       "      <th>20506</th>\n",
       "      <td>276500.0</td>\n",
       "      <td>340295.05</td>\n",
       "    </tr>\n",
       "    <tr>\n",
       "      <th>1925</th>\n",
       "      <td>87500.0</td>\n",
       "      <td>190429.00</td>\n",
       "    </tr>\n",
       "    <tr>\n",
       "      <th>2465</th>\n",
       "      <td>83600.0</td>\n",
       "      <td>73121.00</td>\n",
       "    </tr>\n",
       "    <tr>\n",
       "      <th>7080</th>\n",
       "      <td>203700.0</td>\n",
       "      <td>231791.00</td>\n",
       "    </tr>\n",
       "    <tr>\n",
       "      <th>11565</th>\n",
       "      <td>210600.0</td>\n",
       "      <td>230608.00</td>\n",
       "    </tr>\n",
       "    <tr>\n",
       "      <th>12431</th>\n",
       "      <td>58600.0</td>\n",
       "      <td>71046.00</td>\n",
       "    </tr>\n",
       "    <tr>\n",
       "      <th>2377</th>\n",
       "      <td>58900.0</td>\n",
       "      <td>63762.00</td>\n",
       "    </tr>\n",
       "    <tr>\n",
       "      <th>14909</th>\n",
       "      <td>156000.0</td>\n",
       "      <td>185248.00</td>\n",
       "    </tr>\n",
       "    <tr>\n",
       "      <th>442</th>\n",
       "      <td>245500.0</td>\n",
       "      <td>233557.00</td>\n",
       "    </tr>\n",
       "    <tr>\n",
       "      <th>17276</th>\n",
       "      <td>500000.0</td>\n",
       "      <td>277259.02</td>\n",
       "    </tr>\n",
       "    <tr>\n",
       "      <th>9557</th>\n",
       "      <td>69100.0</td>\n",
       "      <td>92450.00</td>\n",
       "    </tr>\n",
       "    <tr>\n",
       "      <th>10961</th>\n",
       "      <td>170100.0</td>\n",
       "      <td>167268.00</td>\n",
       "    </tr>\n",
       "    <tr>\n",
       "      <th>11605</th>\n",
       "      <td>193800.0</td>\n",
       "      <td>315386.02</td>\n",
       "    </tr>\n",
       "    <tr>\n",
       "      <th>9160</th>\n",
       "      <td>199600.0</td>\n",
       "      <td>261045.00</td>\n",
       "    </tr>\n",
       "    <tr>\n",
       "      <th>6086</th>\n",
       "      <td>206900.0</td>\n",
       "      <td>181128.00</td>\n",
       "    </tr>\n",
       "    <tr>\n",
       "      <th>2874</th>\n",
       "      <td>54300.0</td>\n",
       "      <td>53851.00</td>\n",
       "    </tr>\n",
       "  </tbody>\n",
       "</table>\n",
       "</div>"
      ],
      "text/plain": [
       "       Original values  predicted values\n",
       "2151           70700.0          64949.00\n",
       "15927         229400.0         245496.01\n",
       "82            112500.0         125845.03\n",
       "8161          225400.0         252664.02\n",
       "6636          263000.0         336709.16\n",
       "17333         226800.0         234717.00\n",
       "19081         166200.0         179901.00\n",
       "13298         118000.0         142015.00\n",
       "7157          156300.0         149015.00\n",
       "15734         293800.0         345319.08\n",
       "12388          97500.0         140905.00\n",
       "13589          63500.0          71960.00\n",
       "3403          314900.0         312074.07\n",
       "11888          92400.0         112263.00\n",
       "7385          117200.0         113324.00\n",
       "18378         485000.0         381846.06\n",
       "6104          141900.0         152997.00\n",
       "6881          188500.0         185295.00\n",
       "16035         228600.0         256209.00\n",
       "18836          71200.0          61592.00\n",
       "9694          108500.0         114582.00\n",
       "16297          56400.0          74618.00\n",
       "15020         174400.0         179573.00\n",
       "14928         245200.0         272764.01\n",
       "9474           92600.0         104460.00\n",
       "19710         102400.0         111334.00\n",
       "391           256100.0         230092.01\n",
       "516           471600.0         440908.38\n",
       "12380         122500.0         186715.03\n",
       "2372           63900.0          69430.00\n",
       "18760         128300.0         114756.00\n",
       "17356         195700.0         182783.00\n",
       "19944          64800.0          76572.00\n",
       "20506         276500.0         340295.05\n",
       "1925           87500.0         190429.00\n",
       "2465           83600.0          73121.00\n",
       "7080          203700.0         231791.00\n",
       "11565         210600.0         230608.00\n",
       "12431          58600.0          71046.00\n",
       "2377           58900.0          63762.00\n",
       "14909         156000.0         185248.00\n",
       "442           245500.0         233557.00\n",
       "17276         500000.0         277259.02\n",
       "9557           69100.0          92450.00\n",
       "10961         170100.0         167268.00\n",
       "11605         193800.0         315386.02\n",
       "9160          199600.0         261045.00\n",
       "6086          206900.0         181128.00\n",
       "2874           54300.0          53851.00"
      ]
     },
     "execution_count": 25,
     "metadata": {},
     "output_type": "execute_result"
    }
   ],
   "source": [
    "output.iloc[1:50]"
   ]
  },
  {
   "cell_type": "markdown",
   "id": "c5a94712",
   "metadata": {
    "papermill": {
     "duration": 0.008503,
     "end_time": "2022-11-26T20:47:09.420570",
     "exception": false,
     "start_time": "2022-11-26T20:47:09.412067",
     "status": "completed"
    },
    "tags": []
   },
   "source": [
    "**Decent first try, will look to develop this further**"
   ]
  },
  {
   "cell_type": "code",
   "execution_count": null,
   "id": "9ad873a4",
   "metadata": {
    "papermill": {
     "duration": 0.008389,
     "end_time": "2022-11-26T20:47:09.437584",
     "exception": false,
     "start_time": "2022-11-26T20:47:09.429195",
     "status": "completed"
    },
    "tags": []
   },
   "outputs": [],
   "source": []
  }
 ],
 "metadata": {
  "kernelspec": {
   "display_name": "Python 3",
   "language": "python",
   "name": "python3"
  },
  "language_info": {
   "codemirror_mode": {
    "name": "ipython",
    "version": 3
   },
   "file_extension": ".py",
   "mimetype": "text/x-python",
   "name": "python",
   "nbconvert_exporter": "python",
   "pygments_lexer": "ipython3",
   "version": "3.7.12"
  },
  "papermill": {
   "default_parameters": {},
   "duration": 19.222237,
   "end_time": "2022-11-26T20:47:10.166492",
   "environment_variables": {},
   "exception": null,
   "input_path": "__notebook__.ipynb",
   "output_path": "__notebook__.ipynb",
   "parameters": {},
   "start_time": "2022-11-26T20:46:50.944255",
   "version": "2.3.4"
  }
 },
 "nbformat": 4,
 "nbformat_minor": 5
}
