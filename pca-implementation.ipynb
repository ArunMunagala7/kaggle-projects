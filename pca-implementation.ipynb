{
 "cells": [
  {
   "cell_type": "code",
   "execution_count": 1,
   "id": "49449e83",
   "metadata": {
    "_cell_guid": "b1076dfc-b9ad-4769-8c92-a6c4dae69d19",
    "_uuid": "8f2839f25d086af736a60e9eeb907d3b93b6e0e5",
    "execution": {
     "iopub.execute_input": "2023-01-04T13:16:47.323927Z",
     "iopub.status.busy": "2023-01-04T13:16:47.322611Z",
     "iopub.status.idle": "2023-01-04T13:16:47.337838Z",
     "shell.execute_reply": "2023-01-04T13:16:47.336524Z"
    },
    "papermill": {
     "duration": 0.029657,
     "end_time": "2023-01-04T13:16:47.340752",
     "exception": false,
     "start_time": "2023-01-04T13:16:47.311095",
     "status": "completed"
    },
    "tags": []
   },
   "outputs": [],
   "source": [
    "# This Python 3 environment comes with many helpful analytics libraries installed\n",
    "# It is defined by the kaggle/python Docker image: https://github.com/kaggle/docker-python\n",
    "# For example, here's several helpful packages to load\n",
    "\n",
    "import numpy as np # linear algebra\n",
    "import pandas as pd # data processing, CSV file I/O (e.g. pd.read_csv)\n",
    "\n",
    "# Input data files are available in the read-only \"../input/\" directory\n",
    "# For example, running this (by clicking run or pressing Shift+Enter) will list all files under the input directory\n",
    "\n",
    "import os\n",
    "for dirname, _, filenames in os.walk('/kaggle/input'):\n",
    "    for filename in filenames:\n",
    "        print(os.path.join(dirname, filename))\n",
    "\n",
    "# You can write up to 20GB to the current directory (/kaggle/working/) that gets preserved as output when you create a version using \"Save & Run All\" \n",
    "# You can also write temporary files to /kaggle/temp/, but they won't be saved outside of the current session"
   ]
  },
  {
   "cell_type": "code",
   "execution_count": 2,
   "id": "1da1b942",
   "metadata": {
    "execution": {
     "iopub.execute_input": "2023-01-04T13:16:47.358682Z",
     "iopub.status.busy": "2023-01-04T13:16:47.358232Z",
     "iopub.status.idle": "2023-01-04T13:16:48.124490Z",
     "shell.execute_reply": "2023-01-04T13:16:48.123443Z"
    },
    "papermill": {
     "duration": 0.779438,
     "end_time": "2023-01-04T13:16:48.128377",
     "exception": false,
     "start_time": "2023-01-04T13:16:47.348939",
     "status": "completed"
    },
    "tags": []
   },
   "outputs": [
    {
     "data": {
      "text/html": [
       "<div>\n",
       "<style scoped>\n",
       "    .dataframe tbody tr th:only-of-type {\n",
       "        vertical-align: middle;\n",
       "    }\n",
       "\n",
       "    .dataframe tbody tr th {\n",
       "        vertical-align: top;\n",
       "    }\n",
       "\n",
       "    .dataframe thead th {\n",
       "        text-align: right;\n",
       "    }\n",
       "</style>\n",
       "<table border=\"1\" class=\"dataframe\">\n",
       "  <thead>\n",
       "    <tr style=\"text-align: right;\">\n",
       "      <th></th>\n",
       "      <th>ID</th>\n",
       "      <th>LIMIT_BAL</th>\n",
       "      <th>SEX</th>\n",
       "      <th>EDUCATION</th>\n",
       "      <th>MARRIAGE</th>\n",
       "      <th>AGE</th>\n",
       "      <th>PAY_0</th>\n",
       "      <th>PAY_2</th>\n",
       "      <th>PAY_3</th>\n",
       "      <th>PAY_4</th>\n",
       "      <th>...</th>\n",
       "      <th>BILL_AMT4</th>\n",
       "      <th>BILL_AMT5</th>\n",
       "      <th>BILL_AMT6</th>\n",
       "      <th>PAY_AMT1</th>\n",
       "      <th>PAY_AMT2</th>\n",
       "      <th>PAY_AMT3</th>\n",
       "      <th>PAY_AMT4</th>\n",
       "      <th>PAY_AMT5</th>\n",
       "      <th>PAY_AMT6</th>\n",
       "      <th>default.payment.next.month</th>\n",
       "    </tr>\n",
       "  </thead>\n",
       "  <tbody>\n",
       "    <tr>\n",
       "      <th>0</th>\n",
       "      <td>1</td>\n",
       "      <td>20000.0</td>\n",
       "      <td>2</td>\n",
       "      <td>2</td>\n",
       "      <td>1</td>\n",
       "      <td>24</td>\n",
       "      <td>2</td>\n",
       "      <td>2</td>\n",
       "      <td>-1</td>\n",
       "      <td>-1</td>\n",
       "      <td>...</td>\n",
       "      <td>0.0</td>\n",
       "      <td>0.0</td>\n",
       "      <td>0.0</td>\n",
       "      <td>0.0</td>\n",
       "      <td>689.0</td>\n",
       "      <td>0.0</td>\n",
       "      <td>0.0</td>\n",
       "      <td>0.0</td>\n",
       "      <td>0.0</td>\n",
       "      <td>1</td>\n",
       "    </tr>\n",
       "    <tr>\n",
       "      <th>1</th>\n",
       "      <td>2</td>\n",
       "      <td>120000.0</td>\n",
       "      <td>2</td>\n",
       "      <td>2</td>\n",
       "      <td>2</td>\n",
       "      <td>26</td>\n",
       "      <td>-1</td>\n",
       "      <td>2</td>\n",
       "      <td>0</td>\n",
       "      <td>0</td>\n",
       "      <td>...</td>\n",
       "      <td>3272.0</td>\n",
       "      <td>3455.0</td>\n",
       "      <td>3261.0</td>\n",
       "      <td>0.0</td>\n",
       "      <td>1000.0</td>\n",
       "      <td>1000.0</td>\n",
       "      <td>1000.0</td>\n",
       "      <td>0.0</td>\n",
       "      <td>2000.0</td>\n",
       "      <td>1</td>\n",
       "    </tr>\n",
       "    <tr>\n",
       "      <th>2</th>\n",
       "      <td>3</td>\n",
       "      <td>90000.0</td>\n",
       "      <td>2</td>\n",
       "      <td>2</td>\n",
       "      <td>2</td>\n",
       "      <td>34</td>\n",
       "      <td>0</td>\n",
       "      <td>0</td>\n",
       "      <td>0</td>\n",
       "      <td>0</td>\n",
       "      <td>...</td>\n",
       "      <td>14331.0</td>\n",
       "      <td>14948.0</td>\n",
       "      <td>15549.0</td>\n",
       "      <td>1518.0</td>\n",
       "      <td>1500.0</td>\n",
       "      <td>1000.0</td>\n",
       "      <td>1000.0</td>\n",
       "      <td>1000.0</td>\n",
       "      <td>5000.0</td>\n",
       "      <td>0</td>\n",
       "    </tr>\n",
       "    <tr>\n",
       "      <th>3</th>\n",
       "      <td>4</td>\n",
       "      <td>50000.0</td>\n",
       "      <td>2</td>\n",
       "      <td>2</td>\n",
       "      <td>1</td>\n",
       "      <td>37</td>\n",
       "      <td>0</td>\n",
       "      <td>0</td>\n",
       "      <td>0</td>\n",
       "      <td>0</td>\n",
       "      <td>...</td>\n",
       "      <td>28314.0</td>\n",
       "      <td>28959.0</td>\n",
       "      <td>29547.0</td>\n",
       "      <td>2000.0</td>\n",
       "      <td>2019.0</td>\n",
       "      <td>1200.0</td>\n",
       "      <td>1100.0</td>\n",
       "      <td>1069.0</td>\n",
       "      <td>1000.0</td>\n",
       "      <td>0</td>\n",
       "    </tr>\n",
       "    <tr>\n",
       "      <th>4</th>\n",
       "      <td>5</td>\n",
       "      <td>50000.0</td>\n",
       "      <td>1</td>\n",
       "      <td>2</td>\n",
       "      <td>1</td>\n",
       "      <td>57</td>\n",
       "      <td>-1</td>\n",
       "      <td>0</td>\n",
       "      <td>-1</td>\n",
       "      <td>0</td>\n",
       "      <td>...</td>\n",
       "      <td>20940.0</td>\n",
       "      <td>19146.0</td>\n",
       "      <td>19131.0</td>\n",
       "      <td>2000.0</td>\n",
       "      <td>36681.0</td>\n",
       "      <td>10000.0</td>\n",
       "      <td>9000.0</td>\n",
       "      <td>689.0</td>\n",
       "      <td>679.0</td>\n",
       "      <td>0</td>\n",
       "    </tr>\n",
       "  </tbody>\n",
       "</table>\n",
       "<p>5 rows × 25 columns</p>\n",
       "</div>"
      ],
      "text/plain": [
       "   ID  LIMIT_BAL  SEX  EDUCATION  MARRIAGE  AGE  PAY_0  PAY_2  PAY_3  PAY_4  \\\n",
       "0   1    20000.0    2          2         1   24      2      2     -1     -1   \n",
       "1   2   120000.0    2          2         2   26     -1      2      0      0   \n",
       "2   3    90000.0    2          2         2   34      0      0      0      0   \n",
       "3   4    50000.0    2          2         1   37      0      0      0      0   \n",
       "4   5    50000.0    1          2         1   57     -1      0     -1      0   \n",
       "\n",
       "   ...  BILL_AMT4  BILL_AMT5  BILL_AMT6  PAY_AMT1  PAY_AMT2  PAY_AMT3  \\\n",
       "0  ...        0.0        0.0        0.0       0.0     689.0       0.0   \n",
       "1  ...     3272.0     3455.0     3261.0       0.0    1000.0    1000.0   \n",
       "2  ...    14331.0    14948.0    15549.0    1518.0    1500.0    1000.0   \n",
       "3  ...    28314.0    28959.0    29547.0    2000.0    2019.0    1200.0   \n",
       "4  ...    20940.0    19146.0    19131.0    2000.0   36681.0   10000.0   \n",
       "\n",
       "   PAY_AMT4  PAY_AMT5  PAY_AMT6  default.payment.next.month  \n",
       "0       0.0       0.0       0.0                           1  \n",
       "1    1000.0       0.0    2000.0                           1  \n",
       "2    1000.0    1000.0    5000.0                           0  \n",
       "3    1100.0    1069.0    1000.0                           0  \n",
       "4    9000.0     689.0     679.0                           0  \n",
       "\n",
       "[5 rows x 25 columns]"
      ]
     },
     "execution_count": 2,
     "metadata": {},
     "output_type": "execute_result"
    }
   ],
   "source": [
    "# Load data\n",
    "data = pd.read_csv('https://raw.githubusercontent.com/analyticsindiamagazine/MocksDatasets/main/Credit_Card.csv')\n",
    "# Top 5 rows\n",
    "data.head()"
   ]
  },
  {
   "cell_type": "code",
   "execution_count": 3,
   "id": "95c8a7f4",
   "metadata": {
    "execution": {
     "iopub.execute_input": "2023-01-04T13:16:48.147410Z",
     "iopub.status.busy": "2023-01-04T13:16:48.146364Z",
     "iopub.status.idle": "2023-01-04T13:16:48.153348Z",
     "shell.execute_reply": "2023-01-04T13:16:48.152508Z"
    },
    "papermill": {
     "duration": 0.019123,
     "end_time": "2023-01-04T13:16:48.155918",
     "exception": false,
     "start_time": "2023-01-04T13:16:48.136795",
     "status": "completed"
    },
    "tags": []
   },
   "outputs": [
    {
     "data": {
      "text/plain": [
       "(30000, 25)"
      ]
     },
     "execution_count": 3,
     "metadata": {},
     "output_type": "execute_result"
    }
   ],
   "source": [
    "data.shape"
   ]
  },
  {
   "cell_type": "code",
   "execution_count": 4,
   "id": "fdd1b663",
   "metadata": {
    "execution": {
     "iopub.execute_input": "2023-01-04T13:16:48.174368Z",
     "iopub.status.busy": "2023-01-04T13:16:48.173932Z",
     "iopub.status.idle": "2023-01-04T13:16:48.180655Z",
     "shell.execute_reply": "2023-01-04T13:16:48.179848Z"
    },
    "papermill": {
     "duration": 0.018867,
     "end_time": "2023-01-04T13:16:48.183061",
     "exception": false,
     "start_time": "2023-01-04T13:16:48.164194",
     "status": "completed"
    },
    "tags": []
   },
   "outputs": [
    {
     "data": {
      "text/plain": [
       "Index(['ID', 'LIMIT_BAL', 'SEX', 'EDUCATION', 'MARRIAGE', 'AGE', 'PAY_0',\n",
       "       'PAY_2', 'PAY_3', 'PAY_4', 'PAY_5', 'PAY_6', 'BILL_AMT1', 'BILL_AMT2',\n",
       "       'BILL_AMT3', 'BILL_AMT4', 'BILL_AMT5', 'BILL_AMT6', 'PAY_AMT1',\n",
       "       'PAY_AMT2', 'PAY_AMT3', 'PAY_AMT4', 'PAY_AMT5', 'PAY_AMT6',\n",
       "       'default.payment.next.month'],\n",
       "      dtype='object')"
      ]
     },
     "execution_count": 4,
     "metadata": {},
     "output_type": "execute_result"
    }
   ],
   "source": [
    "data.columns"
   ]
  },
  {
   "cell_type": "code",
   "execution_count": 5,
   "id": "e192991f",
   "metadata": {
    "execution": {
     "iopub.execute_input": "2023-01-04T13:16:48.201995Z",
     "iopub.status.busy": "2023-01-04T13:16:48.200983Z",
     "iopub.status.idle": "2023-01-04T13:16:48.216692Z",
     "shell.execute_reply": "2023-01-04T13:16:48.215830Z"
    },
    "papermill": {
     "duration": 0.027587,
     "end_time": "2023-01-04T13:16:48.218997",
     "exception": false,
     "start_time": "2023-01-04T13:16:48.191410",
     "status": "completed"
    },
    "tags": []
   },
   "outputs": [
    {
     "data": {
      "text/plain": [
       "0    77.88\n",
       "1    22.12\n",
       "Name: default.payment.next.month, dtype: float64"
      ]
     },
     "execution_count": 5,
     "metadata": {},
     "output_type": "execute_result"
    }
   ],
   "source": [
    "# Check the percentage distribution of each class \n",
    "data['default.payment.next.month'].value_counts(normalize=True)*100"
   ]
  },
  {
   "cell_type": "code",
   "execution_count": 6,
   "id": "169ad4d0",
   "metadata": {
    "execution": {
     "iopub.execute_input": "2023-01-04T13:16:48.246418Z",
     "iopub.status.busy": "2023-01-04T13:16:48.245130Z",
     "iopub.status.idle": "2023-01-04T13:16:48.257847Z",
     "shell.execute_reply": "2023-01-04T13:16:48.256882Z"
    },
    "papermill": {
     "duration": 0.027858,
     "end_time": "2023-01-04T13:16:48.260319",
     "exception": false,
     "start_time": "2023-01-04T13:16:48.232461",
     "status": "completed"
    },
    "tags": []
   },
   "outputs": [
    {
     "data": {
      "text/plain": [
       "0"
      ]
     },
     "execution_count": 6,
     "metadata": {},
     "output_type": "execute_result"
    }
   ],
   "source": [
    "data.isna().sum().sum()"
   ]
  },
  {
   "cell_type": "code",
   "execution_count": 7,
   "id": "39f156cc",
   "metadata": {
    "execution": {
     "iopub.execute_input": "2023-01-04T13:16:48.283731Z",
     "iopub.status.busy": "2023-01-04T13:16:48.283219Z",
     "iopub.status.idle": "2023-01-04T13:16:48.297039Z",
     "shell.execute_reply": "2023-01-04T13:16:48.295496Z"
    },
    "papermill": {
     "duration": 0.030647,
     "end_time": "2023-01-04T13:16:48.300476",
     "exception": false,
     "start_time": "2023-01-04T13:16:48.269829",
     "status": "completed"
    },
    "tags": []
   },
   "outputs": [],
   "source": [
    "# Defining the features\n",
    "X = data.iloc[:,1:-1].values # input features\n",
    "y = data.iloc[:,-1].values # output feature"
   ]
  },
  {
   "cell_type": "markdown",
   "id": "ae6059b5",
   "metadata": {
    "papermill": {
     "duration": 0.008787,
     "end_time": "2023-01-04T13:16:48.319932",
     "exception": false,
     "start_time": "2023-01-04T13:16:48.311145",
     "status": "completed"
    },
    "tags": []
   },
   "source": [
    "we will use MinMaxScaling before PCA implementation"
   ]
  },
  {
   "cell_type": "code",
   "execution_count": 8,
   "id": "e5b3a556",
   "metadata": {
    "execution": {
     "iopub.execute_input": "2023-01-04T13:16:48.342236Z",
     "iopub.status.busy": "2023-01-04T13:16:48.341261Z",
     "iopub.status.idle": "2023-01-04T13:16:49.504255Z",
     "shell.execute_reply": "2023-01-04T13:16:49.502635Z"
    },
    "papermill": {
     "duration": 1.177761,
     "end_time": "2023-01-04T13:16:49.507860",
     "exception": false,
     "start_time": "2023-01-04T13:16:48.330099",
     "status": "completed"
    },
    "tags": []
   },
   "outputs": [],
   "source": [
    "# Scaling the data\n",
    "from sklearn.preprocessing import MinMaxScaler\n",
    "X = MinMaxScaler().fit_transform(X)"
   ]
  },
  {
   "cell_type": "code",
   "execution_count": 9,
   "id": "c7e21ac3",
   "metadata": {
    "execution": {
     "iopub.execute_input": "2023-01-04T13:16:49.527061Z",
     "iopub.status.busy": "2023-01-04T13:16:49.526596Z",
     "iopub.status.idle": "2023-01-04T13:16:49.534558Z",
     "shell.execute_reply": "2023-01-04T13:16:49.532901Z"
    },
    "papermill": {
     "duration": 0.020193,
     "end_time": "2023-01-04T13:16:49.536818",
     "exception": false,
     "start_time": "2023-01-04T13:16:49.516625",
     "status": "completed"
    },
    "tags": []
   },
   "outputs": [
    {
     "name": "stdout",
     "output_type": "stream",
     "text": [
      "[[0.01010101 1.         0.33333333 ... 0.         0.         0.        ]\n",
      " [0.11111111 1.         0.33333333 ... 0.00161031 0.         0.00378311]\n",
      " [0.08080808 1.         0.33333333 ... 0.00161031 0.00234451 0.00945777]\n",
      " ...\n",
      " [0.02020202 0.         0.33333333 ... 0.00676329 0.00468901 0.00586382]\n",
      " [0.07070707 0.         0.5        ... 0.00310145 0.12417444 0.00341236]\n",
      " [0.04040404 0.         0.33333333 ... 0.00161031 0.00234451 0.00189155]]\n"
     ]
    }
   ],
   "source": [
    "print(X)"
   ]
  },
  {
   "cell_type": "code",
   "execution_count": 10,
   "id": "eb276a3b",
   "metadata": {
    "execution": {
     "iopub.execute_input": "2023-01-04T13:16:49.557229Z",
     "iopub.status.busy": "2023-01-04T13:16:49.555858Z",
     "iopub.status.idle": "2023-01-04T13:16:49.786741Z",
     "shell.execute_reply": "2023-01-04T13:16:49.785019Z"
    },
    "papermill": {
     "duration": 0.2455,
     "end_time": "2023-01-04T13:16:49.791289",
     "exception": false,
     "start_time": "2023-01-04T13:16:49.545789",
     "status": "completed"
    },
    "tags": []
   },
   "outputs": [
    {
     "data": {
      "text/plain": [
       "PCA()"
      ]
     },
     "execution_count": 10,
     "metadata": {},
     "output_type": "execute_result"
    }
   ],
   "source": [
    "# Fitting PCA to analyze components\n",
    "from sklearn.decomposition import PCA\n",
    "pca = PCA(n_components=None)\n",
    "pca.fit(X)"
   ]
  },
  {
   "cell_type": "code",
   "execution_count": 11,
   "id": "97deaf3d",
   "metadata": {
    "execution": {
     "iopub.execute_input": "2023-01-04T13:16:49.838740Z",
     "iopub.status.busy": "2023-01-04T13:16:49.837908Z",
     "iopub.status.idle": "2023-01-04T13:16:49.850721Z",
     "shell.execute_reply": "2023-01-04T13:16:49.849166Z"
    },
    "papermill": {
     "duration": 0.042373,
     "end_time": "2023-01-04T13:16:49.855609",
     "exception": false,
     "start_time": "2023-01-04T13:16:49.813236",
     "status": "completed"
    },
    "tags": []
   },
   "outputs": [
    {
     "data": {
      "text/plain": [
       "array([2.39921405e-01, 6.23298672e-02, 4.07593979e-02, 2.39375742e-02,\n",
       "       1.66483704e-02, 1.42113781e-02, 9.28602578e-03, 7.87094875e-03,\n",
       "       5.45234314e-03, 3.63128812e-03, 2.69052558e-03, 1.81099941e-03,\n",
       "       1.34499878e-03, 1.09886467e-03, 1.00061702e-03, 5.97020005e-04,\n",
       "       4.31000732e-04, 3.43514409e-04, 2.39650560e-04, 1.43196025e-04,\n",
       "       1.08669361e-04, 7.41323540e-05, 3.79534566e-05])"
      ]
     },
     "execution_count": 11,
     "metadata": {},
     "output_type": "execute_result"
    }
   ],
   "source": [
    "# features sorted based on eigenvalues\n",
    "pca.explained_variance_  "
   ]
  },
  {
   "cell_type": "markdown",
   "id": "9b155aeb",
   "metadata": {
    "papermill": {
     "duration": 0.017266,
     "end_time": "2023-01-04T13:16:49.895570",
     "exception": false,
     "start_time": "2023-01-04T13:16:49.878304",
     "status": "completed"
    },
    "tags": []
   },
   "source": [
    "finding the percentage of the importance of each feature"
   ]
  },
  {
   "cell_type": "code",
   "execution_count": 12,
   "id": "49ccbb4e",
   "metadata": {
    "execution": {
     "iopub.execute_input": "2023-01-04T13:16:49.917853Z",
     "iopub.status.busy": "2023-01-04T13:16:49.917257Z",
     "iopub.status.idle": "2023-01-04T13:16:49.924891Z",
     "shell.execute_reply": "2023-01-04T13:16:49.923896Z"
    },
    "papermill": {
     "duration": 0.026093,
     "end_time": "2023-01-04T13:16:49.930429",
     "exception": false,
     "start_time": "2023-01-04T13:16:49.904336",
     "status": "completed"
    },
    "tags": []
   },
   "outputs": [
    {
     "data": {
      "text/plain": [
       "array([5.52852843e-01, 1.43627219e-01, 9.39222117e-02, 5.51595468e-02,\n",
       "       3.83629752e-02, 3.27473940e-02, 2.13978647e-02, 1.81370912e-02,\n",
       "       1.25638786e-02, 8.36760671e-03, 6.19979995e-03, 4.17310065e-03,\n",
       "       3.09929161e-03, 2.53212278e-03, 2.30572994e-03, 1.37571805e-03,\n",
       "       9.93158489e-04, 7.91563044e-04, 5.52228734e-04, 3.29967764e-04,\n",
       "       2.50407693e-04, 1.70823786e-04, 8.74564585e-05])"
      ]
     },
     "execution_count": 12,
     "metadata": {},
     "output_type": "execute_result"
    }
   ],
   "source": [
    "# Percentage contribution of each feature\n",
    "pca.explained_variance_ratio_"
   ]
  },
  {
   "cell_type": "markdown",
   "id": "2b9b950f",
   "metadata": {
    "papermill": {
     "duration": 0.011228,
     "end_time": "2023-01-04T13:16:49.952461",
     "exception": false,
     "start_time": "2023-01-04T13:16:49.941233",
     "status": "completed"
    },
    "tags": []
   },
   "source": [
    "From the above variance outcome, we can extract the most optimal features set, below we are plotting the scree plot between the total features and cumulative sum of variance ratio."
   ]
  },
  {
   "cell_type": "code",
   "execution_count": 13,
   "id": "36283530",
   "metadata": {
    "execution": {
     "iopub.execute_input": "2023-01-04T13:16:49.986073Z",
     "iopub.status.busy": "2023-01-04T13:16:49.985326Z",
     "iopub.status.idle": "2023-01-04T13:16:50.197588Z",
     "shell.execute_reply": "2023-01-04T13:16:50.196348Z"
    },
    "papermill": {
     "duration": 0.23373,
     "end_time": "2023-01-04T13:16:50.200340",
     "exception": false,
     "start_time": "2023-01-04T13:16:49.966610",
     "status": "completed"
    },
    "tags": []
   },
   "outputs": [
    {
     "data": {
      "text/plain": [
       "Text(0.5, 1.0, 'Scree plot')"
      ]
     },
     "execution_count": 13,
     "metadata": {},
     "output_type": "execute_result"
    },
    {
     "data": {
      "image/png": "[encoded data removed]",
      "text/plain": [
       "<Figure size 504x288 with 1 Axes>"
      ]
     },
     "metadata": {
      "needs_background": "light"
     },
     "output_type": "display_data"
    }
   ],
   "source": [
    "# Variance Vs Component plot\n",
    "import matplotlib.pyplot as plt\n",
    "import numpy as np\n",
    "plt.figure(figsize=(7,4))\n",
    "plt.plot(range(1,24,1),np.cumsum(pca.explained_variance_ratio_))\n",
    "plt.ylabel('Sum of variance ratio')\n",
    "plt.xlabel('Range of components')\n",
    "plt.grid()\n",
    "plt.title('Scree plot')"
   ]
  },
  {
   "cell_type": "markdown",
   "id": "26bf11bd",
   "metadata": {
    "papermill": {
     "duration": 0.009037,
     "end_time": "2023-01-04T13:16:50.218991",
     "exception": false,
     "start_time": "2023-01-04T13:16:50.209954",
     "status": "completed"
    },
    "tags": []
   },
   "source": [
    "here 11 is the range where variance has a dip of sorts. That can be used as our n_components hyperparameter "
   ]
  },
  {
   "cell_type": "code",
   "execution_count": 14,
   "id": "efd50089",
   "metadata": {
    "execution": {
     "iopub.execute_input": "2023-01-04T13:16:50.239474Z",
     "iopub.status.busy": "2023-01-04T13:16:50.238949Z",
     "iopub.status.idle": "2023-01-04T13:16:50.579640Z",
     "shell.execute_reply": "2023-01-04T13:16:50.577853Z"
    },
    "papermill": {
     "duration": 0.355905,
     "end_time": "2023-01-04T13:16:50.584239",
     "exception": false,
     "start_time": "2023-01-04T13:16:50.228334",
     "status": "completed"
    },
    "tags": []
   },
   "outputs": [
    {
     "data": {
      "text/plain": [
       "PCA(n_components=11)"
      ]
     },
     "execution_count": 14,
     "metadata": {},
     "output_type": "execute_result"
    }
   ],
   "source": [
    "# Choosing the optimal component to be 11 as per the plot. 11 components are addressing 98% of the variance\n",
    "pca = PCA(n_components=11)\n",
    "pca.fit(X)"
   ]
  },
  {
   "cell_type": "code",
   "execution_count": 15,
   "id": "0fe42570",
   "metadata": {
    "execution": {
     "iopub.execute_input": "2023-01-04T13:16:50.651301Z",
     "iopub.status.busy": "2023-01-04T13:16:50.650883Z",
     "iopub.status.idle": "2023-01-04T13:16:50.658154Z",
     "shell.execute_reply": "2023-01-04T13:16:50.656967Z"
    },
    "papermill": {
     "duration": 0.03109,
     "end_time": "2023-01-04T13:16:50.660665",
     "exception": false,
     "start_time": "2023-01-04T13:16:50.629575",
     "status": "completed"
    },
    "tags": []
   },
   "outputs": [
    {
     "data": {
      "text/plain": [
       "array([0.55285284, 0.69648006, 0.79040227, 0.84556182, 0.8839248 ,\n",
       "       0.91667219, 0.93807005, 0.95620715, 0.96877102, 0.97713863,\n",
       "       0.98333843])"
      ]
     },
     "execution_count": 15,
     "metadata": {},
     "output_type": "execute_result"
    }
   ],
   "source": [
    "pca.explained_variance_ratio_.cumsum()\n"
   ]
  },
  {
   "cell_type": "markdown",
   "id": "9792366b",
   "metadata": {
    "papermill": {
     "duration": 0.009435,
     "end_time": "2023-01-04T13:16:50.679913",
     "exception": false,
     "start_time": "2023-01-04T13:16:50.670478",
     "status": "completed"
    },
    "tags": []
   },
   "source": [
    "now that we've got the features we need, time to start data splitting and modelling accordingly"
   ]
  },
  {
   "cell_type": "code",
   "execution_count": 16,
   "id": "d0f84057",
   "metadata": {
    "execution": {
     "iopub.execute_input": "2023-01-04T13:16:50.701599Z",
     "iopub.status.busy": "2023-01-04T13:16:50.701152Z",
     "iopub.status.idle": "2023-01-04T13:16:50.732108Z",
     "shell.execute_reply": "2023-01-04T13:16:50.730542Z"
    },
    "papermill": {
     "duration": 0.046707,
     "end_time": "2023-01-04T13:16:50.736480",
     "exception": false,
     "start_time": "2023-01-04T13:16:50.689773",
     "status": "completed"
    },
    "tags": []
   },
   "outputs": [
    {
     "data": {
      "text/plain": [
       "((24000, 11), (24000,), (6000, 11), (6000,))"
      ]
     },
     "execution_count": 16,
     "metadata": {},
     "output_type": "execute_result"
    }
   ],
   "source": [
    "# Creating training and test sets\n",
    "from sklearn.model_selection import train_test_split\n",
    "x_train,x_test, y_train, y_test = train_test_split(pca.transform(X),y,random_state=0, test_size = 0.2) \n",
    "# Creating the training and test sets\n",
    "x_train.shape, y_train.shape, x_test.shape, y_test.shape"
   ]
  },
  {
   "cell_type": "markdown",
   "id": "b7becd70",
   "metadata": {
    "papermill": {
     "duration": 0.024305,
     "end_time": "2023-01-04T13:16:50.785503",
     "exception": false,
     "start_time": "2023-01-04T13:16:50.761198",
     "status": "completed"
    },
    "tags": []
   },
   "source": [
    "balancing using SMOTE(dk why its used yet)"
   ]
  },
  {
   "cell_type": "code",
   "execution_count": 17,
   "id": "9c3f05c5",
   "metadata": {
    "execution": {
     "iopub.execute_input": "2023-01-04T13:16:50.836392Z",
     "iopub.status.busy": "2023-01-04T13:16:50.835982Z",
     "iopub.status.idle": "2023-01-04T13:16:50.953124Z",
     "shell.execute_reply": "2023-01-04T13:16:50.951433Z"
    },
    "papermill": {
     "duration": 0.145791,
     "end_time": "2023-01-04T13:16:50.955783",
     "exception": false,
     "start_time": "2023-01-04T13:16:50.809992",
     "status": "completed"
    },
    "tags": []
   },
   "outputs": [
    {
     "name": "stdout",
     "output_type": "stream",
     "text": [
      "Before SMOTE, counts of label '1': 5339\n",
      "Before SMOTE, counts of label '0': 18661 \n",
      "\n"
     ]
    }
   ],
   "source": [
    "# Counting the labels before resampling\n",
    "print(\"Before SMOTE, counts of label '1': {}\".format(sum(y_train == 1)))\n",
    "print(\"Before SMOTE, counts of label '0': {} \\n\".format(sum(y_train == 0)))"
   ]
  },
  {
   "cell_type": "markdown",
   "id": "3ec86429",
   "metadata": {
    "papermill": {
     "duration": 0.009687,
     "end_time": "2023-01-04T13:16:50.975751",
     "exception": false,
     "start_time": "2023-01-04T13:16:50.966064",
     "status": "completed"
    },
    "tags": []
   },
   "source": [
    "balancing the classes"
   ]
  },
  {
   "cell_type": "code",
   "execution_count": 18,
   "id": "eca845b3",
   "metadata": {
    "execution": {
     "iopub.execute_input": "2023-01-04T13:16:50.998258Z",
     "iopub.status.busy": "2023-01-04T13:16:50.997821Z",
     "iopub.status.idle": "2023-01-04T13:16:51.596100Z",
     "shell.execute_reply": "2023-01-04T13:16:51.594551Z"
    },
    "papermill": {
     "duration": 0.615245,
     "end_time": "2023-01-04T13:16:51.600928",
     "exception": false,
     "start_time": "2023-01-04T13:16:50.985683",
     "status": "completed"
    },
    "tags": []
   },
   "outputs": [
    {
     "name": "stdout",
     "output_type": "stream",
     "text": [
      "After SMOTE, the shape of train_X: (37322, 11)\n",
      "After SMOTE, the shape of train_y: (37322,) \n",
      "\n",
      "After SMOTE, counts of label '1': 18661\n",
      "After SMOTE, counts of label '0': 18661\n"
     ]
    }
   ],
   "source": [
    "# Using SMOTE resampling for balancing the class labels\n",
    "from imblearn.over_sampling import SMOTE\n",
    "smt = SMOTE(k_neighbors=5, random_state=42)\n",
    "x_train_res, y_train_res = smt.fit_resample(x_train, y_train)\n",
    "\n",
    "print('After SMOTE, the shape of train_X: {}'.format(x_train_res.shape))\n",
    "print('After SMOTE, the shape of train_y: {} \\n'.format(y_train_res.shape))\n",
    "\n",
    "print(\"After SMOTE, counts of label '1': {}\".format(sum(y_train_res == 1)))\n",
    "print(\"After SMOTE, counts of label '0': {}\".format(sum(y_train_res == 0)))"
   ]
  },
  {
   "cell_type": "markdown",
   "id": "2e006c16",
   "metadata": {
    "papermill": {
     "duration": 0.009958,
     "end_time": "2023-01-04T13:16:51.621634",
     "exception": false,
     "start_time": "2023-01-04T13:16:51.611676",
     "status": "completed"
    },
    "tags": []
   },
   "source": [
    "defining a model"
   ]
  },
  {
   "cell_type": "code",
   "execution_count": 19,
   "id": "6be1bfe1",
   "metadata": {
    "execution": {
     "iopub.execute_input": "2023-01-04T13:16:51.643686Z",
     "iopub.status.busy": "2023-01-04T13:16:51.643224Z",
     "iopub.status.idle": "2023-01-04T13:16:51.649027Z",
     "shell.execute_reply": "2023-01-04T13:16:51.647819Z"
    },
    "papermill": {
     "duration": 0.020032,
     "end_time": "2023-01-04T13:16:51.651832",
     "exception": false,
     "start_time": "2023-01-04T13:16:51.631800",
     "status": "completed"
    },
    "tags": []
   },
   "outputs": [],
   "source": [
    "# Defining the logistic regression model\n",
    "from sklearn.linear_model import LogisticRegression\n",
    "model = LogisticRegression(random_state=0)"
   ]
  },
  {
   "cell_type": "markdown",
   "id": "04de3d3e",
   "metadata": {
    "papermill": {
     "duration": 0.009758,
     "end_time": "2023-01-04T13:16:51.672116",
     "exception": false,
     "start_time": "2023-01-04T13:16:51.662358",
     "status": "completed"
    },
    "tags": []
   },
   "source": [
    "training set model"
   ]
  },
  {
   "cell_type": "code",
   "execution_count": 20,
   "id": "2ff46ec9",
   "metadata": {
    "execution": {
     "iopub.execute_input": "2023-01-04T13:16:51.694444Z",
     "iopub.status.busy": "2023-01-04T13:16:51.693909Z",
     "iopub.status.idle": "2023-01-04T13:16:51.913070Z",
     "shell.execute_reply": "2023-01-04T13:16:51.911376Z"
    },
    "papermill": {
     "duration": 0.235841,
     "end_time": "2023-01-04T13:16:51.917822",
     "exception": false,
     "start_time": "2023-01-04T13:16:51.681981",
     "status": "completed"
    },
    "tags": []
   },
   "outputs": [],
   "source": [
    "# Training the logistic regression model\n",
    "model.fit(x_train_res, y_train_res)\n",
    "# Making predictions with the trained model\n",
    "y_pred = model.predict(x_test)"
   ]
  },
  {
   "cell_type": "markdown",
   "id": "1491819b",
   "metadata": {
    "papermill": {
     "duration": 0.024699,
     "end_time": "2023-01-04T13:16:51.967692",
     "exception": false,
     "start_time": "2023-01-04T13:16:51.942993",
     "status": "completed"
    },
    "tags": []
   },
   "source": [
    "determining how good the model is"
   ]
  },
  {
   "cell_type": "code",
   "execution_count": 21,
   "id": "f502fefd",
   "metadata": {
    "execution": {
     "iopub.execute_input": "2023-01-04T13:16:52.022912Z",
     "iopub.status.busy": "2023-01-04T13:16:52.020917Z",
     "iopub.status.idle": "2023-01-04T13:16:52.038260Z",
     "shell.execute_reply": "2023-01-04T13:16:52.037474Z"
    },
    "papermill": {
     "duration": 0.04818,
     "end_time": "2023-01-04T13:16:52.040920",
     "exception": false,
     "start_time": "2023-01-04T13:16:51.992740",
     "status": "completed"
    },
    "tags": []
   },
   "outputs": [
    {
     "data": {
      "text/plain": [
       "array([[3320, 1383],\n",
       "       [ 471,  826]])"
      ]
     },
     "execution_count": 21,
     "metadata": {},
     "output_type": "execute_result"
    }
   ],
   "source": [
    "# Confusion matrix\n",
    "from sklearn.metrics import confusion_matrix\n",
    "confusion_matrix(y_test, y_pred)"
   ]
  },
  {
   "cell_type": "code",
   "execution_count": 22,
   "id": "85391d75",
   "metadata": {
    "execution": {
     "iopub.execute_input": "2023-01-04T13:16:52.063175Z",
     "iopub.status.busy": "2023-01-04T13:16:52.061968Z",
     "iopub.status.idle": "2023-01-04T13:16:52.074613Z",
     "shell.execute_reply": "2023-01-04T13:16:52.073127Z"
    },
    "papermill": {
     "duration": 0.027816,
     "end_time": "2023-01-04T13:16:52.078624",
     "exception": false,
     "start_time": "2023-01-04T13:16:52.050808",
     "status": "completed"
    },
    "tags": []
   },
   "outputs": [
    {
     "data": {
      "text/plain": [
       "0.691"
      ]
     },
     "execution_count": 22,
     "metadata": {},
     "output_type": "execute_result"
    }
   ],
   "source": [
    "# Test accuracy\n",
    "model.score(x_test,y_test)"
   ]
  },
  {
   "cell_type": "markdown",
   "id": "e8f5424d",
   "metadata": {
    "papermill": {
     "duration": 0.024898,
     "end_time": "2023-01-04T13:16:52.128962",
     "exception": false,
     "start_time": "2023-01-04T13:16:52.104064",
     "status": "completed"
    },
    "tags": []
   },
   "source": [
    "Using classification report"
   ]
  },
  {
   "cell_type": "code",
   "execution_count": 23,
   "id": "11147d52",
   "metadata": {
    "execution": {
     "iopub.execute_input": "2023-01-04T13:16:52.183043Z",
     "iopub.status.busy": "2023-01-04T13:16:52.182296Z",
     "iopub.status.idle": "2023-01-04T13:16:52.205991Z",
     "shell.execute_reply": "2023-01-04T13:16:52.204370Z"
    },
    "papermill": {
     "duration": 0.053721,
     "end_time": "2023-01-04T13:16:52.208604",
     "exception": false,
     "start_time": "2023-01-04T13:16:52.154883",
     "status": "completed"
    },
    "tags": []
   },
   "outputs": [
    {
     "name": "stdout",
     "output_type": "stream",
     "text": [
      "              precision    recall  f1-score   support\n",
      "\n",
      "           0       0.88      0.71      0.78      4703\n",
      "           1       0.37      0.64      0.47      1297\n",
      "\n",
      "    accuracy                           0.69      6000\n",
      "   macro avg       0.62      0.67      0.63      6000\n",
      "weighted avg       0.77      0.69      0.71      6000\n",
      "\n"
     ]
    }
   ],
   "source": [
    "# Classification report\n",
    "from sklearn.metrics import classification_report\n",
    "print(classification_report(y_test, y_pred))"
   ]
  },
  {
   "cell_type": "code",
   "execution_count": null,
   "id": "480bebe6",
   "metadata": {
    "papermill": {
     "duration": 0.009956,
     "end_time": "2023-01-04T13:16:52.228648",
     "exception": false,
     "start_time": "2023-01-04T13:16:52.218692",
     "status": "completed"
    },
    "tags": []
   },
   "outputs": [],
   "source": []
  }
 ],
 "metadata": {
  "kernelspec": {
   "display_name": "Python 3",
   "language": "python",
   "name": "python3"
  },
  "language_info": {
   "codemirror_mode": {
    "name": "ipython",
    "version": 3
   },
   "file_extension": ".py",
   "mimetype": "text/x-python",
   "name": "python",
   "nbconvert_exporter": "python",
   "pygments_lexer": "ipython3",
   "version": "3.7.12"
  },
  "papermill": {
   "default_parameters": {},
   "duration": 14.90337,
   "end_time": "2023-01-04T13:16:53.061013",
   "environment_variables": {},
   "exception": null,
   "input_path": "__notebook__.ipynb",
   "output_path": "__notebook__.ipynb",
   "parameters": {},
   "start_time": "2023-01-04T13:16:38.157643",
   "version": "2.3.4"
  }
 },
 "nbformat": 4,
 "nbformat_minor": 5
}
