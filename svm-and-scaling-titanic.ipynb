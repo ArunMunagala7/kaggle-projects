{
 "cells": [
  {
   "cell_type": "code",
   "execution_count": 1,
   "id": "e44a4cb0",
   "metadata": {
    "_cell_guid": "b1076dfc-b9ad-4769-8c92-a6c4dae69d19",
    "_uuid": "8f2839f25d086af736a60e9eeb907d3b93b6e0e5",
    "execution": {
     "iopub.execute_input": "2022-12-29T11:33:22.064277Z",
     "iopub.status.busy": "2022-12-29T11:33:22.063818Z",
     "iopub.status.idle": "2022-12-29T11:33:22.076572Z",
     "shell.execute_reply": "2022-12-29T11:33:22.075718Z"
    },
    "papermill": {
     "duration": 0.026656,
     "end_time": "2022-12-29T11:33:22.079224",
     "exception": false,
     "start_time": "2022-12-29T11:33:22.052568",
     "status": "completed"
    },
    "tags": []
   },
   "outputs": [
    {
     "name": "stdout",
     "output_type": "stream",
     "text": [
      "/kaggle/input/titanic/train.csv\n",
      "/kaggle/input/titanic/test.csv\n",
      "/kaggle/input/titanic/gender_submission.csv\n"
     ]
    }
   ],
   "source": [
    "# This Python 3 environment comes with many helpful analytics libraries installed\n",
    "# It is defined by the kaggle/python Docker image: https://github.com/kaggle/docker-python\n",
    "# For example, here's several helpful packages to load\n",
    "\n",
    "import numpy as np # linear algebra\n",
    "import pandas as pd # data processing, CSV file I/O (e.g. pd.read_csv)\n",
    "\n",
    "# Input data files are available in the read-only \"../input/\" directory\n",
    "# For example, running this (by clicking run or pressing Shift+Enter) will list all files under the input directory\n",
    "\n",
    "import os\n",
    "for dirname, _, filenames in os.walk('/kaggle/input'):\n",
    "    for filename in filenames:\n",
    "        print(os.path.join(dirname, filename))\n",
    "\n",
    "# You can write up to 20GB to the current directory (/kaggle/working/) that gets preserved as output when you create a version using \"Save & Run All\" \n",
    "# You can also write temporary files to /kaggle/temp/, but they won't be saved outside of the current session"
   ]
  },
  {
   "cell_type": "markdown",
   "id": "fe64f5ef",
   "metadata": {
    "papermill": {
     "duration": 0.008069,
     "end_time": "2022-12-29T11:33:22.096078",
     "exception": false,
     "start_time": "2022-12-29T11:33:22.088009",
     "status": "completed"
    },
    "tags": []
   },
   "source": [
    "Uploading the train dataset to a csv file"
   ]
  },
  {
   "cell_type": "code",
   "execution_count": 2,
   "id": "28f84af3",
   "metadata": {
    "execution": {
     "iopub.execute_input": "2022-12-29T11:33:22.115390Z",
     "iopub.status.busy": "2022-12-29T11:33:22.115006Z",
     "iopub.status.idle": "2022-12-29T11:33:22.160966Z",
     "shell.execute_reply": "2022-12-29T11:33:22.160077Z"
    },
    "papermill": {
     "duration": 0.058537,
     "end_time": "2022-12-29T11:33:22.163108",
     "exception": false,
     "start_time": "2022-12-29T11:33:22.104571",
     "status": "completed"
    },
    "tags": []
   },
   "outputs": [
    {
     "data": {
      "text/html": [
       "<div>\n",
       "<style scoped>\n",
       "    .dataframe tbody tr th:only-of-type {\n",
       "        vertical-align: middle;\n",
       "    }\n",
       "\n",
       "    .dataframe tbody tr th {\n",
       "        vertical-align: top;\n",
       "    }\n",
       "\n",
       "    .dataframe thead th {\n",
       "        text-align: right;\n",
       "    }\n",
       "</style>\n",
       "<table border=\"1\" class=\"dataframe\">\n",
       "  <thead>\n",
       "    <tr style=\"text-align: right;\">\n",
       "      <th></th>\n",
       "      <th>PassengerId</th>\n",
       "      <th>Survived</th>\n",
       "      <th>Pclass</th>\n",
       "      <th>Name</th>\n",
       "      <th>Sex</th>\n",
       "      <th>Age</th>\n",
       "      <th>SibSp</th>\n",
       "      <th>Parch</th>\n",
       "      <th>Ticket</th>\n",
       "      <th>Fare</th>\n",
       "      <th>Cabin</th>\n",
       "      <th>Embarked</th>\n",
       "    </tr>\n",
       "  </thead>\n",
       "  <tbody>\n",
       "    <tr>\n",
       "      <th>0</th>\n",
       "      <td>1</td>\n",
       "      <td>0</td>\n",
       "      <td>3</td>\n",
       "      <td>Braund, Mr. Owen Harris</td>\n",
       "      <td>male</td>\n",
       "      <td>22.0</td>\n",
       "      <td>1</td>\n",
       "      <td>0</td>\n",
       "      <td>A/5 21171</td>\n",
       "      <td>7.2500</td>\n",
       "      <td>NaN</td>\n",
       "      <td>S</td>\n",
       "    </tr>\n",
       "    <tr>\n",
       "      <th>1</th>\n",
       "      <td>2</td>\n",
       "      <td>1</td>\n",
       "      <td>1</td>\n",
       "      <td>Cumings, Mrs. John Bradley (Florence Briggs Th...</td>\n",
       "      <td>female</td>\n",
       "      <td>38.0</td>\n",
       "      <td>1</td>\n",
       "      <td>0</td>\n",
       "      <td>PC 17599</td>\n",
       "      <td>71.2833</td>\n",
       "      <td>C85</td>\n",
       "      <td>C</td>\n",
       "    </tr>\n",
       "    <tr>\n",
       "      <th>2</th>\n",
       "      <td>3</td>\n",
       "      <td>1</td>\n",
       "      <td>3</td>\n",
       "      <td>Heikkinen, Miss. Laina</td>\n",
       "      <td>female</td>\n",
       "      <td>26.0</td>\n",
       "      <td>0</td>\n",
       "      <td>0</td>\n",
       "      <td>STON/O2. 3101282</td>\n",
       "      <td>7.9250</td>\n",
       "      <td>NaN</td>\n",
       "      <td>S</td>\n",
       "    </tr>\n",
       "    <tr>\n",
       "      <th>3</th>\n",
       "      <td>4</td>\n",
       "      <td>1</td>\n",
       "      <td>1</td>\n",
       "      <td>Futrelle, Mrs. Jacques Heath (Lily May Peel)</td>\n",
       "      <td>female</td>\n",
       "      <td>35.0</td>\n",
       "      <td>1</td>\n",
       "      <td>0</td>\n",
       "      <td>113803</td>\n",
       "      <td>53.1000</td>\n",
       "      <td>C123</td>\n",
       "      <td>S</td>\n",
       "    </tr>\n",
       "    <tr>\n",
       "      <th>4</th>\n",
       "      <td>5</td>\n",
       "      <td>0</td>\n",
       "      <td>3</td>\n",
       "      <td>Allen, Mr. William Henry</td>\n",
       "      <td>male</td>\n",
       "      <td>35.0</td>\n",
       "      <td>0</td>\n",
       "      <td>0</td>\n",
       "      <td>373450</td>\n",
       "      <td>8.0500</td>\n",
       "      <td>NaN</td>\n",
       "      <td>S</td>\n",
       "    </tr>\n",
       "  </tbody>\n",
       "</table>\n",
       "</div>"
      ],
      "text/plain": [
       "   PassengerId  Survived  Pclass  \\\n",
       "0            1         0       3   \n",
       "1            2         1       1   \n",
       "2            3         1       3   \n",
       "3            4         1       1   \n",
       "4            5         0       3   \n",
       "\n",
       "                                                Name     Sex   Age  SibSp  \\\n",
       "0                            Braund, Mr. Owen Harris    male  22.0      1   \n",
       "1  Cumings, Mrs. John Bradley (Florence Briggs Th...  female  38.0      1   \n",
       "2                             Heikkinen, Miss. Laina  female  26.0      0   \n",
       "3       Futrelle, Mrs. Jacques Heath (Lily May Peel)  female  35.0      1   \n",
       "4                           Allen, Mr. William Henry    male  35.0      0   \n",
       "\n",
       "   Parch            Ticket     Fare Cabin Embarked  \n",
       "0      0         A/5 21171   7.2500   NaN        S  \n",
       "1      0          PC 17599  71.2833   C85        C  \n",
       "2      0  STON/O2. 3101282   7.9250   NaN        S  \n",
       "3      0            113803  53.1000  C123        S  \n",
       "4      0            373450   8.0500   NaN        S  "
      ]
     },
     "execution_count": 2,
     "metadata": {},
     "output_type": "execute_result"
    }
   ],
   "source": [
    "train_loc=\"/kaggle/input/titanic/train.csv\"\n",
    "train_data=pd.read_csv(train_loc)\n",
    "train_data.head()"
   ]
  },
  {
   "cell_type": "markdown",
   "id": "c90e0d96",
   "metadata": {
    "papermill": {
     "duration": 0.008397,
     "end_time": "2022-12-29T11:33:22.180364",
     "exception": false,
     "start_time": "2022-12-29T11:33:22.171967",
     "status": "completed"
    },
    "tags": []
   },
   "source": [
    "importing the test data"
   ]
  },
  {
   "cell_type": "code",
   "execution_count": 3,
   "id": "a0a794ba",
   "metadata": {
    "execution": {
     "iopub.execute_input": "2022-12-29T11:33:22.199928Z",
     "iopub.status.busy": "2022-12-29T11:33:22.198910Z",
     "iopub.status.idle": "2022-12-29T11:33:22.210685Z",
     "shell.execute_reply": "2022-12-29T11:33:22.209670Z"
    },
    "papermill": {
     "duration": 0.024022,
     "end_time": "2022-12-29T11:33:22.212969",
     "exception": false,
     "start_time": "2022-12-29T11:33:22.188947",
     "status": "completed"
    },
    "tags": []
   },
   "outputs": [],
   "source": [
    "test_data=pd.read_csv('/kaggle/input/titanic/test.csv')"
   ]
  },
  {
   "cell_type": "markdown",
   "id": "26f8e44f",
   "metadata": {
    "papermill": {
     "duration": 0.008408,
     "end_time": "2022-12-29T11:33:22.231764",
     "exception": false,
     "start_time": "2022-12-29T11:33:22.223356",
     "status": "completed"
    },
    "tags": []
   },
   "source": [
    "using minmax scaling on fare\n"
   ]
  },
  {
   "cell_type": "code",
   "execution_count": 4,
   "id": "26f52821",
   "metadata": {
    "execution": {
     "iopub.execute_input": "2022-12-29T11:33:22.251001Z",
     "iopub.status.busy": "2022-12-29T11:33:22.250297Z",
     "iopub.status.idle": "2022-12-29T11:33:23.250382Z",
     "shell.execute_reply": "2022-12-29T11:33:23.249125Z"
    },
    "papermill": {
     "duration": 1.013024,
     "end_time": "2022-12-29T11:33:23.253299",
     "exception": false,
     "start_time": "2022-12-29T11:33:22.240275",
     "status": "completed"
    },
    "tags": []
   },
   "outputs": [
    {
     "data": {
      "text/html": [
       "<div>\n",
       "<style scoped>\n",
       "    .dataframe tbody tr th:only-of-type {\n",
       "        vertical-align: middle;\n",
       "    }\n",
       "\n",
       "    .dataframe tbody tr th {\n",
       "        vertical-align: top;\n",
       "    }\n",
       "\n",
       "    .dataframe thead th {\n",
       "        text-align: right;\n",
       "    }\n",
       "</style>\n",
       "<table border=\"1\" class=\"dataframe\">\n",
       "  <thead>\n",
       "    <tr style=\"text-align: right;\">\n",
       "      <th></th>\n",
       "      <th>Age</th>\n",
       "      <th>Fare</th>\n",
       "    </tr>\n",
       "  </thead>\n",
       "  <tbody>\n",
       "    <tr>\n",
       "      <th>0</th>\n",
       "      <td>22.0</td>\n",
       "      <td>7.2500</td>\n",
       "    </tr>\n",
       "    <tr>\n",
       "      <th>1</th>\n",
       "      <td>38.0</td>\n",
       "      <td>71.2833</td>\n",
       "    </tr>\n",
       "    <tr>\n",
       "      <th>2</th>\n",
       "      <td>26.0</td>\n",
       "      <td>7.9250</td>\n",
       "    </tr>\n",
       "    <tr>\n",
       "      <th>3</th>\n",
       "      <td>35.0</td>\n",
       "      <td>53.1000</td>\n",
       "    </tr>\n",
       "    <tr>\n",
       "      <th>4</th>\n",
       "      <td>35.0</td>\n",
       "      <td>8.0500</td>\n",
       "    </tr>\n",
       "  </tbody>\n",
       "</table>\n",
       "</div>"
      ],
      "text/plain": [
       "    Age     Fare\n",
       "0  22.0   7.2500\n",
       "1  38.0  71.2833\n",
       "2  26.0   7.9250\n",
       "3  35.0  53.1000\n",
       "4  35.0   8.0500"
      ]
     },
     "execution_count": 4,
     "metadata": {},
     "output_type": "execute_result"
    }
   ],
   "source": [
    "from sklearn.preprocessing import MinMaxScaler\n",
    "scaler=MinMaxScaler()\n",
    "X1=train_data.loc[:,['Age','Fare']]\n",
    "X1.head()"
   ]
  },
  {
   "cell_type": "markdown",
   "id": "647613e5",
   "metadata": {
    "papermill": {
     "duration": 0.013029,
     "end_time": "2022-12-29T11:33:23.279978",
     "exception": false,
     "start_time": "2022-12-29T11:33:23.266949",
     "status": "completed"
    },
    "tags": []
   },
   "source": [
    "fitting the Scaler"
   ]
  },
  {
   "cell_type": "code",
   "execution_count": 5,
   "id": "f70650ba",
   "metadata": {
    "execution": {
     "iopub.execute_input": "2022-12-29T11:33:23.304651Z",
     "iopub.status.busy": "2022-12-29T11:33:23.303568Z",
     "iopub.status.idle": "2022-12-29T11:33:23.317898Z",
     "shell.execute_reply": "2022-12-29T11:33:23.316835Z"
    },
    "papermill": {
     "duration": 0.026655,
     "end_time": "2022-12-29T11:33:23.320124",
     "exception": false,
     "start_time": "2022-12-29T11:33:23.293469",
     "status": "completed"
    },
    "tags": []
   },
   "outputs": [
    {
     "data": {
      "text/html": [
       "<div>\n",
       "<style scoped>\n",
       "    .dataframe tbody tr th:only-of-type {\n",
       "        vertical-align: middle;\n",
       "    }\n",
       "\n",
       "    .dataframe tbody tr th {\n",
       "        vertical-align: top;\n",
       "    }\n",
       "\n",
       "    .dataframe thead th {\n",
       "        text-align: right;\n",
       "    }\n",
       "</style>\n",
       "<table border=\"1\" class=\"dataframe\">\n",
       "  <thead>\n",
       "    <tr style=\"text-align: right;\">\n",
       "      <th></th>\n",
       "      <th>Age</th>\n",
       "      <th>Fare</th>\n",
       "    </tr>\n",
       "  </thead>\n",
       "  <tbody>\n",
       "    <tr>\n",
       "      <th>0</th>\n",
       "      <td>0.271174</td>\n",
       "      <td>0.014151</td>\n",
       "    </tr>\n",
       "    <tr>\n",
       "      <th>1</th>\n",
       "      <td>0.472229</td>\n",
       "      <td>0.139136</td>\n",
       "    </tr>\n",
       "    <tr>\n",
       "      <th>2</th>\n",
       "      <td>0.321438</td>\n",
       "      <td>0.015469</td>\n",
       "    </tr>\n",
       "    <tr>\n",
       "      <th>3</th>\n",
       "      <td>0.434531</td>\n",
       "      <td>0.103644</td>\n",
       "    </tr>\n",
       "    <tr>\n",
       "      <th>4</th>\n",
       "      <td>0.434531</td>\n",
       "      <td>0.015713</td>\n",
       "    </tr>\n",
       "  </tbody>\n",
       "</table>\n",
       "</div>"
      ],
      "text/plain": [
       "        Age      Fare\n",
       "0  0.271174  0.014151\n",
       "1  0.472229  0.139136\n",
       "2  0.321438  0.015469\n",
       "3  0.434531  0.103644\n",
       "4  0.434531  0.015713"
      ]
     },
     "execution_count": 5,
     "metadata": {},
     "output_type": "execute_result"
    }
   ],
   "source": [
    "scaler.fit(X1)\n",
    "X1_scaled=scaler.transform(X1)\n",
    "X1_scaled=pd.DataFrame(X1_scaled,columns=X1.columns)\n",
    "X1_scaled.head()"
   ]
  },
  {
   "cell_type": "markdown",
   "id": "b62ddbe1",
   "metadata": {
    "papermill": {
     "duration": 0.008621,
     "end_time": "2022-12-29T11:33:23.337888",
     "exception": false,
     "start_time": "2022-12-29T11:33:23.329267",
     "status": "completed"
    },
    "tags": []
   },
   "source": [
    "categorical encoding "
   ]
  },
  {
   "cell_type": "code",
   "execution_count": 6,
   "id": "f34b2445",
   "metadata": {
    "execution": {
     "iopub.execute_input": "2022-12-29T11:33:23.357183Z",
     "iopub.status.busy": "2022-12-29T11:33:23.356786Z",
     "iopub.status.idle": "2022-12-29T11:33:23.383684Z",
     "shell.execute_reply": "2022-12-29T11:33:23.382585Z"
    },
    "papermill": {
     "duration": 0.039327,
     "end_time": "2022-12-29T11:33:23.386014",
     "exception": false,
     "start_time": "2022-12-29T11:33:23.346687",
     "status": "completed"
    },
    "tags": []
   },
   "outputs": [
    {
     "data": {
      "text/html": [
       "<div>\n",
       "<style scoped>\n",
       "    .dataframe tbody tr th:only-of-type {\n",
       "        vertical-align: middle;\n",
       "    }\n",
       "\n",
       "    .dataframe tbody tr th {\n",
       "        vertical-align: top;\n",
       "    }\n",
       "\n",
       "    .dataframe thead th {\n",
       "        text-align: right;\n",
       "    }\n",
       "</style>\n",
       "<table border=\"1\" class=\"dataframe\">\n",
       "  <thead>\n",
       "    <tr style=\"text-align: right;\">\n",
       "      <th></th>\n",
       "      <th>Pclass</th>\n",
       "      <th>SibSp</th>\n",
       "      <th>Parch</th>\n",
       "      <th>Sex_female</th>\n",
       "      <th>Sex_male</th>\n",
       "    </tr>\n",
       "  </thead>\n",
       "  <tbody>\n",
       "    <tr>\n",
       "      <th>0</th>\n",
       "      <td>3</td>\n",
       "      <td>1</td>\n",
       "      <td>0</td>\n",
       "      <td>0</td>\n",
       "      <td>1</td>\n",
       "    </tr>\n",
       "    <tr>\n",
       "      <th>1</th>\n",
       "      <td>1</td>\n",
       "      <td>1</td>\n",
       "      <td>0</td>\n",
       "      <td>1</td>\n",
       "      <td>0</td>\n",
       "    </tr>\n",
       "    <tr>\n",
       "      <th>2</th>\n",
       "      <td>3</td>\n",
       "      <td>0</td>\n",
       "      <td>0</td>\n",
       "      <td>1</td>\n",
       "      <td>0</td>\n",
       "    </tr>\n",
       "    <tr>\n",
       "      <th>3</th>\n",
       "      <td>1</td>\n",
       "      <td>1</td>\n",
       "      <td>0</td>\n",
       "      <td>1</td>\n",
       "      <td>0</td>\n",
       "    </tr>\n",
       "    <tr>\n",
       "      <th>4</th>\n",
       "      <td>3</td>\n",
       "      <td>0</td>\n",
       "      <td>0</td>\n",
       "      <td>0</td>\n",
       "      <td>1</td>\n",
       "    </tr>\n",
       "  </tbody>\n",
       "</table>\n",
       "</div>"
      ],
      "text/plain": [
       "   Pclass  SibSp  Parch  Sex_female  Sex_male\n",
       "0       3      1      0           0         1\n",
       "1       1      1      0           1         0\n",
       "2       3      0      0           1         0\n",
       "3       1      1      0           1         0\n",
       "4       3      0      0           0         1"
      ]
     },
     "execution_count": 6,
     "metadata": {},
     "output_type": "execute_result"
    }
   ],
   "source": [
    "y=train_data[\"Survived\"]\n",
    "features = [\"Pclass\", \"Sex\", \"SibSp\", \"Parch\"]\n",
    "X2 = pd.get_dummies(train_data[features])\n",
    "X2_test = pd.get_dummies(test_data[features])\n",
    "X2.head()"
   ]
  },
  {
   "cell_type": "markdown",
   "id": "acaa7282",
   "metadata": {
    "papermill": {
     "duration": 0.008849,
     "end_time": "2022-12-29T11:33:23.404164",
     "exception": false,
     "start_time": "2022-12-29T11:33:23.395315",
     "status": "completed"
    },
    "tags": []
   },
   "source": [
    "Scaling down of the float features of the test dataset"
   ]
  },
  {
   "cell_type": "code",
   "execution_count": 7,
   "id": "996efb3a",
   "metadata": {
    "execution": {
     "iopub.execute_input": "2022-12-29T11:33:23.424124Z",
     "iopub.status.busy": "2022-12-29T11:33:23.423747Z",
     "iopub.status.idle": "2022-12-29T11:33:23.435246Z",
     "shell.execute_reply": "2022-12-29T11:33:23.434241Z"
    },
    "papermill": {
     "duration": 0.024197,
     "end_time": "2022-12-29T11:33:23.437520",
     "exception": false,
     "start_time": "2022-12-29T11:33:23.413323",
     "status": "completed"
    },
    "tags": []
   },
   "outputs": [
    {
     "data": {
      "text/html": [
       "<div>\n",
       "<style scoped>\n",
       "    .dataframe tbody tr th:only-of-type {\n",
       "        vertical-align: middle;\n",
       "    }\n",
       "\n",
       "    .dataframe tbody tr th {\n",
       "        vertical-align: top;\n",
       "    }\n",
       "\n",
       "    .dataframe thead th {\n",
       "        text-align: right;\n",
       "    }\n",
       "</style>\n",
       "<table border=\"1\" class=\"dataframe\">\n",
       "  <thead>\n",
       "    <tr style=\"text-align: right;\">\n",
       "      <th></th>\n",
       "      <th>Age</th>\n",
       "      <th>Fare</th>\n",
       "    </tr>\n",
       "  </thead>\n",
       "  <tbody>\n",
       "    <tr>\n",
       "      <th>0</th>\n",
       "      <td>34.5</td>\n",
       "      <td>7.8292</td>\n",
       "    </tr>\n",
       "    <tr>\n",
       "      <th>1</th>\n",
       "      <td>47.0</td>\n",
       "      <td>7.0000</td>\n",
       "    </tr>\n",
       "    <tr>\n",
       "      <th>2</th>\n",
       "      <td>62.0</td>\n",
       "      <td>9.6875</td>\n",
       "    </tr>\n",
       "    <tr>\n",
       "      <th>3</th>\n",
       "      <td>27.0</td>\n",
       "      <td>8.6625</td>\n",
       "    </tr>\n",
       "    <tr>\n",
       "      <th>4</th>\n",
       "      <td>22.0</td>\n",
       "      <td>12.2875</td>\n",
       "    </tr>\n",
       "  </tbody>\n",
       "</table>\n",
       "</div>"
      ],
      "text/plain": [
       "    Age     Fare\n",
       "0  34.5   7.8292\n",
       "1  47.0   7.0000\n",
       "2  62.0   9.6875\n",
       "3  27.0   8.6625\n",
       "4  22.0  12.2875"
      ]
     },
     "execution_count": 7,
     "metadata": {},
     "output_type": "execute_result"
    }
   ],
   "source": [
    "X1_test=test_data.loc[:,['Age','Fare']]\n",
    "X1_test.head()"
   ]
  },
  {
   "cell_type": "markdown",
   "id": "538fea41",
   "metadata": {
    "papermill": {
     "duration": 0.008922,
     "end_time": "2022-12-29T11:33:23.455672",
     "exception": false,
     "start_time": "2022-12-29T11:33:23.446750",
     "status": "completed"
    },
    "tags": []
   },
   "source": [
    "fitting the scaler accordingly"
   ]
  },
  {
   "cell_type": "code",
   "execution_count": 8,
   "id": "91966443",
   "metadata": {
    "execution": {
     "iopub.execute_input": "2022-12-29T11:33:23.476200Z",
     "iopub.status.busy": "2022-12-29T11:33:23.475820Z",
     "iopub.status.idle": "2022-12-29T11:33:23.490522Z",
     "shell.execute_reply": "2022-12-29T11:33:23.489398Z"
    },
    "papermill": {
     "duration": 0.027769,
     "end_time": "2022-12-29T11:33:23.492801",
     "exception": false,
     "start_time": "2022-12-29T11:33:23.465032",
     "status": "completed"
    },
    "tags": []
   },
   "outputs": [
    {
     "data": {
      "text/html": [
       "<div>\n",
       "<style scoped>\n",
       "    .dataframe tbody tr th:only-of-type {\n",
       "        vertical-align: middle;\n",
       "    }\n",
       "\n",
       "    .dataframe tbody tr th {\n",
       "        vertical-align: top;\n",
       "    }\n",
       "\n",
       "    .dataframe thead th {\n",
       "        text-align: right;\n",
       "    }\n",
       "</style>\n",
       "<table border=\"1\" class=\"dataframe\">\n",
       "  <thead>\n",
       "    <tr style=\"text-align: right;\">\n",
       "      <th></th>\n",
       "      <th>Age</th>\n",
       "      <th>Fare</th>\n",
       "    </tr>\n",
       "  </thead>\n",
       "  <tbody>\n",
       "    <tr>\n",
       "      <th>0</th>\n",
       "      <td>0.452723</td>\n",
       "      <td>0.015282</td>\n",
       "    </tr>\n",
       "    <tr>\n",
       "      <th>1</th>\n",
       "      <td>0.617566</td>\n",
       "      <td>0.013663</td>\n",
       "    </tr>\n",
       "    <tr>\n",
       "      <th>2</th>\n",
       "      <td>0.815377</td>\n",
       "      <td>0.018909</td>\n",
       "    </tr>\n",
       "    <tr>\n",
       "      <th>3</th>\n",
       "      <td>0.353818</td>\n",
       "      <td>0.016908</td>\n",
       "    </tr>\n",
       "    <tr>\n",
       "      <th>4</th>\n",
       "      <td>0.287881</td>\n",
       "      <td>0.023984</td>\n",
       "    </tr>\n",
       "  </tbody>\n",
       "</table>\n",
       "</div>"
      ],
      "text/plain": [
       "        Age      Fare\n",
       "0  0.452723  0.015282\n",
       "1  0.617566  0.013663\n",
       "2  0.815377  0.018909\n",
       "3  0.353818  0.016908\n",
       "4  0.287881  0.023984"
      ]
     },
     "execution_count": 8,
     "metadata": {},
     "output_type": "execute_result"
    }
   ],
   "source": [
    "scaler.fit(X1_test)\n",
    "X1_test_scaled=scaler.transform(X1_test)\n",
    "X1_test_scaled=pd.DataFrame(X1_test_scaled,columns=X1_test.columns)\n",
    "X1_test_scaled.head()"
   ]
  },
  {
   "cell_type": "markdown",
   "id": "bfbccdb4",
   "metadata": {
    "papermill": {
     "duration": 0.009093,
     "end_time": "2022-12-29T11:33:23.511656",
     "exception": false,
     "start_time": "2022-12-29T11:33:23.502563",
     "status": "completed"
    },
    "tags": []
   },
   "source": [
    "joining the train and test datasets"
   ]
  },
  {
   "cell_type": "code",
   "execution_count": 9,
   "id": "0bc993f2",
   "metadata": {
    "execution": {
     "iopub.execute_input": "2022-12-29T11:33:23.532577Z",
     "iopub.status.busy": "2022-12-29T11:33:23.532175Z",
     "iopub.status.idle": "2022-12-29T11:33:23.538668Z",
     "shell.execute_reply": "2022-12-29T11:33:23.537826Z"
    },
    "papermill": {
     "duration": 0.019496,
     "end_time": "2022-12-29T11:33:23.540823",
     "exception": false,
     "start_time": "2022-12-29T11:33:23.521327",
     "status": "completed"
    },
    "tags": []
   },
   "outputs": [],
   "source": [
    "X=pd.concat([X1_scaled,X2],axis=1)\n",
    "X_test=pd.concat([X1_test_scaled,X2_test],axis=1)"
   ]
  },
  {
   "cell_type": "markdown",
   "id": "b762ca57",
   "metadata": {
    "papermill": {
     "duration": 0.009108,
     "end_time": "2022-12-29T11:33:23.559263",
     "exception": false,
     "start_time": "2022-12-29T11:33:23.550155",
     "status": "completed"
    },
    "tags": []
   },
   "source": [
    "The final training dataset displayed"
   ]
  },
  {
   "cell_type": "code",
   "execution_count": 10,
   "id": "08bef6a7",
   "metadata": {
    "execution": {
     "iopub.execute_input": "2022-12-29T11:33:23.579485Z",
     "iopub.status.busy": "2022-12-29T11:33:23.579054Z",
     "iopub.status.idle": "2022-12-29T11:33:23.592649Z",
     "shell.execute_reply": "2022-12-29T11:33:23.591550Z"
    },
    "papermill": {
     "duration": 0.026305,
     "end_time": "2022-12-29T11:33:23.594971",
     "exception": false,
     "start_time": "2022-12-29T11:33:23.568666",
     "status": "completed"
    },
    "tags": []
   },
   "outputs": [
    {
     "data": {
      "text/html": [
       "<div>\n",
       "<style scoped>\n",
       "    .dataframe tbody tr th:only-of-type {\n",
       "        vertical-align: middle;\n",
       "    }\n",
       "\n",
       "    .dataframe tbody tr th {\n",
       "        vertical-align: top;\n",
       "    }\n",
       "\n",
       "    .dataframe thead th {\n",
       "        text-align: right;\n",
       "    }\n",
       "</style>\n",
       "<table border=\"1\" class=\"dataframe\">\n",
       "  <thead>\n",
       "    <tr style=\"text-align: right;\">\n",
       "      <th></th>\n",
       "      <th>Age</th>\n",
       "      <th>Fare</th>\n",
       "      <th>Pclass</th>\n",
       "      <th>SibSp</th>\n",
       "      <th>Parch</th>\n",
       "      <th>Sex_female</th>\n",
       "      <th>Sex_male</th>\n",
       "    </tr>\n",
       "  </thead>\n",
       "  <tbody>\n",
       "    <tr>\n",
       "      <th>0</th>\n",
       "      <td>0.271174</td>\n",
       "      <td>0.014151</td>\n",
       "      <td>3</td>\n",
       "      <td>1</td>\n",
       "      <td>0</td>\n",
       "      <td>0</td>\n",
       "      <td>1</td>\n",
       "    </tr>\n",
       "    <tr>\n",
       "      <th>1</th>\n",
       "      <td>0.472229</td>\n",
       "      <td>0.139136</td>\n",
       "      <td>1</td>\n",
       "      <td>1</td>\n",
       "      <td>0</td>\n",
       "      <td>1</td>\n",
       "      <td>0</td>\n",
       "    </tr>\n",
       "    <tr>\n",
       "      <th>2</th>\n",
       "      <td>0.321438</td>\n",
       "      <td>0.015469</td>\n",
       "      <td>3</td>\n",
       "      <td>0</td>\n",
       "      <td>0</td>\n",
       "      <td>1</td>\n",
       "      <td>0</td>\n",
       "    </tr>\n",
       "    <tr>\n",
       "      <th>3</th>\n",
       "      <td>0.434531</td>\n",
       "      <td>0.103644</td>\n",
       "      <td>1</td>\n",
       "      <td>1</td>\n",
       "      <td>0</td>\n",
       "      <td>1</td>\n",
       "      <td>0</td>\n",
       "    </tr>\n",
       "    <tr>\n",
       "      <th>4</th>\n",
       "      <td>0.434531</td>\n",
       "      <td>0.015713</td>\n",
       "      <td>3</td>\n",
       "      <td>0</td>\n",
       "      <td>0</td>\n",
       "      <td>0</td>\n",
       "      <td>1</td>\n",
       "    </tr>\n",
       "  </tbody>\n",
       "</table>\n",
       "</div>"
      ],
      "text/plain": [
       "        Age      Fare  Pclass  SibSp  Parch  Sex_female  Sex_male\n",
       "0  0.271174  0.014151       3      1      0           0         1\n",
       "1  0.472229  0.139136       1      1      0           1         0\n",
       "2  0.321438  0.015469       3      0      0           1         0\n",
       "3  0.434531  0.103644       1      1      0           1         0\n",
       "4  0.434531  0.015713       3      0      0           0         1"
      ]
     },
     "execution_count": 10,
     "metadata": {},
     "output_type": "execute_result"
    }
   ],
   "source": [
    "X.head()"
   ]
  },
  {
   "cell_type": "markdown",
   "id": "0538300b",
   "metadata": {
    "papermill": {
     "duration": 0.009354,
     "end_time": "2022-12-29T11:33:23.614071",
     "exception": false,
     "start_time": "2022-12-29T11:33:23.604717",
     "status": "completed"
    },
    "tags": []
   },
   "source": [
    "the final Test dataset displayed"
   ]
  },
  {
   "cell_type": "code",
   "execution_count": 11,
   "id": "1303bf62",
   "metadata": {
    "execution": {
     "iopub.execute_input": "2022-12-29T11:33:23.634973Z",
     "iopub.status.busy": "2022-12-29T11:33:23.634578Z",
     "iopub.status.idle": "2022-12-29T11:33:23.646807Z",
     "shell.execute_reply": "2022-12-29T11:33:23.645788Z"
    },
    "papermill": {
     "duration": 0.025267,
     "end_time": "2022-12-29T11:33:23.649064",
     "exception": false,
     "start_time": "2022-12-29T11:33:23.623797",
     "status": "completed"
    },
    "tags": []
   },
   "outputs": [
    {
     "data": {
      "text/html": [
       "<div>\n",
       "<style scoped>\n",
       "    .dataframe tbody tr th:only-of-type {\n",
       "        vertical-align: middle;\n",
       "    }\n",
       "\n",
       "    .dataframe tbody tr th {\n",
       "        vertical-align: top;\n",
       "    }\n",
       "\n",
       "    .dataframe thead th {\n",
       "        text-align: right;\n",
       "    }\n",
       "</style>\n",
       "<table border=\"1\" class=\"dataframe\">\n",
       "  <thead>\n",
       "    <tr style=\"text-align: right;\">\n",
       "      <th></th>\n",
       "      <th>Age</th>\n",
       "      <th>Fare</th>\n",
       "      <th>Pclass</th>\n",
       "      <th>SibSp</th>\n",
       "      <th>Parch</th>\n",
       "      <th>Sex_female</th>\n",
       "      <th>Sex_male</th>\n",
       "    </tr>\n",
       "  </thead>\n",
       "  <tbody>\n",
       "    <tr>\n",
       "      <th>0</th>\n",
       "      <td>0.452723</td>\n",
       "      <td>0.015282</td>\n",
       "      <td>3</td>\n",
       "      <td>0</td>\n",
       "      <td>0</td>\n",
       "      <td>0</td>\n",
       "      <td>1</td>\n",
       "    </tr>\n",
       "    <tr>\n",
       "      <th>1</th>\n",
       "      <td>0.617566</td>\n",
       "      <td>0.013663</td>\n",
       "      <td>3</td>\n",
       "      <td>1</td>\n",
       "      <td>0</td>\n",
       "      <td>1</td>\n",
       "      <td>0</td>\n",
       "    </tr>\n",
       "    <tr>\n",
       "      <th>2</th>\n",
       "      <td>0.815377</td>\n",
       "      <td>0.018909</td>\n",
       "      <td>2</td>\n",
       "      <td>0</td>\n",
       "      <td>0</td>\n",
       "      <td>0</td>\n",
       "      <td>1</td>\n",
       "    </tr>\n",
       "    <tr>\n",
       "      <th>3</th>\n",
       "      <td>0.353818</td>\n",
       "      <td>0.016908</td>\n",
       "      <td>3</td>\n",
       "      <td>0</td>\n",
       "      <td>0</td>\n",
       "      <td>0</td>\n",
       "      <td>1</td>\n",
       "    </tr>\n",
       "    <tr>\n",
       "      <th>4</th>\n",
       "      <td>0.287881</td>\n",
       "      <td>0.023984</td>\n",
       "      <td>3</td>\n",
       "      <td>1</td>\n",
       "      <td>1</td>\n",
       "      <td>1</td>\n",
       "      <td>0</td>\n",
       "    </tr>\n",
       "  </tbody>\n",
       "</table>\n",
       "</div>"
      ],
      "text/plain": [
       "        Age      Fare  Pclass  SibSp  Parch  Sex_female  Sex_male\n",
       "0  0.452723  0.015282       3      0      0           0         1\n",
       "1  0.617566  0.013663       3      1      0           1         0\n",
       "2  0.815377  0.018909       2      0      0           0         1\n",
       "3  0.353818  0.016908       3      0      0           0         1\n",
       "4  0.287881  0.023984       3      1      1           1         0"
      ]
     },
     "execution_count": 11,
     "metadata": {},
     "output_type": "execute_result"
    }
   ],
   "source": [
    "X_test.head()"
   ]
  },
  {
   "cell_type": "code",
   "execution_count": 12,
   "id": "14aaeb8d",
   "metadata": {
    "execution": {
     "iopub.execute_input": "2022-12-29T11:33:23.670734Z",
     "iopub.status.busy": "2022-12-29T11:33:23.670311Z",
     "iopub.status.idle": "2022-12-29T11:33:23.677903Z",
     "shell.execute_reply": "2022-12-29T11:33:23.676973Z"
    },
    "papermill": {
     "duration": 0.021231,
     "end_time": "2022-12-29T11:33:23.680217",
     "exception": false,
     "start_time": "2022-12-29T11:33:23.658986",
     "status": "completed"
    },
    "tags": []
   },
   "outputs": [
    {
     "data": {
      "text/plain": [
       "0    0\n",
       "1    1\n",
       "2    1\n",
       "3    1\n",
       "4    0\n",
       "Name: Survived, dtype: int64"
      ]
     },
     "execution_count": 12,
     "metadata": {},
     "output_type": "execute_result"
    }
   ],
   "source": [
    "y.head()"
   ]
  },
  {
   "cell_type": "markdown",
   "id": "a50be8cf",
   "metadata": {
    "papermill": {
     "duration": 0.009554,
     "end_time": "2022-12-29T11:33:23.699691",
     "exception": false,
     "start_time": "2022-12-29T11:33:23.690137",
     "status": "completed"
    },
    "tags": []
   },
   "source": [
    "dealing with missing values"
   ]
  },
  {
   "cell_type": "code",
   "execution_count": 13,
   "id": "710aed53",
   "metadata": {
    "execution": {
     "iopub.execute_input": "2022-12-29T11:33:23.720986Z",
     "iopub.status.busy": "2022-12-29T11:33:23.720594Z",
     "iopub.status.idle": "2022-12-29T11:33:23.730853Z",
     "shell.execute_reply": "2022-12-29T11:33:23.729744Z"
    },
    "papermill": {
     "duration": 0.023487,
     "end_time": "2022-12-29T11:33:23.733109",
     "exception": false,
     "start_time": "2022-12-29T11:33:23.709622",
     "status": "completed"
    },
    "tags": []
   },
   "outputs": [
    {
     "data": {
      "text/plain": [
       "Age           177\n",
       "Fare            0\n",
       "Pclass          0\n",
       "SibSp           0\n",
       "Parch           0\n",
       "Sex_female      0\n",
       "Sex_male        0\n",
       "dtype: int64"
      ]
     },
     "execution_count": 13,
     "metadata": {},
     "output_type": "execute_result"
    }
   ],
   "source": [
    "X.isnull().sum()"
   ]
  },
  {
   "cell_type": "code",
   "execution_count": 14,
   "id": "c7ba8653",
   "metadata": {
    "execution": {
     "iopub.execute_input": "2022-12-29T11:33:23.755101Z",
     "iopub.status.busy": "2022-12-29T11:33:23.754260Z",
     "iopub.status.idle": "2022-12-29T11:33:23.767840Z",
     "shell.execute_reply": "2022-12-29T11:33:23.766764Z"
    },
    "papermill": {
     "duration": 0.027057,
     "end_time": "2022-12-29T11:33:23.770200",
     "exception": false,
     "start_time": "2022-12-29T11:33:23.743143",
     "status": "completed"
    },
    "tags": []
   },
   "outputs": [
    {
     "data": {
      "text/html": [
       "<div>\n",
       "<style scoped>\n",
       "    .dataframe tbody tr th:only-of-type {\n",
       "        vertical-align: middle;\n",
       "    }\n",
       "\n",
       "    .dataframe tbody tr th {\n",
       "        vertical-align: top;\n",
       "    }\n",
       "\n",
       "    .dataframe thead th {\n",
       "        text-align: right;\n",
       "    }\n",
       "</style>\n",
       "<table border=\"1\" class=\"dataframe\">\n",
       "  <thead>\n",
       "    <tr style=\"text-align: right;\">\n",
       "      <th></th>\n",
       "      <th>Fare</th>\n",
       "      <th>Pclass</th>\n",
       "      <th>SibSp</th>\n",
       "      <th>Parch</th>\n",
       "      <th>Sex_female</th>\n",
       "      <th>Sex_male</th>\n",
       "    </tr>\n",
       "  </thead>\n",
       "  <tbody>\n",
       "    <tr>\n",
       "      <th>0</th>\n",
       "      <td>0.014151</td>\n",
       "      <td>3</td>\n",
       "      <td>1</td>\n",
       "      <td>0</td>\n",
       "      <td>0</td>\n",
       "      <td>1</td>\n",
       "    </tr>\n",
       "    <tr>\n",
       "      <th>1</th>\n",
       "      <td>0.139136</td>\n",
       "      <td>1</td>\n",
       "      <td>1</td>\n",
       "      <td>0</td>\n",
       "      <td>1</td>\n",
       "      <td>0</td>\n",
       "    </tr>\n",
       "    <tr>\n",
       "      <th>2</th>\n",
       "      <td>0.015469</td>\n",
       "      <td>3</td>\n",
       "      <td>0</td>\n",
       "      <td>0</td>\n",
       "      <td>1</td>\n",
       "      <td>0</td>\n",
       "    </tr>\n",
       "    <tr>\n",
       "      <th>3</th>\n",
       "      <td>0.103644</td>\n",
       "      <td>1</td>\n",
       "      <td>1</td>\n",
       "      <td>0</td>\n",
       "      <td>1</td>\n",
       "      <td>0</td>\n",
       "    </tr>\n",
       "    <tr>\n",
       "      <th>4</th>\n",
       "      <td>0.015713</td>\n",
       "      <td>3</td>\n",
       "      <td>0</td>\n",
       "      <td>0</td>\n",
       "      <td>0</td>\n",
       "      <td>1</td>\n",
       "    </tr>\n",
       "  </tbody>\n",
       "</table>\n",
       "</div>"
      ],
      "text/plain": [
       "       Fare  Pclass  SibSp  Parch  Sex_female  Sex_male\n",
       "0  0.014151       3      1      0           0         1\n",
       "1  0.139136       1      1      0           1         0\n",
       "2  0.015469       3      0      0           1         0\n",
       "3  0.103644       1      1      0           1         0\n",
       "4  0.015713       3      0      0           0         1"
      ]
     },
     "execution_count": 14,
     "metadata": {},
     "output_type": "execute_result"
    }
   ],
   "source": [
    "X=X.drop(columns=['Age'])\n",
    "X.head()"
   ]
  },
  {
   "cell_type": "code",
   "execution_count": 15,
   "id": "f0a59987",
   "metadata": {
    "execution": {
     "iopub.execute_input": "2022-12-29T11:33:23.792571Z",
     "iopub.status.busy": "2022-12-29T11:33:23.792158Z",
     "iopub.status.idle": "2022-12-29T11:33:23.801123Z",
     "shell.execute_reply": "2022-12-29T11:33:23.800085Z"
    },
    "papermill": {
     "duration": 0.023005,
     "end_time": "2022-12-29T11:33:23.803522",
     "exception": false,
     "start_time": "2022-12-29T11:33:23.780517",
     "status": "completed"
    },
    "tags": []
   },
   "outputs": [
    {
     "data": {
      "text/plain": [
       "Age           86\n",
       "Fare           1\n",
       "Pclass         0\n",
       "SibSp          0\n",
       "Parch          0\n",
       "Sex_female     0\n",
       "Sex_male       0\n",
       "dtype: int64"
      ]
     },
     "execution_count": 15,
     "metadata": {},
     "output_type": "execute_result"
    }
   ],
   "source": [
    "X_test.isnull().sum()"
   ]
  },
  {
   "cell_type": "markdown",
   "id": "8bfd6a93",
   "metadata": {
    "papermill": {
     "duration": 0.010001,
     "end_time": "2022-12-29T11:33:23.823969",
     "exception": false,
     "start_time": "2022-12-29T11:33:23.813968",
     "status": "completed"
    },
    "tags": []
   },
   "source": [
    "Data Cleaning "
   ]
  },
  {
   "cell_type": "code",
   "execution_count": 16,
   "id": "a8773ecd",
   "metadata": {
    "execution": {
     "iopub.execute_input": "2022-12-29T11:33:23.846238Z",
     "iopub.status.busy": "2022-12-29T11:33:23.845870Z",
     "iopub.status.idle": "2022-12-29T11:33:23.858146Z",
     "shell.execute_reply": "2022-12-29T11:33:23.857003Z"
    },
    "papermill": {
     "duration": 0.026331,
     "end_time": "2022-12-29T11:33:23.860546",
     "exception": false,
     "start_time": "2022-12-29T11:33:23.834215",
     "status": "completed"
    },
    "tags": []
   },
   "outputs": [
    {
     "data": {
      "text/html": [
       "<div>\n",
       "<style scoped>\n",
       "    .dataframe tbody tr th:only-of-type {\n",
       "        vertical-align: middle;\n",
       "    }\n",
       "\n",
       "    .dataframe tbody tr th {\n",
       "        vertical-align: top;\n",
       "    }\n",
       "\n",
       "    .dataframe thead th {\n",
       "        text-align: right;\n",
       "    }\n",
       "</style>\n",
       "<table border=\"1\" class=\"dataframe\">\n",
       "  <thead>\n",
       "    <tr style=\"text-align: right;\">\n",
       "      <th></th>\n",
       "      <th>Fare</th>\n",
       "      <th>Pclass</th>\n",
       "      <th>SibSp</th>\n",
       "      <th>Parch</th>\n",
       "      <th>Sex_female</th>\n",
       "      <th>Sex_male</th>\n",
       "    </tr>\n",
       "  </thead>\n",
       "  <tbody>\n",
       "    <tr>\n",
       "      <th>0</th>\n",
       "      <td>0.015282</td>\n",
       "      <td>3</td>\n",
       "      <td>0</td>\n",
       "      <td>0</td>\n",
       "      <td>0</td>\n",
       "      <td>1</td>\n",
       "    </tr>\n",
       "    <tr>\n",
       "      <th>1</th>\n",
       "      <td>0.013663</td>\n",
       "      <td>3</td>\n",
       "      <td>1</td>\n",
       "      <td>0</td>\n",
       "      <td>1</td>\n",
       "      <td>0</td>\n",
       "    </tr>\n",
       "    <tr>\n",
       "      <th>2</th>\n",
       "      <td>0.018909</td>\n",
       "      <td>2</td>\n",
       "      <td>0</td>\n",
       "      <td>0</td>\n",
       "      <td>0</td>\n",
       "      <td>1</td>\n",
       "    </tr>\n",
       "    <tr>\n",
       "      <th>3</th>\n",
       "      <td>0.016908</td>\n",
       "      <td>3</td>\n",
       "      <td>0</td>\n",
       "      <td>0</td>\n",
       "      <td>0</td>\n",
       "      <td>1</td>\n",
       "    </tr>\n",
       "    <tr>\n",
       "      <th>4</th>\n",
       "      <td>0.023984</td>\n",
       "      <td>3</td>\n",
       "      <td>1</td>\n",
       "      <td>1</td>\n",
       "      <td>1</td>\n",
       "      <td>0</td>\n",
       "    </tr>\n",
       "  </tbody>\n",
       "</table>\n",
       "</div>"
      ],
      "text/plain": [
       "       Fare  Pclass  SibSp  Parch  Sex_female  Sex_male\n",
       "0  0.015282       3      0      0           0         1\n",
       "1  0.013663       3      1      0           1         0\n",
       "2  0.018909       2      0      0           0         1\n",
       "3  0.016908       3      0      0           0         1\n",
       "4  0.023984       3      1      1           1         0"
      ]
     },
     "execution_count": 16,
     "metadata": {},
     "output_type": "execute_result"
    }
   ],
   "source": [
    "X_test=X_test.drop(columns=['Age'])\n",
    "X_test.head()"
   ]
  },
  {
   "cell_type": "markdown",
   "id": "156142cf",
   "metadata": {
    "papermill": {
     "duration": 0.010475,
     "end_time": "2022-12-29T11:33:23.883574",
     "exception": false,
     "start_time": "2022-12-29T11:33:23.873099",
     "status": "completed"
    },
    "tags": []
   },
   "source": [
    "checking for any remaining null values"
   ]
  },
  {
   "cell_type": "markdown",
   "id": "233d64ad",
   "metadata": {
    "papermill": {
     "duration": 0.010256,
     "end_time": "2022-12-29T11:33:23.904455",
     "exception": false,
     "start_time": "2022-12-29T11:33:23.894199",
     "status": "completed"
    },
    "tags": []
   },
   "source": [
    "checking the dataset now"
   ]
  },
  {
   "cell_type": "code",
   "execution_count": 17,
   "id": "a5b3ac77",
   "metadata": {
    "execution": {
     "iopub.execute_input": "2022-12-29T11:33:23.928139Z",
     "iopub.status.busy": "2022-12-29T11:33:23.927659Z",
     "iopub.status.idle": "2022-12-29T11:33:23.940421Z",
     "shell.execute_reply": "2022-12-29T11:33:23.939339Z"
    },
    "papermill": {
     "duration": 0.027557,
     "end_time": "2022-12-29T11:33:23.942748",
     "exception": false,
     "start_time": "2022-12-29T11:33:23.915191",
     "status": "completed"
    },
    "tags": []
   },
   "outputs": [
    {
     "data": {
      "text/html": [
       "<div>\n",
       "<style scoped>\n",
       "    .dataframe tbody tr th:only-of-type {\n",
       "        vertical-align: middle;\n",
       "    }\n",
       "\n",
       "    .dataframe tbody tr th {\n",
       "        vertical-align: top;\n",
       "    }\n",
       "\n",
       "    .dataframe thead th {\n",
       "        text-align: right;\n",
       "    }\n",
       "</style>\n",
       "<table border=\"1\" class=\"dataframe\">\n",
       "  <thead>\n",
       "    <tr style=\"text-align: right;\">\n",
       "      <th></th>\n",
       "      <th>Fare</th>\n",
       "      <th>Pclass</th>\n",
       "      <th>SibSp</th>\n",
       "      <th>Parch</th>\n",
       "      <th>Sex_female</th>\n",
       "      <th>Sex_male</th>\n",
       "    </tr>\n",
       "  </thead>\n",
       "  <tbody>\n",
       "    <tr>\n",
       "      <th>0</th>\n",
       "      <td>0.015282</td>\n",
       "      <td>3</td>\n",
       "      <td>0</td>\n",
       "      <td>0</td>\n",
       "      <td>0</td>\n",
       "      <td>1</td>\n",
       "    </tr>\n",
       "    <tr>\n",
       "      <th>1</th>\n",
       "      <td>0.013663</td>\n",
       "      <td>3</td>\n",
       "      <td>1</td>\n",
       "      <td>0</td>\n",
       "      <td>1</td>\n",
       "      <td>0</td>\n",
       "    </tr>\n",
       "    <tr>\n",
       "      <th>2</th>\n",
       "      <td>0.018909</td>\n",
       "      <td>2</td>\n",
       "      <td>0</td>\n",
       "      <td>0</td>\n",
       "      <td>0</td>\n",
       "      <td>1</td>\n",
       "    </tr>\n",
       "    <tr>\n",
       "      <th>3</th>\n",
       "      <td>0.016908</td>\n",
       "      <td>3</td>\n",
       "      <td>0</td>\n",
       "      <td>0</td>\n",
       "      <td>0</td>\n",
       "      <td>1</td>\n",
       "    </tr>\n",
       "    <tr>\n",
       "      <th>4</th>\n",
       "      <td>0.023984</td>\n",
       "      <td>3</td>\n",
       "      <td>1</td>\n",
       "      <td>1</td>\n",
       "      <td>1</td>\n",
       "      <td>0</td>\n",
       "    </tr>\n",
       "  </tbody>\n",
       "</table>\n",
       "</div>"
      ],
      "text/plain": [
       "       Fare  Pclass  SibSp  Parch  Sex_female  Sex_male\n",
       "0  0.015282       3      0      0           0         1\n",
       "1  0.013663       3      1      0           1         0\n",
       "2  0.018909       2      0      0           0         1\n",
       "3  0.016908       3      0      0           0         1\n",
       "4  0.023984       3      1      1           1         0"
      ]
     },
     "execution_count": 17,
     "metadata": {},
     "output_type": "execute_result"
    }
   ],
   "source": [
    "X_test.head()"
   ]
  },
  {
   "cell_type": "markdown",
   "id": "f7f56192",
   "metadata": {
    "papermill": {
     "duration": 0.010302,
     "end_time": "2022-12-29T11:33:23.964006",
     "exception": false,
     "start_time": "2022-12-29T11:33:23.953704",
     "status": "completed"
    },
    "tags": []
   },
   "source": [
    "using simple column filling"
   ]
  },
  {
   "cell_type": "code",
   "execution_count": 18,
   "id": "5171b567",
   "metadata": {
    "execution": {
     "iopub.execute_input": "2022-12-29T11:33:23.987641Z",
     "iopub.status.busy": "2022-12-29T11:33:23.987203Z",
     "iopub.status.idle": "2022-12-29T11:33:23.998137Z",
     "shell.execute_reply": "2022-12-29T11:33:23.996981Z"
    },
    "papermill": {
     "duration": 0.025556,
     "end_time": "2022-12-29T11:33:24.000453",
     "exception": false,
     "start_time": "2022-12-29T11:33:23.974897",
     "status": "completed"
    },
    "tags": []
   },
   "outputs": [],
   "source": [
    "X_test=X_test.fillna(method='bfill', axis=0).fillna(0)\n"
   ]
  },
  {
   "cell_type": "code",
   "execution_count": 19,
   "id": "d72c0ed8",
   "metadata": {
    "execution": {
     "iopub.execute_input": "2022-12-29T11:33:24.024482Z",
     "iopub.status.busy": "2022-12-29T11:33:24.023700Z",
     "iopub.status.idle": "2022-12-29T11:33:24.032945Z",
     "shell.execute_reply": "2022-12-29T11:33:24.031774Z"
    },
    "papermill": {
     "duration": 0.023605,
     "end_time": "2022-12-29T11:33:24.034951",
     "exception": false,
     "start_time": "2022-12-29T11:33:24.011346",
     "status": "completed"
    },
    "tags": []
   },
   "outputs": [
    {
     "data": {
      "text/plain": [
       "Fare          0\n",
       "Pclass        0\n",
       "SibSp         0\n",
       "Parch         0\n",
       "Sex_female    0\n",
       "Sex_male      0\n",
       "dtype: int64"
      ]
     },
     "execution_count": 19,
     "metadata": {},
     "output_type": "execute_result"
    }
   ],
   "source": [
    "X_test.isnull().sum()"
   ]
  },
  {
   "cell_type": "code",
   "execution_count": 20,
   "id": "da51c235",
   "metadata": {
    "execution": {
     "iopub.execute_input": "2022-12-29T11:33:24.058852Z",
     "iopub.status.busy": "2022-12-29T11:33:24.058486Z",
     "iopub.status.idle": "2022-12-29T11:33:24.188555Z",
     "shell.execute_reply": "2022-12-29T11:33:24.187351Z"
    },
    "papermill": {
     "duration": 0.145468,
     "end_time": "2022-12-29T11:33:24.191671",
     "exception": false,
     "start_time": "2022-12-29T11:33:24.046203",
     "status": "completed"
    },
    "tags": []
   },
   "outputs": [],
   "source": [
    "from sklearn.svm import SVC\n",
    "SVM_classifier = SVC(kernel = 'linear', random_state = 0)"
   ]
  },
  {
   "cell_type": "code",
   "execution_count": 21,
   "id": "d54176f8",
   "metadata": {
    "execution": {
     "iopub.execute_input": "2022-12-29T11:33:24.215671Z",
     "iopub.status.busy": "2022-12-29T11:33:24.215149Z",
     "iopub.status.idle": "2022-12-29T11:33:24.247188Z",
     "shell.execute_reply": "2022-12-29T11:33:24.246078Z"
    },
    "papermill": {
     "duration": 0.04666,
     "end_time": "2022-12-29T11:33:24.249546",
     "exception": false,
     "start_time": "2022-12-29T11:33:24.202886",
     "status": "completed"
    },
    "tags": []
   },
   "outputs": [
    {
     "data": {
      "text/plain": [
       "SVC(kernel='linear', random_state=0)"
      ]
     },
     "execution_count": 21,
     "metadata": {},
     "output_type": "execute_result"
    }
   ],
   "source": [
    "SVM_classifier.fit(X,y)"
   ]
  },
  {
   "cell_type": "markdown",
   "id": "7d8cc0aa",
   "metadata": {
    "papermill": {
     "duration": 0.010743,
     "end_time": "2022-12-29T11:33:24.271513",
     "exception": false,
     "start_time": "2022-12-29T11:33:24.260770",
     "status": "completed"
    },
    "tags": []
   },
   "source": [
    "making predictions"
   ]
  },
  {
   "cell_type": "code",
   "execution_count": 22,
   "id": "a5a150d4",
   "metadata": {
    "execution": {
     "iopub.execute_input": "2022-12-29T11:33:24.295700Z",
     "iopub.status.busy": "2022-12-29T11:33:24.295275Z",
     "iopub.status.idle": "2022-12-29T11:33:24.306953Z",
     "shell.execute_reply": "2022-12-29T11:33:24.305847Z"
    },
    "papermill": {
     "duration": 0.026454,
     "end_time": "2022-12-29T11:33:24.309482",
     "exception": false,
     "start_time": "2022-12-29T11:33:24.283028",
     "status": "completed"
    },
    "tags": []
   },
   "outputs": [],
   "source": [
    "predictions=SVM_classifier.predict(X_test)"
   ]
  },
  {
   "cell_type": "markdown",
   "id": "abae9ed9",
   "metadata": {
    "papermill": {
     "duration": 0.01073,
     "end_time": "2022-12-29T11:33:24.332018",
     "exception": false,
     "start_time": "2022-12-29T11:33:24.321288",
     "status": "completed"
    },
    "tags": []
   },
   "source": [
    "Uploading the csv with the necessary predictions"
   ]
  },
  {
   "cell_type": "code",
   "execution_count": 23,
   "id": "72e6a996",
   "metadata": {
    "execution": {
     "iopub.execute_input": "2022-12-29T11:33:24.356220Z",
     "iopub.status.busy": "2022-12-29T11:33:24.355232Z",
     "iopub.status.idle": "2022-12-29T11:33:24.366555Z",
     "shell.execute_reply": "2022-12-29T11:33:24.365485Z"
    },
    "papermill": {
     "duration": 0.026235,
     "end_time": "2022-12-29T11:33:24.369283",
     "exception": false,
     "start_time": "2022-12-29T11:33:24.343048",
     "status": "completed"
    },
    "tags": []
   },
   "outputs": [
    {
     "name": "stdout",
     "output_type": "stream",
     "text": [
      "Your submission was successfully saved!\n"
     ]
    }
   ],
   "source": [
    "output = pd.DataFrame({'PassengerId': test_data.PassengerId, 'Survived': predictions})\n",
    "output.to_csv('submission.csv', index=False)\n",
    "print(\"Your submission was successfully saved!\")"
   ]
  },
  {
   "cell_type": "code",
   "execution_count": null,
   "id": "b35a38c1",
   "metadata": {
    "papermill": {
     "duration": 0.010694,
     "end_time": "2022-12-29T11:33:24.391188",
     "exception": false,
     "start_time": "2022-12-29T11:33:24.380494",
     "status": "completed"
    },
    "tags": []
   },
   "outputs": [],
   "source": []
  }
 ],
 "metadata": {
  "kernelspec": {
   "display_name": "Python 3",
   "language": "python",
   "name": "python3"
  },
  "language_info": {
   "codemirror_mode": {
    "name": "ipython",
    "version": 3
   },
   "file_extension": ".py",
   "mimetype": "text/x-python",
   "name": "python",
   "nbconvert_exporter": "python",
   "pygments_lexer": "ipython3",
   "version": "3.7.12"
  },
  "papermill": {
   "default_parameters": {},
   "duration": 11.359857,
   "end_time": "2022-12-29T11:33:25.123477",
   "environment_variables": {},
   "exception": null,
   "input_path": "__notebook__.ipynb",
   "output_path": "__notebook__.ipynb",
   "parameters": {},
   "start_time": "2022-12-29T11:33:13.763620",
   "version": "2.3.4"
  }
 },
 "nbformat": 4,
 "nbformat_minor": 5
}
