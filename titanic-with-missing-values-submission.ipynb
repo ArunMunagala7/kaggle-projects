{
 "cells": [
  {
   "cell_type": "code",
   "execution_count": 1,
   "id": "3f088845",
   "metadata": {
    "_cell_guid": "b1076dfc-b9ad-4769-8c92-a6c4dae69d19",
    "_uuid": "8f2839f25d086af736a60e9eeb907d3b93b6e0e5",
    "execution": {
     "iopub.execute_input": "2022-11-26T11:09:45.706253Z",
     "iopub.status.busy": "2022-11-26T11:09:45.705755Z",
     "iopub.status.idle": "2022-11-26T11:09:45.721198Z",
     "shell.execute_reply": "2022-11-26T11:09:45.719735Z"
    },
    "papermill": {
     "duration": 0.032024,
     "end_time": "2022-11-26T11:09:45.726184",
     "exception": false,
     "start_time": "2022-11-26T11:09:45.694160",
     "status": "completed"
    },
    "tags": []
   },
   "outputs": [
    {
     "name": "stdout",
     "output_type": "stream",
     "text": [
      "/kaggle/input/titanic/train.csv\n",
      "/kaggle/input/titanic/test.csv\n",
      "/kaggle/input/titanic/gender_submission.csv\n"
     ]
    }
   ],
   "source": [
    "# This Python 3 environment comes with many helpful analytics libraries installed\n",
    "# It is defined by the kaggle/python Docker image: https://github.com/kaggle/docker-python\n",
    "# For example, here's several helpful packages to load\n",
    "\n",
    "import numpy as np # linear algebra\n",
    "import pandas as pd # data processing, CSV file I/O (e.g. pd.read_csv)\n",
    "\n",
    "# Input data files are available in the read-only \"../input/\" directory\n",
    "# For example, running this (by clicking run or pressing Shift+Enter) will list all files under the input directory\n",
    "\n",
    "import os\n",
    "for dirname, _, filenames in os.walk('/kaggle/input'):\n",
    "    for filename in filenames:\n",
    "        print(os.path.join(dirname, filename))\n",
    "\n",
    "# You can write up to 20GB to the current directory (/kaggle/working/) that gets preserved as output when you create a version using \"Save & Run All\" \n",
    "# You can also write temporary files to /kaggle/temp/, but they won't be saved outside of the current session"
   ]
  },
  {
   "cell_type": "code",
   "execution_count": 2,
   "id": "6d10c023",
   "metadata": {
    "execution": {
     "iopub.execute_input": "2022-11-26T11:09:45.745668Z",
     "iopub.status.busy": "2022-11-26T11:09:45.745231Z",
     "iopub.status.idle": "2022-11-26T11:09:46.896579Z",
     "shell.execute_reply": "2022-11-26T11:09:46.895184Z"
    },
    "papermill": {
     "duration": 1.16406,
     "end_time": "2022-11-26T11:09:46.899389",
     "exception": false,
     "start_time": "2022-11-26T11:09:45.735329",
     "status": "completed"
    },
    "tags": []
   },
   "outputs": [
    {
     "name": "stdout",
     "output_type": "stream",
     "text": [
      "Setup Complete\n"
     ]
    }
   ],
   "source": [
    "import pandas as pd\n",
    "pd.plotting.register_matplotlib_converters()\n",
    "import matplotlib.pyplot as plt\n",
    "%matplotlib inline\n",
    "import seaborn as sns\n",
    "print(\"Setup Complete\")"
   ]
  },
  {
   "cell_type": "code",
   "execution_count": 3,
   "id": "abcfb305",
   "metadata": {
    "execution": {
     "iopub.execute_input": "2022-11-26T11:09:46.918254Z",
     "iopub.status.busy": "2022-11-26T11:09:46.917486Z",
     "iopub.status.idle": "2022-11-26T11:09:46.939856Z",
     "shell.execute_reply": "2022-11-26T11:09:46.938660Z"
    },
    "papermill": {
     "duration": 0.034785,
     "end_time": "2022-11-26T11:09:46.942576",
     "exception": false,
     "start_time": "2022-11-26T11:09:46.907791",
     "status": "completed"
    },
    "tags": []
   },
   "outputs": [],
   "source": [
    "train_data_path=\"/kaggle/input/titanic/train.csv\"\n",
    "train_data=pd.read_csv(train_data_path)"
   ]
  },
  {
   "cell_type": "code",
   "execution_count": 4,
   "id": "606c36d0",
   "metadata": {
    "execution": {
     "iopub.execute_input": "2022-11-26T11:09:46.960759Z",
     "iopub.status.busy": "2022-11-26T11:09:46.960303Z",
     "iopub.status.idle": "2022-11-26T11:09:46.973092Z",
     "shell.execute_reply": "2022-11-26T11:09:46.971795Z"
    },
    "papermill": {
     "duration": 0.025208,
     "end_time": "2022-11-26T11:09:46.976119",
     "exception": false,
     "start_time": "2022-11-26T11:09:46.950911",
     "status": "completed"
    },
    "tags": []
   },
   "outputs": [],
   "source": [
    "test_data_path=\"/kaggle/input/titanic/test.csv\"\n",
    "test_data=pd.read_csv(test_data_path)"
   ]
  },
  {
   "cell_type": "code",
   "execution_count": 5,
   "id": "2dd1dc61",
   "metadata": {
    "execution": {
     "iopub.execute_input": "2022-11-26T11:09:46.994676Z",
     "iopub.status.busy": "2022-11-26T11:09:46.994217Z",
     "iopub.status.idle": "2022-11-26T11:09:47.021236Z",
     "shell.execute_reply": "2022-11-26T11:09:47.020299Z"
    },
    "papermill": {
     "duration": 0.03944,
     "end_time": "2022-11-26T11:09:47.023780",
     "exception": false,
     "start_time": "2022-11-26T11:09:46.984340",
     "status": "completed"
    },
    "tags": []
   },
   "outputs": [
    {
     "data": {
      "text/html": [
       "<div>\n",
       "<style scoped>\n",
       "    .dataframe tbody tr th:only-of-type {\n",
       "        vertical-align: middle;\n",
       "    }\n",
       "\n",
       "    .dataframe tbody tr th {\n",
       "        vertical-align: top;\n",
       "    }\n",
       "\n",
       "    .dataframe thead th {\n",
       "        text-align: right;\n",
       "    }\n",
       "</style>\n",
       "<table border=\"1\" class=\"dataframe\">\n",
       "  <thead>\n",
       "    <tr style=\"text-align: right;\">\n",
       "      <th></th>\n",
       "      <th>PassengerId</th>\n",
       "      <th>Survived</th>\n",
       "      <th>Pclass</th>\n",
       "      <th>Name</th>\n",
       "      <th>Sex</th>\n",
       "      <th>Age</th>\n",
       "      <th>SibSp</th>\n",
       "      <th>Parch</th>\n",
       "      <th>Ticket</th>\n",
       "      <th>Fare</th>\n",
       "      <th>Cabin</th>\n",
       "      <th>Embarked</th>\n",
       "    </tr>\n",
       "  </thead>\n",
       "  <tbody>\n",
       "    <tr>\n",
       "      <th>0</th>\n",
       "      <td>1</td>\n",
       "      <td>0</td>\n",
       "      <td>3</td>\n",
       "      <td>Braund, Mr. Owen Harris</td>\n",
       "      <td>male</td>\n",
       "      <td>22.0</td>\n",
       "      <td>1</td>\n",
       "      <td>0</td>\n",
       "      <td>A/5 21171</td>\n",
       "      <td>7.2500</td>\n",
       "      <td>NaN</td>\n",
       "      <td>S</td>\n",
       "    </tr>\n",
       "    <tr>\n",
       "      <th>1</th>\n",
       "      <td>2</td>\n",
       "      <td>1</td>\n",
       "      <td>1</td>\n",
       "      <td>Cumings, Mrs. John Bradley (Florence Briggs Th...</td>\n",
       "      <td>female</td>\n",
       "      <td>38.0</td>\n",
       "      <td>1</td>\n",
       "      <td>0</td>\n",
       "      <td>PC 17599</td>\n",
       "      <td>71.2833</td>\n",
       "      <td>C85</td>\n",
       "      <td>C</td>\n",
       "    </tr>\n",
       "    <tr>\n",
       "      <th>2</th>\n",
       "      <td>3</td>\n",
       "      <td>1</td>\n",
       "      <td>3</td>\n",
       "      <td>Heikkinen, Miss. Laina</td>\n",
       "      <td>female</td>\n",
       "      <td>26.0</td>\n",
       "      <td>0</td>\n",
       "      <td>0</td>\n",
       "      <td>STON/O2. 3101282</td>\n",
       "      <td>7.9250</td>\n",
       "      <td>NaN</td>\n",
       "      <td>S</td>\n",
       "    </tr>\n",
       "    <tr>\n",
       "      <th>3</th>\n",
       "      <td>4</td>\n",
       "      <td>1</td>\n",
       "      <td>1</td>\n",
       "      <td>Futrelle, Mrs. Jacques Heath (Lily May Peel)</td>\n",
       "      <td>female</td>\n",
       "      <td>35.0</td>\n",
       "      <td>1</td>\n",
       "      <td>0</td>\n",
       "      <td>113803</td>\n",
       "      <td>53.1000</td>\n",
       "      <td>C123</td>\n",
       "      <td>S</td>\n",
       "    </tr>\n",
       "    <tr>\n",
       "      <th>4</th>\n",
       "      <td>5</td>\n",
       "      <td>0</td>\n",
       "      <td>3</td>\n",
       "      <td>Allen, Mr. William Henry</td>\n",
       "      <td>male</td>\n",
       "      <td>35.0</td>\n",
       "      <td>0</td>\n",
       "      <td>0</td>\n",
       "      <td>373450</td>\n",
       "      <td>8.0500</td>\n",
       "      <td>NaN</td>\n",
       "      <td>S</td>\n",
       "    </tr>\n",
       "  </tbody>\n",
       "</table>\n",
       "</div>"
      ],
      "text/plain": [
       "   PassengerId  Survived  Pclass  \\\n",
       "0            1         0       3   \n",
       "1            2         1       1   \n",
       "2            3         1       3   \n",
       "3            4         1       1   \n",
       "4            5         0       3   \n",
       "\n",
       "                                                Name     Sex   Age  SibSp  \\\n",
       "0                            Braund, Mr. Owen Harris    male  22.0      1   \n",
       "1  Cumings, Mrs. John Bradley (Florence Briggs Th...  female  38.0      1   \n",
       "2                             Heikkinen, Miss. Laina  female  26.0      0   \n",
       "3       Futrelle, Mrs. Jacques Heath (Lily May Peel)  female  35.0      1   \n",
       "4                           Allen, Mr. William Henry    male  35.0      0   \n",
       "\n",
       "   Parch            Ticket     Fare Cabin Embarked  \n",
       "0      0         A/5 21171   7.2500   NaN        S  \n",
       "1      0          PC 17599  71.2833   C85        C  \n",
       "2      0  STON/O2. 3101282   7.9250   NaN        S  \n",
       "3      0            113803  53.1000  C123        S  \n",
       "4      0            373450   8.0500   NaN        S  "
      ]
     },
     "execution_count": 5,
     "metadata": {},
     "output_type": "execute_result"
    }
   ],
   "source": [
    "train_data.head()"
   ]
  },
  {
   "cell_type": "code",
   "execution_count": 6,
   "id": "dc5df62a",
   "metadata": {
    "execution": {
     "iopub.execute_input": "2022-11-26T11:09:47.044458Z",
     "iopub.status.busy": "2022-11-26T11:09:47.043693Z",
     "iopub.status.idle": "2022-11-26T11:09:47.062907Z",
     "shell.execute_reply": "2022-11-26T11:09:47.061651Z"
    },
    "papermill": {
     "duration": 0.032076,
     "end_time": "2022-11-26T11:09:47.065910",
     "exception": false,
     "start_time": "2022-11-26T11:09:47.033834",
     "status": "completed"
    },
    "tags": []
   },
   "outputs": [
    {
     "data": {
      "text/html": [
       "<div>\n",
       "<style scoped>\n",
       "    .dataframe tbody tr th:only-of-type {\n",
       "        vertical-align: middle;\n",
       "    }\n",
       "\n",
       "    .dataframe tbody tr th {\n",
       "        vertical-align: top;\n",
       "    }\n",
       "\n",
       "    .dataframe thead th {\n",
       "        text-align: right;\n",
       "    }\n",
       "</style>\n",
       "<table border=\"1\" class=\"dataframe\">\n",
       "  <thead>\n",
       "    <tr style=\"text-align: right;\">\n",
       "      <th></th>\n",
       "      <th>PassengerId</th>\n",
       "      <th>Pclass</th>\n",
       "      <th>Name</th>\n",
       "      <th>Sex</th>\n",
       "      <th>Age</th>\n",
       "      <th>SibSp</th>\n",
       "      <th>Parch</th>\n",
       "      <th>Ticket</th>\n",
       "      <th>Fare</th>\n",
       "      <th>Cabin</th>\n",
       "      <th>Embarked</th>\n",
       "    </tr>\n",
       "  </thead>\n",
       "  <tbody>\n",
       "    <tr>\n",
       "      <th>0</th>\n",
       "      <td>892</td>\n",
       "      <td>3</td>\n",
       "      <td>Kelly, Mr. James</td>\n",
       "      <td>male</td>\n",
       "      <td>34.5</td>\n",
       "      <td>0</td>\n",
       "      <td>0</td>\n",
       "      <td>330911</td>\n",
       "      <td>7.8292</td>\n",
       "      <td>NaN</td>\n",
       "      <td>Q</td>\n",
       "    </tr>\n",
       "    <tr>\n",
       "      <th>1</th>\n",
       "      <td>893</td>\n",
       "      <td>3</td>\n",
       "      <td>Wilkes, Mrs. James (Ellen Needs)</td>\n",
       "      <td>female</td>\n",
       "      <td>47.0</td>\n",
       "      <td>1</td>\n",
       "      <td>0</td>\n",
       "      <td>363272</td>\n",
       "      <td>7.0000</td>\n",
       "      <td>NaN</td>\n",
       "      <td>S</td>\n",
       "    </tr>\n",
       "    <tr>\n",
       "      <th>2</th>\n",
       "      <td>894</td>\n",
       "      <td>2</td>\n",
       "      <td>Myles, Mr. Thomas Francis</td>\n",
       "      <td>male</td>\n",
       "      <td>62.0</td>\n",
       "      <td>0</td>\n",
       "      <td>0</td>\n",
       "      <td>240276</td>\n",
       "      <td>9.6875</td>\n",
       "      <td>NaN</td>\n",
       "      <td>Q</td>\n",
       "    </tr>\n",
       "    <tr>\n",
       "      <th>3</th>\n",
       "      <td>895</td>\n",
       "      <td>3</td>\n",
       "      <td>Wirz, Mr. Albert</td>\n",
       "      <td>male</td>\n",
       "      <td>27.0</td>\n",
       "      <td>0</td>\n",
       "      <td>0</td>\n",
       "      <td>315154</td>\n",
       "      <td>8.6625</td>\n",
       "      <td>NaN</td>\n",
       "      <td>S</td>\n",
       "    </tr>\n",
       "    <tr>\n",
       "      <th>4</th>\n",
       "      <td>896</td>\n",
       "      <td>3</td>\n",
       "      <td>Hirvonen, Mrs. Alexander (Helga E Lindqvist)</td>\n",
       "      <td>female</td>\n",
       "      <td>22.0</td>\n",
       "      <td>1</td>\n",
       "      <td>1</td>\n",
       "      <td>3101298</td>\n",
       "      <td>12.2875</td>\n",
       "      <td>NaN</td>\n",
       "      <td>S</td>\n",
       "    </tr>\n",
       "  </tbody>\n",
       "</table>\n",
       "</div>"
      ],
      "text/plain": [
       "   PassengerId  Pclass                                          Name     Sex  \\\n",
       "0          892       3                              Kelly, Mr. James    male   \n",
       "1          893       3              Wilkes, Mrs. James (Ellen Needs)  female   \n",
       "2          894       2                     Myles, Mr. Thomas Francis    male   \n",
       "3          895       3                              Wirz, Mr. Albert    male   \n",
       "4          896       3  Hirvonen, Mrs. Alexander (Helga E Lindqvist)  female   \n",
       "\n",
       "    Age  SibSp  Parch   Ticket     Fare Cabin Embarked  \n",
       "0  34.5      0      0   330911   7.8292   NaN        Q  \n",
       "1  47.0      1      0   363272   7.0000   NaN        S  \n",
       "2  62.0      0      0   240276   9.6875   NaN        Q  \n",
       "3  27.0      0      0   315154   8.6625   NaN        S  \n",
       "4  22.0      1      1  3101298  12.2875   NaN        S  "
      ]
     },
     "execution_count": 6,
     "metadata": {},
     "output_type": "execute_result"
    }
   ],
   "source": [
    "test_data.head()"
   ]
  },
  {
   "cell_type": "code",
   "execution_count": 7,
   "id": "22a06f7a",
   "metadata": {
    "execution": {
     "iopub.execute_input": "2022-11-26T11:09:47.087342Z",
     "iopub.status.busy": "2022-11-26T11:09:47.086917Z",
     "iopub.status.idle": "2022-11-26T11:09:47.098988Z",
     "shell.execute_reply": "2022-11-26T11:09:47.097783Z"
    },
    "papermill": {
     "duration": 0.025842,
     "end_time": "2022-11-26T11:09:47.101499",
     "exception": false,
     "start_time": "2022-11-26T11:09:47.075657",
     "status": "completed"
    },
    "tags": []
   },
   "outputs": [
    {
     "data": {
      "text/plain": [
       "PassengerId      0\n",
       "Survived         0\n",
       "Pclass           0\n",
       "Name             0\n",
       "Sex              0\n",
       "Age            177\n",
       "SibSp            0\n",
       "Parch            0\n",
       "Ticket           0\n",
       "Fare             0\n",
       "Cabin          687\n",
       "Embarked         2\n",
       "dtype: int64"
      ]
     },
     "execution_count": 7,
     "metadata": {},
     "output_type": "execute_result"
    }
   ],
   "source": [
    "train_data.isnull().sum()"
   ]
  },
  {
   "cell_type": "code",
   "execution_count": 8,
   "id": "356177c1",
   "metadata": {
    "execution": {
     "iopub.execute_input": "2022-11-26T11:09:47.121879Z",
     "iopub.status.busy": "2022-11-26T11:09:47.120717Z",
     "iopub.status.idle": "2022-11-26T11:09:47.131364Z",
     "shell.execute_reply": "2022-11-26T11:09:47.130142Z"
    },
    "papermill": {
     "duration": 0.022951,
     "end_time": "2022-11-26T11:09:47.133706",
     "exception": false,
     "start_time": "2022-11-26T11:09:47.110755",
     "status": "completed"
    },
    "tags": []
   },
   "outputs": [
    {
     "data": {
      "text/plain": [
       "PassengerId      0\n",
       "Pclass           0\n",
       "Name             0\n",
       "Sex              0\n",
       "Age             86\n",
       "SibSp            0\n",
       "Parch            0\n",
       "Ticket           0\n",
       "Fare             1\n",
       "Cabin          327\n",
       "Embarked         0\n",
       "dtype: int64"
      ]
     },
     "execution_count": 8,
     "metadata": {},
     "output_type": "execute_result"
    }
   ],
   "source": [
    "test_data.isnull().sum()"
   ]
  },
  {
   "cell_type": "code",
   "execution_count": 9,
   "id": "dd97fc15",
   "metadata": {
    "execution": {
     "iopub.execute_input": "2022-11-26T11:09:47.154108Z",
     "iopub.status.busy": "2022-11-26T11:09:47.152849Z",
     "iopub.status.idle": "2022-11-26T11:09:47.163085Z",
     "shell.execute_reply": "2022-11-26T11:09:47.161906Z"
    },
    "papermill": {
     "duration": 0.023305,
     "end_time": "2022-11-26T11:09:47.166064",
     "exception": false,
     "start_time": "2022-11-26T11:09:47.142759",
     "status": "completed"
    },
    "tags": []
   },
   "outputs": [
    {
     "data": {
      "text/plain": [
       "866"
      ]
     },
     "execution_count": 9,
     "metadata": {},
     "output_type": "execute_result"
    }
   ],
   "source": [
    "train_data.isnull().sum().sum()"
   ]
  },
  {
   "cell_type": "markdown",
   "id": "ac44b95a",
   "metadata": {
    "papermill": {
     "duration": 0.008962,
     "end_time": "2022-11-26T11:09:47.184453",
     "exception": false,
     "start_time": "2022-11-26T11:09:47.175491",
     "status": "completed"
    },
    "tags": []
   },
   "source": [
    "Understanding the percentage of train missing values"
   ]
  },
  {
   "cell_type": "code",
   "execution_count": 10,
   "id": "c1566ef4",
   "metadata": {
    "execution": {
     "iopub.execute_input": "2022-11-26T11:09:47.205888Z",
     "iopub.status.busy": "2022-11-26T11:09:47.204507Z",
     "iopub.status.idle": "2022-11-26T11:09:47.214763Z",
     "shell.execute_reply": "2022-11-26T11:09:47.212857Z"
    },
    "papermill": {
     "duration": 0.02339,
     "end_time": "2022-11-26T11:09:47.217437",
     "exception": false,
     "start_time": "2022-11-26T11:09:47.194047",
     "status": "completed"
    },
    "tags": []
   },
   "outputs": [
    {
     "name": "stdout",
     "output_type": "stream",
     "text": [
      "percentage of missing cells are: 8.099513655069211\n"
     ]
    }
   ],
   "source": [
    "total_train_cells=np.product(train_data.shape)\n",
    "total_missing_train=train_data.isnull().sum().sum()\n",
    "print(\"percentage of missing cells are:\",(total_missing_train/total_train_cells)*100)"
   ]
  },
  {
   "cell_type": "markdown",
   "id": "1458f9a5",
   "metadata": {
    "papermill": {
     "duration": 0.008653,
     "end_time": "2022-11-26T11:09:47.235258",
     "exception": false,
     "start_time": "2022-11-26T11:09:47.226605",
     "status": "completed"
    },
    "tags": []
   },
   "source": [
    "**Similarly we try to find the missing cell percentage for the test dataset also**"
   ]
  },
  {
   "cell_type": "code",
   "execution_count": 11,
   "id": "eea8e625",
   "metadata": {
    "execution": {
     "iopub.execute_input": "2022-11-26T11:09:47.255346Z",
     "iopub.status.busy": "2022-11-26T11:09:47.254268Z",
     "iopub.status.idle": "2022-11-26T11:09:47.262978Z",
     "shell.execute_reply": "2022-11-26T11:09:47.261596Z"
    },
    "papermill": {
     "duration": 0.022199,
     "end_time": "2022-11-26T11:09:47.266265",
     "exception": false,
     "start_time": "2022-11-26T11:09:47.244066",
     "status": "completed"
    },
    "tags": []
   },
   "outputs": [
    {
     "name": "stdout",
     "output_type": "stream",
     "text": [
      "percentage of missing cells are: 9.00391474554154\n"
     ]
    }
   ],
   "source": [
    "total_test_cells=np.product(test_data.shape)\n",
    "total_missing_test=test_data.isnull().sum().sum()\n",
    "print(\"percentage of missing cells are:\",(total_missing_test/total_test_cells)*100)"
   ]
  },
  {
   "cell_type": "markdown",
   "id": "33152382",
   "metadata": {
    "papermill": {
     "duration": 0.009858,
     "end_time": "2022-11-26T11:09:47.286593",
     "exception": false,
     "start_time": "2022-11-26T11:09:47.276735",
     "status": "completed"
    },
    "tags": []
   },
   "source": [
    "**Lets try using bfill to fill all the missing values for now**"
   ]
  },
  {
   "cell_type": "code",
   "execution_count": 12,
   "id": "60c376ae",
   "metadata": {
    "execution": {
     "iopub.execute_input": "2022-11-26T11:09:47.308519Z",
     "iopub.status.busy": "2022-11-26T11:09:47.308104Z",
     "iopub.status.idle": "2022-11-26T11:09:47.332608Z",
     "shell.execute_reply": "2022-11-26T11:09:47.331491Z"
    },
    "papermill": {
     "duration": 0.038649,
     "end_time": "2022-11-26T11:09:47.335065",
     "exception": false,
     "start_time": "2022-11-26T11:09:47.296416",
     "status": "completed"
    },
    "tags": []
   },
   "outputs": [
    {
     "data": {
      "text/html": [
       "<div>\n",
       "<style scoped>\n",
       "    .dataframe tbody tr th:only-of-type {\n",
       "        vertical-align: middle;\n",
       "    }\n",
       "\n",
       "    .dataframe tbody tr th {\n",
       "        vertical-align: top;\n",
       "    }\n",
       "\n",
       "    .dataframe thead th {\n",
       "        text-align: right;\n",
       "    }\n",
       "</style>\n",
       "<table border=\"1\" class=\"dataframe\">\n",
       "  <thead>\n",
       "    <tr style=\"text-align: right;\">\n",
       "      <th></th>\n",
       "      <th>PassengerId</th>\n",
       "      <th>Survived</th>\n",
       "      <th>Pclass</th>\n",
       "      <th>Name</th>\n",
       "      <th>Sex</th>\n",
       "      <th>Age</th>\n",
       "      <th>SibSp</th>\n",
       "      <th>Parch</th>\n",
       "      <th>Ticket</th>\n",
       "      <th>Fare</th>\n",
       "      <th>Cabin</th>\n",
       "      <th>Embarked</th>\n",
       "    </tr>\n",
       "  </thead>\n",
       "  <tbody>\n",
       "    <tr>\n",
       "      <th>0</th>\n",
       "      <td>1</td>\n",
       "      <td>0</td>\n",
       "      <td>3</td>\n",
       "      <td>Braund, Mr. Owen Harris</td>\n",
       "      <td>male</td>\n",
       "      <td>22.0</td>\n",
       "      <td>1</td>\n",
       "      <td>0</td>\n",
       "      <td>A/5 21171</td>\n",
       "      <td>7.2500</td>\n",
       "      <td>NaN</td>\n",
       "      <td>S</td>\n",
       "    </tr>\n",
       "    <tr>\n",
       "      <th>1</th>\n",
       "      <td>2</td>\n",
       "      <td>1</td>\n",
       "      <td>1</td>\n",
       "      <td>Cumings, Mrs. John Bradley (Florence Briggs Th...</td>\n",
       "      <td>female</td>\n",
       "      <td>38.0</td>\n",
       "      <td>1</td>\n",
       "      <td>0</td>\n",
       "      <td>PC 17599</td>\n",
       "      <td>71.2833</td>\n",
       "      <td>C85</td>\n",
       "      <td>C</td>\n",
       "    </tr>\n",
       "    <tr>\n",
       "      <th>2</th>\n",
       "      <td>3</td>\n",
       "      <td>1</td>\n",
       "      <td>3</td>\n",
       "      <td>Heikkinen, Miss. Laina</td>\n",
       "      <td>female</td>\n",
       "      <td>26.0</td>\n",
       "      <td>0</td>\n",
       "      <td>0</td>\n",
       "      <td>STON/O2. 3101282</td>\n",
       "      <td>7.9250</td>\n",
       "      <td>NaN</td>\n",
       "      <td>S</td>\n",
       "    </tr>\n",
       "    <tr>\n",
       "      <th>3</th>\n",
       "      <td>4</td>\n",
       "      <td>1</td>\n",
       "      <td>1</td>\n",
       "      <td>Futrelle, Mrs. Jacques Heath (Lily May Peel)</td>\n",
       "      <td>female</td>\n",
       "      <td>35.0</td>\n",
       "      <td>1</td>\n",
       "      <td>0</td>\n",
       "      <td>113803</td>\n",
       "      <td>53.1000</td>\n",
       "      <td>C123</td>\n",
       "      <td>S</td>\n",
       "    </tr>\n",
       "    <tr>\n",
       "      <th>4</th>\n",
       "      <td>5</td>\n",
       "      <td>0</td>\n",
       "      <td>3</td>\n",
       "      <td>Allen, Mr. William Henry</td>\n",
       "      <td>male</td>\n",
       "      <td>35.0</td>\n",
       "      <td>0</td>\n",
       "      <td>0</td>\n",
       "      <td>373450</td>\n",
       "      <td>8.0500</td>\n",
       "      <td>NaN</td>\n",
       "      <td>S</td>\n",
       "    </tr>\n",
       "  </tbody>\n",
       "</table>\n",
       "</div>"
      ],
      "text/plain": [
       "   PassengerId  Survived  Pclass  \\\n",
       "0            1         0       3   \n",
       "1            2         1       1   \n",
       "2            3         1       3   \n",
       "3            4         1       1   \n",
       "4            5         0       3   \n",
       "\n",
       "                                                Name     Sex   Age  SibSp  \\\n",
       "0                            Braund, Mr. Owen Harris    male  22.0      1   \n",
       "1  Cumings, Mrs. John Bradley (Florence Briggs Th...  female  38.0      1   \n",
       "2                             Heikkinen, Miss. Laina  female  26.0      0   \n",
       "3       Futrelle, Mrs. Jacques Heath (Lily May Peel)  female  35.0      1   \n",
       "4                           Allen, Mr. William Henry    male  35.0      0   \n",
       "\n",
       "   Parch            Ticket     Fare Cabin Embarked  \n",
       "0      0         A/5 21171   7.2500   NaN        S  \n",
       "1      0          PC 17599  71.2833   C85        C  \n",
       "2      0  STON/O2. 3101282   7.9250   NaN        S  \n",
       "3      0            113803  53.1000  C123        S  \n",
       "4      0            373450   8.0500   NaN        S  "
      ]
     },
     "execution_count": 12,
     "metadata": {},
     "output_type": "execute_result"
    }
   ],
   "source": [
    "train_data_path=\"/kaggle/input/titanic/train.csv\"\n",
    "train_data=pd.read_csv(train_data_path)\n",
    "train_data.head()"
   ]
  },
  {
   "cell_type": "code",
   "execution_count": 13,
   "id": "c231ed6f",
   "metadata": {
    "execution": {
     "iopub.execute_input": "2022-11-26T11:09:47.356964Z",
     "iopub.status.busy": "2022-11-26T11:09:47.355808Z",
     "iopub.status.idle": "2022-11-26T11:09:47.365496Z",
     "shell.execute_reply": "2022-11-26T11:09:47.364077Z"
    },
    "papermill": {
     "duration": 0.022831,
     "end_time": "2022-11-26T11:09:47.368022",
     "exception": false,
     "start_time": "2022-11-26T11:09:47.345191",
     "status": "completed"
    },
    "tags": []
   },
   "outputs": [],
   "source": [
    "y_train=train_data['Survived']"
   ]
  },
  {
   "cell_type": "code",
   "execution_count": 14,
   "id": "36cd1ecc",
   "metadata": {
    "execution": {
     "iopub.execute_input": "2022-11-26T11:09:47.389401Z",
     "iopub.status.busy": "2022-11-26T11:09:47.388323Z",
     "iopub.status.idle": "2022-11-26T11:09:47.397142Z",
     "shell.execute_reply": "2022-11-26T11:09:47.395727Z"
    },
    "papermill": {
     "duration": 0.021823,
     "end_time": "2022-11-26T11:09:47.399649",
     "exception": false,
     "start_time": "2022-11-26T11:09:47.377826",
     "status": "completed"
    },
    "tags": []
   },
   "outputs": [
    {
     "data": {
      "text/plain": [
       "0    0\n",
       "1    1\n",
       "2    1\n",
       "3    1\n",
       "4    0\n",
       "Name: Survived, dtype: int64"
      ]
     },
     "execution_count": 14,
     "metadata": {},
     "output_type": "execute_result"
    }
   ],
   "source": [
    "y_train.head()"
   ]
  },
  {
   "cell_type": "code",
   "execution_count": 15,
   "id": "bc912802",
   "metadata": {
    "execution": {
     "iopub.execute_input": "2022-11-26T11:09:47.420742Z",
     "iopub.status.busy": "2022-11-26T11:09:47.420188Z",
     "iopub.status.idle": "2022-11-26T11:09:47.426237Z",
     "shell.execute_reply": "2022-11-26T11:09:47.425099Z"
    },
    "papermill": {
     "duration": 0.019389,
     "end_time": "2022-11-26T11:09:47.428636",
     "exception": false,
     "start_time": "2022-11-26T11:09:47.409247",
     "status": "completed"
    },
    "tags": []
   },
   "outputs": [],
   "source": [
    "features=['Pclass','Age','SibSp','Parch','Fare']"
   ]
  },
  {
   "cell_type": "code",
   "execution_count": 16,
   "id": "08fd0bcc",
   "metadata": {
    "execution": {
     "iopub.execute_input": "2022-11-26T11:09:47.450482Z",
     "iopub.status.busy": "2022-11-26T11:09:47.450058Z",
     "iopub.status.idle": "2022-11-26T11:09:47.461853Z",
     "shell.execute_reply": "2022-11-26T11:09:47.460575Z"
    },
    "papermill": {
     "duration": 0.025742,
     "end_time": "2022-11-26T11:09:47.464090",
     "exception": false,
     "start_time": "2022-11-26T11:09:47.438348",
     "status": "completed"
    },
    "tags": []
   },
   "outputs": [],
   "source": [
    "X_train=train_data[features]\n",
    "X_test=test_data[features]"
   ]
  },
  {
   "cell_type": "markdown",
   "id": "e34f32f3",
   "metadata": {
    "papermill": {
     "duration": 0.009316,
     "end_time": "2022-11-26T11:09:47.482722",
     "exception": false,
     "start_time": "2022-11-26T11:09:47.473406",
     "status": "completed"
    },
    "tags": []
   },
   "source": [
    "*Lets use SimpleImputer and see how it goes,eh?*"
   ]
  },
  {
   "cell_type": "code",
   "execution_count": 17,
   "id": "40c7b2bd",
   "metadata": {
    "execution": {
     "iopub.execute_input": "2022-11-26T11:09:47.503096Z",
     "iopub.status.busy": "2022-11-26T11:09:47.502622Z",
     "iopub.status.idle": "2022-11-26T11:09:47.847757Z",
     "shell.execute_reply": "2022-11-26T11:09:47.846586Z"
    },
    "papermill": {
     "duration": 0.358994,
     "end_time": "2022-11-26T11:09:47.850912",
     "exception": false,
     "start_time": "2022-11-26T11:09:47.491918",
     "status": "completed"
    },
    "tags": []
   },
   "outputs": [],
   "source": [
    "from sklearn.impute import SimpleImputer"
   ]
  },
  {
   "cell_type": "code",
   "execution_count": 18,
   "id": "690c84e1",
   "metadata": {
    "execution": {
     "iopub.execute_input": "2022-11-26T11:09:47.872232Z",
     "iopub.status.busy": "2022-11-26T11:09:47.871805Z",
     "iopub.status.idle": "2022-11-26T11:09:47.886563Z",
     "shell.execute_reply": "2022-11-26T11:09:47.885401Z"
    },
    "papermill": {
     "duration": 0.02845,
     "end_time": "2022-11-26T11:09:47.889118",
     "exception": false,
     "start_time": "2022-11-26T11:09:47.860668",
     "status": "completed"
    },
    "tags": []
   },
   "outputs": [],
   "source": [
    "from sklearn.impute import SimpleImputer\n",
    "\n",
    "# Imputation\n",
    "my_imputer = SimpleImputer()\n",
    "imputed_X_train = pd.DataFrame(my_imputer.fit_transform(X_train))\n",
    "imputed_X_test = pd.DataFrame(my_imputer.transform(X_test))\n",
    "\n",
    "# Imputation removed column names; put them back\n",
    "imputed_X_train.columns = X_train.columns\n",
    "imputed_X_test.columns = X_test.columns\n"
   ]
  },
  {
   "cell_type": "markdown",
   "id": "ad20cd75",
   "metadata": {
    "papermill": {
     "duration": 0.009186,
     "end_time": "2022-11-26T11:09:47.908013",
     "exception": false,
     "start_time": "2022-11-26T11:09:47.898827",
     "status": "completed"
    },
    "tags": []
   },
   "source": [
    "**importing the necessary ml models**"
   ]
  },
  {
   "cell_type": "code",
   "execution_count": 19,
   "id": "66861b0e",
   "metadata": {
    "execution": {
     "iopub.execute_input": "2022-11-26T11:09:47.928831Z",
     "iopub.status.busy": "2022-11-26T11:09:47.928414Z",
     "iopub.status.idle": "2022-11-26T11:09:48.033866Z",
     "shell.execute_reply": "2022-11-26T11:09:48.032594Z"
    },
    "papermill": {
     "duration": 0.119257,
     "end_time": "2022-11-26T11:09:48.036643",
     "exception": false,
     "start_time": "2022-11-26T11:09:47.917386",
     "status": "completed"
    },
    "tags": []
   },
   "outputs": [],
   "source": [
    "from sklearn.ensemble import RandomForestClassifier"
   ]
  },
  {
   "cell_type": "code",
   "execution_count": 20,
   "id": "742e9475",
   "metadata": {
    "execution": {
     "iopub.execute_input": "2022-11-26T11:09:48.063551Z",
     "iopub.status.busy": "2022-11-26T11:09:48.063128Z",
     "iopub.status.idle": "2022-11-26T11:09:48.068713Z",
     "shell.execute_reply": "2022-11-26T11:09:48.067339Z"
    },
    "papermill": {
     "duration": 0.019228,
     "end_time": "2022-11-26T11:09:48.071427",
     "exception": false,
     "start_time": "2022-11-26T11:09:48.052199",
     "status": "completed"
    },
    "tags": []
   },
   "outputs": [],
   "source": [
    "model=RandomForestClassifier(n_estimators=250,max_depth=5,random_state=1)"
   ]
  },
  {
   "cell_type": "markdown",
   "id": "c68d107f",
   "metadata": {
    "papermill": {
     "duration": 0.009328,
     "end_time": "2022-11-26T11:09:48.090808",
     "exception": false,
     "start_time": "2022-11-26T11:09:48.081480",
     "status": "completed"
    },
    "tags": []
   },
   "source": [
    "fit model to the train values"
   ]
  },
  {
   "cell_type": "code",
   "execution_count": 21,
   "id": "206d489b",
   "metadata": {
    "execution": {
     "iopub.execute_input": "2022-11-26T11:09:48.111798Z",
     "iopub.status.busy": "2022-11-26T11:09:48.111371Z",
     "iopub.status.idle": "2022-11-26T11:09:48.615027Z",
     "shell.execute_reply": "2022-11-26T11:09:48.613741Z"
    },
    "papermill": {
     "duration": 0.517617,
     "end_time": "2022-11-26T11:09:48.618021",
     "exception": false,
     "start_time": "2022-11-26T11:09:48.100404",
     "status": "completed"
    },
    "tags": []
   },
   "outputs": [],
   "source": [
    "model.fit(imputed_X_train,y_train)\n",
    "predictions=model.predict(imputed_X_test)"
   ]
  },
  {
   "cell_type": "markdown",
   "id": "4322b3a0",
   "metadata": {
    "papermill": {
     "duration": 0.009803,
     "end_time": "2022-11-26T11:09:48.638410",
     "exception": false,
     "start_time": "2022-11-26T11:09:48.628607",
     "status": "completed"
    },
    "tags": []
   },
   "source": [
    "**checking null values again**"
   ]
  },
  {
   "cell_type": "code",
   "execution_count": 22,
   "id": "aa44b1ba",
   "metadata": {
    "execution": {
     "iopub.execute_input": "2022-11-26T11:09:48.661375Z",
     "iopub.status.busy": "2022-11-26T11:09:48.660314Z",
     "iopub.status.idle": "2022-11-26T11:09:48.670517Z",
     "shell.execute_reply": "2022-11-26T11:09:48.669285Z"
    },
    "papermill": {
     "duration": 0.024548,
     "end_time": "2022-11-26T11:09:48.673332",
     "exception": false,
     "start_time": "2022-11-26T11:09:48.648784",
     "status": "completed"
    },
    "tags": []
   },
   "outputs": [
    {
     "data": {
      "text/plain": [
       "Pclass    0\n",
       "Age       0\n",
       "SibSp     0\n",
       "Parch     0\n",
       "Fare      0\n",
       "dtype: int64"
      ]
     },
     "execution_count": 22,
     "metadata": {},
     "output_type": "execute_result"
    }
   ],
   "source": [
    "imputed_X_train.isnull().sum()"
   ]
  },
  {
   "cell_type": "code",
   "execution_count": 23,
   "id": "84cc405e",
   "metadata": {
    "execution": {
     "iopub.execute_input": "2022-11-26T11:09:48.695073Z",
     "iopub.status.busy": "2022-11-26T11:09:48.694652Z",
     "iopub.status.idle": "2022-11-26T11:09:48.703754Z",
     "shell.execute_reply": "2022-11-26T11:09:48.702597Z"
    },
    "papermill": {
     "duration": 0.022849,
     "end_time": "2022-11-26T11:09:48.706111",
     "exception": false,
     "start_time": "2022-11-26T11:09:48.683262",
     "status": "completed"
    },
    "tags": []
   },
   "outputs": [
    {
     "data": {
      "text/plain": [
       "0       892\n",
       "1       893\n",
       "2       894\n",
       "3       895\n",
       "4       896\n",
       "       ... \n",
       "413    1305\n",
       "414    1306\n",
       "415    1307\n",
       "416    1308\n",
       "417    1309\n",
       "Name: PassengerId, Length: 418, dtype: int64"
      ]
     },
     "execution_count": 23,
     "metadata": {},
     "output_type": "execute_result"
    }
   ],
   "source": [
    "test_data.PassengerId"
   ]
  },
  {
   "cell_type": "code",
   "execution_count": 24,
   "id": "f448df82",
   "metadata": {
    "execution": {
     "iopub.execute_input": "2022-11-26T11:09:48.727260Z",
     "iopub.status.busy": "2022-11-26T11:09:48.726841Z",
     "iopub.status.idle": "2022-11-26T11:09:48.733230Z",
     "shell.execute_reply": "2022-11-26T11:09:48.731714Z"
    },
    "papermill": {
     "duration": 0.019886,
     "end_time": "2022-11-26T11:09:48.735656",
     "exception": false,
     "start_time": "2022-11-26T11:09:48.715770",
     "status": "completed"
    },
    "tags": []
   },
   "outputs": [],
   "source": [
    "output=pd.DataFrame({'PassengerId': test_data.PassengerId,'Survived': predictions})"
   ]
  },
  {
   "cell_type": "code",
   "execution_count": 25,
   "id": "bb711fa6",
   "metadata": {
    "execution": {
     "iopub.execute_input": "2022-11-26T11:09:48.757075Z",
     "iopub.status.busy": "2022-11-26T11:09:48.756657Z",
     "iopub.status.idle": "2022-11-26T11:09:48.766217Z",
     "shell.execute_reply": "2022-11-26T11:09:48.765081Z"
    },
    "papermill": {
     "duration": 0.023177,
     "end_time": "2022-11-26T11:09:48.768552",
     "exception": false,
     "start_time": "2022-11-26T11:09:48.745375",
     "status": "completed"
    },
    "tags": []
   },
   "outputs": [
    {
     "data": {
      "text/html": [
       "<div>\n",
       "<style scoped>\n",
       "    .dataframe tbody tr th:only-of-type {\n",
       "        vertical-align: middle;\n",
       "    }\n",
       "\n",
       "    .dataframe tbody tr th {\n",
       "        vertical-align: top;\n",
       "    }\n",
       "\n",
       "    .dataframe thead th {\n",
       "        text-align: right;\n",
       "    }\n",
       "</style>\n",
       "<table border=\"1\" class=\"dataframe\">\n",
       "  <thead>\n",
       "    <tr style=\"text-align: right;\">\n",
       "      <th></th>\n",
       "      <th>PassengerId</th>\n",
       "      <th>Survived</th>\n",
       "    </tr>\n",
       "  </thead>\n",
       "  <tbody>\n",
       "    <tr>\n",
       "      <th>413</th>\n",
       "      <td>1305</td>\n",
       "      <td>0</td>\n",
       "    </tr>\n",
       "    <tr>\n",
       "      <th>414</th>\n",
       "      <td>1306</td>\n",
       "      <td>1</td>\n",
       "    </tr>\n",
       "    <tr>\n",
       "      <th>415</th>\n",
       "      <td>1307</td>\n",
       "      <td>0</td>\n",
       "    </tr>\n",
       "    <tr>\n",
       "      <th>416</th>\n",
       "      <td>1308</td>\n",
       "      <td>0</td>\n",
       "    </tr>\n",
       "    <tr>\n",
       "      <th>417</th>\n",
       "      <td>1309</td>\n",
       "      <td>0</td>\n",
       "    </tr>\n",
       "  </tbody>\n",
       "</table>\n",
       "</div>"
      ],
      "text/plain": [
       "     PassengerId  Survived\n",
       "413         1305         0\n",
       "414         1306         1\n",
       "415         1307         0\n",
       "416         1308         0\n",
       "417         1309         0"
      ]
     },
     "execution_count": 25,
     "metadata": {},
     "output_type": "execute_result"
    }
   ],
   "source": [
    "output.tail()"
   ]
  },
  {
   "cell_type": "markdown",
   "id": "7b021410",
   "metadata": {
    "papermill": {
     "duration": 0.009881,
     "end_time": "2022-11-26T11:09:48.788712",
     "exception": false,
     "start_time": "2022-11-26T11:09:48.778831",
     "status": "completed"
    },
    "tags": []
   },
   "source": [
    "**Submitting what is hopefully an improved model**"
   ]
  },
  {
   "cell_type": "code",
   "execution_count": 26,
   "id": "4c023679",
   "metadata": {
    "execution": {
     "iopub.execute_input": "2022-11-26T11:09:48.811665Z",
     "iopub.status.busy": "2022-11-26T11:09:48.810961Z",
     "iopub.status.idle": "2022-11-26T11:09:48.820917Z",
     "shell.execute_reply": "2022-11-26T11:09:48.819372Z"
    },
    "papermill": {
     "duration": 0.024477,
     "end_time": "2022-11-26T11:09:48.823302",
     "exception": false,
     "start_time": "2022-11-26T11:09:48.798825",
     "status": "completed"
    },
    "tags": []
   },
   "outputs": [
    {
     "name": "stdout",
     "output_type": "stream",
     "text": [
      "Your submission was saved\n"
     ]
    }
   ],
   "source": [
    "output.to_csv('submission.csv',index=False)\n",
    "print(\"Your submission was saved\")"
   ]
  },
  {
   "cell_type": "code",
   "execution_count": null,
   "id": "b87a81a1",
   "metadata": {
    "papermill": {
     "duration": 0.009529,
     "end_time": "2022-11-26T11:09:48.842639",
     "exception": false,
     "start_time": "2022-11-26T11:09:48.833110",
     "status": "completed"
    },
    "tags": []
   },
   "outputs": [],
   "source": []
  }
 ],
 "metadata": {
  "kernelspec": {
   "display_name": "Python 3",
   "language": "python",
   "name": "python3"
  },
  "language_info": {
   "codemirror_mode": {
    "name": "ipython",
    "version": 3
   },
   "file_extension": ".py",
   "mimetype": "text/x-python",
   "name": "python",
   "nbconvert_exporter": "python",
   "pygments_lexer": "ipython3",
   "version": "3.7.12"
  },
  "papermill": {
   "default_parameters": {},
   "duration": 12.776508,
   "end_time": "2022-11-26T11:09:49.675142",
   "environment_variables": {},
   "exception": null,
   "input_path": "__notebook__.ipynb",
   "output_path": "__notebook__.ipynb",
   "parameters": {},
   "start_time": "2022-11-26T11:09:36.898634",
   "version": "2.3.4"
  }
 },
 "nbformat": 4,
 "nbformat_minor": 5
}
