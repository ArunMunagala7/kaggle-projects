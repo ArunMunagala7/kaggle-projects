{
 "cells": [
  {
   "cell_type": "code",
   "execution_count": 1,
   "id": "bf7a000a",
   "metadata": {
    "_cell_guid": "b1076dfc-b9ad-4769-8c92-a6c4dae69d19",
    "_uuid": "8f2839f25d086af736a60e9eeb907d3b93b6e0e5",
    "execution": {
     "iopub.execute_input": "2022-12-27T12:37:55.546619Z",
     "iopub.status.busy": "2022-12-27T12:37:55.546132Z",
     "iopub.status.idle": "2022-12-27T12:37:55.559776Z",
     "shell.execute_reply": "2022-12-27T12:37:55.558538Z"
    },
    "papermill": {
     "duration": 0.023393,
     "end_time": "2022-12-27T12:37:55.562425",
     "exception": false,
     "start_time": "2022-12-27T12:37:55.539032",
     "status": "completed"
    },
    "tags": []
   },
   "outputs": [
    {
     "name": "stdout",
     "output_type": "stream",
     "text": [
      "/kaggle/input/titanic/train.csv\n",
      "/kaggle/input/titanic/test.csv\n",
      "/kaggle/input/titanic/gender_submission.csv\n"
     ]
    }
   ],
   "source": [
    "# This Python 3 environment comes with many helpful analytics libraries installed\n",
    "# It is defined by the kaggle/python Docker image: https://github.com/kaggle/docker-python\n",
    "# For example, here's several helpful packages to load\n",
    "\n",
    "import numpy as np # linear algebra\n",
    "import pandas as pd # data processing, CSV file I/O (e.g. pd.read_csv)\n",
    "\n",
    "# Input data files are available in the read-only \"../input/\" directory\n",
    "# For example, running this (by clicking run or pressing Shift+Enter) will list all files under the input directory\n",
    "\n",
    "import os\n",
    "for dirname, _, filenames in os.walk('/kaggle/input'):\n",
    "    for filename in filenames:\n",
    "        print(os.path.join(dirname, filename))\n",
    "\n",
    "# You can write up to 20GB to the current directory (/kaggle/working/) that gets preserved as output when you create a version using \"Save & Run All\" \n",
    "# You can also write temporary files to /kaggle/temp/, but they won't be saved outside of the current session"
   ]
  },
  {
   "cell_type": "markdown",
   "id": "bf28c771",
   "metadata": {
    "papermill": {
     "duration": 0.003895,
     "end_time": "2022-12-27T12:37:55.571502",
     "exception": false,
     "start_time": "2022-12-27T12:37:55.567607",
     "status": "completed"
    },
    "tags": []
   },
   "source": [
    "In this notebook, I'll be using basic XgBoost to get a more accurate Machine Learning Model"
   ]
  },
  {
   "cell_type": "markdown",
   "id": "6a330089",
   "metadata": {
    "papermill": {
     "duration": 0.003823,
     "end_time": "2022-12-27T12:37:55.579547",
     "exception": false,
     "start_time": "2022-12-27T12:37:55.575724",
     "status": "completed"
    },
    "tags": []
   },
   "source": [
    "uploading train data to a pandas dataframe\n"
   ]
  },
  {
   "cell_type": "code",
   "execution_count": 2,
   "id": "2eb7d0fd",
   "metadata": {
    "execution": {
     "iopub.execute_input": "2022-12-27T12:37:55.590242Z",
     "iopub.status.busy": "2022-12-27T12:37:55.589308Z",
     "iopub.status.idle": "2022-12-27T12:37:55.637956Z",
     "shell.execute_reply": "2022-12-27T12:37:55.636522Z"
    },
    "papermill": {
     "duration": 0.056795,
     "end_time": "2022-12-27T12:37:55.640483",
     "exception": false,
     "start_time": "2022-12-27T12:37:55.583688",
     "status": "completed"
    },
    "tags": []
   },
   "outputs": [
    {
     "data": {
      "text/html": [
       "<div>\n",
       "<style scoped>\n",
       "    .dataframe tbody tr th:only-of-type {\n",
       "        vertical-align: middle;\n",
       "    }\n",
       "\n",
       "    .dataframe tbody tr th {\n",
       "        vertical-align: top;\n",
       "    }\n",
       "\n",
       "    .dataframe thead th {\n",
       "        text-align: right;\n",
       "    }\n",
       "</style>\n",
       "<table border=\"1\" class=\"dataframe\">\n",
       "  <thead>\n",
       "    <tr style=\"text-align: right;\">\n",
       "      <th></th>\n",
       "      <th>PassengerId</th>\n",
       "      <th>Survived</th>\n",
       "      <th>Pclass</th>\n",
       "      <th>Name</th>\n",
       "      <th>Sex</th>\n",
       "      <th>Age</th>\n",
       "      <th>SibSp</th>\n",
       "      <th>Parch</th>\n",
       "      <th>Ticket</th>\n",
       "      <th>Fare</th>\n",
       "      <th>Cabin</th>\n",
       "      <th>Embarked</th>\n",
       "    </tr>\n",
       "  </thead>\n",
       "  <tbody>\n",
       "    <tr>\n",
       "      <th>0</th>\n",
       "      <td>1</td>\n",
       "      <td>0</td>\n",
       "      <td>3</td>\n",
       "      <td>Braund, Mr. Owen Harris</td>\n",
       "      <td>male</td>\n",
       "      <td>22.0</td>\n",
       "      <td>1</td>\n",
       "      <td>0</td>\n",
       "      <td>A/5 21171</td>\n",
       "      <td>7.2500</td>\n",
       "      <td>NaN</td>\n",
       "      <td>S</td>\n",
       "    </tr>\n",
       "    <tr>\n",
       "      <th>1</th>\n",
       "      <td>2</td>\n",
       "      <td>1</td>\n",
       "      <td>1</td>\n",
       "      <td>Cumings, Mrs. John Bradley (Florence Briggs Th...</td>\n",
       "      <td>female</td>\n",
       "      <td>38.0</td>\n",
       "      <td>1</td>\n",
       "      <td>0</td>\n",
       "      <td>PC 17599</td>\n",
       "      <td>71.2833</td>\n",
       "      <td>C85</td>\n",
       "      <td>C</td>\n",
       "    </tr>\n",
       "    <tr>\n",
       "      <th>2</th>\n",
       "      <td>3</td>\n",
       "      <td>1</td>\n",
       "      <td>3</td>\n",
       "      <td>Heikkinen, Miss. Laina</td>\n",
       "      <td>female</td>\n",
       "      <td>26.0</td>\n",
       "      <td>0</td>\n",
       "      <td>0</td>\n",
       "      <td>STON/O2. 3101282</td>\n",
       "      <td>7.9250</td>\n",
       "      <td>NaN</td>\n",
       "      <td>S</td>\n",
       "    </tr>\n",
       "    <tr>\n",
       "      <th>3</th>\n",
       "      <td>4</td>\n",
       "      <td>1</td>\n",
       "      <td>1</td>\n",
       "      <td>Futrelle, Mrs. Jacques Heath (Lily May Peel)</td>\n",
       "      <td>female</td>\n",
       "      <td>35.0</td>\n",
       "      <td>1</td>\n",
       "      <td>0</td>\n",
       "      <td>113803</td>\n",
       "      <td>53.1000</td>\n",
       "      <td>C123</td>\n",
       "      <td>S</td>\n",
       "    </tr>\n",
       "    <tr>\n",
       "      <th>4</th>\n",
       "      <td>5</td>\n",
       "      <td>0</td>\n",
       "      <td>3</td>\n",
       "      <td>Allen, Mr. William Henry</td>\n",
       "      <td>male</td>\n",
       "      <td>35.0</td>\n",
       "      <td>0</td>\n",
       "      <td>0</td>\n",
       "      <td>373450</td>\n",
       "      <td>8.0500</td>\n",
       "      <td>NaN</td>\n",
       "      <td>S</td>\n",
       "    </tr>\n",
       "  </tbody>\n",
       "</table>\n",
       "</div>"
      ],
      "text/plain": [
       "   PassengerId  Survived  Pclass  \\\n",
       "0            1         0       3   \n",
       "1            2         1       1   \n",
       "2            3         1       3   \n",
       "3            4         1       1   \n",
       "4            5         0       3   \n",
       "\n",
       "                                                Name     Sex   Age  SibSp  \\\n",
       "0                            Braund, Mr. Owen Harris    male  22.0      1   \n",
       "1  Cumings, Mrs. John Bradley (Florence Briggs Th...  female  38.0      1   \n",
       "2                             Heikkinen, Miss. Laina  female  26.0      0   \n",
       "3       Futrelle, Mrs. Jacques Heath (Lily May Peel)  female  35.0      1   \n",
       "4                           Allen, Mr. William Henry    male  35.0      0   \n",
       "\n",
       "   Parch            Ticket     Fare Cabin Embarked  \n",
       "0      0         A/5 21171   7.2500   NaN        S  \n",
       "1      0          PC 17599  71.2833   C85        C  \n",
       "2      0  STON/O2. 3101282   7.9250   NaN        S  \n",
       "3      0            113803  53.1000  C123        S  \n",
       "4      0            373450   8.0500   NaN        S  "
      ]
     },
     "execution_count": 2,
     "metadata": {},
     "output_type": "execute_result"
    }
   ],
   "source": [
    "train_loc=\"/kaggle/input/titanic/train.csv\"\n",
    "train_data=pd.read_csv(train_loc)\n",
    "train_data.head()"
   ]
  },
  {
   "cell_type": "markdown",
   "id": "b1614186",
   "metadata": {
    "papermill": {
     "duration": 0.004277,
     "end_time": "2022-12-27T12:37:55.649664",
     "exception": false,
     "start_time": "2022-12-27T12:37:55.645387",
     "status": "completed"
    },
    "tags": []
   },
   "source": [
    "now train data has been uploaded. Same must be done for test data"
   ]
  },
  {
   "cell_type": "code",
   "execution_count": 3,
   "id": "75f95eb8",
   "metadata": {
    "execution": {
     "iopub.execute_input": "2022-12-27T12:37:55.660509Z",
     "iopub.status.busy": "2022-12-27T12:37:55.660133Z",
     "iopub.status.idle": "2022-12-27T12:37:55.683232Z",
     "shell.execute_reply": "2022-12-27T12:37:55.681975Z"
    },
    "papermill": {
     "duration": 0.032949,
     "end_time": "2022-12-27T12:37:55.687077",
     "exception": false,
     "start_time": "2022-12-27T12:37:55.654128",
     "status": "completed"
    },
    "tags": []
   },
   "outputs": [
    {
     "data": {
      "text/html": [
       "<div>\n",
       "<style scoped>\n",
       "    .dataframe tbody tr th:only-of-type {\n",
       "        vertical-align: middle;\n",
       "    }\n",
       "\n",
       "    .dataframe tbody tr th {\n",
       "        vertical-align: top;\n",
       "    }\n",
       "\n",
       "    .dataframe thead th {\n",
       "        text-align: right;\n",
       "    }\n",
       "</style>\n",
       "<table border=\"1\" class=\"dataframe\">\n",
       "  <thead>\n",
       "    <tr style=\"text-align: right;\">\n",
       "      <th></th>\n",
       "      <th>PassengerId</th>\n",
       "      <th>Pclass</th>\n",
       "      <th>Name</th>\n",
       "      <th>Sex</th>\n",
       "      <th>Age</th>\n",
       "      <th>SibSp</th>\n",
       "      <th>Parch</th>\n",
       "      <th>Ticket</th>\n",
       "      <th>Fare</th>\n",
       "      <th>Cabin</th>\n",
       "      <th>Embarked</th>\n",
       "    </tr>\n",
       "  </thead>\n",
       "  <tbody>\n",
       "    <tr>\n",
       "      <th>0</th>\n",
       "      <td>892</td>\n",
       "      <td>3</td>\n",
       "      <td>Kelly, Mr. James</td>\n",
       "      <td>male</td>\n",
       "      <td>34.5</td>\n",
       "      <td>0</td>\n",
       "      <td>0</td>\n",
       "      <td>330911</td>\n",
       "      <td>7.8292</td>\n",
       "      <td>NaN</td>\n",
       "      <td>Q</td>\n",
       "    </tr>\n",
       "    <tr>\n",
       "      <th>1</th>\n",
       "      <td>893</td>\n",
       "      <td>3</td>\n",
       "      <td>Wilkes, Mrs. James (Ellen Needs)</td>\n",
       "      <td>female</td>\n",
       "      <td>47.0</td>\n",
       "      <td>1</td>\n",
       "      <td>0</td>\n",
       "      <td>363272</td>\n",
       "      <td>7.0000</td>\n",
       "      <td>NaN</td>\n",
       "      <td>S</td>\n",
       "    </tr>\n",
       "    <tr>\n",
       "      <th>2</th>\n",
       "      <td>894</td>\n",
       "      <td>2</td>\n",
       "      <td>Myles, Mr. Thomas Francis</td>\n",
       "      <td>male</td>\n",
       "      <td>62.0</td>\n",
       "      <td>0</td>\n",
       "      <td>0</td>\n",
       "      <td>240276</td>\n",
       "      <td>9.6875</td>\n",
       "      <td>NaN</td>\n",
       "      <td>Q</td>\n",
       "    </tr>\n",
       "    <tr>\n",
       "      <th>3</th>\n",
       "      <td>895</td>\n",
       "      <td>3</td>\n",
       "      <td>Wirz, Mr. Albert</td>\n",
       "      <td>male</td>\n",
       "      <td>27.0</td>\n",
       "      <td>0</td>\n",
       "      <td>0</td>\n",
       "      <td>315154</td>\n",
       "      <td>8.6625</td>\n",
       "      <td>NaN</td>\n",
       "      <td>S</td>\n",
       "    </tr>\n",
       "    <tr>\n",
       "      <th>4</th>\n",
       "      <td>896</td>\n",
       "      <td>3</td>\n",
       "      <td>Hirvonen, Mrs. Alexander (Helga E Lindqvist)</td>\n",
       "      <td>female</td>\n",
       "      <td>22.0</td>\n",
       "      <td>1</td>\n",
       "      <td>1</td>\n",
       "      <td>3101298</td>\n",
       "      <td>12.2875</td>\n",
       "      <td>NaN</td>\n",
       "      <td>S</td>\n",
       "    </tr>\n",
       "  </tbody>\n",
       "</table>\n",
       "</div>"
      ],
      "text/plain": [
       "   PassengerId  Pclass                                          Name     Sex  \\\n",
       "0          892       3                              Kelly, Mr. James    male   \n",
       "1          893       3              Wilkes, Mrs. James (Ellen Needs)  female   \n",
       "2          894       2                     Myles, Mr. Thomas Francis    male   \n",
       "3          895       3                              Wirz, Mr. Albert    male   \n",
       "4          896       3  Hirvonen, Mrs. Alexander (Helga E Lindqvist)  female   \n",
       "\n",
       "    Age  SibSp  Parch   Ticket     Fare Cabin Embarked  \n",
       "0  34.5      0      0   330911   7.8292   NaN        Q  \n",
       "1  47.0      1      0   363272   7.0000   NaN        S  \n",
       "2  62.0      0      0   240276   9.6875   NaN        Q  \n",
       "3  27.0      0      0   315154   8.6625   NaN        S  \n",
       "4  22.0      1      1  3101298  12.2875   NaN        S  "
      ]
     },
     "execution_count": 3,
     "metadata": {},
     "output_type": "execute_result"
    }
   ],
   "source": [
    "test_loc=\"/kaggle/input/titanic/test.csv\"\n",
    "test_data=pd.read_csv(test_loc)\n",
    "test_data.head()"
   ]
  },
  {
   "cell_type": "markdown",
   "id": "1608dbc7",
   "metadata": {
    "papermill": {
     "duration": 0.00477,
     "end_time": "2022-12-27T12:37:55.696983",
     "exception": false,
     "start_time": "2022-12-27T12:37:55.692213",
     "status": "completed"
    },
    "tags": []
   },
   "source": [
    "**Now that we have uploaded the test and train data into the panda database, we need to make a ML Submission**"
   ]
  },
  {
   "cell_type": "code",
   "execution_count": 4,
   "id": "9ef91fa5",
   "metadata": {
    "execution": {
     "iopub.execute_input": "2022-12-27T12:37:55.708715Z",
     "iopub.status.busy": "2022-12-27T12:37:55.708028Z",
     "iopub.status.idle": "2022-12-27T12:37:56.776097Z",
     "shell.execute_reply": "2022-12-27T12:37:56.774857Z"
    },
    "papermill": {
     "duration": 1.077122,
     "end_time": "2022-12-27T12:37:56.778863",
     "exception": false,
     "start_time": "2022-12-27T12:37:55.701741",
     "status": "completed"
    },
    "tags": []
   },
   "outputs": [],
   "source": [
    "from xgboost import XGBClassifier"
   ]
  },
  {
   "cell_type": "markdown",
   "id": "022d156f",
   "metadata": {
    "papermill": {
     "duration": 0.004507,
     "end_time": "2022-12-27T12:37:56.788402",
     "exception": false,
     "start_time": "2022-12-27T12:37:56.783895",
     "status": "completed"
    },
    "tags": []
   },
   "source": [
    "XGBoost has been imported. We can now define a model using it along with personalized hyperparameters"
   ]
  },
  {
   "cell_type": "code",
   "execution_count": 5,
   "id": "9561688a",
   "metadata": {
    "execution": {
     "iopub.execute_input": "2022-12-27T12:37:56.800065Z",
     "iopub.status.busy": "2022-12-27T12:37:56.799649Z",
     "iopub.status.idle": "2022-12-27T12:37:56.805438Z",
     "shell.execute_reply": "2022-12-27T12:37:56.804121Z"
    },
    "papermill": {
     "duration": 0.014714,
     "end_time": "2022-12-27T12:37:56.807942",
     "exception": false,
     "start_time": "2022-12-27T12:37:56.793228",
     "status": "completed"
    },
    "tags": []
   },
   "outputs": [],
   "source": [
    "model=XGBClassifier(n_estimators=500)"
   ]
  },
  {
   "cell_type": "markdown",
   "id": "a887a898",
   "metadata": {
    "papermill": {
     "duration": 0.004468,
     "end_time": "2022-12-27T12:37:56.817388",
     "exception": false,
     "start_time": "2022-12-27T12:37:56.812920",
     "status": "completed"
    },
    "tags": []
   },
   "source": [
    "time to create target variables"
   ]
  },
  {
   "cell_type": "code",
   "execution_count": 6,
   "id": "d31fde8a",
   "metadata": {
    "execution": {
     "iopub.execute_input": "2022-12-27T12:37:56.829323Z",
     "iopub.status.busy": "2022-12-27T12:37:56.828482Z",
     "iopub.status.idle": "2022-12-27T12:37:56.851118Z",
     "shell.execute_reply": "2022-12-27T12:37:56.850073Z"
    },
    "papermill": {
     "duration": 0.031567,
     "end_time": "2022-12-27T12:37:56.853747",
     "exception": false,
     "start_time": "2022-12-27T12:37:56.822180",
     "status": "completed"
    },
    "tags": []
   },
   "outputs": [],
   "source": [
    "y=train_data[\"Survived\"]\n",
    "features = [\"Pclass\", \"Sex\", \"SibSp\", \"Parch\"]\n",
    "X = pd.get_dummies(train_data[features])\n",
    "X_test = pd.get_dummies(test_data[features])"
   ]
  },
  {
   "cell_type": "markdown",
   "id": "805651a6",
   "metadata": {
    "papermill": {
     "duration": 0.004704,
     "end_time": "2022-12-27T12:37:56.863412",
     "exception": false,
     "start_time": "2022-12-27T12:37:56.858708",
     "status": "completed"
    },
    "tags": []
   },
   "source": [
    "fit and predicting XGBoost model along with creating a submission csv using Pandas"
   ]
  },
  {
   "cell_type": "code",
   "execution_count": 7,
   "id": "165e4537",
   "metadata": {
    "execution": {
     "iopub.execute_input": "2022-12-27T12:37:56.875605Z",
     "iopub.status.busy": "2022-12-27T12:37:56.874803Z",
     "iopub.status.idle": "2022-12-27T12:37:58.404694Z",
     "shell.execute_reply": "2022-12-27T12:37:58.403633Z"
    },
    "papermill": {
     "duration": 1.539197,
     "end_time": "2022-12-27T12:37:58.407647",
     "exception": false,
     "start_time": "2022-12-27T12:37:56.868450",
     "status": "completed"
    },
    "tags": []
   },
   "outputs": [],
   "source": [
    "model.fit(X,y)\n",
    "predictions=model.predict(X_test)"
   ]
  },
  {
   "cell_type": "code",
   "execution_count": 8,
   "id": "f625a16d",
   "metadata": {
    "execution": {
     "iopub.execute_input": "2022-12-27T12:37:58.422879Z",
     "iopub.status.busy": "2022-12-27T12:37:58.421880Z",
     "iopub.status.idle": "2022-12-27T12:37:58.434131Z",
     "shell.execute_reply": "2022-12-27T12:37:58.432674Z"
    },
    "papermill": {
     "duration": 0.022531,
     "end_time": "2022-12-27T12:37:58.436959",
     "exception": false,
     "start_time": "2022-12-27T12:37:58.414428",
     "status": "completed"
    },
    "tags": []
   },
   "outputs": [
    {
     "name": "stdout",
     "output_type": "stream",
     "text": [
      "Your submission was successfully saved!\n"
     ]
    }
   ],
   "source": [
    "output = pd.DataFrame({'PassengerId': test_data.PassengerId, 'Survived': predictions})\n",
    "output.to_csv('submission.csv', index=False)\n",
    "print(\"Your submission was successfully saved!\")"
   ]
  },
  {
   "cell_type": "markdown",
   "id": "88025456",
   "metadata": {
    "papermill": {
     "duration": 0.004839,
     "end_time": "2022-12-27T12:37:58.447029",
     "exception": false,
     "start_time": "2022-12-27T12:37:58.442190",
     "status": "completed"
    },
    "tags": []
   },
   "source": [
    "We have successfully completed a basic XGBoost model"
   ]
  },
  {
   "cell_type": "code",
   "execution_count": null,
   "id": "34c3ef9a",
   "metadata": {
    "papermill": {
     "duration": 0.004483,
     "end_time": "2022-12-27T12:37:58.456991",
     "exception": false,
     "start_time": "2022-12-27T12:37:58.452508",
     "status": "completed"
    },
    "tags": []
   },
   "outputs": [],
   "source": []
  }
 ],
 "metadata": {
  "kernelspec": {
   "display_name": "Python 3",
   "language": "python",
   "name": "python3"
  },
  "language_info": {
   "codemirror_mode": {
    "name": "ipython",
    "version": 3
   },
   "file_extension": ".py",
   "mimetype": "text/x-python",
   "name": "python",
   "nbconvert_exporter": "python",
   "pygments_lexer": "ipython3",
   "version": "3.7.12"
  },
  "papermill": {
   "default_parameters": {},
   "duration": 12.164553,
   "end_time": "2022-12-27T12:37:59.183205",
   "environment_variables": {},
   "exception": null,
   "input_path": "__notebook__.ipynb",
   "output_path": "__notebook__.ipynb",
   "parameters": {},
   "start_time": "2022-12-27T12:37:47.018652",
   "version": "2.3.4"
  }
 },
 "nbformat": 4,
 "nbformat_minor": 5
}
