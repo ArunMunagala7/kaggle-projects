{
 "cells": [
  {
   "cell_type": "code",
   "execution_count": 1,
   "id": "eeb788f3",
   "metadata": {
    "_cell_guid": "b1076dfc-b9ad-4769-8c92-a6c4dae69d19",
    "_uuid": "8f2839f25d086af736a60e9eeb907d3b93b6e0e5",
    "execution": {
     "iopub.execute_input": "2022-12-27T17:14:12.685317Z",
     "iopub.status.busy": "2022-12-27T17:14:12.684860Z",
     "iopub.status.idle": "2022-12-27T17:14:12.698463Z",
     "shell.execute_reply": "2022-12-27T17:14:12.697275Z"
    },
    "papermill": {
     "duration": 0.025725,
     "end_time": "2022-12-27T17:14:12.701770",
     "exception": false,
     "start_time": "2022-12-27T17:14:12.676045",
     "status": "completed"
    },
    "tags": []
   },
   "outputs": [
    {
     "name": "stdout",
     "output_type": "stream",
     "text": [
      "/kaggle/input/titanic/train.csv\n",
      "/kaggle/input/titanic/test.csv\n",
      "/kaggle/input/titanic/gender_submission.csv\n"
     ]
    }
   ],
   "source": [
    "# This Python 3 environment comes with many helpful analytics libraries installed\n",
    "# It is defined by the kaggle/python Docker image: https://github.com/kaggle/docker-python\n",
    "# For example, here's several helpful packages to load\n",
    "\n",
    "import numpy as np # linear algebra\n",
    "import pandas as pd # data processing, CSV file I/O (e.g. pd.read_csv)\n",
    "\n",
    "# Input data files are available in the read-only \"../input/\" directory\n",
    "# For example, running this (by clicking run or pressing Shift+Enter) will list all files under the input directory\n",
    "\n",
    "import os\n",
    "for dirname, _, filenames in os.walk('/kaggle/input'):\n",
    "    for filename in filenames:\n",
    "        print(os.path.join(dirname, filename))\n",
    "\n",
    "# You can write up to 20GB to the current directory (/kaggle/working/) that gets preserved as output when you create a version using \"Save & Run All\" \n",
    "# You can also write temporary files to /kaggle/temp/, but they won't be saved outside of the current session"
   ]
  },
  {
   "cell_type": "code",
   "execution_count": 2,
   "id": "5ccfa28d",
   "metadata": {
    "execution": {
     "iopub.execute_input": "2022-12-27T17:14:12.716159Z",
     "iopub.status.busy": "2022-12-27T17:14:12.715758Z",
     "iopub.status.idle": "2022-12-27T17:14:12.760732Z",
     "shell.execute_reply": "2022-12-27T17:14:12.759536Z"
    },
    "papermill": {
     "duration": 0.054479,
     "end_time": "2022-12-27T17:14:12.762973",
     "exception": false,
     "start_time": "2022-12-27T17:14:12.708494",
     "status": "completed"
    },
    "tags": []
   },
   "outputs": [
    {
     "data": {
      "text/html": [
       "<div>\n",
       "<style scoped>\n",
       "    .dataframe tbody tr th:only-of-type {\n",
       "        vertical-align: middle;\n",
       "    }\n",
       "\n",
       "    .dataframe tbody tr th {\n",
       "        vertical-align: top;\n",
       "    }\n",
       "\n",
       "    .dataframe thead th {\n",
       "        text-align: right;\n",
       "    }\n",
       "</style>\n",
       "<table border=\"1\" class=\"dataframe\">\n",
       "  <thead>\n",
       "    <tr style=\"text-align: right;\">\n",
       "      <th></th>\n",
       "      <th>PassengerId</th>\n",
       "      <th>Survived</th>\n",
       "      <th>Pclass</th>\n",
       "      <th>Name</th>\n",
       "      <th>Sex</th>\n",
       "      <th>Age</th>\n",
       "      <th>SibSp</th>\n",
       "      <th>Parch</th>\n",
       "      <th>Ticket</th>\n",
       "      <th>Fare</th>\n",
       "      <th>Cabin</th>\n",
       "      <th>Embarked</th>\n",
       "    </tr>\n",
       "  </thead>\n",
       "  <tbody>\n",
       "    <tr>\n",
       "      <th>0</th>\n",
       "      <td>1</td>\n",
       "      <td>0</td>\n",
       "      <td>3</td>\n",
       "      <td>Braund, Mr. Owen Harris</td>\n",
       "      <td>male</td>\n",
       "      <td>22.0</td>\n",
       "      <td>1</td>\n",
       "      <td>0</td>\n",
       "      <td>A/5 21171</td>\n",
       "      <td>7.2500</td>\n",
       "      <td>NaN</td>\n",
       "      <td>S</td>\n",
       "    </tr>\n",
       "    <tr>\n",
       "      <th>1</th>\n",
       "      <td>2</td>\n",
       "      <td>1</td>\n",
       "      <td>1</td>\n",
       "      <td>Cumings, Mrs. John Bradley (Florence Briggs Th...</td>\n",
       "      <td>female</td>\n",
       "      <td>38.0</td>\n",
       "      <td>1</td>\n",
       "      <td>0</td>\n",
       "      <td>PC 17599</td>\n",
       "      <td>71.2833</td>\n",
       "      <td>C85</td>\n",
       "      <td>C</td>\n",
       "    </tr>\n",
       "    <tr>\n",
       "      <th>2</th>\n",
       "      <td>3</td>\n",
       "      <td>1</td>\n",
       "      <td>3</td>\n",
       "      <td>Heikkinen, Miss. Laina</td>\n",
       "      <td>female</td>\n",
       "      <td>26.0</td>\n",
       "      <td>0</td>\n",
       "      <td>0</td>\n",
       "      <td>STON/O2. 3101282</td>\n",
       "      <td>7.9250</td>\n",
       "      <td>NaN</td>\n",
       "      <td>S</td>\n",
       "    </tr>\n",
       "    <tr>\n",
       "      <th>3</th>\n",
       "      <td>4</td>\n",
       "      <td>1</td>\n",
       "      <td>1</td>\n",
       "      <td>Futrelle, Mrs. Jacques Heath (Lily May Peel)</td>\n",
       "      <td>female</td>\n",
       "      <td>35.0</td>\n",
       "      <td>1</td>\n",
       "      <td>0</td>\n",
       "      <td>113803</td>\n",
       "      <td>53.1000</td>\n",
       "      <td>C123</td>\n",
       "      <td>S</td>\n",
       "    </tr>\n",
       "    <tr>\n",
       "      <th>4</th>\n",
       "      <td>5</td>\n",
       "      <td>0</td>\n",
       "      <td>3</td>\n",
       "      <td>Allen, Mr. William Henry</td>\n",
       "      <td>male</td>\n",
       "      <td>35.0</td>\n",
       "      <td>0</td>\n",
       "      <td>0</td>\n",
       "      <td>373450</td>\n",
       "      <td>8.0500</td>\n",
       "      <td>NaN</td>\n",
       "      <td>S</td>\n",
       "    </tr>\n",
       "  </tbody>\n",
       "</table>\n",
       "</div>"
      ],
      "text/plain": [
       "   PassengerId  Survived  Pclass  \\\n",
       "0            1         0       3   \n",
       "1            2         1       1   \n",
       "2            3         1       3   \n",
       "3            4         1       1   \n",
       "4            5         0       3   \n",
       "\n",
       "                                                Name     Sex   Age  SibSp  \\\n",
       "0                            Braund, Mr. Owen Harris    male  22.0      1   \n",
       "1  Cumings, Mrs. John Bradley (Florence Briggs Th...  female  38.0      1   \n",
       "2                             Heikkinen, Miss. Laina  female  26.0      0   \n",
       "3       Futrelle, Mrs. Jacques Heath (Lily May Peel)  female  35.0      1   \n",
       "4                           Allen, Mr. William Henry    male  35.0      0   \n",
       "\n",
       "   Parch            Ticket     Fare Cabin Embarked  \n",
       "0      0         A/5 21171   7.2500   NaN        S  \n",
       "1      0          PC 17599  71.2833   C85        C  \n",
       "2      0  STON/O2. 3101282   7.9250   NaN        S  \n",
       "3      0            113803  53.1000  C123        S  \n",
       "4      0            373450   8.0500   NaN        S  "
      ]
     },
     "execution_count": 2,
     "metadata": {},
     "output_type": "execute_result"
    }
   ],
   "source": [
    "train_loc=\"/kaggle/input/titanic/train.csv\"\n",
    "train_data=pd.read_csv(train_loc)\n",
    "train_data.head()"
   ]
  },
  {
   "cell_type": "code",
   "execution_count": 3,
   "id": "2e6983fc",
   "metadata": {
    "execution": {
     "iopub.execute_input": "2022-12-27T17:14:12.777147Z",
     "iopub.status.busy": "2022-12-27T17:14:12.776713Z",
     "iopub.status.idle": "2022-12-27T17:14:12.800585Z",
     "shell.execute_reply": "2022-12-27T17:14:12.799370Z"
    },
    "papermill": {
     "duration": 0.03341,
     "end_time": "2022-12-27T17:14:12.802844",
     "exception": false,
     "start_time": "2022-12-27T17:14:12.769434",
     "status": "completed"
    },
    "tags": []
   },
   "outputs": [
    {
     "data": {
      "text/html": [
       "<div>\n",
       "<style scoped>\n",
       "    .dataframe tbody tr th:only-of-type {\n",
       "        vertical-align: middle;\n",
       "    }\n",
       "\n",
       "    .dataframe tbody tr th {\n",
       "        vertical-align: top;\n",
       "    }\n",
       "\n",
       "    .dataframe thead th {\n",
       "        text-align: right;\n",
       "    }\n",
       "</style>\n",
       "<table border=\"1\" class=\"dataframe\">\n",
       "  <thead>\n",
       "    <tr style=\"text-align: right;\">\n",
       "      <th></th>\n",
       "      <th>PassengerId</th>\n",
       "      <th>Pclass</th>\n",
       "      <th>Name</th>\n",
       "      <th>Sex</th>\n",
       "      <th>Age</th>\n",
       "      <th>SibSp</th>\n",
       "      <th>Parch</th>\n",
       "      <th>Ticket</th>\n",
       "      <th>Fare</th>\n",
       "      <th>Cabin</th>\n",
       "      <th>Embarked</th>\n",
       "    </tr>\n",
       "  </thead>\n",
       "  <tbody>\n",
       "    <tr>\n",
       "      <th>0</th>\n",
       "      <td>892</td>\n",
       "      <td>3</td>\n",
       "      <td>Kelly, Mr. James</td>\n",
       "      <td>male</td>\n",
       "      <td>34.5</td>\n",
       "      <td>0</td>\n",
       "      <td>0</td>\n",
       "      <td>330911</td>\n",
       "      <td>7.8292</td>\n",
       "      <td>NaN</td>\n",
       "      <td>Q</td>\n",
       "    </tr>\n",
       "    <tr>\n",
       "      <th>1</th>\n",
       "      <td>893</td>\n",
       "      <td>3</td>\n",
       "      <td>Wilkes, Mrs. James (Ellen Needs)</td>\n",
       "      <td>female</td>\n",
       "      <td>47.0</td>\n",
       "      <td>1</td>\n",
       "      <td>0</td>\n",
       "      <td>363272</td>\n",
       "      <td>7.0000</td>\n",
       "      <td>NaN</td>\n",
       "      <td>S</td>\n",
       "    </tr>\n",
       "    <tr>\n",
       "      <th>2</th>\n",
       "      <td>894</td>\n",
       "      <td>2</td>\n",
       "      <td>Myles, Mr. Thomas Francis</td>\n",
       "      <td>male</td>\n",
       "      <td>62.0</td>\n",
       "      <td>0</td>\n",
       "      <td>0</td>\n",
       "      <td>240276</td>\n",
       "      <td>9.6875</td>\n",
       "      <td>NaN</td>\n",
       "      <td>Q</td>\n",
       "    </tr>\n",
       "    <tr>\n",
       "      <th>3</th>\n",
       "      <td>895</td>\n",
       "      <td>3</td>\n",
       "      <td>Wirz, Mr. Albert</td>\n",
       "      <td>male</td>\n",
       "      <td>27.0</td>\n",
       "      <td>0</td>\n",
       "      <td>0</td>\n",
       "      <td>315154</td>\n",
       "      <td>8.6625</td>\n",
       "      <td>NaN</td>\n",
       "      <td>S</td>\n",
       "    </tr>\n",
       "    <tr>\n",
       "      <th>4</th>\n",
       "      <td>896</td>\n",
       "      <td>3</td>\n",
       "      <td>Hirvonen, Mrs. Alexander (Helga E Lindqvist)</td>\n",
       "      <td>female</td>\n",
       "      <td>22.0</td>\n",
       "      <td>1</td>\n",
       "      <td>1</td>\n",
       "      <td>3101298</td>\n",
       "      <td>12.2875</td>\n",
       "      <td>NaN</td>\n",
       "      <td>S</td>\n",
       "    </tr>\n",
       "  </tbody>\n",
       "</table>\n",
       "</div>"
      ],
      "text/plain": [
       "   PassengerId  Pclass                                          Name     Sex  \\\n",
       "0          892       3                              Kelly, Mr. James    male   \n",
       "1          893       3              Wilkes, Mrs. James (Ellen Needs)  female   \n",
       "2          894       2                     Myles, Mr. Thomas Francis    male   \n",
       "3          895       3                              Wirz, Mr. Albert    male   \n",
       "4          896       3  Hirvonen, Mrs. Alexander (Helga E Lindqvist)  female   \n",
       "\n",
       "    Age  SibSp  Parch   Ticket     Fare Cabin Embarked  \n",
       "0  34.5      0      0   330911   7.8292   NaN        Q  \n",
       "1  47.0      1      0   363272   7.0000   NaN        S  \n",
       "2  62.0      0      0   240276   9.6875   NaN        Q  \n",
       "3  27.0      0      0   315154   8.6625   NaN        S  \n",
       "4  22.0      1      1  3101298  12.2875   NaN        S  "
      ]
     },
     "execution_count": 3,
     "metadata": {},
     "output_type": "execute_result"
    }
   ],
   "source": [
    "test_loc=\"/kaggle/input/titanic/test.csv\"\n",
    "test_data=pd.read_csv(test_loc)\n",
    "test_data.head()"
   ]
  },
  {
   "cell_type": "markdown",
   "id": "a786080f",
   "metadata": {
    "papermill": {
     "duration": 0.00628,
     "end_time": "2022-12-27T17:14:12.815776",
     "exception": false,
     "start_time": "2022-12-27T17:14:12.809496",
     "status": "completed"
    },
    "tags": []
   },
   "source": [
    "testing and train dataset uploaded"
   ]
  },
  {
   "cell_type": "markdown",
   "id": "adc31534",
   "metadata": {
    "papermill": {
     "duration": 0.006107,
     "end_time": "2022-12-27T17:14:12.828692",
     "exception": false,
     "start_time": "2022-12-27T17:14:12.822585",
     "status": "completed"
    },
    "tags": []
   },
   "source": [
    "time to define a model\n"
   ]
  },
  {
   "cell_type": "code",
   "execution_count": 4,
   "id": "9558d31a",
   "metadata": {
    "execution": {
     "iopub.execute_input": "2022-12-27T17:14:12.843017Z",
     "iopub.status.busy": "2022-12-27T17:14:12.842628Z",
     "iopub.status.idle": "2022-12-27T17:14:13.931833Z",
     "shell.execute_reply": "2022-12-27T17:14:13.930732Z"
    },
    "papermill": {
     "duration": 1.099242,
     "end_time": "2022-12-27T17:14:13.934294",
     "exception": false,
     "start_time": "2022-12-27T17:14:12.835052",
     "status": "completed"
    },
    "tags": []
   },
   "outputs": [],
   "source": [
    "from xgboost import XGBClassifier\n",
    "model=XGBClassifier(n_estimators=500)\n"
   ]
  },
  {
   "cell_type": "markdown",
   "id": "7219cef8",
   "metadata": {
    "papermill": {
     "duration": 0.006422,
     "end_time": "2022-12-27T17:14:13.947323",
     "exception": false,
     "start_time": "2022-12-27T17:14:13.940901",
     "status": "completed"
    },
    "tags": []
   },
   "source": [
    "selecting all the categorical features that can be implemented in the ML model\n"
   ]
  },
  {
   "cell_type": "code",
   "execution_count": 5,
   "id": "356ba79f",
   "metadata": {
    "execution": {
     "iopub.execute_input": "2022-12-27T17:14:13.963608Z",
     "iopub.status.busy": "2022-12-27T17:14:13.963207Z",
     "iopub.status.idle": "2022-12-27T17:14:13.981654Z",
     "shell.execute_reply": "2022-12-27T17:14:13.980750Z"
    },
    "papermill": {
     "duration": 0.03002,
     "end_time": "2022-12-27T17:14:13.983940",
     "exception": false,
     "start_time": "2022-12-27T17:14:13.953920",
     "status": "completed"
    },
    "tags": []
   },
   "outputs": [],
   "source": [
    "discrete_features = [\"Pclass\", \"Sex\", \"SibSp\", \"Parch\",\"Embarked\"]\n",
    "X1=pd.get_dummies(train_data[discrete_features])"
   ]
  },
  {
   "cell_type": "code",
   "execution_count": 6,
   "id": "c90eb823",
   "metadata": {
    "execution": {
     "iopub.execute_input": "2022-12-27T17:14:13.998913Z",
     "iopub.status.busy": "2022-12-27T17:14:13.998254Z",
     "iopub.status.idle": "2022-12-27T17:14:14.010056Z",
     "shell.execute_reply": "2022-12-27T17:14:14.009285Z"
    },
    "papermill": {
     "duration": 0.021699,
     "end_time": "2022-12-27T17:14:14.012114",
     "exception": false,
     "start_time": "2022-12-27T17:14:13.990415",
     "status": "completed"
    },
    "tags": []
   },
   "outputs": [
    {
     "data": {
      "text/html": [
       "<div>\n",
       "<style scoped>\n",
       "    .dataframe tbody tr th:only-of-type {\n",
       "        vertical-align: middle;\n",
       "    }\n",
       "\n",
       "    .dataframe tbody tr th {\n",
       "        vertical-align: top;\n",
       "    }\n",
       "\n",
       "    .dataframe thead th {\n",
       "        text-align: right;\n",
       "    }\n",
       "</style>\n",
       "<table border=\"1\" class=\"dataframe\">\n",
       "  <thead>\n",
       "    <tr style=\"text-align: right;\">\n",
       "      <th></th>\n",
       "      <th>Pclass</th>\n",
       "      <th>SibSp</th>\n",
       "      <th>Parch</th>\n",
       "      <th>Sex_female</th>\n",
       "      <th>Sex_male</th>\n",
       "      <th>Embarked_C</th>\n",
       "      <th>Embarked_Q</th>\n",
       "      <th>Embarked_S</th>\n",
       "    </tr>\n",
       "  </thead>\n",
       "  <tbody>\n",
       "    <tr>\n",
       "      <th>0</th>\n",
       "      <td>3</td>\n",
       "      <td>1</td>\n",
       "      <td>0</td>\n",
       "      <td>0</td>\n",
       "      <td>1</td>\n",
       "      <td>0</td>\n",
       "      <td>0</td>\n",
       "      <td>1</td>\n",
       "    </tr>\n",
       "    <tr>\n",
       "      <th>1</th>\n",
       "      <td>1</td>\n",
       "      <td>1</td>\n",
       "      <td>0</td>\n",
       "      <td>1</td>\n",
       "      <td>0</td>\n",
       "      <td>1</td>\n",
       "      <td>0</td>\n",
       "      <td>0</td>\n",
       "    </tr>\n",
       "    <tr>\n",
       "      <th>2</th>\n",
       "      <td>3</td>\n",
       "      <td>0</td>\n",
       "      <td>0</td>\n",
       "      <td>1</td>\n",
       "      <td>0</td>\n",
       "      <td>0</td>\n",
       "      <td>0</td>\n",
       "      <td>1</td>\n",
       "    </tr>\n",
       "    <tr>\n",
       "      <th>3</th>\n",
       "      <td>1</td>\n",
       "      <td>1</td>\n",
       "      <td>0</td>\n",
       "      <td>1</td>\n",
       "      <td>0</td>\n",
       "      <td>0</td>\n",
       "      <td>0</td>\n",
       "      <td>1</td>\n",
       "    </tr>\n",
       "    <tr>\n",
       "      <th>4</th>\n",
       "      <td>3</td>\n",
       "      <td>0</td>\n",
       "      <td>0</td>\n",
       "      <td>0</td>\n",
       "      <td>1</td>\n",
       "      <td>0</td>\n",
       "      <td>0</td>\n",
       "      <td>1</td>\n",
       "    </tr>\n",
       "    <tr>\n",
       "      <th>5</th>\n",
       "      <td>3</td>\n",
       "      <td>0</td>\n",
       "      <td>0</td>\n",
       "      <td>0</td>\n",
       "      <td>1</td>\n",
       "      <td>0</td>\n",
       "      <td>1</td>\n",
       "      <td>0</td>\n",
       "    </tr>\n",
       "    <tr>\n",
       "      <th>6</th>\n",
       "      <td>1</td>\n",
       "      <td>0</td>\n",
       "      <td>0</td>\n",
       "      <td>0</td>\n",
       "      <td>1</td>\n",
       "      <td>0</td>\n",
       "      <td>0</td>\n",
       "      <td>1</td>\n",
       "    </tr>\n",
       "    <tr>\n",
       "      <th>7</th>\n",
       "      <td>3</td>\n",
       "      <td>3</td>\n",
       "      <td>1</td>\n",
       "      <td>0</td>\n",
       "      <td>1</td>\n",
       "      <td>0</td>\n",
       "      <td>0</td>\n",
       "      <td>1</td>\n",
       "    </tr>\n",
       "    <tr>\n",
       "      <th>8</th>\n",
       "      <td>3</td>\n",
       "      <td>0</td>\n",
       "      <td>2</td>\n",
       "      <td>1</td>\n",
       "      <td>0</td>\n",
       "      <td>0</td>\n",
       "      <td>0</td>\n",
       "      <td>1</td>\n",
       "    </tr>\n",
       "    <tr>\n",
       "      <th>9</th>\n",
       "      <td>2</td>\n",
       "      <td>1</td>\n",
       "      <td>0</td>\n",
       "      <td>1</td>\n",
       "      <td>0</td>\n",
       "      <td>1</td>\n",
       "      <td>0</td>\n",
       "      <td>0</td>\n",
       "    </tr>\n",
       "  </tbody>\n",
       "</table>\n",
       "</div>"
      ],
      "text/plain": [
       "   Pclass  SibSp  Parch  Sex_female  Sex_male  Embarked_C  Embarked_Q  \\\n",
       "0       3      1      0           0         1           0           0   \n",
       "1       1      1      0           1         0           1           0   \n",
       "2       3      0      0           1         0           0           0   \n",
       "3       1      1      0           1         0           0           0   \n",
       "4       3      0      0           0         1           0           0   \n",
       "5       3      0      0           0         1           0           1   \n",
       "6       1      0      0           0         1           0           0   \n",
       "7       3      3      1           0         1           0           0   \n",
       "8       3      0      2           1         0           0           0   \n",
       "9       2      1      0           1         0           1           0   \n",
       "\n",
       "   Embarked_S  \n",
       "0           1  \n",
       "1           0  \n",
       "2           1  \n",
       "3           1  \n",
       "4           1  \n",
       "5           0  \n",
       "6           1  \n",
       "7           1  \n",
       "8           1  \n",
       "9           0  "
      ]
     },
     "execution_count": 6,
     "metadata": {},
     "output_type": "execute_result"
    }
   ],
   "source": [
    "X1.head(10)"
   ]
  },
  {
   "cell_type": "markdown",
   "id": "6e11889e",
   "metadata": {
    "papermill": {
     "duration": 0.006676,
     "end_time": "2022-12-27T17:14:14.025475",
     "exception": false,
     "start_time": "2022-12-27T17:14:14.018799",
     "status": "completed"
    },
    "tags": []
   },
   "source": [
    "Float Data to be used for the classification"
   ]
  },
  {
   "cell_type": "code",
   "execution_count": 7,
   "id": "8ac07b7e",
   "metadata": {
    "execution": {
     "iopub.execute_input": "2022-12-27T17:14:14.041516Z",
     "iopub.status.busy": "2022-12-27T17:14:14.040768Z",
     "iopub.status.idle": "2022-12-27T17:14:14.045681Z",
     "shell.execute_reply": "2022-12-27T17:14:14.044873Z"
    },
    "papermill": {
     "duration": 0.014887,
     "end_time": "2022-12-27T17:14:14.047637",
     "exception": false,
     "start_time": "2022-12-27T17:14:14.032750",
     "status": "completed"
    },
    "tags": []
   },
   "outputs": [],
   "source": [
    "X2=train_data[\"Fare\"]"
   ]
  },
  {
   "cell_type": "markdown",
   "id": "715e9848",
   "metadata": {
    "papermill": {
     "duration": 0.006241,
     "end_time": "2022-12-27T17:14:14.060556",
     "exception": false,
     "start_time": "2022-12-27T17:14:14.054315",
     "status": "completed"
    },
    "tags": []
   },
   "source": [
    "preparing dataset for mutual information"
   ]
  },
  {
   "cell_type": "code",
   "execution_count": 8,
   "id": "7b66bb88",
   "metadata": {
    "execution": {
     "iopub.execute_input": "2022-12-27T17:14:14.075754Z",
     "iopub.status.busy": "2022-12-27T17:14:14.074999Z",
     "iopub.status.idle": "2022-12-27T17:14:14.080367Z",
     "shell.execute_reply": "2022-12-27T17:14:14.079628Z"
    },
    "papermill": {
     "duration": 0.015418,
     "end_time": "2022-12-27T17:14:14.082447",
     "exception": false,
     "start_time": "2022-12-27T17:14:14.067029",
     "status": "completed"
    },
    "tags": []
   },
   "outputs": [],
   "source": [
    "X=pd.concat([X1,X2],axis=1)"
   ]
  },
  {
   "cell_type": "code",
   "execution_count": 9,
   "id": "a9ae6594",
   "metadata": {
    "execution": {
     "iopub.execute_input": "2022-12-27T17:14:14.098902Z",
     "iopub.status.busy": "2022-12-27T17:14:14.098203Z",
     "iopub.status.idle": "2022-12-27T17:14:14.109471Z",
     "shell.execute_reply": "2022-12-27T17:14:14.108740Z"
    },
    "papermill": {
     "duration": 0.022002,
     "end_time": "2022-12-27T17:14:14.111530",
     "exception": false,
     "start_time": "2022-12-27T17:14:14.089528",
     "status": "completed"
    },
    "tags": []
   },
   "outputs": [
    {
     "data": {
      "text/html": [
       "<div>\n",
       "<style scoped>\n",
       "    .dataframe tbody tr th:only-of-type {\n",
       "        vertical-align: middle;\n",
       "    }\n",
       "\n",
       "    .dataframe tbody tr th {\n",
       "        vertical-align: top;\n",
       "    }\n",
       "\n",
       "    .dataframe thead th {\n",
       "        text-align: right;\n",
       "    }\n",
       "</style>\n",
       "<table border=\"1\" class=\"dataframe\">\n",
       "  <thead>\n",
       "    <tr style=\"text-align: right;\">\n",
       "      <th></th>\n",
       "      <th>Pclass</th>\n",
       "      <th>SibSp</th>\n",
       "      <th>Parch</th>\n",
       "      <th>Sex_female</th>\n",
       "      <th>Sex_male</th>\n",
       "      <th>Embarked_C</th>\n",
       "      <th>Embarked_Q</th>\n",
       "      <th>Embarked_S</th>\n",
       "      <th>Fare</th>\n",
       "    </tr>\n",
       "  </thead>\n",
       "  <tbody>\n",
       "    <tr>\n",
       "      <th>0</th>\n",
       "      <td>3</td>\n",
       "      <td>1</td>\n",
       "      <td>0</td>\n",
       "      <td>0</td>\n",
       "      <td>1</td>\n",
       "      <td>0</td>\n",
       "      <td>0</td>\n",
       "      <td>1</td>\n",
       "      <td>7.2500</td>\n",
       "    </tr>\n",
       "    <tr>\n",
       "      <th>1</th>\n",
       "      <td>1</td>\n",
       "      <td>1</td>\n",
       "      <td>0</td>\n",
       "      <td>1</td>\n",
       "      <td>0</td>\n",
       "      <td>1</td>\n",
       "      <td>0</td>\n",
       "      <td>0</td>\n",
       "      <td>71.2833</td>\n",
       "    </tr>\n",
       "    <tr>\n",
       "      <th>2</th>\n",
       "      <td>3</td>\n",
       "      <td>0</td>\n",
       "      <td>0</td>\n",
       "      <td>1</td>\n",
       "      <td>0</td>\n",
       "      <td>0</td>\n",
       "      <td>0</td>\n",
       "      <td>1</td>\n",
       "      <td>7.9250</td>\n",
       "    </tr>\n",
       "    <tr>\n",
       "      <th>3</th>\n",
       "      <td>1</td>\n",
       "      <td>1</td>\n",
       "      <td>0</td>\n",
       "      <td>1</td>\n",
       "      <td>0</td>\n",
       "      <td>0</td>\n",
       "      <td>0</td>\n",
       "      <td>1</td>\n",
       "      <td>53.1000</td>\n",
       "    </tr>\n",
       "    <tr>\n",
       "      <th>4</th>\n",
       "      <td>3</td>\n",
       "      <td>0</td>\n",
       "      <td>0</td>\n",
       "      <td>0</td>\n",
       "      <td>1</td>\n",
       "      <td>0</td>\n",
       "      <td>0</td>\n",
       "      <td>1</td>\n",
       "      <td>8.0500</td>\n",
       "    </tr>\n",
       "  </tbody>\n",
       "</table>\n",
       "</div>"
      ],
      "text/plain": [
       "   Pclass  SibSp  Parch  Sex_female  Sex_male  Embarked_C  Embarked_Q  \\\n",
       "0       3      1      0           0         1           0           0   \n",
       "1       1      1      0           1         0           1           0   \n",
       "2       3      0      0           1         0           0           0   \n",
       "3       1      1      0           1         0           0           0   \n",
       "4       3      0      0           0         1           0           0   \n",
       "\n",
       "   Embarked_S     Fare  \n",
       "0           1   7.2500  \n",
       "1           0  71.2833  \n",
       "2           1   7.9250  \n",
       "3           1  53.1000  \n",
       "4           1   8.0500  "
      ]
     },
     "execution_count": 9,
     "metadata": {},
     "output_type": "execute_result"
    }
   ],
   "source": [
    "X.head()"
   ]
  },
  {
   "cell_type": "markdown",
   "id": "20b7a0c6",
   "metadata": {
    "papermill": {
     "duration": 0.006519,
     "end_time": "2022-12-27T17:14:14.124984",
     "exception": false,
     "start_time": "2022-12-27T17:14:14.118465",
     "status": "completed"
    },
    "tags": []
   },
   "source": [
    "target feature to be classified "
   ]
  },
  {
   "cell_type": "code",
   "execution_count": 10,
   "id": "dcc74a4d",
   "metadata": {
    "execution": {
     "iopub.execute_input": "2022-12-27T17:14:14.141302Z",
     "iopub.status.busy": "2022-12-27T17:14:14.140676Z",
     "iopub.status.idle": "2022-12-27T17:14:14.145011Z",
     "shell.execute_reply": "2022-12-27T17:14:14.144259Z"
    },
    "papermill": {
     "duration": 0.015128,
     "end_time": "2022-12-27T17:14:14.147295",
     "exception": false,
     "start_time": "2022-12-27T17:14:14.132167",
     "status": "completed"
    },
    "tags": []
   },
   "outputs": [],
   "source": [
    "y=train_data[\"Survived\"]"
   ]
  },
  {
   "cell_type": "markdown",
   "id": "2fc2c54f",
   "metadata": {
    "papermill": {
     "duration": 0.006483,
     "end_time": "2022-12-27T17:14:14.160737",
     "exception": false,
     "start_time": "2022-12-27T17:14:14.154254",
     "status": "completed"
    },
    "tags": []
   },
   "source": [
    "Mutual Information to check which features are most useful for the classification"
   ]
  },
  {
   "cell_type": "markdown",
   "id": "45f70e06",
   "metadata": {
    "papermill": {
     "duration": 0.006613,
     "end_time": "2022-12-27T17:14:14.174159",
     "exception": false,
     "start_time": "2022-12-27T17:14:14.167546",
     "status": "completed"
    },
    "tags": []
   },
   "source": [
    "uploading the package necessary"
   ]
  },
  {
   "cell_type": "code",
   "execution_count": 11,
   "id": "315cb563",
   "metadata": {
    "execution": {
     "iopub.execute_input": "2022-12-27T17:14:14.189487Z",
     "iopub.status.busy": "2022-12-27T17:14:14.189059Z",
     "iopub.status.idle": "2022-12-27T17:14:15.568330Z",
     "shell.execute_reply": "2022-12-27T17:14:15.567346Z"
    },
    "papermill": {
     "duration": 1.38996,
     "end_time": "2022-12-27T17:14:15.570842",
     "exception": false,
     "start_time": "2022-12-27T17:14:14.180882",
     "status": "completed"
    },
    "tags": []
   },
   "outputs": [
    {
     "data": {
      "text/plain": [
       "XGBClassifier(base_score=0.5, booster='gbtree', callbacks=None,\n",
       "              colsample_bylevel=1, colsample_bynode=1, colsample_bytree=1,\n",
       "              early_stopping_rounds=None, enable_categorical=False,\n",
       "              eval_metric=None, gamma=0, gpu_id=-1, grow_policy='depthwise',\n",
       "              importance_type=None, interaction_constraints='',\n",
       "              learning_rate=0.300000012, max_bin=256, max_cat_to_onehot=4,\n",
       "              max_delta_step=0, max_depth=6, max_leaves=0, min_child_weight=1,\n",
       "              missing=nan, monotone_constraints='()', n_estimators=500,\n",
       "              n_jobs=0, num_parallel_tree=1, predictor='auto', random_state=0,\n",
       "              reg_alpha=0, reg_lambda=1, ...)"
      ]
     },
     "execution_count": 11,
     "metadata": {},
     "output_type": "execute_result"
    }
   ],
   "source": [
    "model.fit(X,y)"
   ]
  },
  {
   "cell_type": "code",
   "execution_count": 12,
   "id": "3b73175c",
   "metadata": {
    "execution": {
     "iopub.execute_input": "2022-12-27T17:14:15.588298Z",
     "iopub.status.busy": "2022-12-27T17:14:15.586784Z",
     "iopub.status.idle": "2022-12-27T17:14:15.598062Z",
     "shell.execute_reply": "2022-12-27T17:14:15.597188Z"
    },
    "papermill": {
     "duration": 0.022123,
     "end_time": "2022-12-27T17:14:15.600307",
     "exception": false,
     "start_time": "2022-12-27T17:14:15.578184",
     "status": "completed"
    },
    "tags": []
   },
   "outputs": [],
   "source": [
    "X1_test=pd.get_dummies(test_data[discrete_features])"
   ]
  },
  {
   "cell_type": "code",
   "execution_count": 13,
   "id": "ce16ac70",
   "metadata": {
    "execution": {
     "iopub.execute_input": "2022-12-27T17:14:15.616705Z",
     "iopub.status.busy": "2022-12-27T17:14:15.615545Z",
     "iopub.status.idle": "2022-12-27T17:14:15.620941Z",
     "shell.execute_reply": "2022-12-27T17:14:15.620189Z"
    },
    "papermill": {
     "duration": 0.015815,
     "end_time": "2022-12-27T17:14:15.623197",
     "exception": false,
     "start_time": "2022-12-27T17:14:15.607382",
     "status": "completed"
    },
    "tags": []
   },
   "outputs": [],
   "source": [
    "X2_test=test_data[\"Fare\"]"
   ]
  },
  {
   "cell_type": "markdown",
   "id": "39130201",
   "metadata": {
    "papermill": {
     "duration": 0.006728,
     "end_time": "2022-12-27T17:14:15.636832",
     "exception": false,
     "start_time": "2022-12-27T17:14:15.630104",
     "status": "completed"
    },
    "tags": []
   },
   "source": [
    "creating the final test dataset to predict with XGBoost"
   ]
  },
  {
   "cell_type": "code",
   "execution_count": 14,
   "id": "16017b1d",
   "metadata": {
    "execution": {
     "iopub.execute_input": "2022-12-27T17:14:15.652806Z",
     "iopub.status.busy": "2022-12-27T17:14:15.652016Z",
     "iopub.status.idle": "2022-12-27T17:14:15.666275Z",
     "shell.execute_reply": "2022-12-27T17:14:15.665217Z"
    },
    "papermill": {
     "duration": 0.024856,
     "end_time": "2022-12-27T17:14:15.668533",
     "exception": false,
     "start_time": "2022-12-27T17:14:15.643677",
     "status": "completed"
    },
    "tags": []
   },
   "outputs": [
    {
     "data": {
      "text/html": [
       "<div>\n",
       "<style scoped>\n",
       "    .dataframe tbody tr th:only-of-type {\n",
       "        vertical-align: middle;\n",
       "    }\n",
       "\n",
       "    .dataframe tbody tr th {\n",
       "        vertical-align: top;\n",
       "    }\n",
       "\n",
       "    .dataframe thead th {\n",
       "        text-align: right;\n",
       "    }\n",
       "</style>\n",
       "<table border=\"1\" class=\"dataframe\">\n",
       "  <thead>\n",
       "    <tr style=\"text-align: right;\">\n",
       "      <th></th>\n",
       "      <th>Pclass</th>\n",
       "      <th>SibSp</th>\n",
       "      <th>Parch</th>\n",
       "      <th>Sex_female</th>\n",
       "      <th>Sex_male</th>\n",
       "      <th>Embarked_C</th>\n",
       "      <th>Embarked_Q</th>\n",
       "      <th>Embarked_S</th>\n",
       "      <th>Fare</th>\n",
       "    </tr>\n",
       "  </thead>\n",
       "  <tbody>\n",
       "    <tr>\n",
       "      <th>0</th>\n",
       "      <td>3</td>\n",
       "      <td>0</td>\n",
       "      <td>0</td>\n",
       "      <td>0</td>\n",
       "      <td>1</td>\n",
       "      <td>0</td>\n",
       "      <td>1</td>\n",
       "      <td>0</td>\n",
       "      <td>7.8292</td>\n",
       "    </tr>\n",
       "    <tr>\n",
       "      <th>1</th>\n",
       "      <td>3</td>\n",
       "      <td>1</td>\n",
       "      <td>0</td>\n",
       "      <td>1</td>\n",
       "      <td>0</td>\n",
       "      <td>0</td>\n",
       "      <td>0</td>\n",
       "      <td>1</td>\n",
       "      <td>7.0000</td>\n",
       "    </tr>\n",
       "    <tr>\n",
       "      <th>2</th>\n",
       "      <td>2</td>\n",
       "      <td>0</td>\n",
       "      <td>0</td>\n",
       "      <td>0</td>\n",
       "      <td>1</td>\n",
       "      <td>0</td>\n",
       "      <td>1</td>\n",
       "      <td>0</td>\n",
       "      <td>9.6875</td>\n",
       "    </tr>\n",
       "    <tr>\n",
       "      <th>3</th>\n",
       "      <td>3</td>\n",
       "      <td>0</td>\n",
       "      <td>0</td>\n",
       "      <td>0</td>\n",
       "      <td>1</td>\n",
       "      <td>0</td>\n",
       "      <td>0</td>\n",
       "      <td>1</td>\n",
       "      <td>8.6625</td>\n",
       "    </tr>\n",
       "    <tr>\n",
       "      <th>4</th>\n",
       "      <td>3</td>\n",
       "      <td>1</td>\n",
       "      <td>1</td>\n",
       "      <td>1</td>\n",
       "      <td>0</td>\n",
       "      <td>0</td>\n",
       "      <td>0</td>\n",
       "      <td>1</td>\n",
       "      <td>12.2875</td>\n",
       "    </tr>\n",
       "  </tbody>\n",
       "</table>\n",
       "</div>"
      ],
      "text/plain": [
       "   Pclass  SibSp  Parch  Sex_female  Sex_male  Embarked_C  Embarked_Q  \\\n",
       "0       3      0      0           0         1           0           1   \n",
       "1       3      1      0           1         0           0           0   \n",
       "2       2      0      0           0         1           0           1   \n",
       "3       3      0      0           0         1           0           0   \n",
       "4       3      1      1           1         0           0           0   \n",
       "\n",
       "   Embarked_S     Fare  \n",
       "0           0   7.8292  \n",
       "1           1   7.0000  \n",
       "2           0   9.6875  \n",
       "3           1   8.6625  \n",
       "4           1  12.2875  "
      ]
     },
     "execution_count": 14,
     "metadata": {},
     "output_type": "execute_result"
    }
   ],
   "source": [
    "X_test=pd.concat([X1_test,X2_test],axis=1)\n",
    "X_test.head()"
   ]
  },
  {
   "cell_type": "code",
   "execution_count": 15,
   "id": "cbdbb0ff",
   "metadata": {
    "execution": {
     "iopub.execute_input": "2022-12-27T17:14:15.685352Z",
     "iopub.status.busy": "2022-12-27T17:14:15.684566Z",
     "iopub.status.idle": "2022-12-27T17:14:15.697406Z",
     "shell.execute_reply": "2022-12-27T17:14:15.696488Z"
    },
    "papermill": {
     "duration": 0.024637,
     "end_time": "2022-12-27T17:14:15.700350",
     "exception": false,
     "start_time": "2022-12-27T17:14:15.675713",
     "status": "completed"
    },
    "tags": []
   },
   "outputs": [],
   "source": [
    "predictions=model.predict(X_test)"
   ]
  },
  {
   "cell_type": "code",
   "execution_count": 16,
   "id": "6d0ec0a9",
   "metadata": {
    "execution": {
     "iopub.execute_input": "2022-12-27T17:14:15.718392Z",
     "iopub.status.busy": "2022-12-27T17:14:15.717990Z",
     "iopub.status.idle": "2022-12-27T17:14:15.728959Z",
     "shell.execute_reply": "2022-12-27T17:14:15.727536Z"
    },
    "papermill": {
     "duration": 0.022666,
     "end_time": "2022-12-27T17:14:15.731569",
     "exception": false,
     "start_time": "2022-12-27T17:14:15.708903",
     "status": "completed"
    },
    "tags": []
   },
   "outputs": [
    {
     "name": "stdout",
     "output_type": "stream",
     "text": [
      "Your submission was successfully saved!\n"
     ]
    }
   ],
   "source": [
    "output = pd.DataFrame({'PassengerId': test_data.PassengerId, 'Survived': predictions})\n",
    "output.to_csv('submission.csv', index=False)\n",
    "print(\"Your submission was successfully saved!\")"
   ]
  },
  {
   "cell_type": "code",
   "execution_count": null,
   "id": "cd6c624f",
   "metadata": {
    "papermill": {
     "duration": 0.007254,
     "end_time": "2022-12-27T17:14:15.746259",
     "exception": false,
     "start_time": "2022-12-27T17:14:15.739005",
     "status": "completed"
    },
    "tags": []
   },
   "outputs": [],
   "source": []
  }
 ],
 "metadata": {
  "kernelspec": {
   "display_name": "Python 3",
   "language": "python",
   "name": "python3"
  },
  "language_info": {
   "codemirror_mode": {
    "name": "ipython",
    "version": 3
   },
   "file_extension": ".py",
   "mimetype": "text/x-python",
   "name": "python",
   "nbconvert_exporter": "python",
   "pygments_lexer": "ipython3",
   "version": "3.7.12"
  },
  "papermill": {
   "default_parameters": {},
   "duration": 13.580356,
   "end_time": "2022-12-27T17:14:16.475322",
   "environment_variables": {},
   "exception": null,
   "input_path": "__notebook__.ipynb",
   "output_path": "__notebook__.ipynb",
   "parameters": {},
   "start_time": "2022-12-27T17:14:02.894966",
   "version": "2.3.4"
  }
 },
 "nbformat": 4,
 "nbformat_minor": 5
}
