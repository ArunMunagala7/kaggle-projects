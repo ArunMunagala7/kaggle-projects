{
 "cells": [
  {
   "cell_type": "code",
   "execution_count": 1,
   "id": "89c51c04",
   "metadata": {
    "_cell_guid": "b1076dfc-b9ad-4769-8c92-a6c4dae69d19",
    "_uuid": "8f2839f25d086af736a60e9eeb907d3b93b6e0e5",
    "execution": {
     "iopub.execute_input": "2022-12-27T17:49:08.946941Z",
     "iopub.status.busy": "2022-12-27T17:49:08.946348Z",
     "iopub.status.idle": "2022-12-27T17:49:08.962050Z",
     "shell.execute_reply": "2022-12-27T17:49:08.960949Z"
    },
    "papermill": {
     "duration": 0.027034,
     "end_time": "2022-12-27T17:49:08.964437",
     "exception": false,
     "start_time": "2022-12-27T17:49:08.937403",
     "status": "completed"
    },
    "tags": []
   },
   "outputs": [
    {
     "name": "stdout",
     "output_type": "stream",
     "text": [
      "/kaggle/input/titanic/train.csv\n",
      "/kaggle/input/titanic/test.csv\n",
      "/kaggle/input/titanic/gender_submission.csv\n"
     ]
    }
   ],
   "source": [
    "# This Python 3 environment comes with many helpful analytics libraries installed\n",
    "# It is defined by the kaggle/python Docker image: https://github.com/kaggle/docker-python\n",
    "# For example, here's several helpful packages to load\n",
    "\n",
    "import numpy as np # linear algebra\n",
    "import pandas as pd # data processing, CSV file I/O (e.g. pd.read_csv)\n",
    "\n",
    "# Input data files are available in the read-only \"../input/\" directory\n",
    "# For example, running this (by clicking run or pressing Shift+Enter) will list all files under the input directory\n",
    "\n",
    "import os\n",
    "for dirname, _, filenames in os.walk('/kaggle/input'):\n",
    "    for filename in filenames:\n",
    "        print(os.path.join(dirname, filename))\n",
    "\n",
    "# You can write up to 20GB to the current directory (/kaggle/working/) that gets preserved as output when you create a version using \"Save & Run All\" \n",
    "# You can also write temporary files to /kaggle/temp/, but they won't be saved outside of the current session"
   ]
  },
  {
   "cell_type": "code",
   "execution_count": 2,
   "id": "ba16c668",
   "metadata": {
    "execution": {
     "iopub.execute_input": "2022-12-27T17:49:08.979647Z",
     "iopub.status.busy": "2022-12-27T17:49:08.979043Z",
     "iopub.status.idle": "2022-12-27T17:49:09.027720Z",
     "shell.execute_reply": "2022-12-27T17:49:09.026648Z"
    },
    "papermill": {
     "duration": 0.058694,
     "end_time": "2022-12-27T17:49:09.029893",
     "exception": false,
     "start_time": "2022-12-27T17:49:08.971199",
     "status": "completed"
    },
    "tags": []
   },
   "outputs": [
    {
     "data": {
      "text/html": [
       "<div>\n",
       "<style scoped>\n",
       "    .dataframe tbody tr th:only-of-type {\n",
       "        vertical-align: middle;\n",
       "    }\n",
       "\n",
       "    .dataframe tbody tr th {\n",
       "        vertical-align: top;\n",
       "    }\n",
       "\n",
       "    .dataframe thead th {\n",
       "        text-align: right;\n",
       "    }\n",
       "</style>\n",
       "<table border=\"1\" class=\"dataframe\">\n",
       "  <thead>\n",
       "    <tr style=\"text-align: right;\">\n",
       "      <th></th>\n",
       "      <th>PassengerId</th>\n",
       "      <th>Survived</th>\n",
       "      <th>Pclass</th>\n",
       "      <th>Name</th>\n",
       "      <th>Sex</th>\n",
       "      <th>Age</th>\n",
       "      <th>SibSp</th>\n",
       "      <th>Parch</th>\n",
       "      <th>Ticket</th>\n",
       "      <th>Fare</th>\n",
       "      <th>Cabin</th>\n",
       "      <th>Embarked</th>\n",
       "    </tr>\n",
       "  </thead>\n",
       "  <tbody>\n",
       "    <tr>\n",
       "      <th>0</th>\n",
       "      <td>1</td>\n",
       "      <td>0</td>\n",
       "      <td>3</td>\n",
       "      <td>Braund, Mr. Owen Harris</td>\n",
       "      <td>male</td>\n",
       "      <td>22.0</td>\n",
       "      <td>1</td>\n",
       "      <td>0</td>\n",
       "      <td>A/5 21171</td>\n",
       "      <td>7.2500</td>\n",
       "      <td>NaN</td>\n",
       "      <td>S</td>\n",
       "    </tr>\n",
       "    <tr>\n",
       "      <th>1</th>\n",
       "      <td>2</td>\n",
       "      <td>1</td>\n",
       "      <td>1</td>\n",
       "      <td>Cumings, Mrs. John Bradley (Florence Briggs Th...</td>\n",
       "      <td>female</td>\n",
       "      <td>38.0</td>\n",
       "      <td>1</td>\n",
       "      <td>0</td>\n",
       "      <td>PC 17599</td>\n",
       "      <td>71.2833</td>\n",
       "      <td>C85</td>\n",
       "      <td>C</td>\n",
       "    </tr>\n",
       "    <tr>\n",
       "      <th>2</th>\n",
       "      <td>3</td>\n",
       "      <td>1</td>\n",
       "      <td>3</td>\n",
       "      <td>Heikkinen, Miss. Laina</td>\n",
       "      <td>female</td>\n",
       "      <td>26.0</td>\n",
       "      <td>0</td>\n",
       "      <td>0</td>\n",
       "      <td>STON/O2. 3101282</td>\n",
       "      <td>7.9250</td>\n",
       "      <td>NaN</td>\n",
       "      <td>S</td>\n",
       "    </tr>\n",
       "    <tr>\n",
       "      <th>3</th>\n",
       "      <td>4</td>\n",
       "      <td>1</td>\n",
       "      <td>1</td>\n",
       "      <td>Futrelle, Mrs. Jacques Heath (Lily May Peel)</td>\n",
       "      <td>female</td>\n",
       "      <td>35.0</td>\n",
       "      <td>1</td>\n",
       "      <td>0</td>\n",
       "      <td>113803</td>\n",
       "      <td>53.1000</td>\n",
       "      <td>C123</td>\n",
       "      <td>S</td>\n",
       "    </tr>\n",
       "    <tr>\n",
       "      <th>4</th>\n",
       "      <td>5</td>\n",
       "      <td>0</td>\n",
       "      <td>3</td>\n",
       "      <td>Allen, Mr. William Henry</td>\n",
       "      <td>male</td>\n",
       "      <td>35.0</td>\n",
       "      <td>0</td>\n",
       "      <td>0</td>\n",
       "      <td>373450</td>\n",
       "      <td>8.0500</td>\n",
       "      <td>NaN</td>\n",
       "      <td>S</td>\n",
       "    </tr>\n",
       "  </tbody>\n",
       "</table>\n",
       "</div>"
      ],
      "text/plain": [
       "   PassengerId  Survived  Pclass  \\\n",
       "0            1         0       3   \n",
       "1            2         1       1   \n",
       "2            3         1       3   \n",
       "3            4         1       1   \n",
       "4            5         0       3   \n",
       "\n",
       "                                                Name     Sex   Age  SibSp  \\\n",
       "0                            Braund, Mr. Owen Harris    male  22.0      1   \n",
       "1  Cumings, Mrs. John Bradley (Florence Briggs Th...  female  38.0      1   \n",
       "2                             Heikkinen, Miss. Laina  female  26.0      0   \n",
       "3       Futrelle, Mrs. Jacques Heath (Lily May Peel)  female  35.0      1   \n",
       "4                           Allen, Mr. William Henry    male  35.0      0   \n",
       "\n",
       "   Parch            Ticket     Fare Cabin Embarked  \n",
       "0      0         A/5 21171   7.2500   NaN        S  \n",
       "1      0          PC 17599  71.2833   C85        C  \n",
       "2      0  STON/O2. 3101282   7.9250   NaN        S  \n",
       "3      0            113803  53.1000  C123        S  \n",
       "4      0            373450   8.0500   NaN        S  "
      ]
     },
     "execution_count": 2,
     "metadata": {},
     "output_type": "execute_result"
    }
   ],
   "source": [
    "train_loc=\"/kaggle/input/titanic/train.csv\"\n",
    "train_data=pd.read_csv(train_loc)\n",
    "train_data.head()"
   ]
  },
  {
   "cell_type": "code",
   "execution_count": 3,
   "id": "1ccfb146",
   "metadata": {
    "execution": {
     "iopub.execute_input": "2022-12-27T17:49:09.044682Z",
     "iopub.status.busy": "2022-12-27T17:49:09.044323Z",
     "iopub.status.idle": "2022-12-27T17:49:09.066969Z",
     "shell.execute_reply": "2022-12-27T17:49:09.065598Z"
    },
    "papermill": {
     "duration": 0.033102,
     "end_time": "2022-12-27T17:49:09.069634",
     "exception": false,
     "start_time": "2022-12-27T17:49:09.036532",
     "status": "completed"
    },
    "tags": []
   },
   "outputs": [
    {
     "data": {
      "text/html": [
       "<div>\n",
       "<style scoped>\n",
       "    .dataframe tbody tr th:only-of-type {\n",
       "        vertical-align: middle;\n",
       "    }\n",
       "\n",
       "    .dataframe tbody tr th {\n",
       "        vertical-align: top;\n",
       "    }\n",
       "\n",
       "    .dataframe thead th {\n",
       "        text-align: right;\n",
       "    }\n",
       "</style>\n",
       "<table border=\"1\" class=\"dataframe\">\n",
       "  <thead>\n",
       "    <tr style=\"text-align: right;\">\n",
       "      <th></th>\n",
       "      <th>PassengerId</th>\n",
       "      <th>Pclass</th>\n",
       "      <th>Name</th>\n",
       "      <th>Sex</th>\n",
       "      <th>Age</th>\n",
       "      <th>SibSp</th>\n",
       "      <th>Parch</th>\n",
       "      <th>Ticket</th>\n",
       "      <th>Fare</th>\n",
       "      <th>Cabin</th>\n",
       "      <th>Embarked</th>\n",
       "    </tr>\n",
       "  </thead>\n",
       "  <tbody>\n",
       "    <tr>\n",
       "      <th>0</th>\n",
       "      <td>892</td>\n",
       "      <td>3</td>\n",
       "      <td>Kelly, Mr. James</td>\n",
       "      <td>male</td>\n",
       "      <td>34.5</td>\n",
       "      <td>0</td>\n",
       "      <td>0</td>\n",
       "      <td>330911</td>\n",
       "      <td>7.8292</td>\n",
       "      <td>NaN</td>\n",
       "      <td>Q</td>\n",
       "    </tr>\n",
       "    <tr>\n",
       "      <th>1</th>\n",
       "      <td>893</td>\n",
       "      <td>3</td>\n",
       "      <td>Wilkes, Mrs. James (Ellen Needs)</td>\n",
       "      <td>female</td>\n",
       "      <td>47.0</td>\n",
       "      <td>1</td>\n",
       "      <td>0</td>\n",
       "      <td>363272</td>\n",
       "      <td>7.0000</td>\n",
       "      <td>NaN</td>\n",
       "      <td>S</td>\n",
       "    </tr>\n",
       "    <tr>\n",
       "      <th>2</th>\n",
       "      <td>894</td>\n",
       "      <td>2</td>\n",
       "      <td>Myles, Mr. Thomas Francis</td>\n",
       "      <td>male</td>\n",
       "      <td>62.0</td>\n",
       "      <td>0</td>\n",
       "      <td>0</td>\n",
       "      <td>240276</td>\n",
       "      <td>9.6875</td>\n",
       "      <td>NaN</td>\n",
       "      <td>Q</td>\n",
       "    </tr>\n",
       "    <tr>\n",
       "      <th>3</th>\n",
       "      <td>895</td>\n",
       "      <td>3</td>\n",
       "      <td>Wirz, Mr. Albert</td>\n",
       "      <td>male</td>\n",
       "      <td>27.0</td>\n",
       "      <td>0</td>\n",
       "      <td>0</td>\n",
       "      <td>315154</td>\n",
       "      <td>8.6625</td>\n",
       "      <td>NaN</td>\n",
       "      <td>S</td>\n",
       "    </tr>\n",
       "    <tr>\n",
       "      <th>4</th>\n",
       "      <td>896</td>\n",
       "      <td>3</td>\n",
       "      <td>Hirvonen, Mrs. Alexander (Helga E Lindqvist)</td>\n",
       "      <td>female</td>\n",
       "      <td>22.0</td>\n",
       "      <td>1</td>\n",
       "      <td>1</td>\n",
       "      <td>3101298</td>\n",
       "      <td>12.2875</td>\n",
       "      <td>NaN</td>\n",
       "      <td>S</td>\n",
       "    </tr>\n",
       "  </tbody>\n",
       "</table>\n",
       "</div>"
      ],
      "text/plain": [
       "   PassengerId  Pclass                                          Name     Sex  \\\n",
       "0          892       3                              Kelly, Mr. James    male   \n",
       "1          893       3              Wilkes, Mrs. James (Ellen Needs)  female   \n",
       "2          894       2                     Myles, Mr. Thomas Francis    male   \n",
       "3          895       3                              Wirz, Mr. Albert    male   \n",
       "4          896       3  Hirvonen, Mrs. Alexander (Helga E Lindqvist)  female   \n",
       "\n",
       "    Age  SibSp  Parch   Ticket     Fare Cabin Embarked  \n",
       "0  34.5      0      0   330911   7.8292   NaN        Q  \n",
       "1  47.0      1      0   363272   7.0000   NaN        S  \n",
       "2  62.0      0      0   240276   9.6875   NaN        Q  \n",
       "3  27.0      0      0   315154   8.6625   NaN        S  \n",
       "4  22.0      1      1  3101298  12.2875   NaN        S  "
      ]
     },
     "execution_count": 3,
     "metadata": {},
     "output_type": "execute_result"
    }
   ],
   "source": [
    "test_loc=\"/kaggle/input/titanic/test.csv\"\n",
    "test_data=pd.read_csv(test_loc)\n",
    "test_data.head()"
   ]
  },
  {
   "cell_type": "markdown",
   "id": "783159a7",
   "metadata": {
    "papermill": {
     "duration": 0.006802,
     "end_time": "2022-12-27T17:49:09.083686",
     "exception": false,
     "start_time": "2022-12-27T17:49:09.076884",
     "status": "completed"
    },
    "tags": []
   },
   "source": [
    "testing and train dataset uploaded"
   ]
  },
  {
   "cell_type": "markdown",
   "id": "d4983d0d",
   "metadata": {
    "papermill": {
     "duration": 0.006556,
     "end_time": "2022-12-27T17:49:09.097031",
     "exception": false,
     "start_time": "2022-12-27T17:49:09.090475",
     "status": "completed"
    },
    "tags": []
   },
   "source": [
    "time to define a model\n"
   ]
  },
  {
   "cell_type": "code",
   "execution_count": 4,
   "id": "dbb704f5",
   "metadata": {
    "execution": {
     "iopub.execute_input": "2022-12-27T17:49:09.115221Z",
     "iopub.status.busy": "2022-12-27T17:49:09.113984Z",
     "iopub.status.idle": "2022-12-27T17:49:10.533532Z",
     "shell.execute_reply": "2022-12-27T17:49:10.532547Z"
    },
    "papermill": {
     "duration": 1.430824,
     "end_time": "2022-12-27T17:49:10.536183",
     "exception": false,
     "start_time": "2022-12-27T17:49:09.105359",
     "status": "completed"
    },
    "tags": []
   },
   "outputs": [],
   "source": [
    "from sklearn.ensemble import RandomForestClassifier\n",
    "model=RandomForestClassifier(n_estimators=200,random_state=1)"
   ]
  },
  {
   "cell_type": "markdown",
   "id": "f6a0ce31",
   "metadata": {
    "papermill": {
     "duration": 0.006694,
     "end_time": "2022-12-27T17:49:10.553517",
     "exception": false,
     "start_time": "2022-12-27T17:49:10.546823",
     "status": "completed"
    },
    "tags": []
   },
   "source": [
    "selecting all the categorical features that can be implemented in the ML model\n"
   ]
  },
  {
   "cell_type": "code",
   "execution_count": 5,
   "id": "bb29b005",
   "metadata": {
    "execution": {
     "iopub.execute_input": "2022-12-27T17:49:10.569602Z",
     "iopub.status.busy": "2022-12-27T17:49:10.569172Z",
     "iopub.status.idle": "2022-12-27T17:49:10.592684Z",
     "shell.execute_reply": "2022-12-27T17:49:10.591198Z"
    },
    "papermill": {
     "duration": 0.033926,
     "end_time": "2022-12-27T17:49:10.595011",
     "exception": false,
     "start_time": "2022-12-27T17:49:10.561085",
     "status": "completed"
    },
    "tags": []
   },
   "outputs": [],
   "source": [
    "discrete_features = [\"Pclass\", \"Sex\", \"SibSp\", \"Parch\",\"Embarked\"]\n",
    "X1=pd.get_dummies(train_data[discrete_features])"
   ]
  },
  {
   "cell_type": "code",
   "execution_count": 6,
   "id": "2e4aff39",
   "metadata": {
    "execution": {
     "iopub.execute_input": "2022-12-27T17:49:10.610286Z",
     "iopub.status.busy": "2022-12-27T17:49:10.609947Z",
     "iopub.status.idle": "2022-12-27T17:49:10.623787Z",
     "shell.execute_reply": "2022-12-27T17:49:10.621956Z"
    },
    "papermill": {
     "duration": 0.024343,
     "end_time": "2022-12-27T17:49:10.626311",
     "exception": false,
     "start_time": "2022-12-27T17:49:10.601968",
     "status": "completed"
    },
    "tags": []
   },
   "outputs": [
    {
     "data": {
      "text/html": [
       "<div>\n",
       "<style scoped>\n",
       "    .dataframe tbody tr th:only-of-type {\n",
       "        vertical-align: middle;\n",
       "    }\n",
       "\n",
       "    .dataframe tbody tr th {\n",
       "        vertical-align: top;\n",
       "    }\n",
       "\n",
       "    .dataframe thead th {\n",
       "        text-align: right;\n",
       "    }\n",
       "</style>\n",
       "<table border=\"1\" class=\"dataframe\">\n",
       "  <thead>\n",
       "    <tr style=\"text-align: right;\">\n",
       "      <th></th>\n",
       "      <th>Pclass</th>\n",
       "      <th>SibSp</th>\n",
       "      <th>Parch</th>\n",
       "      <th>Sex_female</th>\n",
       "      <th>Sex_male</th>\n",
       "      <th>Embarked_C</th>\n",
       "      <th>Embarked_Q</th>\n",
       "      <th>Embarked_S</th>\n",
       "    </tr>\n",
       "  </thead>\n",
       "  <tbody>\n",
       "    <tr>\n",
       "      <th>0</th>\n",
       "      <td>3</td>\n",
       "      <td>1</td>\n",
       "      <td>0</td>\n",
       "      <td>0</td>\n",
       "      <td>1</td>\n",
       "      <td>0</td>\n",
       "      <td>0</td>\n",
       "      <td>1</td>\n",
       "    </tr>\n",
       "    <tr>\n",
       "      <th>1</th>\n",
       "      <td>1</td>\n",
       "      <td>1</td>\n",
       "      <td>0</td>\n",
       "      <td>1</td>\n",
       "      <td>0</td>\n",
       "      <td>1</td>\n",
       "      <td>0</td>\n",
       "      <td>0</td>\n",
       "    </tr>\n",
       "    <tr>\n",
       "      <th>2</th>\n",
       "      <td>3</td>\n",
       "      <td>0</td>\n",
       "      <td>0</td>\n",
       "      <td>1</td>\n",
       "      <td>0</td>\n",
       "      <td>0</td>\n",
       "      <td>0</td>\n",
       "      <td>1</td>\n",
       "    </tr>\n",
       "    <tr>\n",
       "      <th>3</th>\n",
       "      <td>1</td>\n",
       "      <td>1</td>\n",
       "      <td>0</td>\n",
       "      <td>1</td>\n",
       "      <td>0</td>\n",
       "      <td>0</td>\n",
       "      <td>0</td>\n",
       "      <td>1</td>\n",
       "    </tr>\n",
       "    <tr>\n",
       "      <th>4</th>\n",
       "      <td>3</td>\n",
       "      <td>0</td>\n",
       "      <td>0</td>\n",
       "      <td>0</td>\n",
       "      <td>1</td>\n",
       "      <td>0</td>\n",
       "      <td>0</td>\n",
       "      <td>1</td>\n",
       "    </tr>\n",
       "    <tr>\n",
       "      <th>5</th>\n",
       "      <td>3</td>\n",
       "      <td>0</td>\n",
       "      <td>0</td>\n",
       "      <td>0</td>\n",
       "      <td>1</td>\n",
       "      <td>0</td>\n",
       "      <td>1</td>\n",
       "      <td>0</td>\n",
       "    </tr>\n",
       "    <tr>\n",
       "      <th>6</th>\n",
       "      <td>1</td>\n",
       "      <td>0</td>\n",
       "      <td>0</td>\n",
       "      <td>0</td>\n",
       "      <td>1</td>\n",
       "      <td>0</td>\n",
       "      <td>0</td>\n",
       "      <td>1</td>\n",
       "    </tr>\n",
       "    <tr>\n",
       "      <th>7</th>\n",
       "      <td>3</td>\n",
       "      <td>3</td>\n",
       "      <td>1</td>\n",
       "      <td>0</td>\n",
       "      <td>1</td>\n",
       "      <td>0</td>\n",
       "      <td>0</td>\n",
       "      <td>1</td>\n",
       "    </tr>\n",
       "    <tr>\n",
       "      <th>8</th>\n",
       "      <td>3</td>\n",
       "      <td>0</td>\n",
       "      <td>2</td>\n",
       "      <td>1</td>\n",
       "      <td>0</td>\n",
       "      <td>0</td>\n",
       "      <td>0</td>\n",
       "      <td>1</td>\n",
       "    </tr>\n",
       "    <tr>\n",
       "      <th>9</th>\n",
       "      <td>2</td>\n",
       "      <td>1</td>\n",
       "      <td>0</td>\n",
       "      <td>1</td>\n",
       "      <td>0</td>\n",
       "      <td>1</td>\n",
       "      <td>0</td>\n",
       "      <td>0</td>\n",
       "    </tr>\n",
       "  </tbody>\n",
       "</table>\n",
       "</div>"
      ],
      "text/plain": [
       "   Pclass  SibSp  Parch  Sex_female  Sex_male  Embarked_C  Embarked_Q  \\\n",
       "0       3      1      0           0         1           0           0   \n",
       "1       1      1      0           1         0           1           0   \n",
       "2       3      0      0           1         0           0           0   \n",
       "3       1      1      0           1         0           0           0   \n",
       "4       3      0      0           0         1           0           0   \n",
       "5       3      0      0           0         1           0           1   \n",
       "6       1      0      0           0         1           0           0   \n",
       "7       3      3      1           0         1           0           0   \n",
       "8       3      0      2           1         0           0           0   \n",
       "9       2      1      0           1         0           1           0   \n",
       "\n",
       "   Embarked_S  \n",
       "0           1  \n",
       "1           0  \n",
       "2           1  \n",
       "3           1  \n",
       "4           1  \n",
       "5           0  \n",
       "6           1  \n",
       "7           1  \n",
       "8           1  \n",
       "9           0  "
      ]
     },
     "execution_count": 6,
     "metadata": {},
     "output_type": "execute_result"
    }
   ],
   "source": [
    "X1.head(10)"
   ]
  },
  {
   "cell_type": "markdown",
   "id": "4b7054f7",
   "metadata": {
    "papermill": {
     "duration": 0.006823,
     "end_time": "2022-12-27T17:49:10.640276",
     "exception": false,
     "start_time": "2022-12-27T17:49:10.633453",
     "status": "completed"
    },
    "tags": []
   },
   "source": [
    "Float Data to be used for the classification"
   ]
  },
  {
   "cell_type": "code",
   "execution_count": 7,
   "id": "b5f609a8",
   "metadata": {
    "execution": {
     "iopub.execute_input": "2022-12-27T17:49:10.656811Z",
     "iopub.status.busy": "2022-12-27T17:49:10.656269Z",
     "iopub.status.idle": "2022-12-27T17:49:10.663038Z",
     "shell.execute_reply": "2022-12-27T17:49:10.661302Z"
    },
    "papermill": {
     "duration": 0.018563,
     "end_time": "2022-12-27T17:49:10.666047",
     "exception": false,
     "start_time": "2022-12-27T17:49:10.647484",
     "status": "completed"
    },
    "tags": []
   },
   "outputs": [],
   "source": [
    "X2=train_data[\"Fare\"]"
   ]
  },
  {
   "cell_type": "markdown",
   "id": "ae8d6106",
   "metadata": {
    "papermill": {
     "duration": 0.006799,
     "end_time": "2022-12-27T17:49:10.680214",
     "exception": false,
     "start_time": "2022-12-27T17:49:10.673415",
     "status": "completed"
    },
    "tags": []
   },
   "source": [
    "preparing dataset for mutual information"
   ]
  },
  {
   "cell_type": "code",
   "execution_count": 8,
   "id": "de9002ad",
   "metadata": {
    "execution": {
     "iopub.execute_input": "2022-12-27T17:49:10.696225Z",
     "iopub.status.busy": "2022-12-27T17:49:10.695822Z",
     "iopub.status.idle": "2022-12-27T17:49:10.702011Z",
     "shell.execute_reply": "2022-12-27T17:49:10.700963Z"
    },
    "papermill": {
     "duration": 0.016549,
     "end_time": "2022-12-27T17:49:10.703915",
     "exception": false,
     "start_time": "2022-12-27T17:49:10.687366",
     "status": "completed"
    },
    "tags": []
   },
   "outputs": [],
   "source": [
    "X=pd.concat([X1,X2],axis=1)"
   ]
  },
  {
   "cell_type": "code",
   "execution_count": 9,
   "id": "99de0800",
   "metadata": {
    "execution": {
     "iopub.execute_input": "2022-12-27T17:49:10.720000Z",
     "iopub.status.busy": "2022-12-27T17:49:10.719668Z",
     "iopub.status.idle": "2022-12-27T17:49:10.732730Z",
     "shell.execute_reply": "2022-12-27T17:49:10.730710Z"
    },
    "papermill": {
     "duration": 0.024103,
     "end_time": "2022-12-27T17:49:10.735283",
     "exception": false,
     "start_time": "2022-12-27T17:49:10.711180",
     "status": "completed"
    },
    "tags": []
   },
   "outputs": [
    {
     "data": {
      "text/html": [
       "<div>\n",
       "<style scoped>\n",
       "    .dataframe tbody tr th:only-of-type {\n",
       "        vertical-align: middle;\n",
       "    }\n",
       "\n",
       "    .dataframe tbody tr th {\n",
       "        vertical-align: top;\n",
       "    }\n",
       "\n",
       "    .dataframe thead th {\n",
       "        text-align: right;\n",
       "    }\n",
       "</style>\n",
       "<table border=\"1\" class=\"dataframe\">\n",
       "  <thead>\n",
       "    <tr style=\"text-align: right;\">\n",
       "      <th></th>\n",
       "      <th>Pclass</th>\n",
       "      <th>SibSp</th>\n",
       "      <th>Parch</th>\n",
       "      <th>Sex_female</th>\n",
       "      <th>Sex_male</th>\n",
       "      <th>Embarked_C</th>\n",
       "      <th>Embarked_Q</th>\n",
       "      <th>Embarked_S</th>\n",
       "      <th>Fare</th>\n",
       "    </tr>\n",
       "  </thead>\n",
       "  <tbody>\n",
       "    <tr>\n",
       "      <th>0</th>\n",
       "      <td>3</td>\n",
       "      <td>1</td>\n",
       "      <td>0</td>\n",
       "      <td>0</td>\n",
       "      <td>1</td>\n",
       "      <td>0</td>\n",
       "      <td>0</td>\n",
       "      <td>1</td>\n",
       "      <td>7.2500</td>\n",
       "    </tr>\n",
       "    <tr>\n",
       "      <th>1</th>\n",
       "      <td>1</td>\n",
       "      <td>1</td>\n",
       "      <td>0</td>\n",
       "      <td>1</td>\n",
       "      <td>0</td>\n",
       "      <td>1</td>\n",
       "      <td>0</td>\n",
       "      <td>0</td>\n",
       "      <td>71.2833</td>\n",
       "    </tr>\n",
       "    <tr>\n",
       "      <th>2</th>\n",
       "      <td>3</td>\n",
       "      <td>0</td>\n",
       "      <td>0</td>\n",
       "      <td>1</td>\n",
       "      <td>0</td>\n",
       "      <td>0</td>\n",
       "      <td>0</td>\n",
       "      <td>1</td>\n",
       "      <td>7.9250</td>\n",
       "    </tr>\n",
       "    <tr>\n",
       "      <th>3</th>\n",
       "      <td>1</td>\n",
       "      <td>1</td>\n",
       "      <td>0</td>\n",
       "      <td>1</td>\n",
       "      <td>0</td>\n",
       "      <td>0</td>\n",
       "      <td>0</td>\n",
       "      <td>1</td>\n",
       "      <td>53.1000</td>\n",
       "    </tr>\n",
       "    <tr>\n",
       "      <th>4</th>\n",
       "      <td>3</td>\n",
       "      <td>0</td>\n",
       "      <td>0</td>\n",
       "      <td>0</td>\n",
       "      <td>1</td>\n",
       "      <td>0</td>\n",
       "      <td>0</td>\n",
       "      <td>1</td>\n",
       "      <td>8.0500</td>\n",
       "    </tr>\n",
       "  </tbody>\n",
       "</table>\n",
       "</div>"
      ],
      "text/plain": [
       "   Pclass  SibSp  Parch  Sex_female  Sex_male  Embarked_C  Embarked_Q  \\\n",
       "0       3      1      0           0         1           0           0   \n",
       "1       1      1      0           1         0           1           0   \n",
       "2       3      0      0           1         0           0           0   \n",
       "3       1      1      0           1         0           0           0   \n",
       "4       3      0      0           0         1           0           0   \n",
       "\n",
       "   Embarked_S     Fare  \n",
       "0           1   7.2500  \n",
       "1           0  71.2833  \n",
       "2           1   7.9250  \n",
       "3           1  53.1000  \n",
       "4           1   8.0500  "
      ]
     },
     "execution_count": 9,
     "metadata": {},
     "output_type": "execute_result"
    }
   ],
   "source": [
    "X.head()"
   ]
  },
  {
   "cell_type": "markdown",
   "id": "530540a2",
   "metadata": {
    "papermill": {
     "duration": 0.006927,
     "end_time": "2022-12-27T17:49:10.749653",
     "exception": false,
     "start_time": "2022-12-27T17:49:10.742726",
     "status": "completed"
    },
    "tags": []
   },
   "source": [
    "target feature to be classified "
   ]
  },
  {
   "cell_type": "code",
   "execution_count": 10,
   "id": "14435b1b",
   "metadata": {
    "execution": {
     "iopub.execute_input": "2022-12-27T17:49:10.765934Z",
     "iopub.status.busy": "2022-12-27T17:49:10.765595Z",
     "iopub.status.idle": "2022-12-27T17:49:10.771510Z",
     "shell.execute_reply": "2022-12-27T17:49:10.769662Z"
    },
    "papermill": {
     "duration": 0.017556,
     "end_time": "2022-12-27T17:49:10.774497",
     "exception": false,
     "start_time": "2022-12-27T17:49:10.756941",
     "status": "completed"
    },
    "tags": []
   },
   "outputs": [],
   "source": [
    "y=train_data[\"Survived\"]"
   ]
  },
  {
   "cell_type": "markdown",
   "id": "aeee6616",
   "metadata": {
    "papermill": {
     "duration": 0.007053,
     "end_time": "2022-12-27T17:49:10.789017",
     "exception": false,
     "start_time": "2022-12-27T17:49:10.781964",
     "status": "completed"
    },
    "tags": []
   },
   "source": [
    "Mutual Information to check which features are most useful for the classification"
   ]
  },
  {
   "cell_type": "markdown",
   "id": "e138c393",
   "metadata": {
    "papermill": {
     "duration": 0.00695,
     "end_time": "2022-12-27T17:49:10.803374",
     "exception": false,
     "start_time": "2022-12-27T17:49:10.796424",
     "status": "completed"
    },
    "tags": []
   },
   "source": [
    "uploading the package necessary"
   ]
  },
  {
   "cell_type": "code",
   "execution_count": 11,
   "id": "f09781a6",
   "metadata": {
    "execution": {
     "iopub.execute_input": "2022-12-27T17:49:10.819992Z",
     "iopub.status.busy": "2022-12-27T17:49:10.819617Z",
     "iopub.status.idle": "2022-12-27T17:49:11.129554Z",
     "shell.execute_reply": "2022-12-27T17:49:11.128347Z"
    },
    "papermill": {
     "duration": 0.321136,
     "end_time": "2022-12-27T17:49:11.131893",
     "exception": false,
     "start_time": "2022-12-27T17:49:10.810757",
     "status": "completed"
    },
    "tags": []
   },
   "outputs": [
    {
     "data": {
      "text/plain": [
       "RandomForestClassifier(n_estimators=200, random_state=1)"
      ]
     },
     "execution_count": 11,
     "metadata": {},
     "output_type": "execute_result"
    }
   ],
   "source": [
    "model.fit(X,y)"
   ]
  },
  {
   "cell_type": "code",
   "execution_count": 12,
   "id": "4a30aa4e",
   "metadata": {
    "execution": {
     "iopub.execute_input": "2022-12-27T17:49:11.151622Z",
     "iopub.status.busy": "2022-12-27T17:49:11.150322Z",
     "iopub.status.idle": "2022-12-27T17:49:11.165415Z",
     "shell.execute_reply": "2022-12-27T17:49:11.164356Z"
    },
    "papermill": {
     "duration": 0.029217,
     "end_time": "2022-12-27T17:49:11.168561",
     "exception": false,
     "start_time": "2022-12-27T17:49:11.139344",
     "status": "completed"
    },
    "tags": []
   },
   "outputs": [],
   "source": [
    "X1_test=pd.get_dummies(test_data[discrete_features])"
   ]
  },
  {
   "cell_type": "code",
   "execution_count": 13,
   "id": "b919e88b",
   "metadata": {
    "execution": {
     "iopub.execute_input": "2022-12-27T17:49:11.188670Z",
     "iopub.status.busy": "2022-12-27T17:49:11.187126Z",
     "iopub.status.idle": "2022-12-27T17:49:11.192264Z",
     "shell.execute_reply": "2022-12-27T17:49:11.191630Z"
    },
    "papermill": {
     "duration": 0.017302,
     "end_time": "2022-12-27T17:49:11.194671",
     "exception": false,
     "start_time": "2022-12-27T17:49:11.177369",
     "status": "completed"
    },
    "tags": []
   },
   "outputs": [],
   "source": [
    "X2_test=test_data[\"Fare\"]"
   ]
  },
  {
   "cell_type": "markdown",
   "id": "5289301c",
   "metadata": {
    "papermill": {
     "duration": 0.0075,
     "end_time": "2022-12-27T17:49:11.211913",
     "exception": false,
     "start_time": "2022-12-27T17:49:11.204413",
     "status": "completed"
    },
    "tags": []
   },
   "source": [
    "creating the final test dataset to predict with XGBoost"
   ]
  },
  {
   "cell_type": "code",
   "execution_count": 14,
   "id": "cd480af9",
   "metadata": {
    "execution": {
     "iopub.execute_input": "2022-12-27T17:49:11.229715Z",
     "iopub.status.busy": "2022-12-27T17:49:11.229040Z",
     "iopub.status.idle": "2022-12-27T17:49:11.243288Z",
     "shell.execute_reply": "2022-12-27T17:49:11.242527Z"
    },
    "papermill": {
     "duration": 0.026076,
     "end_time": "2022-12-27T17:49:11.245720",
     "exception": false,
     "start_time": "2022-12-27T17:49:11.219644",
     "status": "completed"
    },
    "tags": []
   },
   "outputs": [
    {
     "data": {
      "text/html": [
       "<div>\n",
       "<style scoped>\n",
       "    .dataframe tbody tr th:only-of-type {\n",
       "        vertical-align: middle;\n",
       "    }\n",
       "\n",
       "    .dataframe tbody tr th {\n",
       "        vertical-align: top;\n",
       "    }\n",
       "\n",
       "    .dataframe thead th {\n",
       "        text-align: right;\n",
       "    }\n",
       "</style>\n",
       "<table border=\"1\" class=\"dataframe\">\n",
       "  <thead>\n",
       "    <tr style=\"text-align: right;\">\n",
       "      <th></th>\n",
       "      <th>Pclass</th>\n",
       "      <th>SibSp</th>\n",
       "      <th>Parch</th>\n",
       "      <th>Sex_female</th>\n",
       "      <th>Sex_male</th>\n",
       "      <th>Embarked_C</th>\n",
       "      <th>Embarked_Q</th>\n",
       "      <th>Embarked_S</th>\n",
       "      <th>Fare</th>\n",
       "    </tr>\n",
       "  </thead>\n",
       "  <tbody>\n",
       "    <tr>\n",
       "      <th>0</th>\n",
       "      <td>3</td>\n",
       "      <td>0</td>\n",
       "      <td>0</td>\n",
       "      <td>0</td>\n",
       "      <td>1</td>\n",
       "      <td>0</td>\n",
       "      <td>1</td>\n",
       "      <td>0</td>\n",
       "      <td>7.8292</td>\n",
       "    </tr>\n",
       "    <tr>\n",
       "      <th>1</th>\n",
       "      <td>3</td>\n",
       "      <td>1</td>\n",
       "      <td>0</td>\n",
       "      <td>1</td>\n",
       "      <td>0</td>\n",
       "      <td>0</td>\n",
       "      <td>0</td>\n",
       "      <td>1</td>\n",
       "      <td>7.0000</td>\n",
       "    </tr>\n",
       "    <tr>\n",
       "      <th>2</th>\n",
       "      <td>2</td>\n",
       "      <td>0</td>\n",
       "      <td>0</td>\n",
       "      <td>0</td>\n",
       "      <td>1</td>\n",
       "      <td>0</td>\n",
       "      <td>1</td>\n",
       "      <td>0</td>\n",
       "      <td>9.6875</td>\n",
       "    </tr>\n",
       "    <tr>\n",
       "      <th>3</th>\n",
       "      <td>3</td>\n",
       "      <td>0</td>\n",
       "      <td>0</td>\n",
       "      <td>0</td>\n",
       "      <td>1</td>\n",
       "      <td>0</td>\n",
       "      <td>0</td>\n",
       "      <td>1</td>\n",
       "      <td>8.6625</td>\n",
       "    </tr>\n",
       "    <tr>\n",
       "      <th>4</th>\n",
       "      <td>3</td>\n",
       "      <td>1</td>\n",
       "      <td>1</td>\n",
       "      <td>1</td>\n",
       "      <td>0</td>\n",
       "      <td>0</td>\n",
       "      <td>0</td>\n",
       "      <td>1</td>\n",
       "      <td>12.2875</td>\n",
       "    </tr>\n",
       "  </tbody>\n",
       "</table>\n",
       "</div>"
      ],
      "text/plain": [
       "   Pclass  SibSp  Parch  Sex_female  Sex_male  Embarked_C  Embarked_Q  \\\n",
       "0       3      0      0           0         1           0           1   \n",
       "1       3      1      0           1         0           0           0   \n",
       "2       2      0      0           0         1           0           1   \n",
       "3       3      0      0           0         1           0           0   \n",
       "4       3      1      1           1         0           0           0   \n",
       "\n",
       "   Embarked_S     Fare  \n",
       "0           0   7.8292  \n",
       "1           1   7.0000  \n",
       "2           0   9.6875  \n",
       "3           1   8.6625  \n",
       "4           1  12.2875  "
      ]
     },
     "execution_count": 14,
     "metadata": {},
     "output_type": "execute_result"
    }
   ],
   "source": [
    "X_test=pd.concat([X1_test,X2_test],axis=1)\n",
    "X_test.head()"
   ]
  },
  {
   "cell_type": "code",
   "execution_count": 15,
   "id": "d6ad14a7",
   "metadata": {
    "execution": {
     "iopub.execute_input": "2022-12-27T17:49:11.263599Z",
     "iopub.status.busy": "2022-12-27T17:49:11.262268Z",
     "iopub.status.idle": "2022-12-27T17:49:11.275255Z",
     "shell.execute_reply": "2022-12-27T17:49:11.273416Z"
    },
    "papermill": {
     "duration": 0.023979,
     "end_time": "2022-12-27T17:49:11.277630",
     "exception": false,
     "start_time": "2022-12-27T17:49:11.253651",
     "status": "completed"
    },
    "tags": []
   },
   "outputs": [
    {
     "data": {
      "text/plain": [
       "Pclass        0\n",
       "SibSp         0\n",
       "Parch         0\n",
       "Sex_female    0\n",
       "Sex_male      0\n",
       "Embarked_C    0\n",
       "Embarked_Q    0\n",
       "Embarked_S    0\n",
       "Fare          1\n",
       "dtype: int64"
      ]
     },
     "execution_count": 15,
     "metadata": {},
     "output_type": "execute_result"
    }
   ],
   "source": [
    "X_test.isnull().sum()"
   ]
  },
  {
   "cell_type": "code",
   "execution_count": 16,
   "id": "fbc3e386",
   "metadata": {
    "execution": {
     "iopub.execute_input": "2022-12-27T17:49:11.296346Z",
     "iopub.status.busy": "2022-12-27T17:49:11.294950Z",
     "iopub.status.idle": "2022-12-27T17:49:11.312547Z",
     "shell.execute_reply": "2022-12-27T17:49:11.311791Z"
    },
    "papermill": {
     "duration": 0.029202,
     "end_time": "2022-12-27T17:49:11.314937",
     "exception": false,
     "start_time": "2022-12-27T17:49:11.285735",
     "status": "completed"
    },
    "tags": []
   },
   "outputs": [],
   "source": [
    "from sklearn.impute import SimpleImputer\n",
    "\n",
    "# Imputation\n",
    "my_imputer = SimpleImputer()\n",
    "imputed_X_test = pd.DataFrame(my_imputer.fit_transform(X_test))\n",
    "\n",
    "# Imputation removed column names; put them back\n",
    "imputed_X_test.columns = X_test.columns"
   ]
  },
  {
   "cell_type": "markdown",
   "id": "75970e8a",
   "metadata": {
    "papermill": {
     "duration": 0.007496,
     "end_time": "2022-12-27T17:49:11.330437",
     "exception": false,
     "start_time": "2022-12-27T17:49:11.322941",
     "status": "completed"
    },
    "tags": []
   },
   "source": [
    "checking for missing values after imputing"
   ]
  },
  {
   "cell_type": "code",
   "execution_count": 17,
   "id": "c5eb2309",
   "metadata": {
    "execution": {
     "iopub.execute_input": "2022-12-27T17:49:11.349127Z",
     "iopub.status.busy": "2022-12-27T17:49:11.348459Z",
     "iopub.status.idle": "2022-12-27T17:49:11.363721Z",
     "shell.execute_reply": "2022-12-27T17:49:11.362032Z"
    },
    "papermill": {
     "duration": 0.027204,
     "end_time": "2022-12-27T17:49:11.365830",
     "exception": false,
     "start_time": "2022-12-27T17:49:11.338626",
     "status": "completed"
    },
    "tags": []
   },
   "outputs": [
    {
     "data": {
      "text/html": [
       "<div>\n",
       "<style scoped>\n",
       "    .dataframe tbody tr th:only-of-type {\n",
       "        vertical-align: middle;\n",
       "    }\n",
       "\n",
       "    .dataframe tbody tr th {\n",
       "        vertical-align: top;\n",
       "    }\n",
       "\n",
       "    .dataframe thead th {\n",
       "        text-align: right;\n",
       "    }\n",
       "</style>\n",
       "<table border=\"1\" class=\"dataframe\">\n",
       "  <thead>\n",
       "    <tr style=\"text-align: right;\">\n",
       "      <th></th>\n",
       "      <th>Pclass</th>\n",
       "      <th>SibSp</th>\n",
       "      <th>Parch</th>\n",
       "      <th>Sex_female</th>\n",
       "      <th>Sex_male</th>\n",
       "      <th>Embarked_C</th>\n",
       "      <th>Embarked_Q</th>\n",
       "      <th>Embarked_S</th>\n",
       "      <th>Fare</th>\n",
       "    </tr>\n",
       "  </thead>\n",
       "  <tbody>\n",
       "    <tr>\n",
       "      <th>0</th>\n",
       "      <td>3</td>\n",
       "      <td>0</td>\n",
       "      <td>0</td>\n",
       "      <td>0</td>\n",
       "      <td>1</td>\n",
       "      <td>0</td>\n",
       "      <td>1</td>\n",
       "      <td>0</td>\n",
       "      <td>7.8292</td>\n",
       "    </tr>\n",
       "    <tr>\n",
       "      <th>1</th>\n",
       "      <td>3</td>\n",
       "      <td>1</td>\n",
       "      <td>0</td>\n",
       "      <td>1</td>\n",
       "      <td>0</td>\n",
       "      <td>0</td>\n",
       "      <td>0</td>\n",
       "      <td>1</td>\n",
       "      <td>7.0000</td>\n",
       "    </tr>\n",
       "    <tr>\n",
       "      <th>2</th>\n",
       "      <td>2</td>\n",
       "      <td>0</td>\n",
       "      <td>0</td>\n",
       "      <td>0</td>\n",
       "      <td>1</td>\n",
       "      <td>0</td>\n",
       "      <td>1</td>\n",
       "      <td>0</td>\n",
       "      <td>9.6875</td>\n",
       "    </tr>\n",
       "    <tr>\n",
       "      <th>3</th>\n",
       "      <td>3</td>\n",
       "      <td>0</td>\n",
       "      <td>0</td>\n",
       "      <td>0</td>\n",
       "      <td>1</td>\n",
       "      <td>0</td>\n",
       "      <td>0</td>\n",
       "      <td>1</td>\n",
       "      <td>8.6625</td>\n",
       "    </tr>\n",
       "    <tr>\n",
       "      <th>4</th>\n",
       "      <td>3</td>\n",
       "      <td>1</td>\n",
       "      <td>1</td>\n",
       "      <td>1</td>\n",
       "      <td>0</td>\n",
       "      <td>0</td>\n",
       "      <td>0</td>\n",
       "      <td>1</td>\n",
       "      <td>12.2875</td>\n",
       "    </tr>\n",
       "  </tbody>\n",
       "</table>\n",
       "</div>"
      ],
      "text/plain": [
       "   Pclass  SibSp  Parch  Sex_female  Sex_male  Embarked_C  Embarked_Q  \\\n",
       "0       3      0      0           0         1           0           1   \n",
       "1       3      1      0           1         0           0           0   \n",
       "2       2      0      0           0         1           0           1   \n",
       "3       3      0      0           0         1           0           0   \n",
       "4       3      1      1           1         0           0           0   \n",
       "\n",
       "   Embarked_S     Fare  \n",
       "0           0   7.8292  \n",
       "1           1   7.0000  \n",
       "2           0   9.6875  \n",
       "3           1   8.6625  \n",
       "4           1  12.2875  "
      ]
     },
     "execution_count": 17,
     "metadata": {},
     "output_type": "execute_result"
    }
   ],
   "source": [
    "X_test.head()"
   ]
  },
  {
   "cell_type": "code",
   "execution_count": 18,
   "id": "5d055db2",
   "metadata": {
    "execution": {
     "iopub.execute_input": "2022-12-27T17:49:11.383866Z",
     "iopub.status.busy": "2022-12-27T17:49:11.383165Z",
     "iopub.status.idle": "2022-12-27T17:49:11.393202Z",
     "shell.execute_reply": "2022-12-27T17:49:11.391977Z"
    },
    "papermill": {
     "duration": 0.021952,
     "end_time": "2022-12-27T17:49:11.395840",
     "exception": false,
     "start_time": "2022-12-27T17:49:11.373888",
     "status": "completed"
    },
    "tags": []
   },
   "outputs": [],
   "source": [
    "X_test=X_test.fillna(method='bfill', axis=0).fillna(0)"
   ]
  },
  {
   "cell_type": "code",
   "execution_count": 19,
   "id": "221bc307",
   "metadata": {
    "execution": {
     "iopub.execute_input": "2022-12-27T17:49:11.414408Z",
     "iopub.status.busy": "2022-12-27T17:49:11.413785Z",
     "iopub.status.idle": "2022-12-27T17:49:11.421521Z",
     "shell.execute_reply": "2022-12-27T17:49:11.420712Z"
    },
    "papermill": {
     "duration": 0.020369,
     "end_time": "2022-12-27T17:49:11.424208",
     "exception": false,
     "start_time": "2022-12-27T17:49:11.403839",
     "status": "completed"
    },
    "tags": []
   },
   "outputs": [
    {
     "data": {
      "text/plain": [
       "Pclass        0\n",
       "SibSp         0\n",
       "Parch         0\n",
       "Sex_female    0\n",
       "Sex_male      0\n",
       "Embarked_C    0\n",
       "Embarked_Q    0\n",
       "Embarked_S    0\n",
       "Fare          0\n",
       "dtype: int64"
      ]
     },
     "execution_count": 19,
     "metadata": {},
     "output_type": "execute_result"
    }
   ],
   "source": [
    "X_test.isnull().sum()"
   ]
  },
  {
   "cell_type": "code",
   "execution_count": 20,
   "id": "542f2675",
   "metadata": {
    "execution": {
     "iopub.execute_input": "2022-12-27T17:49:11.442484Z",
     "iopub.status.busy": "2022-12-27T17:49:11.441898Z",
     "iopub.status.idle": "2022-12-27T17:49:11.485130Z",
     "shell.execute_reply": "2022-12-27T17:49:11.484096Z"
    },
    "papermill": {
     "duration": 0.055945,
     "end_time": "2022-12-27T17:49:11.488296",
     "exception": false,
     "start_time": "2022-12-27T17:49:11.432351",
     "status": "completed"
    },
    "tags": []
   },
   "outputs": [],
   "source": [
    "predictions=model.predict(X_test)"
   ]
  },
  {
   "cell_type": "code",
   "execution_count": 21,
   "id": "fb237fce",
   "metadata": {
    "execution": {
     "iopub.execute_input": "2022-12-27T17:49:11.507523Z",
     "iopub.status.busy": "2022-12-27T17:49:11.507113Z",
     "iopub.status.idle": "2022-12-27T17:49:11.520046Z",
     "shell.execute_reply": "2022-12-27T17:49:11.518298Z"
    },
    "papermill": {
     "duration": 0.026632,
     "end_time": "2022-12-27T17:49:11.523087",
     "exception": false,
     "start_time": "2022-12-27T17:49:11.496455",
     "status": "completed"
    },
    "tags": []
   },
   "outputs": [
    {
     "name": "stdout",
     "output_type": "stream",
     "text": [
      "Your submission was successfully saved!\n"
     ]
    }
   ],
   "source": [
    "output = pd.DataFrame({'PassengerId': test_data.PassengerId, 'Survived': predictions})\n",
    "output.to_csv('submission.csv', index=False)\n",
    "print(\"Your submission was successfully saved!\")"
   ]
  },
  {
   "cell_type": "code",
   "execution_count": null,
   "id": "03dda850",
   "metadata": {
    "papermill": {
     "duration": 0.007697,
     "end_time": "2022-12-27T17:49:11.539384",
     "exception": false,
     "start_time": "2022-12-27T17:49:11.531687",
     "status": "completed"
    },
    "tags": []
   },
   "outputs": [],
   "source": []
  }
 ],
 "metadata": {
  "kernelspec": {
   "display_name": "Python 3",
   "language": "python",
   "name": "python3"
  },
  "language_info": {
   "codemirror_mode": {
    "name": "ipython",
    "version": 3
   },
   "file_extension": ".py",
   "mimetype": "text/x-python",
   "name": "python",
   "nbconvert_exporter": "python",
   "pygments_lexer": "ipython3",
   "version": "3.7.12"
  },
  "papermill": {
   "default_parameters": {},
   "duration": 11.33876,
   "end_time": "2022-12-27T17:49:12.470611",
   "environment_variables": {},
   "exception": null,
   "input_path": "__notebook__.ipynb",
   "output_path": "__notebook__.ipynb",
   "parameters": {},
   "start_time": "2022-12-27T17:49:01.131851",
   "version": "2.3.4"
  }
 },
 "nbformat": 4,
 "nbformat_minor": 5
}
