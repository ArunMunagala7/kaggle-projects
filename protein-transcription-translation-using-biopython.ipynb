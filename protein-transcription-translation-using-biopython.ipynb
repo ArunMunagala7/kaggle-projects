{
 "cells": [
  {
   "cell_type": "code",
   "execution_count": 1,
   "id": "752e7097",
   "metadata": {
    "_cell_guid": "b1076dfc-b9ad-4769-8c92-a6c4dae69d19",
    "_uuid": "8f2839f25d086af736a60e9eeb907d3b93b6e0e5",
    "execution": {
     "iopub.execute_input": "2023-05-20T20:58:33.033024Z",
     "iopub.status.busy": "2023-05-20T20:58:33.032101Z",
     "iopub.status.idle": "2023-05-20T20:58:33.060487Z",
     "shell.execute_reply": "2023-05-20T20:58:33.059410Z"
    },
    "papermill": {
     "duration": 0.040078,
     "end_time": "2023-05-20T20:58:33.063198",
     "exception": false,
     "start_time": "2023-05-20T20:58:33.023120",
     "status": "completed"
    },
    "tags": []
   },
   "outputs": [
    {
     "name": "stdout",
     "output_type": "stream",
     "text": [
      "/kaggle/input/coronavirus-genome-sequence/MN908947.fna\n",
      "/kaggle/input/coronavirus-genome-sequence/A_new_coronavirus_associated_with_human_respirator.pdf\n",
      "/kaggle/input/coronavirus-genome-sequence/MN908947.txt\n",
      "/kaggle/input/covid19-genbank-file/sequence.gb.txt\n"
     ]
    }
   ],
   "source": [
    "# This Python 3 environment comes with many helpful analytics libraries installed\n",
    "# It is defined by the kaggle/python Docker image: https://github.com/kaggle/docker-python\n",
    "# For example, here's several helpful packages to load\n",
    "\n",
    "import numpy as np # linear algebra\n",
    "import pandas as pd # data processing, CSV file I/O (e.g. pd.read_csv)\n",
    "\n",
    "# Input data files are available in the read-only \"../input/\" directory\n",
    "# For example, running this (by clicking run or pressing Shift+Enter) will list all files under the input directory\n",
    "\n",
    "import os\n",
    "for dirname, _, filenames in os.walk('/kaggle/input'):\n",
    "    for filename in filenames:\n",
    "        print(os.path.join(dirname, filename))\n",
    "\n",
    "# You can write up to 20GB to the current directory (/kaggle/working/) that gets preserved as output when you create a version using \"Save & Run All\" \n",
    "# You can also write temporary files to /kaggle/temp/, but they won't be saved outside of the current session"
   ]
  },
  {
   "cell_type": "markdown",
   "id": "2d3ad8f6",
   "metadata": {
    "papermill": {
     "duration": 0.005743,
     "end_time": "2023-05-20T20:58:33.075196",
     "exception": false,
     "start_time": "2023-05-20T20:58:33.069453",
     "status": "completed"
    },
    "tags": []
   },
   "source": [
    "In this notebook I will primarily be dealing with the transcription, translation and prediction of genome/dna sequences during the covid-19 pandemic. "
   ]
  },
  {
   "cell_type": "markdown",
   "id": "dc228eb9",
   "metadata": {
    "papermill": {
     "duration": 0.005699,
     "end_time": "2023-05-20T20:58:33.087240",
     "exception": false,
     "start_time": "2023-05-20T20:58:33.081541",
     "status": "completed"
    },
    "tags": []
   },
   "source": [
    "importing the genome sequence for protein transcription and translation into RNA and proteins respectively"
   ]
  },
  {
   "cell_type": "code",
   "execution_count": 2,
   "id": "412f56af",
   "metadata": {
    "execution": {
     "iopub.execute_input": "2023-05-20T20:58:33.101405Z",
     "iopub.status.busy": "2023-05-20T20:58:33.100593Z",
     "iopub.status.idle": "2023-05-20T20:58:33.267305Z",
     "shell.execute_reply": "2023-05-20T20:58:33.266179Z"
    },
    "papermill": {
     "duration": 0.177062,
     "end_time": "2023-05-20T20:58:33.270241",
     "exception": false,
     "start_time": "2023-05-20T20:58:33.093179",
     "status": "completed"
    },
    "tags": []
   },
   "outputs": [],
   "source": [
    "from Bio.SeqRecord import SeqRecord\n",
    "from Bio import SeqIO\n",
    "covid19 = SeqIO.read('/kaggle/input/coronavirus-genome-sequence/MN908947.fna', \"fasta\")"
   ]
  },
  {
   "cell_type": "markdown",
   "id": "d49f6f3b",
   "metadata": {
    "papermill": {
     "duration": 0.005727,
     "end_time": "2023-05-20T20:58:33.282228",
     "exception": false,
     "start_time": "2023-05-20T20:58:33.276501",
     "status": "completed"
    },
    "tags": []
   },
   "source": [
    "finding the total count of the covid19 genome sequence"
   ]
  },
  {
   "cell_type": "code",
   "execution_count": 3,
   "id": "d4035109",
   "metadata": {
    "execution": {
     "iopub.execute_input": "2023-05-20T20:58:33.296517Z",
     "iopub.status.busy": "2023-05-20T20:58:33.295816Z",
     "iopub.status.idle": "2023-05-20T20:58:33.301787Z",
     "shell.execute_reply": "2023-05-20T20:58:33.300711Z"
    },
    "papermill": {
     "duration": 0.015733,
     "end_time": "2023-05-20T20:58:33.303994",
     "exception": false,
     "start_time": "2023-05-20T20:58:33.288261",
     "status": "completed"
    },
    "tags": []
   },
   "outputs": [
    {
     "name": "stdout",
     "output_type": "stream",
     "text": [
      "Total count of the sequence:  29903\n"
     ]
    }
   ],
   "source": [
    "sequence_count = len(covid19)\n",
    "print(\"Total count of the sequence: \", sequence_count)"
   ]
  },
  {
   "cell_type": "markdown",
   "id": "0df365ac",
   "metadata": {
    "papermill": {
     "duration": 0.005719,
     "end_time": "2023-05-20T20:58:33.316018",
     "exception": false,
     "start_time": "2023-05-20T20:58:33.310299",
     "status": "completed"
    },
    "tags": []
   },
   "source": [
    "to perform some basic operations on the DNA segment of the covid 19 genome, let us extract the first 50 characters of the sequence"
   ]
  },
  {
   "cell_type": "code",
   "execution_count": 4,
   "id": "8ae009e8",
   "metadata": {
    "execution": {
     "iopub.execute_input": "2023-05-20T20:58:33.329659Z",
     "iopub.status.busy": "2023-05-20T20:58:33.329255Z",
     "iopub.status.idle": "2023-05-20T20:58:33.335117Z",
     "shell.execute_reply": "2023-05-20T20:58:33.334024Z"
    },
    "papermill": {
     "duration": 0.015527,
     "end_time": "2023-05-20T20:58:33.337480",
     "exception": false,
     "start_time": "2023-05-20T20:58:33.321953",
     "status": "completed"
    },
    "tags": []
   },
   "outputs": [
    {
     "name": "stdout",
     "output_type": "stream",
     "text": [
      "ATTAAAGGTTTATACCTTCCCAGGTAACAAACCAACCAACTTTCGATCTC\n"
     ]
    }
   ],
   "source": [
    "covid19_DNA=covid19.seq\n",
    "covid_DNA=covid19_DNA[:50]\n",
    "print(covid_DNA) #print the final DNA segment"
   ]
  },
  {
   "cell_type": "markdown",
   "id": "6f4a73eb",
   "metadata": {
    "papermill": {
     "duration": 0.005908,
     "end_time": "2023-05-20T20:58:33.349547",
     "exception": false,
     "start_time": "2023-05-20T20:58:33.343639",
     "status": "completed"
    },
    "tags": []
   },
   "source": [
    "The DNA sequence here primarily consists of 4 bases: Alanines, Glycines, Cysteines and Threonines. Using this basic sequence, certain operations can be performed"
   ]
  },
  {
   "cell_type": "markdown",
   "id": "e8777c69",
   "metadata": {
    "papermill": {
     "duration": 0.005838,
     "end_time": "2023-05-20T20:58:33.361476",
     "exception": false,
     "start_time": "2023-05-20T20:58:33.355638",
     "status": "completed"
    },
    "tags": []
   },
   "source": [
    "in the below code block we will be implementing the complement and reverse complement of the given DNA sequence"
   ]
  },
  {
   "cell_type": "code",
   "execution_count": 5,
   "id": "2017ec60",
   "metadata": {
    "execution": {
     "iopub.execute_input": "2023-05-20T20:58:33.376152Z",
     "iopub.status.busy": "2023-05-20T20:58:33.375007Z",
     "iopub.status.idle": "2023-05-20T20:58:33.381794Z",
     "shell.execute_reply": "2023-05-20T20:58:33.380746Z"
    },
    "papermill": {
     "duration": 0.016414,
     "end_time": "2023-05-20T20:58:33.384104",
     "exception": false,
     "start_time": "2023-05-20T20:58:33.367690",
     "status": "completed"
    },
    "tags": []
   },
   "outputs": [
    {
     "name": "stdout",
     "output_type": "stream",
     "text": [
      "ATTAAAGGTTTATACCTTCCCAGGTAACAAACCAACCAACTTTCGATCTC - Sequence\n",
      "TAATTTCCAAATATGGAAGGGTCCATTGTTTGGTTGGTTGAAAGCTAGAG - Complement\n",
      "GAGATCGAAAGTTGGTTGGTTTGTTACCTGGGAAGGTATAAACCTTTAAT - Reverse Complement\n"
     ]
    }
   ],
   "source": [
    "print(covid_DNA + \" - Sequence\")\n",
    "print(covid_DNA.complement() + \" - Complement\")\n",
    "print(covid_DNA.reverse_complement() + \" - Reverse Complement\")"
   ]
  },
  {
   "cell_type": "markdown",
   "id": "e46feccf",
   "metadata": {
    "papermill": {
     "duration": 0.005914,
     "end_time": "2023-05-20T20:58:33.396135",
     "exception": false,
     "start_time": "2023-05-20T20:58:33.390221",
     "status": "completed"
    },
    "tags": []
   },
   "source": [
    "To understand the content of the COVID-19 better, lets count the percentage of A,G,C and T in the genome sequence"
   ]
  },
  {
   "cell_type": "code",
   "execution_count": 6,
   "id": "a45521c2",
   "metadata": {
    "execution": {
     "iopub.execute_input": "2023-05-20T20:58:33.410999Z",
     "iopub.status.busy": "2023-05-20T20:58:33.409868Z",
     "iopub.status.idle": "2023-05-20T20:58:33.419514Z",
     "shell.execute_reply": "2023-05-20T20:58:33.418278Z"
    },
    "papermill": {
     "duration": 0.019334,
     "end_time": "2023-05-20T20:58:33.421700",
     "exception": false,
     "start_time": "2023-05-20T20:58:33.402366",
     "status": "completed"
    },
    "tags": []
   },
   "outputs": [
    {
     "name": "stdout",
     "output_type": "stream",
     "text": [
      "Percentage of A: 29.94%\n",
      "Percentage of G: 19.61%\n",
      "Percentage of C: 18.37%\n",
      "Percentage of T: 32.08%\n"
     ]
    }
   ],
   "source": [
    "count_A = covid19_DNA.count('A')\n",
    "count_G = covid19_DNA.count('G')\n",
    "count_C = covid19_DNA.count('C')\n",
    "count_T = covid19_DNA.count('T')\n",
    "\n",
    "# Calculate the percentages\n",
    "total_count = len(covid19_DNA)\n",
    "percentage_A = (count_A / total_count) * 100\n",
    "percentage_G = (count_G / total_count) * 100\n",
    "percentage_C = (count_C / total_count) * 100\n",
    "percentage_T = (count_T / total_count) * 100\n",
    "\n",
    "# Print the percentages\n",
    "print(\"Percentage of A: {:.2f}%\".format(percentage_A))\n",
    "print(\"Percentage of G: {:.2f}%\".format(percentage_G))\n",
    "print(\"Percentage of C: {:.2f}%\".format(percentage_C))\n",
    "print(\"Percentage of T: {:.2f}%\".format(percentage_T))"
   ]
  },
  {
   "cell_type": "markdown",
   "id": "d0756d56",
   "metadata": {
    "papermill": {
     "duration": 0.006037,
     "end_time": "2023-05-20T20:58:33.434064",
     "exception": false,
     "start_time": "2023-05-20T20:58:33.428027",
     "status": "completed"
    },
    "tags": []
   },
   "source": [
    "plotting a bar plot for the total A,G,C,T count"
   ]
  },
  {
   "cell_type": "code",
   "execution_count": 7,
   "id": "40fbad7a",
   "metadata": {
    "execution": {
     "iopub.execute_input": "2023-05-20T20:58:33.449733Z",
     "iopub.status.busy": "2023-05-20T20:58:33.448943Z",
     "iopub.status.idle": "2023-05-20T20:58:33.455615Z",
     "shell.execute_reply": "2023-05-20T20:58:33.454494Z"
    },
    "papermill": {
     "duration": 0.017167,
     "end_time": "2023-05-20T20:58:33.457973",
     "exception": false,
     "start_time": "2023-05-20T20:58:33.440806",
     "status": "completed"
    },
    "tags": []
   },
   "outputs": [
    {
     "name": "stdout",
     "output_type": "stream",
     "text": [
      "{'A': 8954, 'G': 5863, 'C': 5492, 'T': 9594}\n"
     ]
    }
   ],
   "source": [
    "nucleotides={'A':count_A,'G':count_G,'C':count_C,'T':count_T}\n",
    "print(nucleotides)"
   ]
  },
  {
   "cell_type": "code",
   "execution_count": 8,
   "id": "09c633fe",
   "metadata": {
    "execution": {
     "iopub.execute_input": "2023-05-20T20:58:33.473272Z",
     "iopub.status.busy": "2023-05-20T20:58:33.472492Z",
     "iopub.status.idle": "2023-05-20T20:58:35.066433Z",
     "shell.execute_reply": "2023-05-20T20:58:35.065298Z"
    },
    "papermill": {
     "duration": 1.604359,
     "end_time": "2023-05-20T20:58:35.068953",
     "exception": false,
     "start_time": "2023-05-20T20:58:33.464594",
     "status": "completed"
    },
    "tags": []
   },
   "outputs": [
    {
     "name": "stderr",
     "output_type": "stream",
     "text": [
      "/opt/conda/lib/python3.10/site-packages/scipy/__init__.py:146: UserWarning: A NumPy version >=1.16.5 and <1.23.0 is required for this version of SciPy (detected version 1.23.5\n",
      "  warnings.warn(f\"A NumPy version >={np_minversion} and <{np_maxversion}\"\n"
     ]
    },
    {
     "data": {
      "image/png": "[encoded data removed]",
      "text/plain": [
       "<Figure size 640x480 with 1 Axes>"
      ]
     },
     "metadata": {},
     "output_type": "display_data"
    }
   ],
   "source": [
    "import seaborn as sns\n",
    "import matplotlib.pyplot as plt\n",
    "\n",
    "# Define the nucleotide counts\n",
    "nucleotides = {'A': count_A, 'G': count_G, 'C': count_C, 'T': count_T}\n",
    "\n",
    "# Create lists for x-axis labels and y-axis values\n",
    "bases = list(nucleotides.keys())\n",
    "base_counts = list(nucleotides.values())\n",
    "\n",
    "# Create bar plot using Seaborn\n",
    "sns.barplot(x=bases, y=base_counts)\n",
    "\n",
    "# Set labels for x-axis and y-axis\n",
    "plt.xlabel('Bases')\n",
    "plt.ylabel('Base Count')\n",
    "\n",
    "# Display the plot\n",
    "plt.show()"
   ]
  },
  {
   "cell_type": "markdown",
   "id": "5e5ab925",
   "metadata": {
    "papermill": {
     "duration": 0.006698,
     "end_time": "2023-05-20T20:58:35.082685",
     "exception": false,
     "start_time": "2023-05-20T20:58:35.075987",
     "status": "completed"
    },
    "tags": []
   },
   "source": [
    "Hence we have been able to find the counts of all the bases in the given genome sequence"
   ]
  },
  {
   "cell_type": "markdown",
   "id": "0cf9372f",
   "metadata": {
    "papermill": {
     "duration": 0.006696,
     "end_time": "2023-05-20T20:58:35.096254",
     "exception": false,
     "start_time": "2023-05-20T20:58:35.089558",
     "status": "completed"
    },
    "tags": []
   },
   "source": [
    "The GC content of a genome sequence refers to the percentage of nucleotides that are either guanine (G) or cytosine (C) in relation to the total number of nucleotides in the sequence. It is a measure of the relative abundance of these nucleotides in the DNA molecule.\n",
    "\n",
    "GC content is important because it can influence the stability and properties of the DNA molecule. The stability of DNA can have implications for various biological processes such as DNA replication, transcription, and protein binding. Additionally, differences in GC content can be associated with variations in gene expression, evolutionary patterns, and genome structure among different organisms.Now, finding the GC% using predefined modules in BioPython, we get:"
   ]
  },
  {
   "cell_type": "code",
   "execution_count": 9,
   "id": "f6203460",
   "metadata": {
    "execution": {
     "iopub.execute_input": "2023-05-20T20:58:35.111765Z",
     "iopub.status.busy": "2023-05-20T20:58:35.111344Z",
     "iopub.status.idle": "2023-05-20T20:58:35.121431Z",
     "shell.execute_reply": "2023-05-20T20:58:35.120223Z"
    },
    "papermill": {
     "duration": 0.021231,
     "end_time": "2023-05-20T20:58:35.124351",
     "exception": false,
     "start_time": "2023-05-20T20:58:35.103120",
     "status": "completed"
    },
    "tags": []
   },
   "outputs": [
    {
     "name": "stdout",
     "output_type": "stream",
     "text": [
      "GC% is equal to: 37.97277865097148\n"
     ]
    },
    {
     "name": "stderr",
     "output_type": "stream",
     "text": [
      "/opt/conda/lib/python3.10/site-packages/Bio/SeqUtils/__init__.py:144: BiopythonDeprecationWarning: GC is deprecated; please use gc_fraction instead.\n",
      "  warnings.warn(\n"
     ]
    }
   ],
   "source": [
    "from Bio.SeqUtils import GC\n",
    "print(\"GC% is equal to: \" +str(GC(covid19_DNA)))"
   ]
  },
  {
   "cell_type": "code",
   "execution_count": null,
   "id": "b8adaa20",
   "metadata": {
    "papermill": {
     "duration": 0.007129,
     "end_time": "2023-05-20T20:58:35.138750",
     "exception": false,
     "start_time": "2023-05-20T20:58:35.131621",
     "status": "completed"
    },
    "tags": []
   },
   "outputs": [],
   "source": []
  }
 ],
 "metadata": {
  "kernelspec": {
   "display_name": "Python 3",
   "language": "python",
   "name": "python3"
  },
  "language_info": {
   "codemirror_mode": {
    "name": "ipython",
    "version": 3
   },
   "file_extension": ".py",
   "mimetype": "text/x-python",
   "name": "python",
   "nbconvert_exporter": "python",
   "pygments_lexer": "ipython3",
   "version": "3.10.10"
  },
  "papermill": {
   "default_parameters": {},
   "duration": 16.692587,
   "end_time": "2023-05-20T20:58:37.906487",
   "environment_variables": {},
   "exception": null,
   "input_path": "__notebook__.ipynb",
   "output_path": "__notebook__.ipynb",
   "parameters": {},
   "start_time": "2023-05-20T20:58:21.213900",
   "version": "2.4.0"
  }
 },
 "nbformat": 4,
 "nbformat_minor": 5
}
