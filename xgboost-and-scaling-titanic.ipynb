{
 "cells": [
  {
   "cell_type": "code",
   "execution_count": 1,
   "id": "81484a53",
   "metadata": {
    "_cell_guid": "b1076dfc-b9ad-4769-8c92-a6c4dae69d19",
    "_uuid": "8f2839f25d086af736a60e9eeb907d3b93b6e0e5",
    "execution": {
     "iopub.execute_input": "2022-12-29T11:40:32.768493Z",
     "iopub.status.busy": "2022-12-29T11:40:32.767843Z",
     "iopub.status.idle": "2022-12-29T11:40:32.785155Z",
     "shell.execute_reply": "2022-12-29T11:40:32.783874Z"
    },
    "papermill": {
     "duration": 0.03527,
     "end_time": "2022-12-29T11:40:32.788169",
     "exception": false,
     "start_time": "2022-12-29T11:40:32.752899",
     "status": "completed"
    },
    "tags": []
   },
   "outputs": [
    {
     "name": "stdout",
     "output_type": "stream",
     "text": [
      "/kaggle/input/titanic/train.csv\n",
      "/kaggle/input/titanic/test.csv\n",
      "/kaggle/input/titanic/gender_submission.csv\n"
     ]
    }
   ],
   "source": [
    "# This Python 3 environment comes with many helpful analytics libraries installed\n",
    "# It is defined by the kaggle/python Docker image: https://github.com/kaggle/docker-python\n",
    "# For example, here's several helpful packages to load\n",
    "\n",
    "import numpy as np # linear algebra\n",
    "import pandas as pd # data processing, CSV file I/O (e.g. pd.read_csv)\n",
    "\n",
    "# Input data files are available in the read-only \"../input/\" directory\n",
    "# For example, running this (by clicking run or pressing Shift+Enter) will list all files under the input directory\n",
    "\n",
    "import os\n",
    "for dirname, _, filenames in os.walk('/kaggle/input'):\n",
    "    for filename in filenames:\n",
    "        print(os.path.join(dirname, filename))\n",
    "\n",
    "# You can write up to 20GB to the current directory (/kaggle/working/) that gets preserved as output when you create a version using \"Save & Run All\" \n",
    "# You can also write temporary files to /kaggle/temp/, but they won't be saved outside of the current session"
   ]
  },
  {
   "cell_type": "markdown",
   "id": "4152b8fd",
   "metadata": {
    "papermill": {
     "duration": 0.008219,
     "end_time": "2022-12-29T11:40:32.806466",
     "exception": false,
     "start_time": "2022-12-29T11:40:32.798247",
     "status": "completed"
    },
    "tags": []
   },
   "source": [
    "Uploading the train dataset to a csv file"
   ]
  },
  {
   "cell_type": "code",
   "execution_count": 2,
   "id": "6bccc122",
   "metadata": {
    "execution": {
     "iopub.execute_input": "2022-12-29T11:40:32.826747Z",
     "iopub.status.busy": "2022-12-29T11:40:32.825167Z",
     "iopub.status.idle": "2022-12-29T11:40:32.877879Z",
     "shell.execute_reply": "2022-12-29T11:40:32.876446Z"
    },
    "papermill": {
     "duration": 0.065926,
     "end_time": "2022-12-29T11:40:32.880875",
     "exception": false,
     "start_time": "2022-12-29T11:40:32.814949",
     "status": "completed"
    },
    "tags": []
   },
   "outputs": [
    {
     "data": {
      "text/html": [
       "<div>\n",
       "<style scoped>\n",
       "    .dataframe tbody tr th:only-of-type {\n",
       "        vertical-align: middle;\n",
       "    }\n",
       "\n",
       "    .dataframe tbody tr th {\n",
       "        vertical-align: top;\n",
       "    }\n",
       "\n",
       "    .dataframe thead th {\n",
       "        text-align: right;\n",
       "    }\n",
       "</style>\n",
       "<table border=\"1\" class=\"dataframe\">\n",
       "  <thead>\n",
       "    <tr style=\"text-align: right;\">\n",
       "      <th></th>\n",
       "      <th>PassengerId</th>\n",
       "      <th>Survived</th>\n",
       "      <th>Pclass</th>\n",
       "      <th>Name</th>\n",
       "      <th>Sex</th>\n",
       "      <th>Age</th>\n",
       "      <th>SibSp</th>\n",
       "      <th>Parch</th>\n",
       "      <th>Ticket</th>\n",
       "      <th>Fare</th>\n",
       "      <th>Cabin</th>\n",
       "      <th>Embarked</th>\n",
       "    </tr>\n",
       "  </thead>\n",
       "  <tbody>\n",
       "    <tr>\n",
       "      <th>0</th>\n",
       "      <td>1</td>\n",
       "      <td>0</td>\n",
       "      <td>3</td>\n",
       "      <td>Braund, Mr. Owen Harris</td>\n",
       "      <td>male</td>\n",
       "      <td>22.0</td>\n",
       "      <td>1</td>\n",
       "      <td>0</td>\n",
       "      <td>A/5 21171</td>\n",
       "      <td>7.2500</td>\n",
       "      <td>NaN</td>\n",
       "      <td>S</td>\n",
       "    </tr>\n",
       "    <tr>\n",
       "      <th>1</th>\n",
       "      <td>2</td>\n",
       "      <td>1</td>\n",
       "      <td>1</td>\n",
       "      <td>Cumings, Mrs. John Bradley (Florence Briggs Th...</td>\n",
       "      <td>female</td>\n",
       "      <td>38.0</td>\n",
       "      <td>1</td>\n",
       "      <td>0</td>\n",
       "      <td>PC 17599</td>\n",
       "      <td>71.2833</td>\n",
       "      <td>C85</td>\n",
       "      <td>C</td>\n",
       "    </tr>\n",
       "    <tr>\n",
       "      <th>2</th>\n",
       "      <td>3</td>\n",
       "      <td>1</td>\n",
       "      <td>3</td>\n",
       "      <td>Heikkinen, Miss. Laina</td>\n",
       "      <td>female</td>\n",
       "      <td>26.0</td>\n",
       "      <td>0</td>\n",
       "      <td>0</td>\n",
       "      <td>STON/O2. 3101282</td>\n",
       "      <td>7.9250</td>\n",
       "      <td>NaN</td>\n",
       "      <td>S</td>\n",
       "    </tr>\n",
       "    <tr>\n",
       "      <th>3</th>\n",
       "      <td>4</td>\n",
       "      <td>1</td>\n",
       "      <td>1</td>\n",
       "      <td>Futrelle, Mrs. Jacques Heath (Lily May Peel)</td>\n",
       "      <td>female</td>\n",
       "      <td>35.0</td>\n",
       "      <td>1</td>\n",
       "      <td>0</td>\n",
       "      <td>113803</td>\n",
       "      <td>53.1000</td>\n",
       "      <td>C123</td>\n",
       "      <td>S</td>\n",
       "    </tr>\n",
       "    <tr>\n",
       "      <th>4</th>\n",
       "      <td>5</td>\n",
       "      <td>0</td>\n",
       "      <td>3</td>\n",
       "      <td>Allen, Mr. William Henry</td>\n",
       "      <td>male</td>\n",
       "      <td>35.0</td>\n",
       "      <td>0</td>\n",
       "      <td>0</td>\n",
       "      <td>373450</td>\n",
       "      <td>8.0500</td>\n",
       "      <td>NaN</td>\n",
       "      <td>S</td>\n",
       "    </tr>\n",
       "  </tbody>\n",
       "</table>\n",
       "</div>"
      ],
      "text/plain": [
       "   PassengerId  Survived  Pclass  \\\n",
       "0            1         0       3   \n",
       "1            2         1       1   \n",
       "2            3         1       3   \n",
       "3            4         1       1   \n",
       "4            5         0       3   \n",
       "\n",
       "                                                Name     Sex   Age  SibSp  \\\n",
       "0                            Braund, Mr. Owen Harris    male  22.0      1   \n",
       "1  Cumings, Mrs. John Bradley (Florence Briggs Th...  female  38.0      1   \n",
       "2                             Heikkinen, Miss. Laina  female  26.0      0   \n",
       "3       Futrelle, Mrs. Jacques Heath (Lily May Peel)  female  35.0      1   \n",
       "4                           Allen, Mr. William Henry    male  35.0      0   \n",
       "\n",
       "   Parch            Ticket     Fare Cabin Embarked  \n",
       "0      0         A/5 21171   7.2500   NaN        S  \n",
       "1      0          PC 17599  71.2833   C85        C  \n",
       "2      0  STON/O2. 3101282   7.9250   NaN        S  \n",
       "3      0            113803  53.1000  C123        S  \n",
       "4      0            373450   8.0500   NaN        S  "
      ]
     },
     "execution_count": 2,
     "metadata": {},
     "output_type": "execute_result"
    }
   ],
   "source": [
    "train_loc=\"/kaggle/input/titanic/train.csv\"\n",
    "train_data=pd.read_csv(train_loc)\n",
    "train_data.head()"
   ]
  },
  {
   "cell_type": "markdown",
   "id": "d1af1aaa",
   "metadata": {
    "papermill": {
     "duration": 0.009749,
     "end_time": "2022-12-29T11:40:32.900127",
     "exception": false,
     "start_time": "2022-12-29T11:40:32.890378",
     "status": "completed"
    },
    "tags": []
   },
   "source": [
    "importing the test data"
   ]
  },
  {
   "cell_type": "code",
   "execution_count": 3,
   "id": "67868ba2",
   "metadata": {
    "execution": {
     "iopub.execute_input": "2022-12-29T11:40:32.920971Z",
     "iopub.status.busy": "2022-12-29T11:40:32.920571Z",
     "iopub.status.idle": "2022-12-29T11:40:32.934817Z",
     "shell.execute_reply": "2022-12-29T11:40:32.933513Z"
    },
    "papermill": {
     "duration": 0.028358,
     "end_time": "2022-12-29T11:40:32.938208",
     "exception": false,
     "start_time": "2022-12-29T11:40:32.909850",
     "status": "completed"
    },
    "tags": []
   },
   "outputs": [],
   "source": [
    "test_data=pd.read_csv('/kaggle/input/titanic/test.csv')"
   ]
  },
  {
   "cell_type": "markdown",
   "id": "3cddcd72",
   "metadata": {
    "papermill": {
     "duration": 0.010599,
     "end_time": "2022-12-29T11:40:32.960406",
     "exception": false,
     "start_time": "2022-12-29T11:40:32.949807",
     "status": "completed"
    },
    "tags": []
   },
   "source": [
    "using minmax scaling on fare\n"
   ]
  },
  {
   "cell_type": "code",
   "execution_count": 4,
   "id": "cea35d78",
   "metadata": {
    "execution": {
     "iopub.execute_input": "2022-12-29T11:40:32.982104Z",
     "iopub.status.busy": "2022-12-29T11:40:32.980963Z",
     "iopub.status.idle": "2022-12-29T11:40:34.164665Z",
     "shell.execute_reply": "2022-12-29T11:40:34.163365Z"
    },
    "papermill": {
     "duration": 1.197365,
     "end_time": "2022-12-29T11:40:34.167423",
     "exception": false,
     "start_time": "2022-12-29T11:40:32.970058",
     "status": "completed"
    },
    "tags": []
   },
   "outputs": [
    {
     "data": {
      "text/html": [
       "<div>\n",
       "<style scoped>\n",
       "    .dataframe tbody tr th:only-of-type {\n",
       "        vertical-align: middle;\n",
       "    }\n",
       "\n",
       "    .dataframe tbody tr th {\n",
       "        vertical-align: top;\n",
       "    }\n",
       "\n",
       "    .dataframe thead th {\n",
       "        text-align: right;\n",
       "    }\n",
       "</style>\n",
       "<table border=\"1\" class=\"dataframe\">\n",
       "  <thead>\n",
       "    <tr style=\"text-align: right;\">\n",
       "      <th></th>\n",
       "      <th>Age</th>\n",
       "      <th>Fare</th>\n",
       "    </tr>\n",
       "  </thead>\n",
       "  <tbody>\n",
       "    <tr>\n",
       "      <th>0</th>\n",
       "      <td>22.0</td>\n",
       "      <td>7.2500</td>\n",
       "    </tr>\n",
       "    <tr>\n",
       "      <th>1</th>\n",
       "      <td>38.0</td>\n",
       "      <td>71.2833</td>\n",
       "    </tr>\n",
       "    <tr>\n",
       "      <th>2</th>\n",
       "      <td>26.0</td>\n",
       "      <td>7.9250</td>\n",
       "    </tr>\n",
       "    <tr>\n",
       "      <th>3</th>\n",
       "      <td>35.0</td>\n",
       "      <td>53.1000</td>\n",
       "    </tr>\n",
       "    <tr>\n",
       "      <th>4</th>\n",
       "      <td>35.0</td>\n",
       "      <td>8.0500</td>\n",
       "    </tr>\n",
       "  </tbody>\n",
       "</table>\n",
       "</div>"
      ],
      "text/plain": [
       "    Age     Fare\n",
       "0  22.0   7.2500\n",
       "1  38.0  71.2833\n",
       "2  26.0   7.9250\n",
       "3  35.0  53.1000\n",
       "4  35.0   8.0500"
      ]
     },
     "execution_count": 4,
     "metadata": {},
     "output_type": "execute_result"
    }
   ],
   "source": [
    "from sklearn.preprocessing import MinMaxScaler\n",
    "scaler=MinMaxScaler()\n",
    "X1=train_data.loc[:,['Age','Fare']]\n",
    "X1.head()"
   ]
  },
  {
   "cell_type": "markdown",
   "id": "eb400fa2",
   "metadata": {
    "papermill": {
     "duration": 0.009874,
     "end_time": "2022-12-29T11:40:34.186894",
     "exception": false,
     "start_time": "2022-12-29T11:40:34.177020",
     "status": "completed"
    },
    "tags": []
   },
   "source": [
    "fitting the Scaler"
   ]
  },
  {
   "cell_type": "code",
   "execution_count": 5,
   "id": "e65d4092",
   "metadata": {
    "execution": {
     "iopub.execute_input": "2022-12-29T11:40:34.209070Z",
     "iopub.status.busy": "2022-12-29T11:40:34.208139Z",
     "iopub.status.idle": "2022-12-29T11:40:34.226271Z",
     "shell.execute_reply": "2022-12-29T11:40:34.224779Z"
    },
    "papermill": {
     "duration": 0.033159,
     "end_time": "2022-12-29T11:40:34.229734",
     "exception": false,
     "start_time": "2022-12-29T11:40:34.196575",
     "status": "completed"
    },
    "tags": []
   },
   "outputs": [
    {
     "data": {
      "text/html": [
       "<div>\n",
       "<style scoped>\n",
       "    .dataframe tbody tr th:only-of-type {\n",
       "        vertical-align: middle;\n",
       "    }\n",
       "\n",
       "    .dataframe tbody tr th {\n",
       "        vertical-align: top;\n",
       "    }\n",
       "\n",
       "    .dataframe thead th {\n",
       "        text-align: right;\n",
       "    }\n",
       "</style>\n",
       "<table border=\"1\" class=\"dataframe\">\n",
       "  <thead>\n",
       "    <tr style=\"text-align: right;\">\n",
       "      <th></th>\n",
       "      <th>Age</th>\n",
       "      <th>Fare</th>\n",
       "    </tr>\n",
       "  </thead>\n",
       "  <tbody>\n",
       "    <tr>\n",
       "      <th>0</th>\n",
       "      <td>0.271174</td>\n",
       "      <td>0.014151</td>\n",
       "    </tr>\n",
       "    <tr>\n",
       "      <th>1</th>\n",
       "      <td>0.472229</td>\n",
       "      <td>0.139136</td>\n",
       "    </tr>\n",
       "    <tr>\n",
       "      <th>2</th>\n",
       "      <td>0.321438</td>\n",
       "      <td>0.015469</td>\n",
       "    </tr>\n",
       "    <tr>\n",
       "      <th>3</th>\n",
       "      <td>0.434531</td>\n",
       "      <td>0.103644</td>\n",
       "    </tr>\n",
       "    <tr>\n",
       "      <th>4</th>\n",
       "      <td>0.434531</td>\n",
       "      <td>0.015713</td>\n",
       "    </tr>\n",
       "  </tbody>\n",
       "</table>\n",
       "</div>"
      ],
      "text/plain": [
       "        Age      Fare\n",
       "0  0.271174  0.014151\n",
       "1  0.472229  0.139136\n",
       "2  0.321438  0.015469\n",
       "3  0.434531  0.103644\n",
       "4  0.434531  0.015713"
      ]
     },
     "execution_count": 5,
     "metadata": {},
     "output_type": "execute_result"
    }
   ],
   "source": [
    "scaler.fit(X1)\n",
    "X1_scaled=scaler.transform(X1)\n",
    "X1_scaled=pd.DataFrame(X1_scaled,columns=X1.columns)\n",
    "X1_scaled.head()"
   ]
  },
  {
   "cell_type": "markdown",
   "id": "2082f31f",
   "metadata": {
    "papermill": {
     "duration": 0.010083,
     "end_time": "2022-12-29T11:40:34.250823",
     "exception": false,
     "start_time": "2022-12-29T11:40:34.240740",
     "status": "completed"
    },
    "tags": []
   },
   "source": [
    "categorical encoding "
   ]
  },
  {
   "cell_type": "code",
   "execution_count": 6,
   "id": "b1494c62",
   "metadata": {
    "execution": {
     "iopub.execute_input": "2022-12-29T11:40:34.273344Z",
     "iopub.status.busy": "2022-12-29T11:40:34.272840Z",
     "iopub.status.idle": "2022-12-29T11:40:34.302603Z",
     "shell.execute_reply": "2022-12-29T11:40:34.300908Z"
    },
    "papermill": {
     "duration": 0.044733,
     "end_time": "2022-12-29T11:40:34.305568",
     "exception": false,
     "start_time": "2022-12-29T11:40:34.260835",
     "status": "completed"
    },
    "tags": []
   },
   "outputs": [
    {
     "data": {
      "text/html": [
       "<div>\n",
       "<style scoped>\n",
       "    .dataframe tbody tr th:only-of-type {\n",
       "        vertical-align: middle;\n",
       "    }\n",
       "\n",
       "    .dataframe tbody tr th {\n",
       "        vertical-align: top;\n",
       "    }\n",
       "\n",
       "    .dataframe thead th {\n",
       "        text-align: right;\n",
       "    }\n",
       "</style>\n",
       "<table border=\"1\" class=\"dataframe\">\n",
       "  <thead>\n",
       "    <tr style=\"text-align: right;\">\n",
       "      <th></th>\n",
       "      <th>Pclass</th>\n",
       "      <th>SibSp</th>\n",
       "      <th>Parch</th>\n",
       "      <th>Sex_female</th>\n",
       "      <th>Sex_male</th>\n",
       "    </tr>\n",
       "  </thead>\n",
       "  <tbody>\n",
       "    <tr>\n",
       "      <th>0</th>\n",
       "      <td>3</td>\n",
       "      <td>1</td>\n",
       "      <td>0</td>\n",
       "      <td>0</td>\n",
       "      <td>1</td>\n",
       "    </tr>\n",
       "    <tr>\n",
       "      <th>1</th>\n",
       "      <td>1</td>\n",
       "      <td>1</td>\n",
       "      <td>0</td>\n",
       "      <td>1</td>\n",
       "      <td>0</td>\n",
       "    </tr>\n",
       "    <tr>\n",
       "      <th>2</th>\n",
       "      <td>3</td>\n",
       "      <td>0</td>\n",
       "      <td>0</td>\n",
       "      <td>1</td>\n",
       "      <td>0</td>\n",
       "    </tr>\n",
       "    <tr>\n",
       "      <th>3</th>\n",
       "      <td>1</td>\n",
       "      <td>1</td>\n",
       "      <td>0</td>\n",
       "      <td>1</td>\n",
       "      <td>0</td>\n",
       "    </tr>\n",
       "    <tr>\n",
       "      <th>4</th>\n",
       "      <td>3</td>\n",
       "      <td>0</td>\n",
       "      <td>0</td>\n",
       "      <td>0</td>\n",
       "      <td>1</td>\n",
       "    </tr>\n",
       "  </tbody>\n",
       "</table>\n",
       "</div>"
      ],
      "text/plain": [
       "   Pclass  SibSp  Parch  Sex_female  Sex_male\n",
       "0       3      1      0           0         1\n",
       "1       1      1      0           1         0\n",
       "2       3      0      0           1         0\n",
       "3       1      1      0           1         0\n",
       "4       3      0      0           0         1"
      ]
     },
     "execution_count": 6,
     "metadata": {},
     "output_type": "execute_result"
    }
   ],
   "source": [
    "y=train_data[\"Survived\"]\n",
    "features = [\"Pclass\", \"Sex\", \"SibSp\", \"Parch\"]\n",
    "X2 = pd.get_dummies(train_data[features])\n",
    "X2_test = pd.get_dummies(test_data[features])\n",
    "X2.head()"
   ]
  },
  {
   "cell_type": "markdown",
   "id": "7e95f884",
   "metadata": {
    "papermill": {
     "duration": 0.009157,
     "end_time": "2022-12-29T11:40:34.324516",
     "exception": false,
     "start_time": "2022-12-29T11:40:34.315359",
     "status": "completed"
    },
    "tags": []
   },
   "source": [
    "Scaling down of the float features of the test dataset"
   ]
  },
  {
   "cell_type": "code",
   "execution_count": 7,
   "id": "3bf93e55",
   "metadata": {
    "execution": {
     "iopub.execute_input": "2022-12-29T11:40:34.347070Z",
     "iopub.status.busy": "2022-12-29T11:40:34.345579Z",
     "iopub.status.idle": "2022-12-29T11:40:34.360183Z",
     "shell.execute_reply": "2022-12-29T11:40:34.358864Z"
    },
    "papermill": {
     "duration": 0.028759,
     "end_time": "2022-12-29T11:40:34.362813",
     "exception": false,
     "start_time": "2022-12-29T11:40:34.334054",
     "status": "completed"
    },
    "tags": []
   },
   "outputs": [
    {
     "data": {
      "text/html": [
       "<div>\n",
       "<style scoped>\n",
       "    .dataframe tbody tr th:only-of-type {\n",
       "        vertical-align: middle;\n",
       "    }\n",
       "\n",
       "    .dataframe tbody tr th {\n",
       "        vertical-align: top;\n",
       "    }\n",
       "\n",
       "    .dataframe thead th {\n",
       "        text-align: right;\n",
       "    }\n",
       "</style>\n",
       "<table border=\"1\" class=\"dataframe\">\n",
       "  <thead>\n",
       "    <tr style=\"text-align: right;\">\n",
       "      <th></th>\n",
       "      <th>Age</th>\n",
       "      <th>Fare</th>\n",
       "    </tr>\n",
       "  </thead>\n",
       "  <tbody>\n",
       "    <tr>\n",
       "      <th>0</th>\n",
       "      <td>34.5</td>\n",
       "      <td>7.8292</td>\n",
       "    </tr>\n",
       "    <tr>\n",
       "      <th>1</th>\n",
       "      <td>47.0</td>\n",
       "      <td>7.0000</td>\n",
       "    </tr>\n",
       "    <tr>\n",
       "      <th>2</th>\n",
       "      <td>62.0</td>\n",
       "      <td>9.6875</td>\n",
       "    </tr>\n",
       "    <tr>\n",
       "      <th>3</th>\n",
       "      <td>27.0</td>\n",
       "      <td>8.6625</td>\n",
       "    </tr>\n",
       "    <tr>\n",
       "      <th>4</th>\n",
       "      <td>22.0</td>\n",
       "      <td>12.2875</td>\n",
       "    </tr>\n",
       "  </tbody>\n",
       "</table>\n",
       "</div>"
      ],
      "text/plain": [
       "    Age     Fare\n",
       "0  34.5   7.8292\n",
       "1  47.0   7.0000\n",
       "2  62.0   9.6875\n",
       "3  27.0   8.6625\n",
       "4  22.0  12.2875"
      ]
     },
     "execution_count": 7,
     "metadata": {},
     "output_type": "execute_result"
    }
   ],
   "source": [
    "X1_test=test_data.loc[:,['Age','Fare']]\n",
    "X1_test.head()"
   ]
  },
  {
   "cell_type": "markdown",
   "id": "69ecc5c0",
   "metadata": {
    "papermill": {
     "duration": 0.009234,
     "end_time": "2022-12-29T11:40:34.381680",
     "exception": false,
     "start_time": "2022-12-29T11:40:34.372446",
     "status": "completed"
    },
    "tags": []
   },
   "source": [
    "fitting the scaler accordingly"
   ]
  },
  {
   "cell_type": "code",
   "execution_count": 8,
   "id": "74e8d83c",
   "metadata": {
    "execution": {
     "iopub.execute_input": "2022-12-29T11:40:34.403770Z",
     "iopub.status.busy": "2022-12-29T11:40:34.402909Z",
     "iopub.status.idle": "2022-12-29T11:40:34.418528Z",
     "shell.execute_reply": "2022-12-29T11:40:34.416992Z"
    },
    "papermill": {
     "duration": 0.029696,
     "end_time": "2022-12-29T11:40:34.421099",
     "exception": false,
     "start_time": "2022-12-29T11:40:34.391403",
     "status": "completed"
    },
    "tags": []
   },
   "outputs": [
    {
     "data": {
      "text/html": [
       "<div>\n",
       "<style scoped>\n",
       "    .dataframe tbody tr th:only-of-type {\n",
       "        vertical-align: middle;\n",
       "    }\n",
       "\n",
       "    .dataframe tbody tr th {\n",
       "        vertical-align: top;\n",
       "    }\n",
       "\n",
       "    .dataframe thead th {\n",
       "        text-align: right;\n",
       "    }\n",
       "</style>\n",
       "<table border=\"1\" class=\"dataframe\">\n",
       "  <thead>\n",
       "    <tr style=\"text-align: right;\">\n",
       "      <th></th>\n",
       "      <th>Age</th>\n",
       "      <th>Fare</th>\n",
       "    </tr>\n",
       "  </thead>\n",
       "  <tbody>\n",
       "    <tr>\n",
       "      <th>0</th>\n",
       "      <td>0.452723</td>\n",
       "      <td>0.015282</td>\n",
       "    </tr>\n",
       "    <tr>\n",
       "      <th>1</th>\n",
       "      <td>0.617566</td>\n",
       "      <td>0.013663</td>\n",
       "    </tr>\n",
       "    <tr>\n",
       "      <th>2</th>\n",
       "      <td>0.815377</td>\n",
       "      <td>0.018909</td>\n",
       "    </tr>\n",
       "    <tr>\n",
       "      <th>3</th>\n",
       "      <td>0.353818</td>\n",
       "      <td>0.016908</td>\n",
       "    </tr>\n",
       "    <tr>\n",
       "      <th>4</th>\n",
       "      <td>0.287881</td>\n",
       "      <td>0.023984</td>\n",
       "    </tr>\n",
       "  </tbody>\n",
       "</table>\n",
       "</div>"
      ],
      "text/plain": [
       "        Age      Fare\n",
       "0  0.452723  0.015282\n",
       "1  0.617566  0.013663\n",
       "2  0.815377  0.018909\n",
       "3  0.353818  0.016908\n",
       "4  0.287881  0.023984"
      ]
     },
     "execution_count": 8,
     "metadata": {},
     "output_type": "execute_result"
    }
   ],
   "source": [
    "scaler.fit(X1_test)\n",
    "X1_test_scaled=scaler.transform(X1_test)\n",
    "X1_test_scaled=pd.DataFrame(X1_test_scaled,columns=X1_test.columns)\n",
    "X1_test_scaled.head()"
   ]
  },
  {
   "cell_type": "markdown",
   "id": "9e619c3d",
   "metadata": {
    "papermill": {
     "duration": 0.009582,
     "end_time": "2022-12-29T11:40:34.440539",
     "exception": false,
     "start_time": "2022-12-29T11:40:34.430957",
     "status": "completed"
    },
    "tags": []
   },
   "source": [
    "joining the train and test datasets"
   ]
  },
  {
   "cell_type": "code",
   "execution_count": 9,
   "id": "5fbf1ef9",
   "metadata": {
    "execution": {
     "iopub.execute_input": "2022-12-29T11:40:34.463245Z",
     "iopub.status.busy": "2022-12-29T11:40:34.462530Z",
     "iopub.status.idle": "2022-12-29T11:40:34.470462Z",
     "shell.execute_reply": "2022-12-29T11:40:34.468921Z"
    },
    "papermill": {
     "duration": 0.022829,
     "end_time": "2022-12-29T11:40:34.473557",
     "exception": false,
     "start_time": "2022-12-29T11:40:34.450728",
     "status": "completed"
    },
    "tags": []
   },
   "outputs": [],
   "source": [
    "X=pd.concat([X1_scaled,X2],axis=1)\n",
    "X_test=pd.concat([X1_test_scaled,X2_test],axis=1)"
   ]
  },
  {
   "cell_type": "markdown",
   "id": "11bd6157",
   "metadata": {
    "papermill": {
     "duration": 0.009491,
     "end_time": "2022-12-29T11:40:34.492886",
     "exception": false,
     "start_time": "2022-12-29T11:40:34.483395",
     "status": "completed"
    },
    "tags": []
   },
   "source": [
    "The final training dataset displayed"
   ]
  },
  {
   "cell_type": "code",
   "execution_count": 10,
   "id": "75433db2",
   "metadata": {
    "execution": {
     "iopub.execute_input": "2022-12-29T11:40:34.515729Z",
     "iopub.status.busy": "2022-12-29T11:40:34.514974Z",
     "iopub.status.idle": "2022-12-29T11:40:34.530762Z",
     "shell.execute_reply": "2022-12-29T11:40:34.528830Z"
    },
    "papermill": {
     "duration": 0.031209,
     "end_time": "2022-12-29T11:40:34.533872",
     "exception": false,
     "start_time": "2022-12-29T11:40:34.502663",
     "status": "completed"
    },
    "tags": []
   },
   "outputs": [
    {
     "data": {
      "text/html": [
       "<div>\n",
       "<style scoped>\n",
       "    .dataframe tbody tr th:only-of-type {\n",
       "        vertical-align: middle;\n",
       "    }\n",
       "\n",
       "    .dataframe tbody tr th {\n",
       "        vertical-align: top;\n",
       "    }\n",
       "\n",
       "    .dataframe thead th {\n",
       "        text-align: right;\n",
       "    }\n",
       "</style>\n",
       "<table border=\"1\" class=\"dataframe\">\n",
       "  <thead>\n",
       "    <tr style=\"text-align: right;\">\n",
       "      <th></th>\n",
       "      <th>Age</th>\n",
       "      <th>Fare</th>\n",
       "      <th>Pclass</th>\n",
       "      <th>SibSp</th>\n",
       "      <th>Parch</th>\n",
       "      <th>Sex_female</th>\n",
       "      <th>Sex_male</th>\n",
       "    </tr>\n",
       "  </thead>\n",
       "  <tbody>\n",
       "    <tr>\n",
       "      <th>0</th>\n",
       "      <td>0.271174</td>\n",
       "      <td>0.014151</td>\n",
       "      <td>3</td>\n",
       "      <td>1</td>\n",
       "      <td>0</td>\n",
       "      <td>0</td>\n",
       "      <td>1</td>\n",
       "    </tr>\n",
       "    <tr>\n",
       "      <th>1</th>\n",
       "      <td>0.472229</td>\n",
       "      <td>0.139136</td>\n",
       "      <td>1</td>\n",
       "      <td>1</td>\n",
       "      <td>0</td>\n",
       "      <td>1</td>\n",
       "      <td>0</td>\n",
       "    </tr>\n",
       "    <tr>\n",
       "      <th>2</th>\n",
       "      <td>0.321438</td>\n",
       "      <td>0.015469</td>\n",
       "      <td>3</td>\n",
       "      <td>0</td>\n",
       "      <td>0</td>\n",
       "      <td>1</td>\n",
       "      <td>0</td>\n",
       "    </tr>\n",
       "    <tr>\n",
       "      <th>3</th>\n",
       "      <td>0.434531</td>\n",
       "      <td>0.103644</td>\n",
       "      <td>1</td>\n",
       "      <td>1</td>\n",
       "      <td>0</td>\n",
       "      <td>1</td>\n",
       "      <td>0</td>\n",
       "    </tr>\n",
       "    <tr>\n",
       "      <th>4</th>\n",
       "      <td>0.434531</td>\n",
       "      <td>0.015713</td>\n",
       "      <td>3</td>\n",
       "      <td>0</td>\n",
       "      <td>0</td>\n",
       "      <td>0</td>\n",
       "      <td>1</td>\n",
       "    </tr>\n",
       "  </tbody>\n",
       "</table>\n",
       "</div>"
      ],
      "text/plain": [
       "        Age      Fare  Pclass  SibSp  Parch  Sex_female  Sex_male\n",
       "0  0.271174  0.014151       3      1      0           0         1\n",
       "1  0.472229  0.139136       1      1      0           1         0\n",
       "2  0.321438  0.015469       3      0      0           1         0\n",
       "3  0.434531  0.103644       1      1      0           1         0\n",
       "4  0.434531  0.015713       3      0      0           0         1"
      ]
     },
     "execution_count": 10,
     "metadata": {},
     "output_type": "execute_result"
    }
   ],
   "source": [
    "X.head()"
   ]
  },
  {
   "cell_type": "markdown",
   "id": "097e6755",
   "metadata": {
    "papermill": {
     "duration": 0.009427,
     "end_time": "2022-12-29T11:40:34.553629",
     "exception": false,
     "start_time": "2022-12-29T11:40:34.544202",
     "status": "completed"
    },
    "tags": []
   },
   "source": [
    "the final Test dataset displayed"
   ]
  },
  {
   "cell_type": "code",
   "execution_count": 11,
   "id": "4afc4661",
   "metadata": {
    "execution": {
     "iopub.execute_input": "2022-12-29T11:40:34.576632Z",
     "iopub.status.busy": "2022-12-29T11:40:34.575465Z",
     "iopub.status.idle": "2022-12-29T11:40:34.591766Z",
     "shell.execute_reply": "2022-12-29T11:40:34.590732Z"
    },
    "papermill": {
     "duration": 0.030897,
     "end_time": "2022-12-29T11:40:34.594305",
     "exception": false,
     "start_time": "2022-12-29T11:40:34.563408",
     "status": "completed"
    },
    "tags": []
   },
   "outputs": [
    {
     "data": {
      "text/html": [
       "<div>\n",
       "<style scoped>\n",
       "    .dataframe tbody tr th:only-of-type {\n",
       "        vertical-align: middle;\n",
       "    }\n",
       "\n",
       "    .dataframe tbody tr th {\n",
       "        vertical-align: top;\n",
       "    }\n",
       "\n",
       "    .dataframe thead th {\n",
       "        text-align: right;\n",
       "    }\n",
       "</style>\n",
       "<table border=\"1\" class=\"dataframe\">\n",
       "  <thead>\n",
       "    <tr style=\"text-align: right;\">\n",
       "      <th></th>\n",
       "      <th>Age</th>\n",
       "      <th>Fare</th>\n",
       "      <th>Pclass</th>\n",
       "      <th>SibSp</th>\n",
       "      <th>Parch</th>\n",
       "      <th>Sex_female</th>\n",
       "      <th>Sex_male</th>\n",
       "    </tr>\n",
       "  </thead>\n",
       "  <tbody>\n",
       "    <tr>\n",
       "      <th>0</th>\n",
       "      <td>0.452723</td>\n",
       "      <td>0.015282</td>\n",
       "      <td>3</td>\n",
       "      <td>0</td>\n",
       "      <td>0</td>\n",
       "      <td>0</td>\n",
       "      <td>1</td>\n",
       "    </tr>\n",
       "    <tr>\n",
       "      <th>1</th>\n",
       "      <td>0.617566</td>\n",
       "      <td>0.013663</td>\n",
       "      <td>3</td>\n",
       "      <td>1</td>\n",
       "      <td>0</td>\n",
       "      <td>1</td>\n",
       "      <td>0</td>\n",
       "    </tr>\n",
       "    <tr>\n",
       "      <th>2</th>\n",
       "      <td>0.815377</td>\n",
       "      <td>0.018909</td>\n",
       "      <td>2</td>\n",
       "      <td>0</td>\n",
       "      <td>0</td>\n",
       "      <td>0</td>\n",
       "      <td>1</td>\n",
       "    </tr>\n",
       "    <tr>\n",
       "      <th>3</th>\n",
       "      <td>0.353818</td>\n",
       "      <td>0.016908</td>\n",
       "      <td>3</td>\n",
       "      <td>0</td>\n",
       "      <td>0</td>\n",
       "      <td>0</td>\n",
       "      <td>1</td>\n",
       "    </tr>\n",
       "    <tr>\n",
       "      <th>4</th>\n",
       "      <td>0.287881</td>\n",
       "      <td>0.023984</td>\n",
       "      <td>3</td>\n",
       "      <td>1</td>\n",
       "      <td>1</td>\n",
       "      <td>1</td>\n",
       "      <td>0</td>\n",
       "    </tr>\n",
       "  </tbody>\n",
       "</table>\n",
       "</div>"
      ],
      "text/plain": [
       "        Age      Fare  Pclass  SibSp  Parch  Sex_female  Sex_male\n",
       "0  0.452723  0.015282       3      0      0           0         1\n",
       "1  0.617566  0.013663       3      1      0           1         0\n",
       "2  0.815377  0.018909       2      0      0           0         1\n",
       "3  0.353818  0.016908       3      0      0           0         1\n",
       "4  0.287881  0.023984       3      1      1           1         0"
      ]
     },
     "execution_count": 11,
     "metadata": {},
     "output_type": "execute_result"
    }
   ],
   "source": [
    "X_test.head()"
   ]
  },
  {
   "cell_type": "code",
   "execution_count": 12,
   "id": "165b488b",
   "metadata": {
    "execution": {
     "iopub.execute_input": "2022-12-29T11:40:34.618044Z",
     "iopub.status.busy": "2022-12-29T11:40:34.617062Z",
     "iopub.status.idle": "2022-12-29T11:40:34.625493Z",
     "shell.execute_reply": "2022-12-29T11:40:34.623945Z"
    },
    "papermill": {
     "duration": 0.022801,
     "end_time": "2022-12-29T11:40:34.627994",
     "exception": false,
     "start_time": "2022-12-29T11:40:34.605193",
     "status": "completed"
    },
    "tags": []
   },
   "outputs": [
    {
     "data": {
      "text/plain": [
       "0    0\n",
       "1    1\n",
       "2    1\n",
       "3    1\n",
       "4    0\n",
       "Name: Survived, dtype: int64"
      ]
     },
     "execution_count": 12,
     "metadata": {},
     "output_type": "execute_result"
    }
   ],
   "source": [
    "y.head()"
   ]
  },
  {
   "cell_type": "markdown",
   "id": "2f1e7b3d",
   "metadata": {
    "papermill": {
     "duration": 0.010819,
     "end_time": "2022-12-29T11:40:34.649050",
     "exception": false,
     "start_time": "2022-12-29T11:40:34.638231",
     "status": "completed"
    },
    "tags": []
   },
   "source": [
    "dealing with missing values"
   ]
  },
  {
   "cell_type": "code",
   "execution_count": 13,
   "id": "8549e5b3",
   "metadata": {
    "execution": {
     "iopub.execute_input": "2022-12-29T11:40:34.671854Z",
     "iopub.status.busy": "2022-12-29T11:40:34.671363Z",
     "iopub.status.idle": "2022-12-29T11:40:34.684938Z",
     "shell.execute_reply": "2022-12-29T11:40:34.683319Z"
    },
    "papermill": {
     "duration": 0.028251,
     "end_time": "2022-12-29T11:40:34.687582",
     "exception": false,
     "start_time": "2022-12-29T11:40:34.659331",
     "status": "completed"
    },
    "tags": []
   },
   "outputs": [
    {
     "data": {
      "text/plain": [
       "Age           177\n",
       "Fare            0\n",
       "Pclass          0\n",
       "SibSp           0\n",
       "Parch           0\n",
       "Sex_female      0\n",
       "Sex_male        0\n",
       "dtype: int64"
      ]
     },
     "execution_count": 13,
     "metadata": {},
     "output_type": "execute_result"
    }
   ],
   "source": [
    "X.isnull().sum()"
   ]
  },
  {
   "cell_type": "code",
   "execution_count": 14,
   "id": "ee12ff91",
   "metadata": {
    "execution": {
     "iopub.execute_input": "2022-12-29T11:40:34.710993Z",
     "iopub.status.busy": "2022-12-29T11:40:34.710490Z",
     "iopub.status.idle": "2022-12-29T11:40:34.728651Z",
     "shell.execute_reply": "2022-12-29T11:40:34.727362Z"
    },
    "papermill": {
     "duration": 0.033641,
     "end_time": "2022-12-29T11:40:34.731409",
     "exception": false,
     "start_time": "2022-12-29T11:40:34.697768",
     "status": "completed"
    },
    "tags": []
   },
   "outputs": [
    {
     "data": {
      "text/html": [
       "<div>\n",
       "<style scoped>\n",
       "    .dataframe tbody tr th:only-of-type {\n",
       "        vertical-align: middle;\n",
       "    }\n",
       "\n",
       "    .dataframe tbody tr th {\n",
       "        vertical-align: top;\n",
       "    }\n",
       "\n",
       "    .dataframe thead th {\n",
       "        text-align: right;\n",
       "    }\n",
       "</style>\n",
       "<table border=\"1\" class=\"dataframe\">\n",
       "  <thead>\n",
       "    <tr style=\"text-align: right;\">\n",
       "      <th></th>\n",
       "      <th>Fare</th>\n",
       "      <th>Pclass</th>\n",
       "      <th>SibSp</th>\n",
       "      <th>Parch</th>\n",
       "      <th>Sex_female</th>\n",
       "      <th>Sex_male</th>\n",
       "    </tr>\n",
       "  </thead>\n",
       "  <tbody>\n",
       "    <tr>\n",
       "      <th>0</th>\n",
       "      <td>0.014151</td>\n",
       "      <td>3</td>\n",
       "      <td>1</td>\n",
       "      <td>0</td>\n",
       "      <td>0</td>\n",
       "      <td>1</td>\n",
       "    </tr>\n",
       "    <tr>\n",
       "      <th>1</th>\n",
       "      <td>0.139136</td>\n",
       "      <td>1</td>\n",
       "      <td>1</td>\n",
       "      <td>0</td>\n",
       "      <td>1</td>\n",
       "      <td>0</td>\n",
       "    </tr>\n",
       "    <tr>\n",
       "      <th>2</th>\n",
       "      <td>0.015469</td>\n",
       "      <td>3</td>\n",
       "      <td>0</td>\n",
       "      <td>0</td>\n",
       "      <td>1</td>\n",
       "      <td>0</td>\n",
       "    </tr>\n",
       "    <tr>\n",
       "      <th>3</th>\n",
       "      <td>0.103644</td>\n",
       "      <td>1</td>\n",
       "      <td>1</td>\n",
       "      <td>0</td>\n",
       "      <td>1</td>\n",
       "      <td>0</td>\n",
       "    </tr>\n",
       "    <tr>\n",
       "      <th>4</th>\n",
       "      <td>0.015713</td>\n",
       "      <td>3</td>\n",
       "      <td>0</td>\n",
       "      <td>0</td>\n",
       "      <td>0</td>\n",
       "      <td>1</td>\n",
       "    </tr>\n",
       "  </tbody>\n",
       "</table>\n",
       "</div>"
      ],
      "text/plain": [
       "       Fare  Pclass  SibSp  Parch  Sex_female  Sex_male\n",
       "0  0.014151       3      1      0           0         1\n",
       "1  0.139136       1      1      0           1         0\n",
       "2  0.015469       3      0      0           1         0\n",
       "3  0.103644       1      1      0           1         0\n",
       "4  0.015713       3      0      0           0         1"
      ]
     },
     "execution_count": 14,
     "metadata": {},
     "output_type": "execute_result"
    }
   ],
   "source": [
    "X=X.drop(columns=['Age'])\n",
    "X.head()"
   ]
  },
  {
   "cell_type": "code",
   "execution_count": 15,
   "id": "ed77cc89",
   "metadata": {
    "execution": {
     "iopub.execute_input": "2022-12-29T11:40:34.755250Z",
     "iopub.status.busy": "2022-12-29T11:40:34.754211Z",
     "iopub.status.idle": "2022-12-29T11:40:34.766367Z",
     "shell.execute_reply": "2022-12-29T11:40:34.765073Z"
    },
    "papermill": {
     "duration": 0.027234,
     "end_time": "2022-12-29T11:40:34.769232",
     "exception": false,
     "start_time": "2022-12-29T11:40:34.741998",
     "status": "completed"
    },
    "tags": []
   },
   "outputs": [
    {
     "data": {
      "text/plain": [
       "Age           86\n",
       "Fare           1\n",
       "Pclass         0\n",
       "SibSp          0\n",
       "Parch          0\n",
       "Sex_female     0\n",
       "Sex_male       0\n",
       "dtype: int64"
      ]
     },
     "execution_count": 15,
     "metadata": {},
     "output_type": "execute_result"
    }
   ],
   "source": [
    "X_test.isnull().sum()"
   ]
  },
  {
   "cell_type": "markdown",
   "id": "659b79fd",
   "metadata": {
    "papermill": {
     "duration": 0.01051,
     "end_time": "2022-12-29T11:40:34.790859",
     "exception": false,
     "start_time": "2022-12-29T11:40:34.780349",
     "status": "completed"
    },
    "tags": []
   },
   "source": [
    "Data Cleaning "
   ]
  },
  {
   "cell_type": "code",
   "execution_count": 16,
   "id": "51fe3c19",
   "metadata": {
    "execution": {
     "iopub.execute_input": "2022-12-29T11:40:34.815981Z",
     "iopub.status.busy": "2022-12-29T11:40:34.815494Z",
     "iopub.status.idle": "2022-12-29T11:40:34.831422Z",
     "shell.execute_reply": "2022-12-29T11:40:34.829704Z"
    },
    "papermill": {
     "duration": 0.031995,
     "end_time": "2022-12-29T11:40:34.834157",
     "exception": false,
     "start_time": "2022-12-29T11:40:34.802162",
     "status": "completed"
    },
    "tags": []
   },
   "outputs": [
    {
     "data": {
      "text/html": [
       "<div>\n",
       "<style scoped>\n",
       "    .dataframe tbody tr th:only-of-type {\n",
       "        vertical-align: middle;\n",
       "    }\n",
       "\n",
       "    .dataframe tbody tr th {\n",
       "        vertical-align: top;\n",
       "    }\n",
       "\n",
       "    .dataframe thead th {\n",
       "        text-align: right;\n",
       "    }\n",
       "</style>\n",
       "<table border=\"1\" class=\"dataframe\">\n",
       "  <thead>\n",
       "    <tr style=\"text-align: right;\">\n",
       "      <th></th>\n",
       "      <th>Fare</th>\n",
       "      <th>Pclass</th>\n",
       "      <th>SibSp</th>\n",
       "      <th>Parch</th>\n",
       "      <th>Sex_female</th>\n",
       "      <th>Sex_male</th>\n",
       "    </tr>\n",
       "  </thead>\n",
       "  <tbody>\n",
       "    <tr>\n",
       "      <th>0</th>\n",
       "      <td>0.015282</td>\n",
       "      <td>3</td>\n",
       "      <td>0</td>\n",
       "      <td>0</td>\n",
       "      <td>0</td>\n",
       "      <td>1</td>\n",
       "    </tr>\n",
       "    <tr>\n",
       "      <th>1</th>\n",
       "      <td>0.013663</td>\n",
       "      <td>3</td>\n",
       "      <td>1</td>\n",
       "      <td>0</td>\n",
       "      <td>1</td>\n",
       "      <td>0</td>\n",
       "    </tr>\n",
       "    <tr>\n",
       "      <th>2</th>\n",
       "      <td>0.018909</td>\n",
       "      <td>2</td>\n",
       "      <td>0</td>\n",
       "      <td>0</td>\n",
       "      <td>0</td>\n",
       "      <td>1</td>\n",
       "    </tr>\n",
       "    <tr>\n",
       "      <th>3</th>\n",
       "      <td>0.016908</td>\n",
       "      <td>3</td>\n",
       "      <td>0</td>\n",
       "      <td>0</td>\n",
       "      <td>0</td>\n",
       "      <td>1</td>\n",
       "    </tr>\n",
       "    <tr>\n",
       "      <th>4</th>\n",
       "      <td>0.023984</td>\n",
       "      <td>3</td>\n",
       "      <td>1</td>\n",
       "      <td>1</td>\n",
       "      <td>1</td>\n",
       "      <td>0</td>\n",
       "    </tr>\n",
       "  </tbody>\n",
       "</table>\n",
       "</div>"
      ],
      "text/plain": [
       "       Fare  Pclass  SibSp  Parch  Sex_female  Sex_male\n",
       "0  0.015282       3      0      0           0         1\n",
       "1  0.013663       3      1      0           1         0\n",
       "2  0.018909       2      0      0           0         1\n",
       "3  0.016908       3      0      0           0         1\n",
       "4  0.023984       3      1      1           1         0"
      ]
     },
     "execution_count": 16,
     "metadata": {},
     "output_type": "execute_result"
    }
   ],
   "source": [
    "X_test=X_test.drop(columns=['Age'])\n",
    "X_test.head()"
   ]
  },
  {
   "cell_type": "markdown",
   "id": "eab696b8",
   "metadata": {
    "papermill": {
     "duration": 0.010955,
     "end_time": "2022-12-29T11:40:34.856151",
     "exception": false,
     "start_time": "2022-12-29T11:40:34.845196",
     "status": "completed"
    },
    "tags": []
   },
   "source": [
    "checking for any remaining null values"
   ]
  },
  {
   "cell_type": "markdown",
   "id": "8c620f4d",
   "metadata": {
    "papermill": {
     "duration": 0.011354,
     "end_time": "2022-12-29T11:40:34.878338",
     "exception": false,
     "start_time": "2022-12-29T11:40:34.866984",
     "status": "completed"
    },
    "tags": []
   },
   "source": [
    "checking the dataset now"
   ]
  },
  {
   "cell_type": "code",
   "execution_count": 17,
   "id": "55cd82fd",
   "metadata": {
    "execution": {
     "iopub.execute_input": "2022-12-29T11:40:34.902486Z",
     "iopub.status.busy": "2022-12-29T11:40:34.901955Z",
     "iopub.status.idle": "2022-12-29T11:40:34.915944Z",
     "shell.execute_reply": "2022-12-29T11:40:34.914568Z"
    },
    "papermill": {
     "duration": 0.029308,
     "end_time": "2022-12-29T11:40:34.918423",
     "exception": false,
     "start_time": "2022-12-29T11:40:34.889115",
     "status": "completed"
    },
    "tags": []
   },
   "outputs": [
    {
     "data": {
      "text/html": [
       "<div>\n",
       "<style scoped>\n",
       "    .dataframe tbody tr th:only-of-type {\n",
       "        vertical-align: middle;\n",
       "    }\n",
       "\n",
       "    .dataframe tbody tr th {\n",
       "        vertical-align: top;\n",
       "    }\n",
       "\n",
       "    .dataframe thead th {\n",
       "        text-align: right;\n",
       "    }\n",
       "</style>\n",
       "<table border=\"1\" class=\"dataframe\">\n",
       "  <thead>\n",
       "    <tr style=\"text-align: right;\">\n",
       "      <th></th>\n",
       "      <th>Fare</th>\n",
       "      <th>Pclass</th>\n",
       "      <th>SibSp</th>\n",
       "      <th>Parch</th>\n",
       "      <th>Sex_female</th>\n",
       "      <th>Sex_male</th>\n",
       "    </tr>\n",
       "  </thead>\n",
       "  <tbody>\n",
       "    <tr>\n",
       "      <th>0</th>\n",
       "      <td>0.015282</td>\n",
       "      <td>3</td>\n",
       "      <td>0</td>\n",
       "      <td>0</td>\n",
       "      <td>0</td>\n",
       "      <td>1</td>\n",
       "    </tr>\n",
       "    <tr>\n",
       "      <th>1</th>\n",
       "      <td>0.013663</td>\n",
       "      <td>3</td>\n",
       "      <td>1</td>\n",
       "      <td>0</td>\n",
       "      <td>1</td>\n",
       "      <td>0</td>\n",
       "    </tr>\n",
       "    <tr>\n",
       "      <th>2</th>\n",
       "      <td>0.018909</td>\n",
       "      <td>2</td>\n",
       "      <td>0</td>\n",
       "      <td>0</td>\n",
       "      <td>0</td>\n",
       "      <td>1</td>\n",
       "    </tr>\n",
       "    <tr>\n",
       "      <th>3</th>\n",
       "      <td>0.016908</td>\n",
       "      <td>3</td>\n",
       "      <td>0</td>\n",
       "      <td>0</td>\n",
       "      <td>0</td>\n",
       "      <td>1</td>\n",
       "    </tr>\n",
       "    <tr>\n",
       "      <th>4</th>\n",
       "      <td>0.023984</td>\n",
       "      <td>3</td>\n",
       "      <td>1</td>\n",
       "      <td>1</td>\n",
       "      <td>1</td>\n",
       "      <td>0</td>\n",
       "    </tr>\n",
       "  </tbody>\n",
       "</table>\n",
       "</div>"
      ],
      "text/plain": [
       "       Fare  Pclass  SibSp  Parch  Sex_female  Sex_male\n",
       "0  0.015282       3      0      0           0         1\n",
       "1  0.013663       3      1      0           1         0\n",
       "2  0.018909       2      0      0           0         1\n",
       "3  0.016908       3      0      0           0         1\n",
       "4  0.023984       3      1      1           1         0"
      ]
     },
     "execution_count": 17,
     "metadata": {},
     "output_type": "execute_result"
    }
   ],
   "source": [
    "X_test.head()"
   ]
  },
  {
   "cell_type": "markdown",
   "id": "d7fcd975",
   "metadata": {
    "papermill": {
     "duration": 0.010603,
     "end_time": "2022-12-29T11:40:34.940638",
     "exception": false,
     "start_time": "2022-12-29T11:40:34.930035",
     "status": "completed"
    },
    "tags": []
   },
   "source": [
    "using simple column filling"
   ]
  },
  {
   "cell_type": "code",
   "execution_count": 18,
   "id": "50b836bf",
   "metadata": {
    "execution": {
     "iopub.execute_input": "2022-12-29T11:40:34.964998Z",
     "iopub.status.busy": "2022-12-29T11:40:34.964500Z",
     "iopub.status.idle": "2022-12-29T11:40:34.975784Z",
     "shell.execute_reply": "2022-12-29T11:40:34.974462Z"
    },
    "papermill": {
     "duration": 0.027162,
     "end_time": "2022-12-29T11:40:34.978733",
     "exception": false,
     "start_time": "2022-12-29T11:40:34.951571",
     "status": "completed"
    },
    "tags": []
   },
   "outputs": [],
   "source": [
    "X_test=X_test.fillna(method='bfill', axis=0).fillna(0)\n"
   ]
  },
  {
   "cell_type": "code",
   "execution_count": 19,
   "id": "8dab50fb",
   "metadata": {
    "execution": {
     "iopub.execute_input": "2022-12-29T11:40:35.006487Z",
     "iopub.status.busy": "2022-12-29T11:40:35.005905Z",
     "iopub.status.idle": "2022-12-29T11:40:35.017401Z",
     "shell.execute_reply": "2022-12-29T11:40:35.015752Z"
    },
    "papermill": {
     "duration": 0.029231,
     "end_time": "2022-12-29T11:40:35.020226",
     "exception": false,
     "start_time": "2022-12-29T11:40:34.990995",
     "status": "completed"
    },
    "tags": []
   },
   "outputs": [
    {
     "data": {
      "text/plain": [
       "Fare          0\n",
       "Pclass        0\n",
       "SibSp         0\n",
       "Parch         0\n",
       "Sex_female    0\n",
       "Sex_male      0\n",
       "dtype: int64"
      ]
     },
     "execution_count": 19,
     "metadata": {},
     "output_type": "execute_result"
    }
   ],
   "source": [
    "X_test.isnull().sum()"
   ]
  },
  {
   "cell_type": "code",
   "execution_count": 20,
   "id": "0f72f983",
   "metadata": {
    "execution": {
     "iopub.execute_input": "2022-12-29T11:40:35.044434Z",
     "iopub.status.busy": "2022-12-29T11:40:35.043989Z",
     "iopub.status.idle": "2022-12-29T11:40:35.255081Z",
     "shell.execute_reply": "2022-12-29T11:40:35.253413Z"
    },
    "papermill": {
     "duration": 0.22644,
     "end_time": "2022-12-29T11:40:35.258023",
     "exception": false,
     "start_time": "2022-12-29T11:40:35.031583",
     "status": "completed"
    },
    "tags": []
   },
   "outputs": [],
   "source": [
    "from xgboost import XGBClassifier\n",
    "model=XGBClassifier(n_estimators=500)\n"
   ]
  },
  {
   "cell_type": "code",
   "execution_count": 21,
   "id": "5ec35a9d",
   "metadata": {
    "execution": {
     "iopub.execute_input": "2022-12-29T11:40:35.288957Z",
     "iopub.status.busy": "2022-12-29T11:40:35.288569Z",
     "iopub.status.idle": "2022-12-29T11:40:36.789977Z",
     "shell.execute_reply": "2022-12-29T11:40:36.788472Z"
    },
    "papermill": {
     "duration": 1.518452,
     "end_time": "2022-12-29T11:40:36.793190",
     "exception": false,
     "start_time": "2022-12-29T11:40:35.274738",
     "status": "completed"
    },
    "tags": []
   },
   "outputs": [
    {
     "data": {
      "text/plain": [
       "XGBClassifier(base_score=0.5, booster='gbtree', callbacks=None,\n",
       "              colsample_bylevel=1, colsample_bynode=1, colsample_bytree=1,\n",
       "              early_stopping_rounds=None, enable_categorical=False,\n",
       "              eval_metric=None, gamma=0, gpu_id=-1, grow_policy='depthwise',\n",
       "              importance_type=None, interaction_constraints='',\n",
       "              learning_rate=0.300000012, max_bin=256, max_cat_to_onehot=4,\n",
       "              max_delta_step=0, max_depth=6, max_leaves=0, min_child_weight=1,\n",
       "              missing=nan, monotone_constraints='()', n_estimators=500,\n",
       "              n_jobs=0, num_parallel_tree=1, predictor='auto', random_state=0,\n",
       "              reg_alpha=0, reg_lambda=1, ...)"
      ]
     },
     "execution_count": 21,
     "metadata": {},
     "output_type": "execute_result"
    }
   ],
   "source": [
    "model.fit(X,y)"
   ]
  },
  {
   "cell_type": "markdown",
   "id": "b4a08470",
   "metadata": {
    "papermill": {
     "duration": 0.012857,
     "end_time": "2022-12-29T11:40:36.818117",
     "exception": false,
     "start_time": "2022-12-29T11:40:36.805260",
     "status": "completed"
    },
    "tags": []
   },
   "source": [
    "making predictions"
   ]
  },
  {
   "cell_type": "code",
   "execution_count": 22,
   "id": "0dfd90a3",
   "metadata": {
    "execution": {
     "iopub.execute_input": "2022-12-29T11:40:36.846457Z",
     "iopub.status.busy": "2022-12-29T11:40:36.845105Z",
     "iopub.status.idle": "2022-12-29T11:40:36.863433Z",
     "shell.execute_reply": "2022-12-29T11:40:36.861958Z"
    },
    "papermill": {
     "duration": 0.03556,
     "end_time": "2022-12-29T11:40:36.866692",
     "exception": false,
     "start_time": "2022-12-29T11:40:36.831132",
     "status": "completed"
    },
    "tags": []
   },
   "outputs": [],
   "source": [
    "predictions=model.predict(X_test)"
   ]
  },
  {
   "cell_type": "markdown",
   "id": "f0d62762",
   "metadata": {
    "papermill": {
     "duration": 0.010925,
     "end_time": "2022-12-29T11:40:36.892778",
     "exception": false,
     "start_time": "2022-12-29T11:40:36.881853",
     "status": "completed"
    },
    "tags": []
   },
   "source": [
    "Uploading the csv with the necessary predictions"
   ]
  },
  {
   "cell_type": "code",
   "execution_count": 23,
   "id": "5da29ce5",
   "metadata": {
    "execution": {
     "iopub.execute_input": "2022-12-29T11:40:36.919162Z",
     "iopub.status.busy": "2022-12-29T11:40:36.918269Z",
     "iopub.status.idle": "2022-12-29T11:40:36.931171Z",
     "shell.execute_reply": "2022-12-29T11:40:36.928905Z"
    },
    "papermill": {
     "duration": 0.02978,
     "end_time": "2022-12-29T11:40:36.933996",
     "exception": false,
     "start_time": "2022-12-29T11:40:36.904216",
     "status": "completed"
    },
    "tags": []
   },
   "outputs": [
    {
     "name": "stdout",
     "output_type": "stream",
     "text": [
      "Your submission was successfully saved!\n"
     ]
    }
   ],
   "source": [
    "output = pd.DataFrame({'PassengerId': test_data.PassengerId, 'Survived': predictions})\n",
    "output.to_csv('submission.csv', index=False)\n",
    "print(\"Your submission was successfully saved!\")"
   ]
  },
  {
   "cell_type": "code",
   "execution_count": null,
   "id": "389d3813",
   "metadata": {
    "papermill": {
     "duration": 0.010982,
     "end_time": "2022-12-29T11:40:36.956523",
     "exception": false,
     "start_time": "2022-12-29T11:40:36.945541",
     "status": "completed"
    },
    "tags": []
   },
   "outputs": [],
   "source": []
  }
 ],
 "metadata": {
  "kernelspec": {
   "display_name": "Python 3",
   "language": "python",
   "name": "python3"
  },
  "language_info": {
   "codemirror_mode": {
    "name": "ipython",
    "version": 3
   },
   "file_extension": ".py",
   "mimetype": "text/x-python",
   "name": "python",
   "nbconvert_exporter": "python",
   "pygments_lexer": "ipython3",
   "version": "3.7.12"
  },
  "papermill": {
   "default_parameters": {},
   "duration": 14.564515,
   "end_time": "2022-12-29T11:40:37.792471",
   "environment_variables": {},
   "exception": null,
   "input_path": "__notebook__.ipynb",
   "output_path": "__notebook__.ipynb",
   "parameters": {},
   "start_time": "2022-12-29T11:40:23.227956",
   "version": "2.3.4"
  }
 },
 "nbformat": 4,
 "nbformat_minor": 5
}
