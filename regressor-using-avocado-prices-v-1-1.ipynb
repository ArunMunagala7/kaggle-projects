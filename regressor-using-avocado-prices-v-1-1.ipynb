{
 "cells": [
  {
   "cell_type": "code",
   "execution_count": 1,
   "id": "cde81b6d",
   "metadata": {
    "_cell_guid": "b1076dfc-b9ad-4769-8c92-a6c4dae69d19",
    "_uuid": "8f2839f25d086af736a60e9eeb907d3b93b6e0e5",
    "execution": {
     "iopub.execute_input": "2022-11-26T06:39:03.657753Z",
     "iopub.status.busy": "2022-11-26T06:39:03.657204Z",
     "iopub.status.idle": "2022-11-26T06:39:03.680708Z",
     "shell.execute_reply": "2022-11-26T06:39:03.679695Z"
    },
    "papermill": {
     "duration": 0.040169,
     "end_time": "2022-11-26T06:39:03.683484",
     "exception": false,
     "start_time": "2022-11-26T06:39:03.643315",
     "status": "completed"
    },
    "tags": []
   },
   "outputs": [
    {
     "name": "stdout",
     "output_type": "stream",
     "text": [
      "/kaggle/input/avocado-prices/avocado.csv\n"
     ]
    }
   ],
   "source": [
    "# This Python 3 environment comes with many helpful analytics libraries installed\n",
    "# It is defined by the kaggle/python Docker image: https://github.com/kaggle/docker-python\n",
    "# For example, here's several helpful packages to load\n",
    "\n",
    "import numpy as np # linear algebra\n",
    "import pandas as pd # data processing, CSV file I/O (e.g. pd.read_csv)\n",
    "\n",
    "# Input data files are available in the read-only \"../input/\" directory\n",
    "# For example, running this (by clicking run or pressing Shift+Enter) will list all files under the input directory\n",
    "\n",
    "import os\n",
    "for dirname, _, filenames in os.walk('/kaggle/input'):\n",
    "    for filename in filenames:\n",
    "        print(os.path.join(dirname, filename))\n",
    "\n",
    "# You can write up to 20GB to the current directory (/kaggle/working/) that gets preserved as output when you create a version using \"Save & Run All\" \n",
    "# You can also write temporary files to /kaggle/temp/, but they won't be saved outside of the current session"
   ]
  },
  {
   "cell_type": "code",
   "execution_count": 2,
   "id": "e169fe5a",
   "metadata": {
    "execution": {
     "iopub.execute_input": "2022-11-26T06:39:03.701358Z",
     "iopub.status.busy": "2022-11-26T06:39:03.700933Z",
     "iopub.status.idle": "2022-11-26T06:39:05.112367Z",
     "shell.execute_reply": "2022-11-26T06:39:05.110754Z"
    },
    "papermill": {
     "duration": 1.42308,
     "end_time": "2022-11-26T06:39:05.115258",
     "exception": false,
     "start_time": "2022-11-26T06:39:03.692178",
     "status": "completed"
    },
    "tags": []
   },
   "outputs": [],
   "source": [
    "from sklearn.ensemble import RandomForestRegressor\n",
    "from sklearn.metrics import mean_absolute_error\n",
    "from sklearn.model_selection import train_test_split"
   ]
  },
  {
   "cell_type": "code",
   "execution_count": 3,
   "id": "56d873e0",
   "metadata": {
    "execution": {
     "iopub.execute_input": "2022-11-26T06:39:05.132442Z",
     "iopub.status.busy": "2022-11-26T06:39:05.132034Z",
     "iopub.status.idle": "2022-11-26T06:39:05.230480Z",
     "shell.execute_reply": "2022-11-26T06:39:05.228957Z"
    },
    "papermill": {
     "duration": 0.110009,
     "end_time": "2022-11-26T06:39:05.233151",
     "exception": false,
     "start_time": "2022-11-26T06:39:05.123142",
     "status": "completed"
    },
    "tags": []
   },
   "outputs": [],
   "source": [
    "data_path=\"/kaggle/input/avocado-prices/avocado.csv\"\n",
    "data=pd.read_csv(data_path)"
   ]
  },
  {
   "cell_type": "code",
   "execution_count": 4,
   "id": "b34b856c",
   "metadata": {
    "execution": {
     "iopub.execute_input": "2022-11-26T06:39:05.251352Z",
     "iopub.status.busy": "2022-11-26T06:39:05.250912Z",
     "iopub.status.idle": "2022-11-26T06:39:05.261479Z",
     "shell.execute_reply": "2022-11-26T06:39:05.259941Z"
    },
    "papermill": {
     "duration": 0.02269,
     "end_time": "2022-11-26T06:39:05.263827",
     "exception": false,
     "start_time": "2022-11-26T06:39:05.241137",
     "status": "completed"
    },
    "tags": []
   },
   "outputs": [],
   "source": [
    "y=data.AveragePrice"
   ]
  },
  {
   "cell_type": "markdown",
   "id": "ea800f84",
   "metadata": {
    "papermill": {
     "duration": 0.008221,
     "end_time": "2022-11-26T06:39:05.282664",
     "exception": false,
     "start_time": "2022-11-26T06:39:05.274443",
     "status": "completed"
    },
    "tags": []
   },
   "source": [
    "check for null values\n"
   ]
  },
  {
   "cell_type": "code",
   "execution_count": 5,
   "id": "ab29db4b",
   "metadata": {
    "execution": {
     "iopub.execute_input": "2022-11-26T06:39:05.303013Z",
     "iopub.status.busy": "2022-11-26T06:39:05.302536Z",
     "iopub.status.idle": "2022-11-26T06:39:05.332533Z",
     "shell.execute_reply": "2022-11-26T06:39:05.331135Z"
    },
    "papermill": {
     "duration": 0.041641,
     "end_time": "2022-11-26T06:39:05.335141",
     "exception": false,
     "start_time": "2022-11-26T06:39:05.293500",
     "status": "completed"
    },
    "tags": []
   },
   "outputs": [
    {
     "data": {
      "text/html": [
       "<div>\n",
       "<style scoped>\n",
       "    .dataframe tbody tr th:only-of-type {\n",
       "        vertical-align: middle;\n",
       "    }\n",
       "\n",
       "    .dataframe tbody tr th {\n",
       "        vertical-align: top;\n",
       "    }\n",
       "\n",
       "    .dataframe thead th {\n",
       "        text-align: right;\n",
       "    }\n",
       "</style>\n",
       "<table border=\"1\" class=\"dataframe\">\n",
       "  <thead>\n",
       "    <tr style=\"text-align: right;\">\n",
       "      <th></th>\n",
       "      <th>Unnamed: 0</th>\n",
       "      <th>Date</th>\n",
       "      <th>AveragePrice</th>\n",
       "      <th>Total Volume</th>\n",
       "      <th>4046</th>\n",
       "      <th>4225</th>\n",
       "      <th>4770</th>\n",
       "      <th>Total Bags</th>\n",
       "      <th>Small Bags</th>\n",
       "      <th>Large Bags</th>\n",
       "      <th>XLarge Bags</th>\n",
       "      <th>type</th>\n",
       "      <th>year</th>\n",
       "      <th>region</th>\n",
       "    </tr>\n",
       "  </thead>\n",
       "  <tbody>\n",
       "    <tr>\n",
       "      <th>0</th>\n",
       "      <td>0</td>\n",
       "      <td>2015-12-27</td>\n",
       "      <td>1.33</td>\n",
       "      <td>64236.62</td>\n",
       "      <td>1036.74</td>\n",
       "      <td>54454.85</td>\n",
       "      <td>48.16</td>\n",
       "      <td>8696.87</td>\n",
       "      <td>8603.62</td>\n",
       "      <td>93.25</td>\n",
       "      <td>0.0</td>\n",
       "      <td>conventional</td>\n",
       "      <td>2015</td>\n",
       "      <td>Albany</td>\n",
       "    </tr>\n",
       "    <tr>\n",
       "      <th>1</th>\n",
       "      <td>1</td>\n",
       "      <td>2015-12-20</td>\n",
       "      <td>1.35</td>\n",
       "      <td>54876.98</td>\n",
       "      <td>674.28</td>\n",
       "      <td>44638.81</td>\n",
       "      <td>58.33</td>\n",
       "      <td>9505.56</td>\n",
       "      <td>9408.07</td>\n",
       "      <td>97.49</td>\n",
       "      <td>0.0</td>\n",
       "      <td>conventional</td>\n",
       "      <td>2015</td>\n",
       "      <td>Albany</td>\n",
       "    </tr>\n",
       "    <tr>\n",
       "      <th>2</th>\n",
       "      <td>2</td>\n",
       "      <td>2015-12-13</td>\n",
       "      <td>0.93</td>\n",
       "      <td>118220.22</td>\n",
       "      <td>794.70</td>\n",
       "      <td>109149.67</td>\n",
       "      <td>130.50</td>\n",
       "      <td>8145.35</td>\n",
       "      <td>8042.21</td>\n",
       "      <td>103.14</td>\n",
       "      <td>0.0</td>\n",
       "      <td>conventional</td>\n",
       "      <td>2015</td>\n",
       "      <td>Albany</td>\n",
       "    </tr>\n",
       "    <tr>\n",
       "      <th>3</th>\n",
       "      <td>3</td>\n",
       "      <td>2015-12-06</td>\n",
       "      <td>1.08</td>\n",
       "      <td>78992.15</td>\n",
       "      <td>1132.00</td>\n",
       "      <td>71976.41</td>\n",
       "      <td>72.58</td>\n",
       "      <td>5811.16</td>\n",
       "      <td>5677.40</td>\n",
       "      <td>133.76</td>\n",
       "      <td>0.0</td>\n",
       "      <td>conventional</td>\n",
       "      <td>2015</td>\n",
       "      <td>Albany</td>\n",
       "    </tr>\n",
       "    <tr>\n",
       "      <th>4</th>\n",
       "      <td>4</td>\n",
       "      <td>2015-11-29</td>\n",
       "      <td>1.28</td>\n",
       "      <td>51039.60</td>\n",
       "      <td>941.48</td>\n",
       "      <td>43838.39</td>\n",
       "      <td>75.78</td>\n",
       "      <td>6183.95</td>\n",
       "      <td>5986.26</td>\n",
       "      <td>197.69</td>\n",
       "      <td>0.0</td>\n",
       "      <td>conventional</td>\n",
       "      <td>2015</td>\n",
       "      <td>Albany</td>\n",
       "    </tr>\n",
       "  </tbody>\n",
       "</table>\n",
       "</div>"
      ],
      "text/plain": [
       "   Unnamed: 0        Date  AveragePrice  Total Volume     4046       4225  \\\n",
       "0           0  2015-12-27          1.33      64236.62  1036.74   54454.85   \n",
       "1           1  2015-12-20          1.35      54876.98   674.28   44638.81   \n",
       "2           2  2015-12-13          0.93     118220.22   794.70  109149.67   \n",
       "3           3  2015-12-06          1.08      78992.15  1132.00   71976.41   \n",
       "4           4  2015-11-29          1.28      51039.60   941.48   43838.39   \n",
       "\n",
       "     4770  Total Bags  Small Bags  Large Bags  XLarge Bags          type  \\\n",
       "0   48.16     8696.87     8603.62       93.25          0.0  conventional   \n",
       "1   58.33     9505.56     9408.07       97.49          0.0  conventional   \n",
       "2  130.50     8145.35     8042.21      103.14          0.0  conventional   \n",
       "3   72.58     5811.16     5677.40      133.76          0.0  conventional   \n",
       "4   75.78     6183.95     5986.26      197.69          0.0  conventional   \n",
       "\n",
       "   year  region  \n",
       "0  2015  Albany  \n",
       "1  2015  Albany  \n",
       "2  2015  Albany  \n",
       "3  2015  Albany  \n",
       "4  2015  Albany  "
      ]
     },
     "execution_count": 5,
     "metadata": {},
     "output_type": "execute_result"
    }
   ],
   "source": [
    "data.head()"
   ]
  },
  {
   "cell_type": "code",
   "execution_count": 6,
   "id": "7412e509",
   "metadata": {
    "execution": {
     "iopub.execute_input": "2022-11-26T06:39:05.353922Z",
     "iopub.status.busy": "2022-11-26T06:39:05.352723Z",
     "iopub.status.idle": "2022-11-26T06:39:05.366050Z",
     "shell.execute_reply": "2022-11-26T06:39:05.364677Z"
    },
    "papermill": {
     "duration": 0.025754,
     "end_time": "2022-11-26T06:39:05.369176",
     "exception": false,
     "start_time": "2022-11-26T06:39:05.343422",
     "status": "completed"
    },
    "tags": []
   },
   "outputs": [],
   "source": [
    "predictor=data.drop(['AveragePrice'],axis=1)"
   ]
  },
  {
   "cell_type": "markdown",
   "id": "d55cc4fc",
   "metadata": {
    "papermill": {
     "duration": 0.008357,
     "end_time": "2022-11-26T06:39:05.385756",
     "exception": false,
     "start_time": "2022-11-26T06:39:05.377399",
     "status": "completed"
    },
    "tags": []
   },
   "source": [
    "Dropping dates due to my lack of experience with parsing"
   ]
  },
  {
   "cell_type": "code",
   "execution_count": 7,
   "id": "a7c013d1",
   "metadata": {
    "execution": {
     "iopub.execute_input": "2022-11-26T06:39:05.404694Z",
     "iopub.status.busy": "2022-11-26T06:39:05.404287Z",
     "iopub.status.idle": "2022-11-26T06:39:05.412661Z",
     "shell.execute_reply": "2022-11-26T06:39:05.411317Z"
    },
    "papermill": {
     "duration": 0.020952,
     "end_time": "2022-11-26T06:39:05.415196",
     "exception": false,
     "start_time": "2022-11-26T06:39:05.394244",
     "status": "completed"
    },
    "tags": []
   },
   "outputs": [],
   "source": [
    "predictor=data.drop(['Date'],axis=1)"
   ]
  },
  {
   "cell_type": "markdown",
   "id": "89aa1bde",
   "metadata": {
    "papermill": {
     "duration": 0.007485,
     "end_time": "2022-11-26T06:39:05.430475",
     "exception": false,
     "start_time": "2022-11-26T06:39:05.422990",
     "status": "completed"
    },
    "tags": []
   },
   "source": [
    "removing all object data types to prevent issues in numerical regression"
   ]
  },
  {
   "cell_type": "code",
   "execution_count": 8,
   "id": "a0df8479",
   "metadata": {
    "execution": {
     "iopub.execute_input": "2022-11-26T06:39:05.449101Z",
     "iopub.status.busy": "2022-11-26T06:39:05.448693Z",
     "iopub.status.idle": "2022-11-26T06:39:05.461418Z",
     "shell.execute_reply": "2022-11-26T06:39:05.459900Z"
    },
    "papermill": {
     "duration": 0.025542,
     "end_time": "2022-11-26T06:39:05.464364",
     "exception": false,
     "start_time": "2022-11-26T06:39:05.438822",
     "status": "completed"
    },
    "tags": []
   },
   "outputs": [],
   "source": [
    "X=predictor.select_dtypes(exclude=['object'])"
   ]
  },
  {
   "cell_type": "code",
   "execution_count": 9,
   "id": "3a936c23",
   "metadata": {
    "execution": {
     "iopub.execute_input": "2022-11-26T06:39:05.482266Z",
     "iopub.status.busy": "2022-11-26T06:39:05.481861Z",
     "iopub.status.idle": "2022-11-26T06:39:05.492443Z",
     "shell.execute_reply": "2022-11-26T06:39:05.491239Z"
    },
    "papermill": {
     "duration": 0.022502,
     "end_time": "2022-11-26T06:39:05.494729",
     "exception": false,
     "start_time": "2022-11-26T06:39:05.472227",
     "status": "completed"
    },
    "tags": []
   },
   "outputs": [
    {
     "data": {
      "text/plain": [
       "0"
      ]
     },
     "execution_count": 9,
     "metadata": {},
     "output_type": "execute_result"
    }
   ],
   "source": [
    "X.isnull().any().sum()"
   ]
  },
  {
   "cell_type": "markdown",
   "id": "7ec8ceda",
   "metadata": {
    "papermill": {
     "duration": 0.007498,
     "end_time": "2022-11-26T06:39:05.510118",
     "exception": false,
     "start_time": "2022-11-26T06:39:05.502620",
     "status": "completed"
    },
    "tags": []
   },
   "source": [
    "Apparently there are no missing values"
   ]
  },
  {
   "cell_type": "code",
   "execution_count": 10,
   "id": "609b9044",
   "metadata": {
    "execution": {
     "iopub.execute_input": "2022-11-26T06:39:05.527793Z",
     "iopub.status.busy": "2022-11-26T06:39:05.527375Z",
     "iopub.status.idle": "2022-11-26T06:39:05.548880Z",
     "shell.execute_reply": "2022-11-26T06:39:05.547602Z"
    },
    "papermill": {
     "duration": 0.033329,
     "end_time": "2022-11-26T06:39:05.551632",
     "exception": false,
     "start_time": "2022-11-26T06:39:05.518303",
     "status": "completed"
    },
    "tags": []
   },
   "outputs": [
    {
     "data": {
      "text/html": [
       "<div>\n",
       "<style scoped>\n",
       "    .dataframe tbody tr th:only-of-type {\n",
       "        vertical-align: middle;\n",
       "    }\n",
       "\n",
       "    .dataframe tbody tr th {\n",
       "        vertical-align: top;\n",
       "    }\n",
       "\n",
       "    .dataframe thead th {\n",
       "        text-align: right;\n",
       "    }\n",
       "</style>\n",
       "<table border=\"1\" class=\"dataframe\">\n",
       "  <thead>\n",
       "    <tr style=\"text-align: right;\">\n",
       "      <th></th>\n",
       "      <th>Unnamed: 0</th>\n",
       "      <th>AveragePrice</th>\n",
       "      <th>Total Volume</th>\n",
       "      <th>4046</th>\n",
       "      <th>4225</th>\n",
       "      <th>4770</th>\n",
       "      <th>Total Bags</th>\n",
       "      <th>Small Bags</th>\n",
       "      <th>Large Bags</th>\n",
       "      <th>XLarge Bags</th>\n",
       "      <th>year</th>\n",
       "    </tr>\n",
       "  </thead>\n",
       "  <tbody>\n",
       "    <tr>\n",
       "      <th>0</th>\n",
       "      <td>0</td>\n",
       "      <td>1.33</td>\n",
       "      <td>64236.62</td>\n",
       "      <td>1036.74</td>\n",
       "      <td>54454.85</td>\n",
       "      <td>48.16</td>\n",
       "      <td>8696.87</td>\n",
       "      <td>8603.62</td>\n",
       "      <td>93.25</td>\n",
       "      <td>0.0</td>\n",
       "      <td>2015</td>\n",
       "    </tr>\n",
       "    <tr>\n",
       "      <th>1</th>\n",
       "      <td>1</td>\n",
       "      <td>1.35</td>\n",
       "      <td>54876.98</td>\n",
       "      <td>674.28</td>\n",
       "      <td>44638.81</td>\n",
       "      <td>58.33</td>\n",
       "      <td>9505.56</td>\n",
       "      <td>9408.07</td>\n",
       "      <td>97.49</td>\n",
       "      <td>0.0</td>\n",
       "      <td>2015</td>\n",
       "    </tr>\n",
       "    <tr>\n",
       "      <th>2</th>\n",
       "      <td>2</td>\n",
       "      <td>0.93</td>\n",
       "      <td>118220.22</td>\n",
       "      <td>794.70</td>\n",
       "      <td>109149.67</td>\n",
       "      <td>130.50</td>\n",
       "      <td>8145.35</td>\n",
       "      <td>8042.21</td>\n",
       "      <td>103.14</td>\n",
       "      <td>0.0</td>\n",
       "      <td>2015</td>\n",
       "    </tr>\n",
       "    <tr>\n",
       "      <th>3</th>\n",
       "      <td>3</td>\n",
       "      <td>1.08</td>\n",
       "      <td>78992.15</td>\n",
       "      <td>1132.00</td>\n",
       "      <td>71976.41</td>\n",
       "      <td>72.58</td>\n",
       "      <td>5811.16</td>\n",
       "      <td>5677.40</td>\n",
       "      <td>133.76</td>\n",
       "      <td>0.0</td>\n",
       "      <td>2015</td>\n",
       "    </tr>\n",
       "    <tr>\n",
       "      <th>4</th>\n",
       "      <td>4</td>\n",
       "      <td>1.28</td>\n",
       "      <td>51039.60</td>\n",
       "      <td>941.48</td>\n",
       "      <td>43838.39</td>\n",
       "      <td>75.78</td>\n",
       "      <td>6183.95</td>\n",
       "      <td>5986.26</td>\n",
       "      <td>197.69</td>\n",
       "      <td>0.0</td>\n",
       "      <td>2015</td>\n",
       "    </tr>\n",
       "  </tbody>\n",
       "</table>\n",
       "</div>"
      ],
      "text/plain": [
       "   Unnamed: 0  AveragePrice  Total Volume     4046       4225    4770  \\\n",
       "0           0          1.33      64236.62  1036.74   54454.85   48.16   \n",
       "1           1          1.35      54876.98   674.28   44638.81   58.33   \n",
       "2           2          0.93     118220.22   794.70  109149.67  130.50   \n",
       "3           3          1.08      78992.15  1132.00   71976.41   72.58   \n",
       "4           4          1.28      51039.60   941.48   43838.39   75.78   \n",
       "\n",
       "   Total Bags  Small Bags  Large Bags  XLarge Bags  year  \n",
       "0     8696.87     8603.62       93.25          0.0  2015  \n",
       "1     9505.56     9408.07       97.49          0.0  2015  \n",
       "2     8145.35     8042.21      103.14          0.0  2015  \n",
       "3     5811.16     5677.40      133.76          0.0  2015  \n",
       "4     6183.95     5986.26      197.69          0.0  2015  "
      ]
     },
     "execution_count": 10,
     "metadata": {},
     "output_type": "execute_result"
    }
   ],
   "source": [
    "X.head()"
   ]
  },
  {
   "cell_type": "code",
   "execution_count": 11,
   "id": "5044205b",
   "metadata": {
    "execution": {
     "iopub.execute_input": "2022-11-26T06:39:05.570281Z",
     "iopub.status.busy": "2022-11-26T06:39:05.569888Z",
     "iopub.status.idle": "2022-11-26T06:39:05.578283Z",
     "shell.execute_reply": "2022-11-26T06:39:05.577186Z"
    },
    "papermill": {
     "duration": 0.021086,
     "end_time": "2022-11-26T06:39:05.581116",
     "exception": false,
     "start_time": "2022-11-26T06:39:05.560030",
     "status": "completed"
    },
    "tags": []
   },
   "outputs": [],
   "source": [
    "X=X.drop(['Unnamed: 0'],axis=1)"
   ]
  },
  {
   "cell_type": "code",
   "execution_count": 12,
   "id": "767f1963",
   "metadata": {
    "execution": {
     "iopub.execute_input": "2022-11-26T06:39:05.599366Z",
     "iopub.status.busy": "2022-11-26T06:39:05.598981Z",
     "iopub.status.idle": "2022-11-26T06:39:05.616436Z",
     "shell.execute_reply": "2022-11-26T06:39:05.615514Z"
    },
    "papermill": {
     "duration": 0.029476,
     "end_time": "2022-11-26T06:39:05.618734",
     "exception": false,
     "start_time": "2022-11-26T06:39:05.589258",
     "status": "completed"
    },
    "tags": []
   },
   "outputs": [
    {
     "data": {
      "text/html": [
       "<div>\n",
       "<style scoped>\n",
       "    .dataframe tbody tr th:only-of-type {\n",
       "        vertical-align: middle;\n",
       "    }\n",
       "\n",
       "    .dataframe tbody tr th {\n",
       "        vertical-align: top;\n",
       "    }\n",
       "\n",
       "    .dataframe thead th {\n",
       "        text-align: right;\n",
       "    }\n",
       "</style>\n",
       "<table border=\"1\" class=\"dataframe\">\n",
       "  <thead>\n",
       "    <tr style=\"text-align: right;\">\n",
       "      <th></th>\n",
       "      <th>AveragePrice</th>\n",
       "      <th>Total Volume</th>\n",
       "      <th>4046</th>\n",
       "      <th>4225</th>\n",
       "      <th>4770</th>\n",
       "      <th>Total Bags</th>\n",
       "      <th>Small Bags</th>\n",
       "      <th>Large Bags</th>\n",
       "      <th>XLarge Bags</th>\n",
       "      <th>year</th>\n",
       "    </tr>\n",
       "  </thead>\n",
       "  <tbody>\n",
       "    <tr>\n",
       "      <th>0</th>\n",
       "      <td>1.33</td>\n",
       "      <td>64236.62</td>\n",
       "      <td>1036.74</td>\n",
       "      <td>54454.85</td>\n",
       "      <td>48.16</td>\n",
       "      <td>8696.87</td>\n",
       "      <td>8603.62</td>\n",
       "      <td>93.25</td>\n",
       "      <td>0.0</td>\n",
       "      <td>2015</td>\n",
       "    </tr>\n",
       "    <tr>\n",
       "      <th>1</th>\n",
       "      <td>1.35</td>\n",
       "      <td>54876.98</td>\n",
       "      <td>674.28</td>\n",
       "      <td>44638.81</td>\n",
       "      <td>58.33</td>\n",
       "      <td>9505.56</td>\n",
       "      <td>9408.07</td>\n",
       "      <td>97.49</td>\n",
       "      <td>0.0</td>\n",
       "      <td>2015</td>\n",
       "    </tr>\n",
       "    <tr>\n",
       "      <th>2</th>\n",
       "      <td>0.93</td>\n",
       "      <td>118220.22</td>\n",
       "      <td>794.70</td>\n",
       "      <td>109149.67</td>\n",
       "      <td>130.50</td>\n",
       "      <td>8145.35</td>\n",
       "      <td>8042.21</td>\n",
       "      <td>103.14</td>\n",
       "      <td>0.0</td>\n",
       "      <td>2015</td>\n",
       "    </tr>\n",
       "    <tr>\n",
       "      <th>3</th>\n",
       "      <td>1.08</td>\n",
       "      <td>78992.15</td>\n",
       "      <td>1132.00</td>\n",
       "      <td>71976.41</td>\n",
       "      <td>72.58</td>\n",
       "      <td>5811.16</td>\n",
       "      <td>5677.40</td>\n",
       "      <td>133.76</td>\n",
       "      <td>0.0</td>\n",
       "      <td>2015</td>\n",
       "    </tr>\n",
       "    <tr>\n",
       "      <th>4</th>\n",
       "      <td>1.28</td>\n",
       "      <td>51039.60</td>\n",
       "      <td>941.48</td>\n",
       "      <td>43838.39</td>\n",
       "      <td>75.78</td>\n",
       "      <td>6183.95</td>\n",
       "      <td>5986.26</td>\n",
       "      <td>197.69</td>\n",
       "      <td>0.0</td>\n",
       "      <td>2015</td>\n",
       "    </tr>\n",
       "  </tbody>\n",
       "</table>\n",
       "</div>"
      ],
      "text/plain": [
       "   AveragePrice  Total Volume     4046       4225    4770  Total Bags  \\\n",
       "0          1.33      64236.62  1036.74   54454.85   48.16     8696.87   \n",
       "1          1.35      54876.98   674.28   44638.81   58.33     9505.56   \n",
       "2          0.93     118220.22   794.70  109149.67  130.50     8145.35   \n",
       "3          1.08      78992.15  1132.00   71976.41   72.58     5811.16   \n",
       "4          1.28      51039.60   941.48   43838.39   75.78     6183.95   \n",
       "\n",
       "   Small Bags  Large Bags  XLarge Bags  year  \n",
       "0     8603.62       93.25          0.0  2015  \n",
       "1     9408.07       97.49          0.0  2015  \n",
       "2     8042.21      103.14          0.0  2015  \n",
       "3     5677.40      133.76          0.0  2015  \n",
       "4     5986.26      197.69          0.0  2015  "
      ]
     },
     "execution_count": 12,
     "metadata": {},
     "output_type": "execute_result"
    }
   ],
   "source": [
    "X.head()"
   ]
  },
  {
   "cell_type": "markdown",
   "id": "ccf66e65",
   "metadata": {
    "papermill": {
     "duration": 0.009927,
     "end_time": "2022-11-26T06:39:05.637420",
     "exception": false,
     "start_time": "2022-11-26T06:39:05.627493",
     "status": "completed"
    },
    "tags": []
   },
   "source": [
    "Above is the final dataset to be used in the Forest Regressr"
   ]
  },
  {
   "cell_type": "code",
   "execution_count": 13,
   "id": "e9ef0816",
   "metadata": {
    "execution": {
     "iopub.execute_input": "2022-11-26T06:39:05.657135Z",
     "iopub.status.busy": "2022-11-26T06:39:05.656688Z",
     "iopub.status.idle": "2022-11-26T06:39:05.662773Z",
     "shell.execute_reply": "2022-11-26T06:39:05.661432Z"
    },
    "papermill": {
     "duration": 0.018593,
     "end_time": "2022-11-26T06:39:05.665392",
     "exception": false,
     "start_time": "2022-11-26T06:39:05.646799",
     "status": "completed"
    },
    "tags": []
   },
   "outputs": [],
   "source": [
    "features=['Total Volume','Total Bags','4046','Small Bags','Large Bags','XLarge Bags','year']"
   ]
  },
  {
   "cell_type": "code",
   "execution_count": 14,
   "id": "ca653daa",
   "metadata": {
    "execution": {
     "iopub.execute_input": "2022-11-26T06:39:05.686488Z",
     "iopub.status.busy": "2022-11-26T06:39:05.684404Z",
     "iopub.status.idle": "2022-11-26T06:39:05.694290Z",
     "shell.execute_reply": "2022-11-26T06:39:05.693016Z"
    },
    "papermill": {
     "duration": 0.022715,
     "end_time": "2022-11-26T06:39:05.697338",
     "exception": false,
     "start_time": "2022-11-26T06:39:05.674623",
     "status": "completed"
    },
    "tags": []
   },
   "outputs": [],
   "source": [
    "X_final=X[features]"
   ]
  },
  {
   "cell_type": "markdown",
   "id": "453a3ecb",
   "metadata": {
    "papermill": {
     "duration": 0.00852,
     "end_time": "2022-11-26T06:39:05.714525",
     "exception": false,
     "start_time": "2022-11-26T06:39:05.706005",
     "status": "completed"
    },
    "tags": []
   },
   "source": [
    "train test splitting"
   ]
  },
  {
   "cell_type": "code",
   "execution_count": 15,
   "id": "f023e7a3",
   "metadata": {
    "execution": {
     "iopub.execute_input": "2022-11-26T06:39:05.734833Z",
     "iopub.status.busy": "2022-11-26T06:39:05.734083Z",
     "iopub.status.idle": "2022-11-26T06:39:05.745811Z",
     "shell.execute_reply": "2022-11-26T06:39:05.744425Z"
    },
    "papermill": {
     "duration": 0.025149,
     "end_time": "2022-11-26T06:39:05.748818",
     "exception": false,
     "start_time": "2022-11-26T06:39:05.723669",
     "status": "completed"
    },
    "tags": []
   },
   "outputs": [],
   "source": [
    "x_train,x_valid,y_train,y_valid=train_test_split(X_final,y,train_size=0.75,test_size=0.25,random_state=0)"
   ]
  },
  {
   "cell_type": "markdown",
   "id": "104de097",
   "metadata": {
    "papermill": {
     "duration": 0.009423,
     "end_time": "2022-11-26T06:39:05.766767",
     "exception": false,
     "start_time": "2022-11-26T06:39:05.757344",
     "status": "completed"
    },
    "tags": []
   },
   "source": [
    "defining the model to be used for the datset"
   ]
  },
  {
   "cell_type": "code",
   "execution_count": 16,
   "id": "2cf3b158",
   "metadata": {
    "execution": {
     "iopub.execute_input": "2022-11-26T06:39:05.787865Z",
     "iopub.status.busy": "2022-11-26T06:39:05.787079Z",
     "iopub.status.idle": "2022-11-26T06:39:05.792941Z",
     "shell.execute_reply": "2022-11-26T06:39:05.791182Z"
    },
    "papermill": {
     "duration": 0.021183,
     "end_time": "2022-11-26T06:39:05.797681",
     "exception": false,
     "start_time": "2022-11-26T06:39:05.776498",
     "status": "completed"
    },
    "tags": []
   },
   "outputs": [],
   "source": [
    "model=RandomForestRegressor"
   ]
  },
  {
   "cell_type": "code",
   "execution_count": 17,
   "id": "60845ec8",
   "metadata": {
    "execution": {
     "iopub.execute_input": "2022-11-26T06:39:05.817425Z",
     "iopub.status.busy": "2022-11-26T06:39:05.817008Z",
     "iopub.status.idle": "2022-11-26T06:39:05.824455Z",
     "shell.execute_reply": "2022-11-26T06:39:05.822245Z"
    },
    "papermill": {
     "duration": 0.021024,
     "end_time": "2022-11-26T06:39:05.827577",
     "exception": false,
     "start_time": "2022-11-26T06:39:05.806553",
     "status": "completed"
    },
    "tags": []
   },
   "outputs": [],
   "source": [
    "model=RandomForestRegressor(random_state=1)"
   ]
  },
  {
   "cell_type": "code",
   "execution_count": 18,
   "id": "337c724b",
   "metadata": {
    "execution": {
     "iopub.execute_input": "2022-11-26T06:39:05.849339Z",
     "iopub.status.busy": "2022-11-26T06:39:05.848111Z",
     "iopub.status.idle": "2022-11-26T06:39:13.067419Z",
     "shell.execute_reply": "2022-11-26T06:39:13.066106Z"
    },
    "papermill": {
     "duration": 7.233403,
     "end_time": "2022-11-26T06:39:13.070184",
     "exception": false,
     "start_time": "2022-11-26T06:39:05.836781",
     "status": "completed"
    },
    "tags": []
   },
   "outputs": [
    {
     "data": {
      "text/plain": [
       "RandomForestRegressor(random_state=1)"
      ]
     },
     "execution_count": 18,
     "metadata": {},
     "output_type": "execute_result"
    }
   ],
   "source": [
    "model.fit(x_train,y_train)"
   ]
  },
  {
   "cell_type": "code",
   "execution_count": 19,
   "id": "3f7e4ecf",
   "metadata": {
    "execution": {
     "iopub.execute_input": "2022-11-26T06:39:13.090097Z",
     "iopub.status.busy": "2022-11-26T06:39:13.089656Z",
     "iopub.status.idle": "2022-11-26T06:39:13.255487Z",
     "shell.execute_reply": "2022-11-26T06:39:13.254164Z"
    },
    "papermill": {
     "duration": 0.179041,
     "end_time": "2022-11-26T06:39:13.258374",
     "exception": false,
     "start_time": "2022-11-26T06:39:13.079333",
     "status": "completed"
    },
    "tags": []
   },
   "outputs": [],
   "source": [
    "predict=model.predict(x_valid)"
   ]
  },
  {
   "cell_type": "code",
   "execution_count": 20,
   "id": "9431fa3c",
   "metadata": {
    "execution": {
     "iopub.execute_input": "2022-11-26T06:39:13.279496Z",
     "iopub.status.busy": "2022-11-26T06:39:13.279073Z",
     "iopub.status.idle": "2022-11-26T06:39:13.285825Z",
     "shell.execute_reply": "2022-11-26T06:39:13.284326Z"
    },
    "papermill": {
     "duration": 0.02079,
     "end_time": "2022-11-26T06:39:13.288933",
     "exception": false,
     "start_time": "2022-11-26T06:39:13.268143",
     "status": "completed"
    },
    "tags": []
   },
   "outputs": [],
   "source": [
    "mae=mean_absolute_error(predict,y_valid)\n"
   ]
  },
  {
   "cell_type": "code",
   "execution_count": 21,
   "id": "dde543a8",
   "metadata": {
    "execution": {
     "iopub.execute_input": "2022-11-26T06:39:13.309835Z",
     "iopub.status.busy": "2022-11-26T06:39:13.309437Z",
     "iopub.status.idle": "2022-11-26T06:39:13.315822Z",
     "shell.execute_reply": "2022-11-26T06:39:13.314389Z"
    },
    "papermill": {
     "duration": 0.020335,
     "end_time": "2022-11-26T06:39:13.318811",
     "exception": false,
     "start_time": "2022-11-26T06:39:13.298476",
     "status": "completed"
    },
    "tags": []
   },
   "outputs": [
    {
     "name": "stdout",
     "output_type": "stream",
     "text": [
      "Validation MAE for Random Forest Model 0.14034174884944114\n"
     ]
    }
   ],
   "source": [
    "print(\"Validation MAE for Random Forest Model\", mae)"
   ]
  },
  {
   "cell_type": "code",
   "execution_count": 22,
   "id": "b78a1cac",
   "metadata": {
    "execution": {
     "iopub.execute_input": "2022-11-26T06:39:13.337857Z",
     "iopub.status.busy": "2022-11-26T06:39:13.337453Z",
     "iopub.status.idle": "2022-11-26T06:39:13.345069Z",
     "shell.execute_reply": "2022-11-26T06:39:13.343224Z"
    },
    "papermill": {
     "duration": 0.020342,
     "end_time": "2022-11-26T06:39:13.347760",
     "exception": false,
     "start_time": "2022-11-26T06:39:13.327418",
     "status": "completed"
    },
    "tags": []
   },
   "outputs": [],
   "source": [
    "output=pd.DataFrame({'original':y_valid,'predicted':predict})"
   ]
  },
  {
   "cell_type": "code",
   "execution_count": 23,
   "id": "49063df3",
   "metadata": {
    "execution": {
     "iopub.execute_input": "2022-11-26T06:39:13.370916Z",
     "iopub.status.busy": "2022-11-26T06:39:13.370156Z",
     "iopub.status.idle": "2022-11-26T06:39:13.386708Z",
     "shell.execute_reply": "2022-11-26T06:39:13.385378Z"
    },
    "papermill": {
     "duration": 0.032403,
     "end_time": "2022-11-26T06:39:13.389596",
     "exception": false,
     "start_time": "2022-11-26T06:39:13.357193",
     "status": "completed"
    },
    "tags": []
   },
   "outputs": [
    {
     "data": {
      "text/html": [
       "<div>\n",
       "<style scoped>\n",
       "    .dataframe tbody tr th:only-of-type {\n",
       "        vertical-align: middle;\n",
       "    }\n",
       "\n",
       "    .dataframe tbody tr th {\n",
       "        vertical-align: top;\n",
       "    }\n",
       "\n",
       "    .dataframe thead th {\n",
       "        text-align: right;\n",
       "    }\n",
       "</style>\n",
       "<table border=\"1\" class=\"dataframe\">\n",
       "  <thead>\n",
       "    <tr style=\"text-align: right;\">\n",
       "      <th></th>\n",
       "      <th>original</th>\n",
       "      <th>predicted</th>\n",
       "    </tr>\n",
       "  </thead>\n",
       "  <tbody>\n",
       "    <tr>\n",
       "      <th>9181</th>\n",
       "      <td>1.48</td>\n",
       "      <td>1.6150</td>\n",
       "    </tr>\n",
       "    <tr>\n",
       "      <th>1013</th>\n",
       "      <td>1.05</td>\n",
       "      <td>1.0266</td>\n",
       "    </tr>\n",
       "    <tr>\n",
       "      <th>14625</th>\n",
       "      <td>1.27</td>\n",
       "      <td>1.1175</td>\n",
       "    </tr>\n",
       "    <tr>\n",
       "      <th>15234</th>\n",
       "      <td>2.15</td>\n",
       "      <td>1.5432</td>\n",
       "    </tr>\n",
       "    <tr>\n",
       "      <th>18247</th>\n",
       "      <td>1.93</td>\n",
       "      <td>1.5614</td>\n",
       "    </tr>\n",
       "    <tr>\n",
       "      <th>...</th>\n",
       "      <td>...</td>\n",
       "      <td>...</td>\n",
       "    </tr>\n",
       "    <tr>\n",
       "      <th>11529</th>\n",
       "      <td>1.78</td>\n",
       "      <td>1.6577</td>\n",
       "    </tr>\n",
       "    <tr>\n",
       "      <th>6684</th>\n",
       "      <td>1.48</td>\n",
       "      <td>1.4156</td>\n",
       "    </tr>\n",
       "    <tr>\n",
       "      <th>16235</th>\n",
       "      <td>2.08</td>\n",
       "      <td>2.0343</td>\n",
       "    </tr>\n",
       "    <tr>\n",
       "      <th>17754</th>\n",
       "      <td>1.55</td>\n",
       "      <td>1.3163</td>\n",
       "    </tr>\n",
       "    <tr>\n",
       "      <th>8225</th>\n",
       "      <td>1.57</td>\n",
       "      <td>1.3358</td>\n",
       "    </tr>\n",
       "  </tbody>\n",
       "</table>\n",
       "<p>4563 rows × 2 columns</p>\n",
       "</div>"
      ],
      "text/plain": [
       "       original  predicted\n",
       "9181       1.48     1.6150\n",
       "1013       1.05     1.0266\n",
       "14625      1.27     1.1175\n",
       "15234      2.15     1.5432\n",
       "18247      1.93     1.5614\n",
       "...         ...        ...\n",
       "11529      1.78     1.6577\n",
       "6684       1.48     1.4156\n",
       "16235      2.08     2.0343\n",
       "17754      1.55     1.3163\n",
       "8225       1.57     1.3358\n",
       "\n",
       "[4563 rows x 2 columns]"
      ]
     },
     "execution_count": 23,
     "metadata": {},
     "output_type": "execute_result"
    }
   ],
   "source": [
    "output"
   ]
  },
  {
   "cell_type": "markdown",
   "id": "321bca8c",
   "metadata": {
    "papermill": {
     "duration": 0.008991,
     "end_time": "2022-11-26T06:39:13.408721",
     "exception": false,
     "start_time": "2022-11-26T06:39:13.399730",
     "status": "completed"
    },
    "tags": []
   },
   "source": [
    "this feels wrong. I'll work on it in future iterations."
   ]
  },
  {
   "cell_type": "markdown",
   "id": "8ef75039",
   "metadata": {
    "papermill": {
     "duration": 0.008803,
     "end_time": "2022-11-26T06:39:13.428229",
     "exception": false,
     "start_time": "2022-11-26T06:39:13.419426",
     "status": "completed"
    },
    "tags": []
   },
   "source": [
    "lets goooo I fixed it"
   ]
  },
  {
   "cell_type": "code",
   "execution_count": null,
   "id": "825ef269",
   "metadata": {
    "papermill": {
     "duration": 0.010318,
     "end_time": "2022-11-26T06:39:13.448399",
     "exception": false,
     "start_time": "2022-11-26T06:39:13.438081",
     "status": "completed"
    },
    "tags": []
   },
   "outputs": [],
   "source": []
  }
 ],
 "metadata": {
  "kernelspec": {
   "display_name": "Python 3",
   "language": "python",
   "name": "python3"
  },
  "language_info": {
   "codemirror_mode": {
    "name": "ipython",
    "version": 3
   },
   "file_extension": ".py",
   "mimetype": "text/x-python",
   "name": "python",
   "nbconvert_exporter": "python",
   "pygments_lexer": "ipython3",
   "version": "3.7.12"
  },
  "papermill": {
   "default_parameters": {},
   "duration": 20.057098,
   "end_time": "2022-11-26T06:39:14.283411",
   "environment_variables": {},
   "exception": null,
   "input_path": "__notebook__.ipynb",
   "output_path": "__notebook__.ipynb",
   "parameters": {},
   "start_time": "2022-11-26T06:38:54.226313",
   "version": "2.3.4"
  }
 },
 "nbformat": 4,
 "nbformat_minor": 5
}
